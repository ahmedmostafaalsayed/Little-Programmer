{
 "cells": [
  {
   "attachments": {},
   "cell_type": "markdown",
   "metadata": {},
   "source": [
    "# Lesson 6. Tuples, Sets and Dictionaries\n",
    "* Tuple: Constant collection\n",
    "* Set: Unique unordered\n",
    "* Dictionary: Unordered map of keys and values\n",
    "\n",
    "## Tuples\n",
    "* Ordered collections تحتفظ بترتيب عناصرها\n",
    "* Immutable collections لا يمكن تغييرها\n",
    "* Defining tuples with () نعرفها باستخدام الأقواس العادية"
   ]
  },
  {
   "cell_type": "code",
   "execution_count": 5,
   "metadata": {},
   "outputs": [
    {
     "name": "stdout",
     "output_type": "stream",
     "text": [
      "5\n"
     ]
    }
   ],
   "source": [
    "cities = (\"Cairo\",\"Alex\",\"Mansoura\",\"Qena\",\"Cairo\")\n",
    "print(len(cities))"
   ]
  },
  {
   "attachments": {},
   "cell_type": "markdown",
   "metadata": {},
   "source": [
    "الوصول إلى قيمة بترتيبها"
   ]
  },
  {
   "cell_type": "code",
   "execution_count": 4,
   "metadata": {},
   "outputs": [
    {
     "name": "stdout",
     "output_type": "stream",
     "text": [
      "Alex\n"
     ]
    }
   ],
   "source": [
    "print(cities[1])"
   ]
  },
  {
   "attachments": {},
   "cell_type": "markdown",
   "metadata": {},
   "source": [
    "Finding a location of a value الوصول إلى ترتيب قيمة"
   ]
  },
  {
   "cell_type": "code",
   "execution_count": 7,
   "metadata": {},
   "outputs": [
    {
     "name": "stdout",
     "output_type": "stream",
     "text": [
      "3\n"
     ]
    }
   ],
   "source": [
    "print(cities.index(\"Qena\"))"
   ]
  },
  {
   "attachments": {},
   "cell_type": "markdown",
   "metadata": {},
   "source": [
    "Find number of occurrences of a value عدد مرات وجود قيمة"
   ]
  },
  {
   "cell_type": "code",
   "execution_count": 8,
   "metadata": {},
   "outputs": [
    {
     "name": "stdout",
     "output_type": "stream",
     "text": [
      "2\n"
     ]
    }
   ],
   "source": [
    "print(cities.count(\"Cairo\"))"
   ]
  },
  {
   "attachments": {},
   "cell_type": "markdown",
   "metadata": {},
   "source": [
    "Selecting a random value from a tuple اختيار قيمة عشوائية"
   ]
  },
  {
   "cell_type": "code",
   "execution_count": 14,
   "metadata": {},
   "outputs": [
    {
     "name": "stdout",
     "output_type": "stream",
     "text": [
      "Mansoura\n"
     ]
    }
   ],
   "source": [
    "import random\n",
    "print(random.choice(cities))"
   ]
  },
  {
   "attachments": {},
   "cell_type": "markdown",
   "metadata": {},
   "source": [
    "## Sets\n",
    "* Unordered مجموعة غير مرتبة من العناصر\n",
    "* Unique لا تقبل التكرار\n",
    "* Define sets with {} نعرفها باستخدام الأقواس المعقوفة"
   ]
  },
  {
   "cell_type": "code",
   "execution_count": 15,
   "metadata": {},
   "outputs": [],
   "source": [
    "fruits = {\"Guava\",\"Apple\",\"Orange\"}"
   ]
  },
  {
   "attachments": {},
   "cell_type": "markdown",
   "metadata": {},
   "source": [
    "Adding a value to a set"
   ]
  },
  {
   "cell_type": "code",
   "execution_count": 16,
   "metadata": {},
   "outputs": [],
   "source": [
    "fruits.add(\"Pineapple\")"
   ]
  },
  {
   "cell_type": "code",
   "execution_count": 18,
   "metadata": {},
   "outputs": [
    {
     "name": "stdout",
     "output_type": "stream",
     "text": [
      "{'Orange', 'Pineapple', 'Apple', 'Guava'}\n"
     ]
    }
   ],
   "source": [
    "print(fruits)"
   ]
  },
  {
   "attachments": {},
   "cell_type": "markdown",
   "metadata": {},
   "source": [
    "Addidng an existing item to the set إضافة عنصر موجود بالفعل"
   ]
  },
  {
   "cell_type": "code",
   "execution_count": 17,
   "metadata": {},
   "outputs": [
    {
     "name": "stdout",
     "output_type": "stream",
     "text": [
      "{'Pineapple', 'Orange', 'Guava', 'Apple'}\n"
     ]
    }
   ],
   "source": [
    "fruits.add(\"Apple\")\n",
    "print(fruits)"
   ]
  },
  {
   "attachments": {},
   "cell_type": "markdown",
   "metadata": {},
   "source": [
    "Removing a value from a set\n",
    "* remove: KeyError if not found\n",
    "* discard: No error if not found"
   ]
  },
  {
   "cell_type": "code",
   "execution_count": 20,
   "metadata": {},
   "outputs": [
    {
     "name": "stdout",
     "output_type": "stream",
     "text": [
      "{'Orange', 'Pineapple', 'Guava'}\n"
     ]
    }
   ],
   "source": [
    "fruits.remove(\"Apple\")\n",
    "print(fruits)"
   ]
  },
  {
   "cell_type": "code",
   "execution_count": 21,
   "metadata": {},
   "outputs": [
    {
     "ename": "KeyError",
     "evalue": "'Lemon'",
     "output_type": "error",
     "traceback": [
      "\u001b[1;31m---------------------------------------------------------------------------\u001b[0m",
      "\u001b[1;31mKeyError\u001b[0m                                  Traceback (most recent call last)",
      "Cell \u001b[1;32mIn[21], line 1\u001b[0m\n\u001b[1;32m----> 1\u001b[0m fruits\u001b[39m.\u001b[39;49mremove(\u001b[39m\"\u001b[39;49m\u001b[39mLemon\u001b[39;49m\u001b[39m\"\u001b[39;49m)\n",
      "\u001b[1;31mKeyError\u001b[0m: 'Lemon'"
     ]
    }
   ],
   "source": [
    "fruits.remove(\"Lemon\")"
   ]
  },
  {
   "cell_type": "code",
   "execution_count": 22,
   "metadata": {},
   "outputs": [
    {
     "name": "stdout",
     "output_type": "stream",
     "text": [
      "{'Orange', 'Pineapple', 'Guava'}\n"
     ]
    }
   ],
   "source": [
    "fruits.discard(\"Lemon\")\n",
    "print(fruits)"
   ]
  },
  {
   "attachments": {},
   "cell_type": "markdown",
   "metadata": {},
   "source": [
    " Remove a random element: pop"
   ]
  },
  {
   "cell_type": "code",
   "execution_count": 24,
   "metadata": {},
   "outputs": [
    {
     "name": "stdout",
     "output_type": "stream",
     "text": [
      "Orange\n",
      "{'Pineapple', 'Guava'}\n"
     ]
    }
   ],
   "source": [
    "selected = fruits.pop()\n",
    "print(selected)\n",
    "print(fruits)"
   ]
  },
  {
   "attachments": {},
   "cell_type": "markdown",
   "metadata": {},
   "source": [
    "Constant set: frozenset"
   ]
  },
  {
   "cell_type": "code",
   "execution_count": 29,
   "metadata": {},
   "outputs": [],
   "source": [
    "frozen_fruits = frozenset({\"Banana\",\"Apple\"})\n",
    "sex = frozenset({\"Male\",\"Female\"})"
   ]
  },
  {
   "cell_type": "code",
   "execution_count": 28,
   "metadata": {},
   "outputs": [
    {
     "data": {
      "text/plain": [
       "frozenset"
      ]
     },
     "execution_count": 28,
     "metadata": {},
     "output_type": "execute_result"
    }
   ],
   "source": [
    "type(frozen_fruits)"
   ]
  },
  {
   "attachments": {},
   "cell_type": "markdown",
   "metadata": {},
   "source": [
    "## Set Theory and Methods\n",
    "العمليات على المجموعات"
   ]
  },
  {
   "cell_type": "code",
   "execution_count": 22,
   "metadata": {},
   "outputs": [
    {
     "name": "stdout",
     "output_type": "stream",
     "text": [
      "Fruits: {'Orange', 'Guava', 'Apple'}\n",
      "Vegetables: {'Cucomber', 'Carrot'}\n"
     ]
    }
   ],
   "source": [
    "fruits = {\"Guava\",\"Apple\",\"Orange\"}\n",
    "print(f\"Fruits: {fruits}\")\n",
    "vegetables = {\"Carrot\",\"Cucomber\"}\n",
    "print(f\"Vegetables: {vegetables}\")"
   ]
  },
  {
   "cell_type": "code",
   "execution_count": 23,
   "metadata": {},
   "outputs": [
    {
     "name": "stdout",
     "output_type": "stream",
     "text": [
      "set()\n",
      "{'Carrot'}\n",
      "Union: {'Orange', 'Guava', 'Cucomber', 'Carrot', 'Apple'}\n",
      "Union: {'Orange', 'Guava', 'Cucomber', 'Carrot', 'Apple'}\n",
      "Difference: {'Orange', 'Guava', 'Apple'}\n",
      "Difference: {'Orange', 'Guava', 'Apple'}\n",
      "Difference: {'Cucomber'}\n"
     ]
    },
    {
     "data": {
      "text/plain": [
       "False"
      ]
     },
     "execution_count": 23,
     "metadata": {},
     "output_type": "execute_result"
    }
   ],
   "source": [
    "print(fruits.intersection(vegetables))\n",
    "fruits.add(\"Carrot\")\n",
    "print(fruits & vegetables)\n",
    "\n",
    "print(f\"Union: {fruits.union(vegetables)}\")\n",
    "print(f\"Union: {fruits | vegetables}\")\n",
    "\n",
    "print(f\"Difference: {fruits.difference(vegetables)}\")\n",
    "print(f\"Difference: {fruits - vegetables}\")\n",
    "print(f\"Difference: {vegetables - fruits}\")\n",
    "\n",
    "fruits.isdisjoint(vegetables)"
   ]
  },
  {
   "attachments": {},
   "cell_type": "markdown",
   "metadata": {},
   "source": [
    "هل هي مجموعة جزئية من مجموعة أخرى؟"
   ]
  },
  {
   "cell_type": "code",
   "execution_count": 20,
   "metadata": {},
   "outputs": [
    {
     "name": "stdout",
     "output_type": "stream",
     "text": [
      "False\n",
      "False\n",
      "True\n"
     ]
    }
   ],
   "source": [
    "print(fruits.issubset(vegetables))\n",
    "print(vegetables.issubset(fruits))\n",
    "print({\"Apple\",\"Orange\"}.issubset(fruits))"
   ]
  },
  {
   "attachments": {},
   "cell_type": "markdown",
   "metadata": {},
   "source": [
    "هل هي مجموعة كلية لمجموعة أخرى؟"
   ]
  },
  {
   "cell_type": "code",
   "execution_count": 25,
   "metadata": {},
   "outputs": [],
   "source": [
    "basket = {\"Apple\",\"Orange\"}"
   ]
  },
  {
   "cell_type": "code",
   "execution_count": 26,
   "metadata": {},
   "outputs": [
    {
     "name": "stdout",
     "output_type": "stream",
     "text": [
      "True\n",
      "True\n"
     ]
    }
   ],
   "source": [
    "print( basket.issubset(fruits))\n",
    "print( fruits.issuperset( basket ))"
   ]
  },
  {
   "attachments": {},
   "cell_type": "markdown",
   "metadata": {},
   "source": [
    "مقارنة المجموعات"
   ]
  },
  {
   "cell_type": "code",
   "execution_count": 27,
   "metadata": {},
   "outputs": [
    {
     "data": {
      "text/plain": [
       "True"
      ]
     },
     "execution_count": 27,
     "metadata": {},
     "output_type": "execute_result"
    }
   ],
   "source": [
    "basket <= fruits"
   ]
  },
  {
   "attachments": {},
   "cell_type": "markdown",
   "metadata": {},
   "source": [
    "Creating an empty set إنشاء مجموعة خالية ثم إضافة عناصر"
   ]
  },
  {
   "cell_type": "code",
   "execution_count": 12,
   "metadata": {},
   "outputs": [
    {
     "name": "stdout",
     "output_type": "stream",
     "text": [
      "{'Al-Wafaa Al-Azhary Institute', 'Helwan Secondary School', 'Salah Salem Secondary School', 'Al Shams'}\n"
     ]
    }
   ],
   "source": [
    "schools = set()\n",
    "schools.add(\"Al-Wafaa Al-Azhary Institute\")\n",
    "schools.add(\"Al Shams\")\n",
    "schools.add(\"Helwan Secondary School\")\n",
    "schools.add(\"Salah Salem Secondary School\")\n",
    "print(schools)"
   ]
  },
  {
   "attachments": {},
   "cell_type": "markdown",
   "metadata": {},
   "source": [
    "طباعة عناصر المجموعة"
   ]
  },
  {
   "cell_type": "code",
   "execution_count": 13,
   "metadata": {},
   "outputs": [
    {
     "name": "stdout",
     "output_type": "stream",
     "text": [
      "Al-Wafaa Al-Azhary Institute\n",
      "Helwan Secondary School\n",
      "Salah Salem Secondary School\n",
      "Al Shams\n"
     ]
    }
   ],
   "source": [
    "for school in schools:\n",
    "    print(school)"
   ]
  },
  {
   "cell_type": "code",
   "execution_count": 84,
   "metadata": {},
   "outputs": [
    {
     "name": "stdout",
     "output_type": "stream",
     "text": [
      "True\n"
     ]
    }
   ],
   "source": [
    "#selection = \"Helwan Secondary School\"\n",
    "selection = \"Al Shams\"\n",
    "\n",
    "print(selection <= schools)"
   ]
  },
  {
   "attachments": {},
   "cell_type": "markdown",
   "metadata": {},
   "source": [
    "إنشاء قائمة مرتبة من مجموعة"
   ]
  },
  {
   "cell_type": "code",
   "execution_count": 32,
   "metadata": {},
   "outputs": [
    {
     "name": "stdout",
     "output_type": "stream",
     "text": [
      "<class 'list'>\n",
      "['Apple', 'Carrot', 'Guava', 'Orange']\n"
     ]
    }
   ],
   "source": [
    "sorted_fruits = sorted(fruits)\n",
    "print(type(sorted_fruits))\n",
    "print(sorted_fruits)"
   ]
  },
  {
   "attachments": {},
   "cell_type": "markdown",
   "metadata": {},
   "source": [
    "## Dictionary\n",
    "* Unordered map of keys and values\n",
    "* لا ترتيب ولا تكرار، الوصول للقيمة بالمفتاح"
   ]
  },
  {
   "cell_type": "code",
   "execution_count": 1,
   "metadata": {},
   "outputs": [
    {
     "name": "stdout",
     "output_type": "stream",
     "text": [
      "20\n"
     ]
    }
   ],
   "source": [
    "prices = {\"Apple\":15, \"Banana\":20, \"Orange\":10}\n",
    "print(prices[\"Banana\"])"
   ]
  },
  {
   "attachments": {},
   "cell_type": "markdown",
   "metadata": {},
   "source": [
    "Accessing a dictionary value using non-existing key استخدام قيمة مفتاحية غير موجودة"
   ]
  },
  {
   "cell_type": "code",
   "execution_count": 4,
   "metadata": {},
   "outputs": [
    {
     "ename": "KeyError",
     "evalue": "'Carrot'",
     "output_type": "error",
     "traceback": [
      "\u001b[1;31m---------------------------------------------------------------------------\u001b[0m",
      "\u001b[1;31mKeyError\u001b[0m                                  Traceback (most recent call last)",
      "Cell \u001b[1;32mIn[4], line 1\u001b[0m\n\u001b[1;32m----> 1\u001b[0m \u001b[39mprint\u001b[39m(prices[\u001b[39m\"\u001b[39;49m\u001b[39mCarrot\u001b[39;49m\u001b[39m\"\u001b[39;49m])\n",
      "\u001b[1;31mKeyError\u001b[0m: 'Carrot'"
     ]
    }
   ],
   "source": [
    "print(prices[\"Carrot\"])"
   ]
  },
  {
   "cell_type": "code",
   "execution_count": 5,
   "metadata": {},
   "outputs": [
    {
     "name": "stdout",
     "output_type": "stream",
     "text": [
      "None\n"
     ]
    }
   ],
   "source": [
    "print(prices.get(\"Water\"))"
   ]
  },
  {
   "attachments": {},
   "cell_type": "markdown",
   "metadata": {},
   "source": [
    "إضافة قيمة جديدة"
   ]
  },
  {
   "cell_type": "code",
   "execution_count": 6,
   "metadata": {},
   "outputs": [
    {
     "data": {
      "text/plain": [
       "{'Apple': 15, 'Banana': 20, 'Orange': 10, 'Carrot': 12}"
      ]
     },
     "execution_count": 6,
     "metadata": {},
     "output_type": "execute_result"
    }
   ],
   "source": [
    "prices[\"Carrot\"] = 12\n",
    "prices"
   ]
  },
  {
   "attachments": {},
   "cell_type": "markdown",
   "metadata": {},
   "source": [
    "Delete a dictionary value حذف قيمة موجودة"
   ]
  },
  {
   "cell_type": "code",
   "execution_count": 7,
   "metadata": {},
   "outputs": [
    {
     "name": "stdout",
     "output_type": "stream",
     "text": [
      "{'Apple': 15, 'Banana': 20, 'Orange': 10}\n"
     ]
    }
   ],
   "source": [
    "del(prices[\"Carrot\"])\n",
    "print(prices)"
   ]
  },
  {
   "attachments": {},
   "cell_type": "markdown",
   "metadata": {},
   "source": [
    "Looping over dictionary keys"
   ]
  },
  {
   "cell_type": "code",
   "execution_count": 8,
   "metadata": {},
   "outputs": [
    {
     "name": "stdout",
     "output_type": "stream",
     "text": [
      "Apple     15 EGP\n",
      "Banana    20 EGP\n",
      "Orange    10 EGP\n"
     ]
    }
   ],
   "source": [
    "for item in prices:\n",
    "    print(f\"{item:10}{prices[item]} EGP\")"
   ]
  },
  {
   "cell_type": "code",
   "execution_count": 86,
   "metadata": {},
   "outputs": [
    {
     "ename": "KeyError",
     "evalue": "'Strawberry'",
     "output_type": "error",
     "traceback": [
      "\u001b[1;31m---------------------------------------------------------------------------\u001b[0m",
      "\u001b[1;31mKeyError\u001b[0m                                  Traceback (most recent call last)",
      "Cell \u001b[1;32mIn[86], line 1\u001b[0m\n\u001b[1;32m----> 1\u001b[0m \u001b[39mprint\u001b[39m(prices[\u001b[39m\"\u001b[39;49m\u001b[39mStrawberry\u001b[39;49m\u001b[39m\"\u001b[39;49m])\n",
      "\u001b[1;31mKeyError\u001b[0m: 'Strawberry'"
     ]
    }
   ],
   "source": [
    "print(prices[\"Strawberry\"])"
   ]
  }
 ],
 "metadata": {
  "kernelspec": {
   "display_name": "Python 3",
   "language": "python",
   "name": "python3"
  },
  "language_info": {
   "codemirror_mode": {
    "name": "ipython",
    "version": 3
   },
   "file_extension": ".py",
   "mimetype": "text/x-python",
   "name": "python",
   "nbconvert_exporter": "python",
   "pygments_lexer": "ipython3",
   "version": "3.11.1"
  },
  "orig_nbformat": 4,
  "vscode": {
   "interpreter": {
    "hash": "5238573367df39f7286bb46f9ff5f08f63a01a80960060ce41e3c79b190280fa"
   }
  }
 },
 "nbformat": 4,
 "nbformat_minor": 2
}
