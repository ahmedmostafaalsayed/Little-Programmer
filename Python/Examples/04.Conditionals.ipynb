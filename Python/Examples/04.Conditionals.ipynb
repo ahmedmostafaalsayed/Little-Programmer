{
 "cells": [
  {
   "attachments": {},
   "cell_type": "markdown",
   "metadata": {},
   "source": [
    "# Lesson 4: Conditionals\n",
    "* if.. else\n",
    "* Comparison operators معاملات المقارنة: <, >, ==, !=, <=, >=\n",
    "* If score>=50 print \"Passed\", otherwise print \"Failed\"\n",
    "* Python is case-sensitive\n",
    "* Cheap or expensive?\n",
    "* How many can I buy?\n",
    "* Integer division // القسمة الصحيحة\n",
    "* Modulus % باقي القسمة\n",
    "* Positive or negative?\n",
    "* elif\n",
    "* Debugging: F10\n",
    "* Scores: Excellent, Very good, Good, Failed.\n",
    "* Debug: Run next line (F10)\n",
    "* Text normalization توحيد الكلام\n",
    "* lower(), strip()\n",
    "* Logical operators: and, or, not\n",
    "* Example: Username & password\n",
    "* Username and password are required اسم المستخدم وكلمة السر مطلوبين\n",
    "* False values: False, \"\", 0, None\n",
    "* What is your contry? and city?\n",
    "* Line continuation \\\n",
    "* in(value1, value2, value3)\n",
    "* Nested if\n",
    "* quit()\n",
    "## If example\n",
    "* Indentation الدخول للداخل\n",
    "* `True` / `False`\n",
    "* If score >= 50 print \"Passed\", otherwise print \"Failed\" نجح أم رسب"
   ]
  },
  {
   "cell_type": "code",
   "execution_count": 8,
   "metadata": {},
   "outputs": [
    {
     "name": "stdout",
     "output_type": "stream",
     "text": [
      "Failed\n",
      "End\n"
     ]
    }
   ],
   "source": [
    "score = 40\n",
    "\n",
    "if score >= 50:\n",
    "\tprint(\"Passed\")\n",
    "else:\n",
    "\tprint(\"Failed\")\n",
    "\n",
    "print(\"End\")"
   ]
  },
  {
   "attachments": {},
   "cell_type": "markdown",
   "metadata": {},
   "source": [
    "## Python is case-sensitive الحروف الكبيرة والصغيرة تفرق\n",
    "\n",
    "Do I have in my pocket enough money? هل معي ما يكفي السعر؟"
   ]
  },
  {
   "cell_type": "code",
   "execution_count": 9,
   "metadata": {},
   "outputs": [
    {
     "name": "stdout",
     "output_type": "stream",
     "text": [
      "I can buy this.\n"
     ]
    }
   ],
   "source": [
    "price = 2\n",
    "pocket = 10\n",
    "\n",
    "if price > pocket:\n",
    "\tprint(\"This is expensive.\")\n",
    "else:\n",
    "\tprint(\"I can buy this.\")"
   ]
  },
  {
   "attachments": {},
   "cell_type": "markdown",
   "metadata": {},
   "source": [
    "How many can I buy? كم واحدة أستطيع أن أشتريها؟\n",
    "* Integer division // القسمة الصحيحة\n",
    "* Modulus % باقي القسمة"
   ]
  },
  {
   "cell_type": "code",
   "execution_count": 12,
   "metadata": {},
   "outputs": [
    {
     "name": "stdout",
     "output_type": "stream",
     "text": [
      "I can buy 2 of this, and the remainder is 5.\n"
     ]
    }
   ],
   "source": [
    "price = 10\n",
    "pocket = 25\n",
    "\n",
    "if price > pocket:\n",
    "\tprint(\"This is expensive.\")\n",
    "else:\n",
    "\tamount = pocket // price\n",
    "\tremainder = pocket % price\n",
    "\tprint(f\"I can buy {amount} of this, and the remainder is {remainder}.\")"
   ]
  },
  {
   "attachments": {},
   "cell_type": "markdown",
   "metadata": {},
   "source": [
    "Positive or negative? موجب أم سالب؟\n",
    "\n",
    "`TypeError: '>' not supported between instances of 'str' and 'int'`"
   ]
  },
  {
   "cell_type": "code",
   "execution_count": 3,
   "metadata": {},
   "outputs": [
    {
     "ename": "TypeError",
     "evalue": "'>' not supported between instances of 'str' and 'int'",
     "output_type": "error",
     "traceback": [
      "\u001b[1;31m---------------------------------------------------------------------------\u001b[0m",
      "\u001b[1;31mTypeError\u001b[0m                                 Traceback (most recent call last)",
      "Cell \u001b[1;32mIn[3], line 3\u001b[0m\n\u001b[0;32m      1\u001b[0m num \u001b[39m=\u001b[39m \u001b[39minput\u001b[39m(\u001b[39m\"\u001b[39m\u001b[39mPlease enter a number: \u001b[39m\u001b[39m\"\u001b[39m)\n\u001b[1;32m----> 3\u001b[0m \u001b[39mif\u001b[39;00m num \u001b[39m>\u001b[39;49m \u001b[39m0\u001b[39;49m:\n\u001b[0;32m      4\u001b[0m \t\u001b[39mprint\u001b[39m(\u001b[39m\"\u001b[39m\u001b[39mPositive\u001b[39m\u001b[39m\"\u001b[39m)\n\u001b[0;32m      5\u001b[0m \u001b[39melse\u001b[39;00m:\n",
      "\u001b[1;31mTypeError\u001b[0m: '>' not supported between instances of 'str' and 'int'"
     ]
    }
   ],
   "source": [
    "num = input(\"Please enter a number: \")\n",
    "\n",
    "if num > 0:\n",
    "\tprint(\"Positive\")\n",
    "else:\n",
    "\tprint(\"Negative\")"
   ]
  },
  {
   "attachments": {},
   "cell_type": "markdown",
   "metadata": {},
   "source": [
    "Casting string to integer تحويل الكلام إلى رقم"
   ]
  },
  {
   "cell_type": "code",
   "execution_count": 4,
   "metadata": {},
   "outputs": [
    {
     "name": "stdout",
     "output_type": "stream",
     "text": [
      "Positive\n"
     ]
    }
   ],
   "source": [
    "num = int(input(\"Please enter a number: \"))\n",
    "\n",
    "if num > 0:\n",
    "\tprint(\"Positive\")\n",
    "else:\n",
    "\tprint(\"Negative\")"
   ]
  },
  {
   "attachments": {},
   "cell_type": "markdown",
   "metadata": {},
   "source": [
    "## elif\n",
    "* elif لا بد أن يكتب معها شرط\n",
    "* == معامل المقارنة"
   ]
  },
  {
   "cell_type": "code",
   "execution_count": 7,
   "metadata": {},
   "outputs": [
    {
     "name": "stdout",
     "output_type": "stream",
     "text": [
      "Zero\n"
     ]
    }
   ],
   "source": [
    "num = int(input(\"Please enter a number: \"))\n",
    "\n",
    "if num > 0:\n",
    "\tprint(\"Positive\")\n",
    "elif num == 0:\n",
    "\tprint(\"Zero\")\n",
    "else:\n",
    "\tprint(\"Negative\")"
   ]
  },
  {
   "attachments": {},
   "cell_type": "markdown",
   "metadata": {},
   "source": [
    "## Debugging\n",
    "* Scores: Excellent, Very good, Good, or Failed\n",
    "* Run next line (F10)"
   ]
  },
  {
   "cell_type": "code",
   "execution_count": 10,
   "metadata": {},
   "outputs": [
    {
     "name": "stdout",
     "output_type": "stream",
     "text": [
      "Good\n"
     ]
    }
   ],
   "source": [
    "score = int(input(\"Please enter your score: \"))\n",
    "\n",
    "if score >= 90:\n",
    "\tprint(\"Excellent\")\n",
    "elif score >= 75:\n",
    "\tprint(\"Very good\")\n",
    "elif score >= 50:\n",
    "\tprint(\"Good\")\n",
    "else:\n",
    "\tprint(\"Failed\")"
   ]
  },
  {
   "attachments": {},
   "cell_type": "markdown",
   "metadata": {},
   "source": [
    "## Text normalization توحيد الكلام\n",
    "Are you my friend Omar?"
   ]
  },
  {
   "cell_type": "code",
   "execution_count": 11,
   "metadata": {},
   "outputs": [
    {
     "name": "stdout",
     "output_type": "stream",
     "text": [
      "You are not my friend Omar\n"
     ]
    }
   ],
   "source": [
    "name = \"Omar\"\n",
    "\n",
    "if name == \"omar\":\n",
    "\tprint(\"You are my friend Omar\")\n",
    "else:\n",
    "\tprint(\"You are not my friend Omar\")"
   ]
  },
  {
   "attachments": {},
   "cell_type": "markdown",
   "metadata": {},
   "source": [
    "تحويل ما يدخله المستخدم إلى حروف كبيرة"
   ]
  },
  {
   "cell_type": "code",
   "execution_count": 12,
   "metadata": {},
   "outputs": [
    {
     "name": "stdout",
     "output_type": "stream",
     "text": [
      "You are my friend Omar\n"
     ]
    }
   ],
   "source": [
    "name = \"Omar\"\n",
    "name = name.lower()\n",
    "\n",
    "if name == \"omar\":\n",
    "\tprint(\"You are my friend Omar\")\n",
    "else:\n",
    "\tprint(\"You are not my friend Omar\")"
   ]
  },
  {
   "attachments": {},
   "cell_type": "markdown",
   "metadata": {},
   "source": [
    "Stripping strings from leading and trailing spaces إزالة المسافات من أول وآخر الكلام"
   ]
  },
  {
   "cell_type": "code",
   "execution_count": 13,
   "metadata": {},
   "outputs": [
    {
     "name": "stdout",
     "output_type": "stream",
     "text": [
      "You are my friend Omar\n"
     ]
    }
   ],
   "source": [
    "name = \"  Omar  \"\n",
    "name = name.lower()\n",
    "name = name.strip()\n",
    "\n",
    "if name == \"omar\":\n",
    "\tprint(\"You are my friend Omar\")\n",
    "else:\n",
    "\tprint(\"You are not my friend Omar\")"
   ]
  },
  {
   "attachments": {},
   "cell_type": "markdown",
   "metadata": {},
   "source": [
    "## Logical Operators المعاملات المنطقية\n",
    "* `and`, `or`, `not`\n",
    "* Example: Username & password مثال: طلب اسم المستخدم وكلمة السر\n",
    "* Correct username: `ahmed`\n",
    "* Correct password: `123`"
   ]
  },
  {
   "cell_type": "code",
   "execution_count": 14,
   "metadata": {},
   "outputs": [
    {
     "name": "stdout",
     "output_type": "stream",
     "text": [
      "Correct username and password\n"
     ]
    }
   ],
   "source": [
    "username = input(\"Enter username: \")\n",
    "password = input(\"Enter password: \")\n",
    "\n",
    "correct_username = \"ahmed\"\n",
    "correct_password = \"123\"\n",
    "\n",
    "if username == correct_username and password == correct_password:\n",
    "\tprint(\"Correct username and password\")\n",
    "else:\n",
    "\tprint(\"Incorrect username or password\")"
   ]
  },
  {
   "attachments": {},
   "cell_type": "markdown",
   "metadata": {},
   "source": [
    "* Username and password are required اسم المستخدم وكلمة السر مطلوبين\n",
    "* `False` كل هذه القيم تعتبر\n",
    "  * \"\"\n",
    "  * 0\n",
    "  * `None`"
   ]
  },
  {
   "cell_type": "code",
   "execution_count": 15,
   "metadata": {},
   "outputs": [
    {
     "name": "stdout",
     "output_type": "stream",
     "text": [
      "Username cannot be empty\n",
      "Password cannot be empty\n",
      "Incorrect username or password\n"
     ]
    }
   ],
   "source": [
    "username = input(\"Enter username: \")\n",
    "password = input(\"Enter password: \")\n",
    "username = username.strip()\n",
    "password = password.strip()\n",
    "\n",
    "correct_username = \"ahmed\"\n",
    "correct_password = \"123\"\n",
    "\n",
    "if not username:\n",
    "\tprint(\"Username cannot be empty\")\n",
    "if not password:\n",
    "\tprint(\"Password cannot be empty\")\n",
    "\n",
    "if username == correct_username and password == correct_password:\n",
    "\tprint(\"Correct username and password\")\n",
    "else:\n",
    "\tprint(\"Incorrect username or password\")"
   ]
  },
  {
   "attachments": {},
   "cell_type": "markdown",
   "metadata": {},
   "source": [
    "Are you from Egypt or Saudi Arabia? هل أنت من السعودية أو مصر؟"
   ]
  },
  {
   "cell_type": "code",
   "execution_count": 17,
   "metadata": {},
   "outputs": [
    {
     "name": "stdout",
     "output_type": "stream",
     "text": [
      "I don't know Germany.\n"
     ]
    }
   ],
   "source": [
    "country = input(\"What is your country?\")\n",
    "\n",
    "if country == \"Egypt\" or country == \"Saudi Arabia\":\n",
    "    print(\"I know your country.\")\n",
    "else:\n",
    "    print(f\"I don't know {country}.\")"
   ]
  },
  {
   "attachments": {},
   "cell_type": "markdown",
   "metadata": {},
   "source": [
    "Line continuation `\\` لو السطر طويل"
   ]
  },
  {
   "cell_type": "code",
   "execution_count": 18,
   "metadata": {},
   "outputs": [
    {
     "name": "stdout",
     "output_type": "stream",
     "text": [
      "I know your country.\n"
     ]
    }
   ],
   "source": [
    "country = input(\"What is your country?\")\n",
    "country = country.lower()\n",
    "country = country.strip()\n",
    "\n",
    "if country == \"egypt\" \\\n",
    "    or country == \"saudi arabia\" \\\n",
    "    or country == \"sudan\":\n",
    "    print(\"I know your country.\")\n",
    "else:\n",
    "    print(\"I don't know your country.\")"
   ]
  },
  {
   "attachments": {},
   "cell_type": "markdown",
   "metadata": {},
   "source": [
    "## Nested if\n",
    "* `in` (value1, value2, value3) لاختبار ما إذا كانت القيمة واحدة من هذه القيمة"
   ]
  },
  {
   "cell_type": "code",
   "execution_count": 20,
   "metadata": {},
   "outputs": [
    {
     "name": "stdout",
     "output_type": "stream",
     "text": [
      "I know your country.\n",
      "I know your city.\n"
     ]
    }
   ],
   "source": [
    "country = input(\"What is your country?\")\n",
    "country = country.lower()\n",
    "country = country.strip()\n",
    "\n",
    "if country in (\"egypt\",\"saudi arabia\",\"sudan\"):\n",
    "\tprint(\"I know your country.\")\n",
    "\t\n",
    "\tcity = input(\"Enter your city: \").lower().strip()\n",
    "\n",
    "\tif city in (\"cairo\",\"riyadh\",\"al khartoum\"):\n",
    "\t\tprint(\"I know your city.\")\n",
    "\telse:\n",
    "\t\tprint(f\"I don't know {city}.\")\n",
    "else:\n",
    "\tprint(f\"I don't know {country}.\")"
   ]
  },
  {
   "attachments": {},
   "cell_type": "markdown",
   "metadata": {},
   "source": [
    "`quit()` لإغلاق البرنامج"
   ]
  },
  {
   "cell_type": "markdown",
   "metadata": {},
   "source": [
    "## switch .. case\n",
    "Introduced in Python 3.10 for pattern matching.\n",
    "* [The match statement](https://docs.python.org/3/reference/compound_stmts.html#the-match-statement)\n",
    "* [Python match…case Statement](https://www.programiz.com/python-programming/match-case)\n",
    "* [Python Match Case Statement](https://www.geeksforgeeks.org/python/python-match-case-statement)\n",
    "* [Python Match](https://www.w3schools.com/python/python_match.asp)\n",
    "* https://www.facebook.com/haithamsalamaa/videos/225162469857192\n",
    "\n",
    "طباعة تقديرات الطالب"
   ]
  },
  {
   "cell_type": "code",
   "execution_count": 2,
   "metadata": {},
   "outputs": [
    {
     "name": "stdout",
     "output_type": "stream",
     "text": [
      "Failed\n"
     ]
    }
   ],
   "source": [
    "score = int(input(\"Please enter your score: \"))\n",
    "\n",
    "match score:\n",
    "\tcase n if n >= 90:\n",
    "\t\tprint(\"Excellent\")\n",
    "\tcase n if n >= 75:\n",
    "\t\tprint(\"Very good\")\n",
    "\tcase n if n >= 50:\n",
    "\t\tprint(\"Good\")\n",
    "\tcase _:\n",
    "\t\tprint(\"Failed\")"
   ]
  },
  {
   "cell_type": "markdown",
   "metadata": {},
   "source": [
    "Calculator آلة حاسبة"
   ]
  },
  {
   "cell_type": "code",
   "execution_count": 11,
   "metadata": {},
   "outputs": [
    {
     "ename": "AssertionError",
     "evalue": "Invalid operation.",
     "output_type": "error",
     "traceback": [
      "\u001b[31m---------------------------------------------------------------------------\u001b[39m",
      "\u001b[31mAssertionError\u001b[39m                            Traceback (most recent call last)",
      "\u001b[36mCell\u001b[39m\u001b[36m \u001b[39m\u001b[32mIn[11]\u001b[39m\u001b[32m, line 15\u001b[39m\n\u001b[32m     13\u001b[39m \t\tresult = x / y\n\u001b[32m     14\u001b[39m \t\u001b[38;5;28;01mcase\u001b[39;00m\u001b[38;5;250m \u001b[39m\u001b[38;5;28;01m_\u001b[39;00m:\n\u001b[32m---> \u001b[39m\u001b[32m15\u001b[39m \t\t\u001b[38;5;28;01massert\u001b[39;00m \u001b[38;5;28;01mFalse\u001b[39;00m, \u001b[33m\"\u001b[39m\u001b[33mInvalid operation.\u001b[39m\u001b[33m\"\u001b[39m\n\u001b[32m     17\u001b[39m \u001b[38;5;28mprint\u001b[39m(\u001b[33mf\u001b[39m\u001b[33m\"\u001b[39m\u001b[38;5;132;01m{\u001b[39;00mx\u001b[38;5;132;01m}\u001b[39;00m\u001b[33m \u001b[39m\u001b[38;5;132;01m{\u001b[39;00moperator\u001b[38;5;132;01m}\u001b[39;00m\u001b[33m \u001b[39m\u001b[38;5;132;01m{\u001b[39;00my\u001b[38;5;132;01m}\u001b[39;00m\u001b[33m = \u001b[39m\u001b[38;5;132;01m{\u001b[39;00mresult\u001b[38;5;132;01m}\u001b[39;00m\u001b[33m\"\u001b[39m)\n",
      "\u001b[31mAssertionError\u001b[39m: Invalid operation."
     ]
    }
   ],
   "source": [
    "x = int(input(\"Enter x: \"))\n",
    "operator = input(\"Enter operator (+-*/): \")\n",
    "y = int(input(\"Enter x: \"))\n",
    "\n",
    "match operator:\n",
    "\tcase \"+\":\n",
    "\t\tresult = x + y\n",
    "\tcase \"-\":\n",
    "\t\tresult = x - y\n",
    "\tcase \"*\":\n",
    "\t\tresult = x * y\n",
    "\tcase \"/\":\n",
    "\t\tresult = x / y\n",
    "\tcase _:\n",
    "\t\tassert False, \"Invalid operation.\"\n",
    "\n",
    "print(f\"{x} {operator} {y} = {result}\")"
   ]
  }
 ],
 "metadata": {
  "kernelspec": {
   "display_name": "Python 3",
   "language": "python",
   "name": "python3"
  },
  "language_info": {
   "codemirror_mode": {
    "name": "ipython",
    "version": 3
   },
   "file_extension": ".py",
   "mimetype": "text/x-python",
   "name": "python",
   "nbconvert_exporter": "python",
   "pygments_lexer": "ipython3",
   "version": "3.13.5"
  },
  "orig_nbformat": 4,
  "vscode": {
   "interpreter": {
    "hash": "5238573367df39f7286bb46f9ff5f08f63a01a80960060ce41e3c79b190280fa"
   }
  }
 },
 "nbformat": 4,
 "nbformat_minor": 2
}
