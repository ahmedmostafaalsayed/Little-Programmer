{
 "cells": [
  {
   "attachments": {},
   "cell_type": "markdown",
   "metadata": {},
   "source": [
    "# Lesson 17: Regular Expressions\n",
    "![Regular Expressions](https://files.realpython.com/media/Regular-Expressions-Regexes-in-Python-Part-1_Watermarked.0423050c5371.jpg)\n",
    "\n",
    "Regular expressions (regex) allow us to find general pattern in text data. Like:\n",
    "* email: `user@site.com`\n",
    "* phone number: `+20 1012345678`\n",
    "* URL: `www.site.com`"
   ]
  },
  {
   "attachments": {},
   "cell_type": "markdown",
   "metadata": {},
   "source": [
    "Find phone numbers: `(555) 555-5555`\n",
    "\n",
    "Pattern:\n",
    "* `(\\d\\d\\d) \\d\\d\\d-\\d\\d\\d\\d`\n",
    "* Using quantifiers: `(\\d{3}) \\d{3}-\\d{4}`"
   ]
  },
  {
   "cell_type": "code",
   "execution_count": 1,
   "metadata": {},
   "outputs": [],
   "source": [
    "text = \"The agent's phone number is 123 555-4567\""
   ]
  },
  {
   "cell_type": "markdown",
   "metadata": {},
   "source": [
    "### Imports\n",
    "`re` module"
   ]
  },
  {
   "cell_type": "code",
   "execution_count": 20,
   "metadata": {},
   "outputs": [],
   "source": [
    "import re"
   ]
  },
  {
   "cell_type": "markdown",
   "metadata": {},
   "source": [
    "Simple search for text"
   ]
  },
  {
   "cell_type": "code",
   "execution_count": 3,
   "metadata": {},
   "outputs": [
    {
     "data": {
      "text/plain": [
       "True"
      ]
     },
     "execution_count": 3,
     "metadata": {},
     "output_type": "execute_result"
    }
   ],
   "source": [
    "\"phone\" in text"
   ]
  },
  {
   "cell_type": "markdown",
   "metadata": {},
   "source": [
    "## Using regular expressions for searching"
   ]
  },
  {
   "cell_type": "code",
   "execution_count": 6,
   "metadata": {},
   "outputs": [
    {
     "data": {
      "text/plain": [
       "<re.Match object; span=(12, 17), match='phone'>"
      ]
     },
     "execution_count": 6,
     "metadata": {},
     "output_type": "execute_result"
    }
   ],
   "source": [
    "pattern = \"phone\"\n",
    "re.search(pattern,text)"
   ]
  },
  {
   "cell_type": "markdown",
   "metadata": {},
   "source": [
    "See the result span:"
   ]
  },
  {
   "cell_type": "code",
   "execution_count": 7,
   "metadata": {},
   "outputs": [
    {
     "data": {
      "text/plain": [
       "'phone'"
      ]
     },
     "execution_count": 7,
     "metadata": {},
     "output_type": "execute_result"
    }
   ],
   "source": [
    "text[12:17]"
   ]
  },
  {
   "cell_type": "markdown",
   "metadata": {},
   "source": [
    "See for non-existing pattern (result is None):"
   ]
  },
  {
   "cell_type": "code",
   "execution_count": 8,
   "metadata": {},
   "outputs": [],
   "source": [
    "pattern = \"not existing\"\n",
    "re.search(pattern, text)"
   ]
  },
  {
   "cell_type": "markdown",
   "metadata": {},
   "source": [
    "Search with multiple results البحث عن نمط موجود أكثر من مرة:"
   ]
  },
  {
   "cell_type": "code",
   "execution_count": 10,
   "metadata": {},
   "outputs": [
    {
     "data": {
      "text/plain": [
       "<re.Match object; span=(3, 8), match='phone'>"
      ]
     },
     "execution_count": 10,
     "metadata": {},
     "output_type": "execute_result"
    }
   ],
   "source": [
    "text = \"My phone once, my phone again\"\n",
    "pattern = \"phone\"\n",
    "re.search(pattern,text)"
   ]
  },
  {
   "cell_type": "markdown",
   "metadata": {},
   "source": [
    "Get all results and print number of matches:"
   ]
  },
  {
   "cell_type": "code",
   "execution_count": 15,
   "metadata": {},
   "outputs": [
    {
     "name": "stdout",
     "output_type": "stream",
     "text": [
      "2 matches: ['phone', 'phone']\n"
     ]
    }
   ],
   "source": [
    "result = re.findall(pattern,text)\n",
    "print(f\"{len(result)} matches: {result}\")"
   ]
  },
  {
   "cell_type": "markdown",
   "metadata": {},
   "source": [
    "Iterate over all results to find more info:"
   ]
  },
  {
   "cell_type": "code",
   "execution_count": 14,
   "metadata": {},
   "outputs": [
    {
     "name": "stdout",
     "output_type": "stream",
     "text": [
      "phone (3, 8)\n",
      "phone (18, 23)\n"
     ]
    }
   ],
   "source": [
    "for match in re.finditer(pattern,text):\n",
    "\tprint(match.group(), match.span())"
   ]
  },
  {
   "cell_type": "markdown",
   "metadata": {},
   "source": [
    "## Regex Special Sequences\n",
    "\n",
    "| Sequence | Description | Example Pattern | Example Match |\n",
    "| - | - | - | - |\n",
    "| `\\d` | Digit | `file_\\d\\d` | file_25 |\n",
    "| `\\D` | Non-digit | `\\D\\D\\D` | Abc |\n",
    "| `\\s` | Whitespace | `a\\sb\\sc` | a b c |\n",
    "| `\\S` | Non-whitespace | `\\S\\S\\S\\S` | Yoyo |\n",
    "| `\\w` | Alphanumeric (letter, number or underscore) | `\\w-\\w\\w\\w` | A-b_1 |\n",
    "| `\\W` | Non-alphanumeric | `\\W\\W\\W\\W\\W` | *-+=) |\n",
    "\n",
    "* Raw string: `r`\n",
    "\n",
    "References:\n",
    "* [Regex Special Sequences](https://docs.python.org/3/library/re.html#re-special-sequences)\n",
    "* [Python RegEx Special Sequences](https://www.w3schools.com/python/gloss_python_regex_sequences.asp)\n",
    "* [Python Regex Special Sequences and Character classes](https://pynative.com/python-regex-special-sequences-and-character-classes)\n",
    "\n",
    "Search for any phone number (11 digits):"
   ]
  },
  {
   "cell_type": "code",
   "execution_count": 17,
   "metadata": {},
   "outputs": [
    {
     "name": "stdout",
     "output_type": "stream",
     "text": [
      "<re.Match object; span=(19, 30), match='01234567891'>\n"
     ]
    }
   ],
   "source": [
    "text = \"My phone number is 01234567891\"\n",
    "result = re.search(r\"\\d\\d\\d\\d\\d\\d\\d\\d\\d\\d\\d\",text)\n",
    "print(result)"
   ]
  },
  {
   "cell_type": "markdown",
   "metadata": {},
   "source": [
    "## Quantifiers\n",
    "لتحديد عدد مرات تكرار نمط معين.\n",
    "\n",
    "| Quantifier | Description | Example Pattern | Example Match |\n",
    "| - | - | - | - |\n",
    "| `+` | One or more times | `\\d+ years` | 3 years<br/>12 years<br/>151 years<br/> |\n",
    "| `*` | Zero or more times | `X*L` | L<br/>XL<br/>XXL |\n",
    "| `?` | Zero or one time | `plurals?` | plural<br/>plurals |\n",
    "| `{n}` | Exactly `n` time | `\\w{3}` | ABC |\n",
    "| `{min,max}` | `min` to `max` times | `\\w{2,3}` | USA |\n",
    "| `{min,}` | `min` or more times | `\\w{3,}` | Ali |\n",
    "| `{,max}` | Up to `max` times | `\\w{,8}` | Password |\n",
    "\n",
    "Exercise: Repeat the phone number exercise with quantifiers"
   ]
  },
  {
   "cell_type": "code",
   "execution_count": 20,
   "metadata": {},
   "outputs": [
    {
     "name": "stdout",
     "output_type": "stream",
     "text": [
      "<re.Match object; span=(19, 30), match='01234567891'>\n"
     ]
    }
   ],
   "source": [
    "text = \"My phone number is 01234567891\"\n",
    "result = re.search(r\"\\d{11}\",text)\n",
    "print(result)"
   ]
  },
  {
   "cell_type": "markdown",
   "metadata": {},
   "source": [
    "Exercise: Egyptian car plates\n",
    "\n",
    "![لوحات السيارات](https://images.akhbarelyom.com/images/images/large/20240720034900406.jpg)\n",
    "\n",
    "Extract the whole plate number:"
   ]
  },
  {
   "cell_type": "code",
   "execution_count": 5,
   "metadata": {},
   "outputs": [
    {
     "data": {
      "text/plain": [
       "'349 BDH'"
      ]
     },
     "execution_count": 5,
     "metadata": {},
     "output_type": "execute_result"
    }
   ],
   "source": [
    "text = \"349 BDH\"\n",
    "result = re.search(r\"(\\d{,4}) (\\w{2,4})\",text)\n",
    "result.group()"
   ]
  },
  {
   "cell_type": "markdown",
   "metadata": {},
   "source": [
    "Extract match groups by position (1-based).\n",
    "\n",
    "Example: Extract the plate characters and numbers separately."
   ]
  },
  {
   "cell_type": "code",
   "execution_count": 8,
   "metadata": {},
   "outputs": [
    {
     "name": "stdout",
     "output_type": "stream",
     "text": [
      "349\n",
      "BDH\n"
     ]
    }
   ],
   "source": [
    "print(result.group(1))\n",
    "print(result.group(2))"
   ]
  },
  {
   "cell_type": "markdown",
   "metadata": {},
   "source": [
    "## Or operator (`|`)"
   ]
  },
  {
   "cell_type": "code",
   "execution_count": 12,
   "metadata": {},
   "outputs": [
    {
     "data": {
      "text/plain": [
       "<re.Match object; span=(18, 21), match='car'>"
      ]
     },
     "execution_count": 12,
     "metadata": {},
     "output_type": "execute_result"
    }
   ],
   "source": [
    "text = \"I go to school by car\"\n",
    "result = re.search(r\"car|taxi\",text)\n",
    "result"
   ]
  },
  {
   "cell_type": "markdown",
   "metadata": {},
   "source": [
    "## [findall](https://docs.python.org/3/library/re.html#re.findall)\n",
    "Get all non-overlapping matches"
   ]
  },
  {
   "cell_type": "code",
   "execution_count": 14,
   "metadata": {},
   "outputs": [
    {
     "data": {
      "text/plain": [
       "['at', 'at', 'at']"
      ]
     },
     "execution_count": 14,
     "metadata": {},
     "output_type": "execute_result"
    }
   ],
   "source": [
    "re.findall(r\"at\",\"The cat in the hat sat there\")"
   ]
  },
  {
   "cell_type": "markdown",
   "metadata": {},
   "source": [
    "## [Special Characters](https://docs.python.org/3/library/re.html#regular-expression-syntax)\n",
    "| Special Character | Meaning |\n",
    "| - | - |\n",
    "| `.` | Wildcard character, matches any character except a newline |\n",
    "| `^` (Caret.) | Matches the start of the string, and in MULTILINE mode also matches immediately after each newline. |\n",
    "| `$` | Matches at the end of a line, which is defined as either the end of the string, or any location followed by a newline character. |\n",
    "\n",
    "In this text, find all `at` and 1 character before it:\n",
    "> The cat in the hat sat there."
   ]
  },
  {
   "cell_type": "code",
   "execution_count": 16,
   "metadata": {},
   "outputs": [
    {
     "data": {
      "text/plain": [
       "['cat', 'hat', 'sat']"
      ]
     },
     "execution_count": 16,
     "metadata": {},
     "output_type": "execute_result"
    }
   ],
   "source": [
    "re.findall(r\".at\",\"The cat in the hat sat there.\")"
   ]
  },
  {
   "cell_type": "code",
   "execution_count": 23,
   "metadata": {},
   "outputs": [],
   "source": [
    "text = \"\"\"Video provides a powerful way to help you prove your point. When you click Online Video, you can paste in the embed code for the video you want to add. You can also type a keyword to search online for the video that best fits your document.\n",
    "To make your document look professionally produced, Word provides header, footer, cover page, and text box designs that complement each other. For example, you can add a matching cover page, header, and sidebar. Click Insert and then choose the elements you want from the different galleries.\n",
    "Themes and styles also help keep your document coordinated. When you click Design and choose a new Theme, the pictures, charts, and SmartArt graphics change to match your new theme. When you apply styles, your headings change to match the new theme.\n",
    "Save time in Word with new buttons that show up where you need them. To change the way a picture fits in your document, click it and a button for layout options appears next to it. When you work on a table, click where you want to add a row or a column, and then click the plus sign.\n",
    "Reading is easier, too, in the new Reading view. You can collapse parts of the document and focus on the text you want. If you need to stop reading before you reach the end, Word remembers where you left off - even on another device.\"\"\""
   ]
  },
  {
   "cell_type": "code",
   "execution_count": 24,
   "metadata": {},
   "outputs": [
    {
     "data": {
      "text/plain": [
       "['hat', 'hat', 'mat', 'nat', 'mat', 'mat', 'hat']"
      ]
     },
     "execution_count": 24,
     "metadata": {},
     "output_type": "execute_result"
    }
   ],
   "source": [
    "re.findall(r\".at\",text)"
   ]
  },
  {
   "cell_type": "markdown",
   "metadata": {},
   "source": [
    "### Match multiple charatcers\n",
    "Match `ing` and 3 charatcers before it:"
   ]
  },
  {
   "cell_type": "code",
   "execution_count": 25,
   "metadata": {},
   "outputs": [
    {
     "data": {
      "text/plain": [
       "['tching', 'eading', 'eading', 'eading', 'eading']"
      ]
     },
     "execution_count": 25,
     "metadata": {},
     "output_type": "execute_result"
    }
   ],
   "source": [
    "pattern = \"...ing\"\n",
    "re.findall(pattern,text)"
   ]
  },
  {
   "cell_type": "markdown",
   "metadata": {},
   "source": [
    "Find all words (`\\w`) that end with `at`:"
   ]
  },
  {
   "cell_type": "code",
   "execution_count": 27,
   "metadata": {},
   "outputs": [
    {
     "data": {
      "text/plain": [
       "['matching', 'heading', 'Reading', 'Reading', 'reading']"
      ]
     },
     "execution_count": 27,
     "metadata": {},
     "output_type": "execute_result"
    }
   ],
   "source": [
    "re.findall(r\"\\w+ing\",text)"
   ]
  },
  {
   "cell_type": "markdown",
   "metadata": {},
   "source": [
    "## [Flags](https://docs.python.org/3/library/re.html#flags)\n",
    "| Flag | Meaning |\n",
    "| - | - |\n",
    "| `re.I`<br/>`re.IGNORECASE` | Case-insensitive matching |\n",
    "| `re.M`<br/>`re.MULTILINE` | Makes `^` matche at the beginning of the string and at the beginning of each line; and the pattern character `$` matches at the end of the string and at the end of each line. |\n",
    "\n",
    "Find all lines (`re.MULTILINE`) that start with `T`:"
   ]
  },
  {
   "cell_type": "code",
   "execution_count": 31,
   "metadata": {},
   "outputs": [
    {
     "data": {
      "text/plain": [
       "['To', 'Themes']"
      ]
     },
     "execution_count": 31,
     "metadata": {},
     "output_type": "execute_result"
    }
   ],
   "source": [
    "re.findall(r\"^T\\w+\",text,re.MULTILINE)"
   ]
  },
  {
   "cell_type": "markdown",
   "metadata": {},
   "source": [
    "Find last word of all sentences (ending with `.`):"
   ]
  },
  {
   "cell_type": "code",
   "execution_count": 35,
   "metadata": {},
   "outputs": [
    {
     "data": {
      "text/plain": [
       "['document.', 'galleries.', 'theme.', 'sign.', 'device.']"
      ]
     },
     "execution_count": 35,
     "metadata": {},
     "output_type": "execute_result"
    }
   ],
   "source": [
    "re.findall(r\"\\w+\\.$\",text,re.MULTILINE)"
   ]
  },
  {
   "cell_type": "markdown",
   "metadata": {},
   "source": [
    "Find the first word after each full stop (`.`):"
   ]
  },
  {
   "cell_type": "code",
   "execution_count": 37,
   "metadata": {},
   "outputs": [
    {
     "name": "stdout",
     "output_type": "stream",
     "text": [
      "When\n",
      "You\n",
      "To\n",
      "For\n",
      "Click\n",
      "Themes\n",
      "When\n",
      "When\n",
      "Save\n",
      "To\n",
      "When\n",
      "Reading\n",
      "You\n",
      "If\n"
     ]
    }
   ],
   "source": [
    "text = \"\"\"Video provides a powerful way to help you prove your point. When you click Online Video, you can paste in the embed code for the video you want to add. You can also type a keyword to search online for the video that best fits your document.\n",
    "To make your document look professionally produced, Word provides header, footer, cover page, and text box designs that complement each other. For example, you can add a matching cover page, header, and sidebar. Click Insert and then choose the elements you want from the different galleries.\n",
    "Themes and styles also help keep your document coordinated. When you click Design and choose a new Theme, the pictures, charts, and SmartArt graphics change to match your new theme. When you apply styles, your headings change to match the new theme.\n",
    "Save time in Word with new buttons that show up where you need them. To change the way a picture fits in your document, click it and a button for layout options appears next to it. When you work on a table, click where you want to add a row or a column, and then click the plus sign.\n",
    "Reading is easier, too, in the new Reading view.You can collapse parts of the document and focus on the text you want. If you need to stop reading before you reach the end, Word remembers where you left off - even on another device.\"\"\"\n",
    "\n",
    "for match in re.finditer(r\"\\.\\s*(\\w+)\",text):\n",
    "\tprint(match.group(1))"
   ]
  },
  {
   "cell_type": "markdown",
   "metadata": {},
   "source": [
    "Find all numbers in a paragraph:"
   ]
  },
  {
   "cell_type": "code",
   "execution_count": 36,
   "metadata": {},
   "outputs": [
    {
     "data": {
      "text/plain": [
       "['3', '5', '33', '666', '666', '9900']"
      ]
     },
     "execution_count": 36,
     "metadata": {},
     "output_type": "execute_result"
    }
   ],
   "source": [
    "text = \"\"\"Video provides a powerful way to help you prove your point 3.5 When you click Online Video, you can paste in the embed code for the video you want to add. You can also type a keyword to search online for the video that best fits your document.\n",
    "To make your document look professionally produced 33, Word provides header 666 , footer, cover page, and text box designs that complement each other. For example, you can add a matching cover page, header, and sidebar. Click Insert and then choose the elements you want from the different galleries.\n",
    "Themes and styles also help keep your document coordinated 666. When you click Design and choose a new Theme, the pictures, charts, and SmartArt graphics change to match your new theme. When you apply styles, your headings change to match the new theme 9900.\n",
    "Save time in Word with new buttons that show up where you need them. To change the way a picture fits in your document, click it and a button for layout options appears next to it. When you work on a table, click where you want to add a row or a column, and then click the plus sign.\n",
    "Reading is easier, too, in the new Reading view.You can collapse parts of the document and focus on the text you want. If you need to stop reading before you reach the end, Word remembers where you left off - even on another device.\"\"\"\n",
    "re.findall(r\"\\d+\",text)"
   ]
  },
  {
   "cell_type": "markdown",
   "metadata": {},
   "source": [
    "Find all emails in the following text:"
   ]
  },
  {
   "cell_type": "code",
   "execution_count": null,
   "metadata": {},
   "outputs": [],
   "source": [
    "text = \"\"\"Contact us at contactus@gmail.com.\n",
    "And my email is: ashhd2000@gmail.com.\n",
    "Another email is: me@website.com.\n",
    "False email is: Nuhhqkw(op)@yahoo.com.\n",
    "Hind@moe.eg\n",
    "menna@support.moe.gov.eg\n",
    "Hosam@gmail.org\"\"\"\n",
    "\n",
    "pattern = r\"\\w+@(\\w+\\.)+\\w+\"\n",
    "for match in re.finditer(pattern,text):\n",
    "\tprint(match.group())"
   ]
  }
 ],
 "metadata": {
  "kernelspec": {
   "display_name": "Python 3",
   "language": "python",
   "name": "python3"
  },
  "language_info": {
   "codemirror_mode": {
    "name": "ipython",
    "version": 3
   },
   "file_extension": ".py",
   "mimetype": "text/x-python",
   "name": "python",
   "nbconvert_exporter": "python",
   "pygments_lexer": "ipython3",
   "version": "3.13.7"
  },
  "orig_nbformat": 4,
  "vscode": {
   "interpreter": {
    "hash": "5238573367df39f7286bb46f9ff5f08f63a01a80960060ce41e3c79b190280fa"
   }
  }
 },
 "nbformat": 4,
 "nbformat_minor": 2
}
