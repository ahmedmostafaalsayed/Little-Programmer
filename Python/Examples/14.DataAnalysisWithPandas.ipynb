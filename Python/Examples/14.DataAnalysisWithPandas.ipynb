{
 "cells": [
  {
   "attachments": {},
   "cell_type": "markdown",
   "metadata": {},
   "source": [
    "# 11. Data Analysis with Pandas\n",
    "Pandas is a data analysis library\n",
    "مكتبة معالجة وتحليل بيانات\n",
    "\n",
    "## Installing Pandas\n",
    "`pip install pandas`"
   ]
  },
  {
   "cell_type": "markdown",
   "metadata": {},
   "source": [
    "* `import pandas as pd`\n",
    "* Create a DataFrame from a dictionary: `names_dict = {\"names\": [\"Ahmed\",\"Sohaila\",\"Sara\",\"Jana\"]}`"
   ]
  },
  {
   "cell_type": "code",
   "execution_count": 2,
   "metadata": {},
   "outputs": [
    {
     "name": "stdout",
     "output_type": "stream",
     "text": [
      "     names\n",
      "0    Ahmed\n",
      "1  Sohaila\n",
      "2     Sara\n",
      "3     Jana\n"
     ]
    }
   ],
   "source": [
    "import pandas as pd\n",
    "\n",
    "names_dict = {\"names\": [\"Ahmed\",\"Sohaila\",\"Sara\",\"Jana\"]}\n",
    "df = pd.DataFrame(names_dict)\n",
    "print(df)"
   ]
  },
  {
   "cell_type": "markdown",
   "metadata": {},
   "source": [
    "Creating a DataFrame from a dictionary of multiple keys"
   ]
  },
  {
   "cell_type": "code",
   "execution_count": 3,
   "metadata": {},
   "outputs": [
    {
     "name": "stdout",
     "output_type": "stream",
     "text": [
      "      name  age\n",
      "0    Ahmed   30\n",
      "1  Sohaila   25\n",
      "2     Sara   22\n",
      "3     Jana   20\n"
     ]
    }
   ],
   "source": [
    "import pandas as pd\n",
    "\n",
    "students_dict = {\"name\": [\"Ahmed\",\"Sohaila\",\"Sara\",\"Jana\"],\n",
    "\t\t\t\t \"age\": [30,25,22,20]}\n",
    "df = pd.DataFrame(students_dict)\n",
    "print(df)"
   ]
  },
  {
   "cell_type": "markdown",
   "metadata": {},
   "source": [
    "## Saving a DataFrame to a CSV file\n",
    "الحفظ في ملف CSV"
   ]
  },
  {
   "cell_type": "code",
   "execution_count": null,
   "metadata": {},
   "outputs": [],
   "source": [
    "import pandas as pd\n",
    "\n",
    "students_dict = {\"name\": [\"Ahmed\",\"Sohaila\",\"Sara\",\"Jana\"],\n",
    "\t\t\t\t \"age\": [30,25,22,20]}\n",
    "df = pd.DataFrame(students_dict)\n",
    "df.to_csv(\"Students.csv\")"
   ]
  },
  {
   "cell_type": "markdown",
   "metadata": {},
   "source": [
    "## Reading a DataFrame from a CSV file\n",
    "القراءة من ملف CSV"
   ]
  },
  {
   "cell_type": "code",
   "execution_count": null,
   "metadata": {},
   "outputs": [],
   "source": [
    "import pandas as pd\n",
    "\n",
    "df = pd.read_csv(\"Students.csv\")"
   ]
  },
  {
   "cell_type": "markdown",
   "metadata": {},
   "source": [
    "## Adding a column to a DataFrame\n",
    "`city = [\"Cairo\",\"Alex\",\"Giza\",\"Fayoum\"]`"
   ]
  },
  {
   "cell_type": "code",
   "execution_count": 22,
   "metadata": {},
   "outputs": [
    {
     "name": "stdout",
     "output_type": "stream",
     "text": [
      "      name  age    city\n",
      "0    Ahmed   30   Cairo\n",
      "1  Sohaila   25    Alex\n",
      "2     Sara   22    Giza\n",
      "3     Jana   20  Fayoum\n"
     ]
    }
   ],
   "source": [
    "city = [\"Cairo\",\"Alex\",\"Giza\",\"Fayoum\"]\n",
    "df[\"city\"] = city\n",
    "print(df)"
   ]
  },
  {
   "cell_type": "markdown",
   "metadata": {},
   "source": [
    "## Selecting a column from the DataFrame\n",
    "age اختيار عامود العمر"
   ]
  },
  {
   "cell_type": "code",
   "execution_count": 18,
   "metadata": {},
   "outputs": [
    {
     "data": {
      "text/plain": [
       "0    30\n",
       "1    25\n",
       "2    22\n",
       "3    20\n",
       "Name: age, dtype: int64"
      ]
     },
     "execution_count": 18,
     "metadata": {},
     "output_type": "execute_result"
    }
   ],
   "source": [
    "df[\"age\"]"
   ]
  },
  {
   "cell_type": "markdown",
   "metadata": {},
   "source": [
    "## وصف الأعمدة الرقمية `describe`"
   ]
  },
  {
   "cell_type": "code",
   "execution_count": 23,
   "metadata": {},
   "outputs": [
    {
     "data": {
      "text/plain": [
       "Index(['name', 'age', 'city'], dtype='object')"
      ]
     },
     "execution_count": 23,
     "metadata": {},
     "output_type": "execute_result"
    }
   ],
   "source": [
    "df.describe()"
   ]
  },
  {
   "cell_type": "code",
   "execution_count": 24,
   "metadata": {},
   "outputs": [
    {
     "data": {
      "text/html": [
       "<div>\n",
       "<style scoped>\n",
       "    .dataframe tbody tr th:only-of-type {\n",
       "        vertical-align: middle;\n",
       "    }\n",
       "\n",
       "    .dataframe tbody tr th {\n",
       "        vertical-align: top;\n",
       "    }\n",
       "\n",
       "    .dataframe thead th {\n",
       "        text-align: right;\n",
       "    }\n",
       "</style>\n",
       "<table border=\"1\" class=\"dataframe\">\n",
       "  <thead>\n",
       "    <tr style=\"text-align: right;\">\n",
       "      <th></th>\n",
       "      <th>name</th>\n",
       "      <th>age</th>\n",
       "      <th>city</th>\n",
       "    </tr>\n",
       "  </thead>\n",
       "  <tbody>\n",
       "    <tr>\n",
       "      <th>0</th>\n",
       "      <td>Ahmed</td>\n",
       "      <td>30</td>\n",
       "      <td>Cairo</td>\n",
       "    </tr>\n",
       "    <tr>\n",
       "      <th>1</th>\n",
       "      <td>Sohaila</td>\n",
       "      <td>25</td>\n",
       "      <td>Alex</td>\n",
       "    </tr>\n",
       "    <tr>\n",
       "      <th>2</th>\n",
       "      <td>Sara</td>\n",
       "      <td>22</td>\n",
       "      <td>Giza</td>\n",
       "    </tr>\n",
       "    <tr>\n",
       "      <th>3</th>\n",
       "      <td>Jana</td>\n",
       "      <td>20</td>\n",
       "      <td>Fayoum</td>\n",
       "    </tr>\n",
       "  </tbody>\n",
       "</table>\n",
       "</div>"
      ],
      "text/plain": [
       "      name  age    city\n",
       "0    Ahmed   30   Cairo\n",
       "1  Sohaila   25    Alex\n",
       "2     Sara   22    Giza\n",
       "3     Jana   20  Fayoum"
      ]
     },
     "execution_count": 24,
     "metadata": {},
     "output_type": "execute_result"
    }
   ],
   "source": [
    "df.head()"
   ]
  }
 ],
 "metadata": {
  "kernelspec": {
   "display_name": "Python 3",
   "language": "python",
   "name": "python3"
  },
  "language_info": {
   "codemirror_mode": {
    "name": "ipython",
    "version": 3
   },
   "file_extension": ".py",
   "mimetype": "text/x-python",
   "name": "python",
   "nbconvert_exporter": "python",
   "pygments_lexer": "ipython3",
   "version": "3.13.0"
  },
  "orig_nbformat": 4,
  "vscode": {
   "interpreter": {
    "hash": "5238573367df39f7286bb46f9ff5f08f63a01a80960060ce41e3c79b190280fa"
   }
  }
 },
 "nbformat": 4,
 "nbformat_minor": 2
}
