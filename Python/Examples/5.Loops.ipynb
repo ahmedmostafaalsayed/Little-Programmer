{
 "cells": [
  {
   "attachments": {},
   "cell_type": "markdown",
   "metadata": {},
   "source": [
    "# Lesson 5: Loops\n",
    "* Copying a list\n",
    "* `while` loop\n",
    "* `break`\n",
    "* `for` loop\n",
    "\n",
    "## Shallow copy of a list"
   ]
  },
  {
   "cell_type": "code",
   "execution_count": 2,
   "metadata": {},
   "outputs": [],
   "source": [
    "names = [\"Ahmed\",\"Ali\",\"Mohamed\",\"Omar\",\"Osama\"]\n",
    "names2 = names"
   ]
  },
  {
   "attachments": {},
   "cell_type": "markdown",
   "metadata": {},
   "source": [
    "Compare the two lists. Are they at the same address?"
   ]
  },
  {
   "cell_type": "code",
   "execution_count": 4,
   "metadata": {},
   "outputs": [
    {
     "name": "stdout",
     "output_type": "stream",
     "text": [
      "1924469114880\n",
      "1924469114880\n"
     ]
    }
   ],
   "source": [
    "print(id(names))\n",
    "print(id(names2))"
   ]
  },
  {
   "attachments": {},
   "cell_type": "markdown",
   "metadata": {},
   "source": [
    "تعديل القائمة الأولى يؤثر في القائمة الثانية"
   ]
  },
  {
   "cell_type": "code",
   "execution_count": 5,
   "metadata": {},
   "outputs": [
    {
     "name": "stdout",
     "output_type": "stream",
     "text": [
      "Mahmoud\n"
     ]
    }
   ],
   "source": [
    "names[1] = \"Mahmoud\"\n",
    "print(names2[1])"
   ]
  },
  {
   "attachments": {},
   "cell_type": "markdown",
   "metadata": {},
   "source": [
    "### 1. copy() function"
   ]
  },
  {
   "cell_type": "code",
   "execution_count": 4,
   "metadata": {},
   "outputs": [
    {
     "name": "stdout",
     "output_type": "stream",
     "text": [
      "Ahmed\n"
     ]
    }
   ],
   "source": [
    "other_names = names.copy()\n",
    "names[0] = \"Abdalla\"\n",
    "print(other_names[0])"
   ]
  },
  {
   "attachments": {},
   "cell_type": "markdown",
   "metadata": {},
   "source": [
    "### 2. Slicing"
   ]
  },
  {
   "cell_type": "code",
   "execution_count": 20,
   "metadata": {},
   "outputs": [
    {
     "name": "stdout",
     "output_type": "stream",
     "text": [
      "False\n",
      "1924469114880 1924476499840\n"
     ]
    }
   ],
   "source": [
    "new_names = names[:]\n",
    "print(new_names is names)\n",
    "print(id(names),id(new_names))"
   ]
  },
  {
   "attachments": {},
   "cell_type": "markdown",
   "metadata": {},
   "source": [
    "## Comparing variables مقارنة المتغيرات\n",
    "لمعرفة إذا كان الاسمان لنفس المتغير في الذاكرة"
   ]
  },
  {
   "cell_type": "code",
   "execution_count": 5,
   "metadata": {},
   "outputs": [
    {
     "name": "stdout",
     "output_type": "stream",
     "text": [
      "True\n",
      "False\n"
     ]
    }
   ],
   "source": [
    "print(names2 is names)\n",
    "print(other_names is names)"
   ]
  },
  {
   "attachments": {},
   "cell_type": "markdown",
   "metadata": {},
   "source": [
    "## Joining list items with a string\n",
    "ربط عناصر قائمة بكلمة أو مجموعة حروف بينها"
   ]
  },
  {
   "cell_type": "code",
   "execution_count": 6,
   "metadata": {},
   "outputs": [
    {
     "name": "stdout",
     "output_type": "stream",
     "text": [
      "['Milk', 'Coffee', 'Juice', 'Tea', 'Water']\n",
      "Milk, Coffee, Juice, Tea, Water\n"
     ]
    }
   ],
   "source": [
    "drinks = [\"Milk\", \"Coffee\", \"Juice\", \"Tea\",\"Water\"]\n",
    "print(drinks)\n",
    "print( \", \".join(drinks) )"
   ]
  },
  {
   "attachments": {},
   "cell_type": "markdown",
   "metadata": {},
   "source": [
    "# Loops\n",
    "## While loop\n",
    "* Print numbers from 1 to 10\n",
    "* Infinite loops"
   ]
  },
  {
   "cell_type": "code",
   "execution_count": 8,
   "metadata": {},
   "outputs": [
    {
     "name": "stdout",
     "output_type": "stream",
     "text": [
      "1\n",
      "2\n",
      "3\n",
      "4\n",
      "5\n",
      "6\n",
      "7\n",
      "8\n",
      "9\n",
      "10\n"
     ]
    }
   ],
   "source": [
    "i = 1\n",
    "while i <= 10:\n",
    "\tprint(i)\n",
    "\ti = i + 1"
   ]
  },
  {
   "attachments": {},
   "cell_type": "markdown",
   "metadata": {},
   "source": [
    "Print odd numbers between 1 and 10"
   ]
  },
  {
   "cell_type": "code",
   "execution_count": 9,
   "metadata": {},
   "outputs": [
    {
     "name": "stdout",
     "output_type": "stream",
     "text": [
      "1\n",
      "3\n",
      "5\n",
      "7\n",
      "9\n"
     ]
    }
   ],
   "source": [
    "i = 1\n",
    "while i <= 10:\n",
    "\tprint(i)\n",
    "\ti = i + 2"
   ]
  },
  {
   "attachments": {},
   "cell_type": "markdown",
   "metadata": {},
   "source": [
    "Print even numbers between 1 and 10"
   ]
  },
  {
   "cell_type": "code",
   "execution_count": 10,
   "metadata": {},
   "outputs": [
    {
     "name": "stdout",
     "output_type": "stream",
     "text": [
      "2\n",
      "4\n",
      "6\n",
      "8\n",
      "10\n"
     ]
    }
   ],
   "source": [
    "i = 2\n",
    "while i <= 10:\n",
    "\tprint(i)\n",
    "\ti = i + 2"
   ]
  },
  {
   "attachments": {},
   "cell_type": "markdown",
   "metadata": {},
   "source": [
    "Print multiples of 3 - اطبع مضاعفات 3 "
   ]
  },
  {
   "cell_type": "code",
   "execution_count": 11,
   "metadata": {},
   "outputs": [
    {
     "name": "stdout",
     "output_type": "stream",
     "text": [
      "3\n",
      "6\n",
      "9\n",
      "12\n",
      "15\n",
      "18\n",
      "21\n",
      "24\n",
      "27\n",
      "30\n"
     ]
    }
   ],
   "source": [
    "i = 3\n",
    "while i <= 30:\n",
    "\tprint(i)\n",
    "\ti = i + 3"
   ]
  },
  {
   "attachments": {},
   "cell_type": "markdown",
   "metadata": {},
   "source": [
    "## Break\n",
    "تستخدم لإيقاف التكرار"
   ]
  },
  {
   "cell_type": "code",
   "execution_count": 25,
   "metadata": {},
   "outputs": [
    {
     "name": "stdout",
     "output_type": "stream",
     "text": [
      "Drink 2 is your favourite drink\n"
     ]
    }
   ],
   "source": [
    "drinks = [\"Milk\", \"Coffee\", \"Juice\", \"Tea\",\"Water\"]\n",
    "favourite = input(\"Please enter your favourite drink: \")\n",
    "i = 10\t# Counter عداد\n",
    "while i < len(drinks):\n",
    "\tif drinks[i] == favourite:\n",
    "\t\tprint(f\"Drink {i+1} is your favourite drink\")\n",
    "\t\tbreak\n",
    "\t#i = i + 1\n",
    "\ti += 1\t\t# Increment\n",
    "print(\"End\")\n"
   ]
  },
  {
   "attachments": {},
   "cell_type": "markdown",
   "metadata": {},
   "source": [
    "التكرار حتى يطلب المستخدم التوقف"
   ]
  },
  {
   "cell_type": "code",
   "execution_count": 27,
   "metadata": {},
   "outputs": [
    {
     "name": "stdout",
     "output_type": "stream",
     "text": [
      "Tea, Milk, Water\n"
     ]
    }
   ],
   "source": [
    "items = []\n",
    "while True:\n",
    "\tnew_item = input(\"Enter new item, or type 'q' to stop: \")\n",
    "\tif new_item != 'q':\n",
    "\t\titems.append(new_item)\n",
    "\telse:\n",
    "\t\tbreak\n",
    "\n",
    "print(\", \".join(items))"
   ]
  },
  {
   "attachments": {},
   "cell_type": "markdown",
   "metadata": {},
   "source": [
    "## For loops"
   ]
  },
  {
   "cell_type": "code",
   "execution_count": 28,
   "metadata": {},
   "outputs": [
    {
     "name": "stdout",
     "output_type": "stream",
     "text": [
      "Milk\n",
      "Coffee\n",
      "Juice\n",
      "Tea\n",
      "Water\n"
     ]
    }
   ],
   "source": [
    "drinks = [\"Milk\", \"Coffee\", \"Juice\", \"Tea\",\"Water\"]\n",
    "for drink in drinks:\n",
    "\tprint(drink)"
   ]
  },
  {
   "cell_type": "code",
   "execution_count": 32,
   "metadata": {},
   "outputs": [
    {
     "name": "stdout",
     "output_type": "stream",
     "text": [
      "5\n",
      "7\n",
      "9\n"
     ]
    }
   ],
   "source": [
    "for i in range(5,11,2):\n",
    "    print(i)"
   ]
  },
  {
   "attachments": {},
   "cell_type": "markdown",
   "metadata": {},
   "source": [
    "Looping over a string as a collection الدوران على حروف كلام"
   ]
  },
  {
   "cell_type": "code",
   "execution_count": 33,
   "metadata": {},
   "outputs": [
    {
     "name": "stdout",
     "output_type": "stream",
     "text": [
      "A\n",
      "h\n",
      "m\n",
      "e\n",
      "d\n",
      " \n",
      "M\n",
      "o\n",
      "s\n",
      "t\n",
      "a\n",
      "f\n",
      "a\n"
     ]
    }
   ],
   "source": [
    "name = \"Ahmed Mostafa\"\n",
    "for c in name:\n",
    "    print(c)"
   ]
  },
  {
   "cell_type": "code",
   "execution_count": null,
   "metadata": {},
   "outputs": [],
   "source": []
  }
 ],
 "metadata": {
  "kernelspec": {
   "display_name": "Python 3",
   "language": "python",
   "name": "python3"
  },
  "language_info": {
   "codemirror_mode": {
    "name": "ipython",
    "version": 3
   },
   "file_extension": ".py",
   "mimetype": "text/x-python",
   "name": "python",
   "nbconvert_exporter": "python",
   "pygments_lexer": "ipython3",
   "version": "3.11.1"
  },
  "orig_nbformat": 4,
  "vscode": {
   "interpreter": {
    "hash": "5238573367df39f7286bb46f9ff5f08f63a01a80960060ce41e3c79b190280fa"
   }
  }
 },
 "nbformat": 4,
 "nbformat_minor": 2
}
