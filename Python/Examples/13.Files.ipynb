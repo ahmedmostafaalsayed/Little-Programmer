{
 "cells": [
  {
   "cell_type": "markdown",
   "metadata": {},
   "source": [
    "# Lesson 13: Files الملفات\n",
    "![RAM vs Disk Storage](https://techdifferences.com/wp-content/uploads/2023/07/Storage-and-Memory.jpg)\n",
    "\n",
    "| Comparison | Random Access Memory (RAM) | Disk Storage |\n",
    "|- | - | - |\n",
    "| Use | Temporary | Permanent |\n",
    "| Speed | Faster | Slower |\n",
    "| Cost | Expensive $$$ | Cheaper $ |\n",
    "| Size | Small (in MB or GB) | Bigger (in GB or TB) |\n",
    "\n",
    "## Reading files قراءة الملفات\n",
    "1. `open()`\n",
    "1. `file.read()`"
   ]
  },
  {
   "cell_type": "code",
   "execution_count": 4,
   "metadata": {},
   "outputs": [],
   "source": [
    "my_file = open(\"Students.txt\")"
   ]
  },
  {
   "cell_type": "markdown",
   "metadata": {},
   "source": [
    "## Opening non-existing file فتح ملف غير موجود\n",
    "`FileNotFoundError`"
   ]
  },
  {
   "cell_type": "code",
   "execution_count": 1,
   "metadata": {},
   "outputs": [
    {
     "ename": "FileNotFoundError",
     "evalue": "[Errno 2] No such file or directory: 'my_file.txt'",
     "output_type": "error",
     "traceback": [
      "\u001b[31m---------------------------------------------------------------------------\u001b[39m",
      "\u001b[31mFileNotFoundError\u001b[39m                         Traceback (most recent call last)",
      "\u001b[36mCell\u001b[39m\u001b[36m \u001b[39m\u001b[32mIn[1]\u001b[39m\u001b[32m, line 1\u001b[39m\n\u001b[32m----> \u001b[39m\u001b[32m1\u001b[39m my_file = \u001b[38;5;28;43mopen\u001b[39;49m\u001b[43m(\u001b[49m\u001b[33;43m\"\u001b[39;49m\u001b[33;43mmy_file.txt\u001b[39;49m\u001b[33;43m\"\u001b[39;49m\u001b[43m)\u001b[49m\n",
      "\u001b[36mFile \u001b[39m\u001b[32m~\\AppData\\Roaming\\Python\\Python313\\site-packages\\IPython\\core\\interactiveshell.py:327\u001b[39m, in \u001b[36m_modified_open\u001b[39m\u001b[34m(file, *args, **kwargs)\u001b[39m\n\u001b[32m    320\u001b[39m \u001b[38;5;28;01mif\u001b[39;00m file \u001b[38;5;129;01min\u001b[39;00m {\u001b[32m0\u001b[39m, \u001b[32m1\u001b[39m, \u001b[32m2\u001b[39m}:\n\u001b[32m    321\u001b[39m     \u001b[38;5;28;01mraise\u001b[39;00m \u001b[38;5;167;01mValueError\u001b[39;00m(\n\u001b[32m    322\u001b[39m         \u001b[33mf\u001b[39m\u001b[33m\"\u001b[39m\u001b[33mIPython won\u001b[39m\u001b[33m'\u001b[39m\u001b[33mt let you open fd=\u001b[39m\u001b[38;5;132;01m{\u001b[39;00mfile\u001b[38;5;132;01m}\u001b[39;00m\u001b[33m by default \u001b[39m\u001b[33m\"\u001b[39m\n\u001b[32m    323\u001b[39m         \u001b[33m\"\u001b[39m\u001b[33mas it is likely to crash IPython. If you know what you are doing, \u001b[39m\u001b[33m\"\u001b[39m\n\u001b[32m    324\u001b[39m         \u001b[33m\"\u001b[39m\u001b[33myou can use builtins\u001b[39m\u001b[33m'\u001b[39m\u001b[33m open.\u001b[39m\u001b[33m\"\u001b[39m\n\u001b[32m    325\u001b[39m     )\n\u001b[32m--> \u001b[39m\u001b[32m327\u001b[39m \u001b[38;5;28;01mreturn\u001b[39;00m \u001b[43mio_open\u001b[49m\u001b[43m(\u001b[49m\u001b[43mfile\u001b[49m\u001b[43m,\u001b[49m\u001b[43m \u001b[49m\u001b[43m*\u001b[49m\u001b[43margs\u001b[49m\u001b[43m,\u001b[49m\u001b[43m \u001b[49m\u001b[43m*\u001b[49m\u001b[43m*\u001b[49m\u001b[43mkwargs\u001b[49m\u001b[43m)\u001b[49m\n",
      "\u001b[31mFileNotFoundError\u001b[39m: [Errno 2] No such file or directory: 'my_file.txt'"
     ]
    }
   ],
   "source": [
    "my_file = open(\"my_file.txt\")"
   ]
  },
  {
   "attachments": {},
   "cell_type": "markdown",
   "metadata": {},
   "source": [
    "## Print working directory اطبع المجلد الحالي\n",
    "For Jupyter ONLY: `pwd` command"
   ]
  },
  {
   "cell_type": "code",
   "execution_count": 1,
   "metadata": {},
   "outputs": [
    {
     "data": {
      "text/plain": [
       "'c:\\\\Users\\\\AhmedAbdel-Baky\\\\Documents\\\\Education\\\\Python\\\\Examples'"
      ]
     },
     "execution_count": 1,
     "metadata": {},
     "output_type": "execute_result"
    }
   ],
   "source": [
    "pwd"
   ]
  },
  {
   "cell_type": "markdown",
   "metadata": {},
   "source": [
    "In Python: `os.getcwd()`"
   ]
  },
  {
   "cell_type": "code",
   "execution_count": 2,
   "metadata": {},
   "outputs": [
    {
     "data": {
      "text/plain": [
       "'c:\\\\Users\\\\AhmedAbdel-Baky\\\\Documents\\\\Education\\\\Python\\\\Examples'"
      ]
     },
     "execution_count": 2,
     "metadata": {},
     "output_type": "execute_result"
    }
   ],
   "source": [
    "import os\n",
    "os.getcwd()"
   ]
  },
  {
   "cell_type": "markdown",
   "metadata": {},
   "source": [
    "## List files and folders in a directory\n",
    "للحصول على الملفات والمجلدات الموجودة داخل مجلد\n",
    "\n",
    "`os.listdir(directory)`"
   ]
  },
  {
   "cell_type": "code",
   "execution_count": 3,
   "metadata": {},
   "outputs": [
    {
     "data": {
      "text/plain": [
       "['01.Print.py',\n",
       " '02.StringFormattingAndInput.ipynb',\n",
       " '03.Conditionals.ipynb',\n",
       " '04.Lists.ipynb',\n",
       " '05.WhileLoops.ipynb',\n",
       " '06.ForLoops.ipynb',\n",
       " '08.TuplesAndSets.ipynb',\n",
       " '09.Dictionaries.ipynb',\n",
       " '10.Functions.ipynb',\n",
       " '11.Scope.ipynb',\n",
       " '12.Files.ipynb',\n",
       " '13.ErrorHandling.ipynb',\n",
       " '14.DataAnalysisWithPandas.ipynb',\n",
       " '15.SendingAndReceivingEmails.ipynb']"
      ]
     },
     "execution_count": 3,
     "metadata": {},
     "output_type": "execute_result"
    }
   ],
   "source": [
    "os.listdir(os.getcwd())"
   ]
  },
  {
   "cell_type": "markdown",
   "metadata": {},
   "source": [
    "## Specifying full path\n",
    "لتحديد ملف أو مجلد في غير المجلد الحالي نحتاج لتحديد المسار الكامل له\n",
    "full path\n",
    "\n",
    "### Escape Sequences\n",
    "حروف لها معنى خاص بعد حرف \\\n",
    "\n",
    "| Code | Result |\n",
    "| - | - |\n",
    "| `\\'` | Single quote |\n",
    "| `\\\\` | Backslash |\n",
    "| `\\n` | New line |\n",
    "| `\\t` | Tab |\n",
    "\n",
    "Or use raw strings: `r` خام\n",
    "\n",
    "### References\n",
    "* https://www.w3schools.com/python/gloss_python_escape_characters.asp"
   ]
  },
  {
   "cell_type": "code",
   "execution_count": null,
   "metadata": {},
   "outputs": [
    {
     "name": "stderr",
     "output_type": "stream",
     "text": [
      "<>:3: SyntaxWarning: invalid escape sequence '\\P'\n",
      "<>:3: SyntaxWarning: invalid escape sequence '\\P'\n",
      "C:\\Users\\AhmedAbdel-Baky\\AppData\\Local\\Temp\\ipykernel_21700\\3925996789.py:3: SyntaxWarning: invalid escape sequence '\\P'\n",
      "  os.listdir(\"C:\\Program Files\\dotnet\")\n"
     ]
    },
    {
     "data": {
      "text/plain": [
       "['dotnet.exe',\n",
       " 'host',\n",
       " 'LICENSE.txt',\n",
       " 'metadata',\n",
       " 'packs',\n",
       " 'sdk',\n",
       " 'sdk-manifests',\n",
       " 'shared',\n",
       " 'templates',\n",
       " 'ThirdPartyNotices.txt']"
      ]
     },
     "execution_count": 2,
     "metadata": {},
     "output_type": "execute_result"
    }
   ],
   "source": [
    "import os\n",
    "os.listdir(\"C:\\Program Files\\dotnet\")"
   ]
  },
  {
   "cell_type": "markdown",
   "metadata": {},
   "source": [
    "## Moving a file\n",
    "shutil: Shell utilities.\n",
    "\n",
    "`shutil.move(src,dst)`\n",
    "* src: Source المصدر\n",
    "* dst: Destination الوجهة"
   ]
  },
  {
   "cell_type": "code",
   "execution_count": null,
   "metadata": {},
   "outputs": [
    {
     "name": "stdout",
     "output_type": "stream",
     "text": [
      "c:\\Users\\AhmedAbdel-Baky\\Documents\\Education\\Python\\Examples\\mat-debug-28164.log\n"
     ]
    }
   ],
   "source": [
    "import shutil\n",
    "result = shutil.move(r\"C:\\Users\\AhmedAbdel-Baky\\AppData\\Local\\Temp\\mat-debug-28164.log\",os.getcwd())\n",
    "print(result)"
   ]
  },
  {
   "cell_type": "markdown",
   "metadata": {},
   "source": [
    "## Deleting a file\n",
    "1. Send the file to trash\n",
    "\n",
    "تسمح بالتراجع عن طريق استعادة الملف من سلة المهملات.\n",
    "\n",
    "`pip install pip send2trash --upgrade`"
   ]
  },
  {
   "cell_type": "code",
   "execution_count": 7,
   "metadata": {},
   "outputs": [],
   "source": [
    "from send2trash import send2trash\n",
    "file = r\"C:\\Users\\AhmedAbdel-Baky\\AppData\\Local\\Temp\\17819a73-e3ea-497e-9773-3314f57ada83.tmp\"\n",
    "send2trash(file)"
   ]
  },
  {
   "cell_type": "markdown",
   "metadata": {},
   "source": [
    "2. Deleting a file permamently حذف الكلف نهائياً"
   ]
  },
  {
   "cell_type": "code",
   "execution_count": 6,
   "metadata": {},
   "outputs": [
    {
     "name": "stdout",
     "output_type": "stream",
     "text": [
      "None\n"
     ]
    }
   ],
   "source": [
    "result = os.unlink(result)\n",
    "print(result)"
   ]
  },
  {
   "cell_type": "markdown",
   "metadata": {},
   "source": [
    "## os.walk\n",
    "List all folders, subfolders, and files under a directory.\n",
    "\n",
    "لاستكشاف الملفات والمجلدات داخل مجلد معين.\n",
    "\n",
    "هي دالة في مكتبة os تقوم بالمشي عبر شجرة المجلدات (directory tree)، أي أنها تستعرض كل المجلدات الفرعية والملفات داخل مجلد معين بشكل تلقائي ومتكر"
   ]
  },
  {
   "cell_type": "code",
   "execution_count": 11,
   "metadata": {},
   "outputs": [
    {
     "name": "stdout",
     "output_type": "stream",
     "text": [
      "Looking at: 'C:\\Users\\AhmedAbdel-Baky\\Documents\\Education\\Python'\n",
      "\n",
      "Subfolders:\n",
      "Examples\n",
      "Projects\n",
      "Solutions\n",
      "Starts\n",
      "\n",
      "Files:\n",
      "Head First Python.pdf\n",
      "Python Session.pptx\n",
      "Looking at: 'C:\\Users\\AhmedAbdel-Baky\\Documents\\Education\\Python\\Examples'\n",
      "\n",
      "Subfolders:\n",
      "\n",
      "Files:\n",
      "01.Print.py\n",
      "02.StringFormattingAndInput.ipynb\n",
      "03.Conditionals.ipynb\n",
      "04.Lists.ipynb\n",
      "05.WhileLoops.ipynb\n",
      "06.ForLoops.ipynb\n",
      "08.TuplesAndSets.ipynb\n",
      "09.Dictionaries.ipynb\n",
      "10.Functions.ipynb\n",
      "11.Scope.ipynb\n",
      "12.Files.ipynb\n",
      "13.ErrorHandling.ipynb\n",
      "14.DataAnalysisWithPandas.ipynb\n",
      "15.SendingAndReceivingEmails.ipynb\n",
      "Looking at: 'C:\\Users\\AhmedAbdel-Baky\\Documents\\Education\\Python\\Projects'\n",
      "\n",
      "Subfolders:\n",
      "Entity Extraction\n",
      "Sheet Translator\n",
      "\n",
      "Files:\n",
      "Looking at: 'C:\\Users\\AhmedAbdel-Baky\\Documents\\Education\\Python\\Projects\\Entity Extraction'\n",
      "\n",
      "Subfolders:\n",
      "\n",
      "Files:\n",
      "EntityExtractor-SDK.ipynb\n",
      "Settings.json\n",
      "Looking at: 'C:\\Users\\AhmedAbdel-Baky\\Documents\\Education\\Python\\Projects\\Sheet Translator'\n",
      "\n",
      "Subfolders:\n",
      "\n",
      "Files:\n",
      "Settings.json\n",
      "TranslateSheet-LibreTranslate.ipynb\n",
      "TranslateSheet-SDK.ipynb\n",
      "Looking at: 'C:\\Users\\AhmedAbdel-Baky\\Documents\\Education\\Python\\Solutions'\n",
      "\n",
      "Subfolders:\n",
      "\n",
      "Files:\n",
      "Homework05.py\n",
      "Homework08-Tuples.py\n",
      "Homework08.ipynb\n",
      "Homework09-OrderManagement.py\n",
      "Homework10-Functions.ipynb\n",
      "Homework10-Functions.py\n",
      "Looking at: 'C:\\Users\\AhmedAbdel-Baky\\Documents\\Education\\Python\\Starts'\n",
      "\n",
      "Subfolders:\n",
      "\n",
      "Files:\n",
      "02.StringFormattingAndInput.ipynb\n",
      "03.Conditionals - Start.ipynb\n",
      "04. Lists - Start.ipynb\n",
      "05.WhileLoops.ipynb\n",
      "06.ForLoops.ipynb\n",
      "07.TuplesAndSets.ipynb\n",
      "09.Dictionaries.ipynb\n",
      "10.Functions.ipynb\n",
      "9.Files.ipynb\n"
     ]
    }
   ],
   "source": [
    "top = r\"C:\\Users\\AhmedAbdel-Baky\\Documents\\Education\\Python\"\n",
    "for folder, subfolders, files in os.walk(top):\n",
    "\tprint(f\"Looking at: '{folder}'\")\n",
    "\t\n",
    "\tprint(\"\\nSubfolders:\")\n",
    "\tfor subfolder in subfolders:\n",
    "\t\tprint(subfolder)\n",
    "\t\n",
    "\t# Print files\n",
    "\tprint(\"\\nFiles:\")\n",
    "\tfor file in files:\n",
    "\t\tprint(file)"
   ]
  },
  {
   "attachments": {},
   "cell_type": "markdown",
   "metadata": {},
   "source": [
    "## File Extensions\n",
    "File extension tells the OS how to deal with the file.\n",
    "\n",
    "امتداد الملف يخبر نظام التشغيل كيف يتعامل مع هذا الملف.\n",
    "\n",
    "### Common File Extensions\n",
    "| Extension | Type |\n",
    "| - | - |\n",
    "| csv | Comma-Separated Values |\n",
    "| docx | Word document |\n",
    "| gif, jpg, jpeg, png, svg | Images |\n",
    "| pdf | Portable Document Format |\n",
    "| pptx | Power Point presentation |\n",
    "| txt | Text file |\n",
    "| xlsx|  Excel worksheet |\n",
    "\n",
    "`read()` all contents of the file قراءة كل محتويات الملف"
   ]
  },
  {
   "cell_type": "code",
   "execution_count": 21,
   "metadata": {},
   "outputs": [
    {
     "name": "stdout",
     "output_type": "stream",
     "text": [
      "ï»؟Omar Mahmoud\n",
      "Enas Osama\n",
      "Sherif Kamal\n",
      "Ahmed Ali\n",
      "Mohamed AlSayed\n"
     ]
    }
   ],
   "source": [
    "my_file = open(\"Students.txt\")\n",
    "text = my_file.read()\n",
    "print( text )"
   ]
  },
  {
   "cell_type": "markdown",
   "metadata": {},
   "source": [
    "لا يوجد الآن المزيد من السطور في الملف، وبالتالي لن نستطيع قراءة المزيد"
   ]
  },
  {
   "cell_type": "code",
   "execution_count": 22,
   "metadata": {},
   "outputs": [
    {
     "name": "stdout",
     "output_type": "stream",
     "text": [
      "\n"
     ]
    }
   ],
   "source": [
    "print( my_file.read() )"
   ]
  },
  {
   "cell_type": "markdown",
   "metadata": {},
   "source": [
    "`seek(0)` to the beginning if the file الذهاب إلى بداية الملف"
   ]
  },
  {
   "cell_type": "code",
   "execution_count": 29,
   "metadata": {},
   "outputs": [
    {
     "name": "stdout",
     "output_type": "stream",
     "text": [
      "Omar Mahmoud\n",
      "\n"
     ]
    }
   ],
   "source": [
    "my_file.seek(3)\n",
    "print(my_file.readline())"
   ]
  },
  {
   "cell_type": "markdown",
   "metadata": {},
   "source": [
    "`readlines()` قراءة سطور الملف كقائمة"
   ]
  },
  {
   "cell_type": "code",
   "execution_count": 20,
   "metadata": {},
   "outputs": [
    {
     "name": "stdout",
     "output_type": "stream",
     "text": [
      "ScratchJr\n",
      "Scratch\n",
      "Small Basic\n",
      "Ptyhon\n"
     ]
    }
   ],
   "source": [
    "my_file = open(\"Courses.txt\",encoding=\"utf-8\")\n",
    "lines = my_file.readlines()\n",
    "for line in lines:\n",
    "\tprint(line.strip())"
   ]
  },
  {
   "cell_type": "markdown",
   "metadata": {},
   "source": [
    "`readline()` قراءة سطر واحد من الملف"
   ]
  },
  {
   "cell_type": "code",
   "execution_count": 30,
   "metadata": {},
   "outputs": [
    {
     "name": "stdout",
     "output_type": "stream",
     "text": [
      "Omar Mahmoud\n",
      "\n"
     ]
    }
   ],
   "source": [
    "my_file.seek(3)\n",
    "print( my_file.readline() )"
   ]
  },
  {
   "attachments": {},
   "cell_type": "markdown",
   "metadata": {},
   "source": [
    "## File reading modes طرق فتح الملفات\n",
    "  * 'r' (read, default)\n",
    "  * 'w' (write)\n",
    "  * 'a' (append)\n",
    "  * 'r+' (read and write)\n",
    "\n",
    "العمليات الممكنة على الملف تعتمد على طريقة فتحه"
   ]
  },
  {
   "cell_type": "code",
   "execution_count": 32,
   "metadata": {},
   "outputs": [
    {
     "ename": "UnsupportedOperation",
     "evalue": "not writable",
     "output_type": "error",
     "traceback": [
      "\u001b[31m---------------------------------------------------------------------------\u001b[39m",
      "\u001b[31mUnsupportedOperation\u001b[39m                      Traceback (most recent call last)",
      "\u001b[36mCell\u001b[39m\u001b[36m \u001b[39m\u001b[32mIn[32]\u001b[39m\u001b[32m, line 2\u001b[39m\n\u001b[32m      1\u001b[39m my_file = \u001b[38;5;28mopen\u001b[39m(\u001b[33m\"\u001b[39m\u001b[33mStudents.txt\u001b[39m\u001b[33m\"\u001b[39m,\u001b[33m\"\u001b[39m\u001b[33mr\u001b[39m\u001b[33m\"\u001b[39m)\n\u001b[32m----> \u001b[39m\u001b[32m2\u001b[39m \u001b[43mmy_file\u001b[49m\u001b[43m.\u001b[49m\u001b[43mwrite\u001b[49m\u001b[43m(\u001b[49m\u001b[33;43m\"\u001b[39;49m\u001b[33;43mI cnnot write to this file!\u001b[39;49m\u001b[33;43m\"\u001b[39;49m\u001b[43m)\u001b[49m\n",
      "\u001b[31mUnsupportedOperation\u001b[39m: not writable"
     ]
    }
   ],
   "source": [
    "my_file = open(\"Students.txt\",\"r\")\n",
    "my_file.write(\"I cnnot write to this file!\")"
   ]
  },
  {
   "cell_type": "markdown",
   "metadata": {},
   "source": [
    "## Writing to files\n",
    "الكتابة في الملفات\n",
    "\n",
    "لا بد من إغلاق الملف بعد الكتابة فيه\n",
    "`file.close()`"
   ]
  },
  {
   "cell_type": "code",
   "execution_count": 34,
   "metadata": {},
   "outputs": [],
   "source": [
    "my_file = open(\"Students.txt\",\"a\")\n",
    "my_file.write(\"\\nNew Student\")\n",
    "my_file.close()"
   ]
  },
  {
   "attachments": {},
   "cell_type": "markdown",
   "metadata": {},
   "source": [
    "# `with` open() as my_file\n",
    "لإغلاق الملف تلقائياً بعد انتهاء استخدامه"
   ]
  },
  {
   "cell_type": "code",
   "execution_count": null,
   "metadata": {},
   "outputs": [
    {
     "name": "stdout",
     "output_type": "stream",
     "text": [
      "Finished entering students.\n"
     ]
    }
   ],
   "source": [
    "with open(\"Students.txt\",\"w\") as my_file:\n",
    "    while True:\n",
    "        student = input(\"Enter new student name or press Enter to exit: \").strip()\n",
    "        if student:\n",
    "            my_file.write(f\"{student}\\n\")\n",
    "            my_file.flush()\n",
    "        else:\n",
    "            break\n",
    "\n",
    "print(\"Finished entering students.\")"
   ]
  }
 ],
 "metadata": {
  "kernelspec": {
   "display_name": "Python 3",
   "language": "python",
   "name": "python3"
  },
  "language_info": {
   "codemirror_mode": {
    "name": "ipython",
    "version": 3
   },
   "file_extension": ".py",
   "mimetype": "text/x-python",
   "name": "python",
   "nbconvert_exporter": "python",
   "pygments_lexer": "ipython3",
   "version": "3.13.5"
  },
  "orig_nbformat": 4,
  "vscode": {
   "interpreter": {
    "hash": "5238573367df39f7286bb46f9ff5f08f63a01a80960060ce41e3c79b190280fa"
   }
  }
 },
 "nbformat": 4,
 "nbformat_minor": 2
}
