{
 "cells": [
  {
   "attachments": {},
   "cell_type": "markdown",
   "metadata": {},
   "source": [
    "# Lesson 8: Functions الدوال\n",
    "نستخدم الدوال functions لكتابة كود مرة واحدة وإعادة استخدامه مرات كثيرة.\n",
    "\n",
    "Only runs when it is called يعمل فقط عندما يتم تشغيله.\n",
    "\n",
    "Advantages مميزاتها\n",
    "1. Clear كود نظيف\n",
    "1. Reusability كود مقروء\n",
    "1. Maintenainability سهل الصيانة والتعديل\n",
    "\n",
    "## Functions with no arguments بدون مدخلات\n",
    "Printig a message before and after printing numbers 1 to 10 اطبع رسالة في بداية ونهاية العمل\n",
    "\n",
    "```from datetime import datetime```"
   ]
  },
  {
   "cell_type": "code",
   "execution_count": 1,
   "metadata": {},
   "outputs": [
    {
     "name": "stdout",
     "output_type": "stream",
     "text": [
      "2025-01-04\n",
      "0\n",
      "1\n",
      "2\n",
      "3\n",
      "4\n",
      "5\n",
      "6\n",
      "7\n",
      "8\n",
      "9\n",
      "2025-01-04\n"
     ]
    }
   ],
   "source": [
    "from datetime import datetime\n",
    "\n",
    "def print_message():\n",
    "\tprint(f\"{datetime.today():%Y-%m-%d}\")\n",
    "\n",
    "print_message()\n",
    "for i in range(10):\n",
    "\tprint(i)\n",
    "print_message()"
   ]
  },
  {
   "attachments": {},
   "cell_type": "markdown",
   "metadata": {},
   "source": [
    "## Functions with parameters المدخلات\n",
    "A function with 1 input/argument/parameter دالة بمدخل واحد\n",
    "\n",
    "Print multiplication table of a number طباعة جدول ضرب رقم بشكل جيد\n",
    "```\n",
    " 5 *  1 = 5\n",
    " 5 *  2 = 10\n",
    " 5 *  3 = 15\n",
    " ```"
   ]
  },
  {
   "cell_type": "code",
   "execution_count": 5,
   "metadata": {},
   "outputs": [
    {
     "name": "stdout",
     "output_type": "stream",
     "text": [
      " 5 *  1 = 5\n",
      " 5 *  2 = 10\n",
      " 5 *  3 = 15\n",
      " 5 *  4 = 20\n",
      " 5 *  5 = 25\n",
      " 5 *  6 = 30\n",
      " 5 *  7 = 35\n",
      " 5 *  8 = 40\n",
      " 5 *  9 = 45\n",
      " 5 * 10 = 50\n"
     ]
    }
   ],
   "source": [
    "def MultiplicationTable(number):\n",
    "\tfor i in range(1,10+1):\n",
    "\t\tprint(f\"{number:2} * {i:2} = {number*i}\")\n",
    "\n",
    "# Call the function استخدم الدالة\n",
    "MultiplicationTable(5)"
   ]
  },
  {
   "attachments": {},
   "cell_type": "markdown",
   "metadata": {},
   "source": [
    "A function to print a constant message with date دالة لطباعة رسالة ثابتة مع التاريخ\n",
    "> 2025-01-04: Begining"
   ]
  },
  {
   "cell_type": "code",
   "execution_count": 6,
   "metadata": {},
   "outputs": [
    {
     "name": "stdout",
     "output_type": "stream",
     "text": [
      "2025-01-04: Begining\n",
      "0\n",
      "1\n",
      "2\n",
      "3\n",
      "4\n",
      "5\n",
      "6\n",
      "7\n",
      "8\n",
      "9\n",
      "2025-01-04: End\n"
     ]
    }
   ],
   "source": [
    "from datetime import datetime\n",
    "\n",
    "def print_message(message):\n",
    "\tprint(f\"{datetime.today():%Y-%m-%d}: {message}\")\n",
    "\n",
    "print_message(\"Begining\")\n",
    "for i in range(10):\n",
    "\tprint(i)\n",
    "print_message(\"End\")"
   ]
  },
  {
   "attachments": {},
   "cell_type": "markdown",
   "metadata": {},
   "source": [
    "## Returning a value from a function إرجاع قيمة من الدالة\n",
    "Get initials of full name حساب أوائل الاسم"
   ]
  },
  {
   "cell_type": "code",
   "execution_count": 9,
   "metadata": {},
   "outputs": [
    {
     "name": "stdout",
     "output_type": "stream",
     "text": [
      "SAG\n"
     ]
    }
   ],
   "source": [
    "def GetInitials(name:str) -> str:\n",
    "\tnames = name.split()\n",
    "\tinitials = []\n",
    "\tfor name in names:\n",
    "\t\tinitials.append(name[0])\n",
    "\t\n",
    "\treturn \"\".join(initials).upper()\n",
    "\n",
    "print(GetInitials(\"Sohaila Alaa Gamal\"))"
   ]
  },
  {
   "cell_type": "markdown",
   "metadata": {},
   "source": [
    "## The `pass` statement\n",
    "Function body cannot be empty. جسم الدالة لا يمكن أن يكون خالياً."
   ]
  },
  {
   "attachments": {},
   "cell_type": "markdown",
   "metadata": {},
   "source": [
    "## Optional parameters المدخلات الاختيارية\n",
    "Default value for an input"
   ]
  },
  {
   "cell_type": "code",
   "execution_count": 12,
   "metadata": {},
   "outputs": [
    {
     "name": "stdout",
     "output_type": "stream",
     "text": [
      "19683.0\n"
     ]
    }
   ],
   "source": [
    "import math\n",
    "\n",
    "def root(base,power: int = 2):\n",
    "\treturn math.pow( base, power )\n",
    "\n",
    "print(root(27,3))"
   ]
  },
  {
   "attachments": {},
   "cell_type": "markdown",
   "metadata": {},
   "source": [
    "Keyword argument إرسال المدخلات بالاسم وليس بالترتيب"
   ]
  },
  {
   "cell_type": "code",
   "execution_count": null,
   "metadata": {},
   "outputs": [],
   "source": []
  },
  {
   "attachments": {},
   "cell_type": "markdown",
   "metadata": {},
   "source": [
    "## Scope مجال المتغيرات"
   ]
  },
  {
   "cell_type": "code",
   "execution_count": null,
   "metadata": {},
   "outputs": [],
   "source": []
  },
  {
   "attachments": {},
   "cell_type": "markdown",
   "metadata": {},
   "source": [
    "Changing a list تعديل قائمة"
   ]
  },
  {
   "cell_type": "code",
   "execution_count": null,
   "metadata": {},
   "outputs": [],
   "source": []
  },
  {
   "attachments": {},
   "cell_type": "markdown",
   "metadata": {},
   "source": [
    "## Recursion العودية\n",
    "A function can call itself الدالة يمكن أن تستدعي نفسها\n",
    "\n",
    "Factorial المضروب\n",
    "\n",
    "`n! = 1 * 2 * 3 * ... * n`\n",
    "\n",
    "Use loops to calculate factorial حساب المضروب بطريقة التكرار التقليدية"
   ]
  },
  {
   "cell_type": "code",
   "execution_count": null,
   "metadata": {},
   "outputs": [],
   "source": []
  },
  {
   "attachments": {},
   "cell_type": "markdown",
   "metadata": {},
   "source": [
    "Use recursion to calculate factorial استخدام الدالة لنفسها لحساب المضروب"
   ]
  },
  {
   "cell_type": "code",
   "execution_count": null,
   "metadata": {},
   "outputs": [],
   "source": []
  },
  {
   "cell_type": "code",
   "execution_count": null,
   "metadata": {},
   "outputs": [],
   "source": []
  }
 ],
 "metadata": {
  "kernelspec": {
   "display_name": "Python 3",
   "language": "python",
   "name": "python3"
  },
  "language_info": {
   "codemirror_mode": {
    "name": "ipython",
    "version": 3
   },
   "file_extension": ".py",
   "mimetype": "text/x-python",
   "name": "python",
   "nbconvert_exporter": "python",
   "pygments_lexer": "ipython3",
   "version": "3.13.0"
  },
  "orig_nbformat": 4,
  "vscode": {
   "interpreter": {
    "hash": "5238573367df39f7286bb46f9ff5f08f63a01a80960060ce41e3c79b190280fa"
   }
  }
 },
 "nbformat": 4,
 "nbformat_minor": 2
}
