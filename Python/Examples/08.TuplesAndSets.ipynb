{
 "cells": [
  {
   "attachments": {},
   "cell_type": "markdown",
   "metadata": {},
   "source": [
    "# Lesson 7. Tuples and Sets\n",
    "* Tuple: Constant collection\n",
    "* Set: Unique unordered\n",
    "\n",
    "## Tuple المتعددة\n",
    "* Ordered collections تحتفظ بترتيب عناصرها\n",
    "* Immutable collections لا يمكن تغييرها\n",
    "* Allows value duplication تسمح بتكرار القيم\n",
    "* Defining tuples with () نعرفها باستخدام الأقواس العادية\n",
    "* Define a tuple of `cities` أسماء المدن"
   ]
  },
  {
   "cell_type": "code",
   "execution_count": 7,
   "metadata": {},
   "outputs": [
    {
     "name": "stdout",
     "output_type": "stream",
     "text": [
      "5\n"
     ]
    }
   ],
   "source": [
    "cities = (\"Cairo\",\"Alex\",\"Mansoura\",\"Qena\",\"Cairo\")\n",
    "print(len(cities))"
   ]
  },
  {
   "attachments": {},
   "cell_type": "markdown",
   "metadata": {},
   "source": [
    "Indexing & slicing قراءة قيمة بترتيبها"
   ]
  },
  {
   "cell_type": "code",
   "execution_count": 8,
   "metadata": {},
   "outputs": [
    {
     "name": "stdout",
     "output_type": "stream",
     "text": [
      "Alex\n"
     ]
    }
   ],
   "source": [
    "print(cities[1])"
   ]
  },
  {
   "cell_type": "markdown",
   "metadata": {},
   "source": [
    "`TypeError` محاولة الكتابة في قيمة"
   ]
  },
  {
   "cell_type": "code",
   "execution_count": 9,
   "metadata": {},
   "outputs": [
    {
     "ename": "TypeError",
     "evalue": "'tuple' object does not support item assignment",
     "output_type": "error",
     "traceback": [
      "\u001b[31m---------------------------------------------------------------------------\u001b[39m",
      "\u001b[31mTypeError\u001b[39m                                 Traceback (most recent call last)",
      "\u001b[36mCell\u001b[39m\u001b[36m \u001b[39m\u001b[32mIn[9]\u001b[39m\u001b[32m, line 1\u001b[39m\n\u001b[32m----> \u001b[39m\u001b[32m1\u001b[39m \u001b[43mcities\u001b[49m\u001b[43m[\u001b[49m\u001b[32;43m0\u001b[39;49m\u001b[43m]\u001b[49m = \u001b[33m\"\u001b[39m\u001b[33mNew City\u001b[39m\u001b[33m\"\u001b[39m\n",
      "\u001b[31mTypeError\u001b[39m: 'tuple' object does not support item assignment"
     ]
    }
   ],
   "source": [
    "cities[0] = \"New City\""
   ]
  },
  {
   "cell_type": "markdown",
   "metadata": {},
   "source": [
    "لا يمكن تعديل عناصرها ولا إضافة عناصر لها، ولكن يمكن استبدالها بالكامل\n",
    "\n",
    "To add a city, use the increment operator `+=` إضافة مدينة"
   ]
  },
  {
   "cell_type": "code",
   "execution_count": 10,
   "metadata": {},
   "outputs": [
    {
     "name": "stdout",
     "output_type": "stream",
     "text": [
      "('Cairo', 'Alex', 'Mansoura', 'Qena', 'Cairo', 'Mahalla')\n"
     ]
    }
   ],
   "source": [
    "# append a new city to the cities tuple\n",
    "cities += (\"Mahalla\",)\n",
    "print(cities)"
   ]
  },
  {
   "attachments": {},
   "cell_type": "markdown",
   "metadata": {},
   "source": [
    "Finding `index` of a value الوصول إلى ترتيب قيمة"
   ]
  },
  {
   "cell_type": "code",
   "execution_count": 11,
   "metadata": {},
   "outputs": [
    {
     "name": "stdout",
     "output_type": "stream",
     "text": [
      "3\n"
     ]
    }
   ],
   "source": [
    "print(cities.index(\"Qena\"))"
   ]
  },
  {
   "attachments": {},
   "cell_type": "markdown",
   "metadata": {},
   "source": [
    "Find number of occurrences of a value عدد مرات وجود قيمة"
   ]
  },
  {
   "cell_type": "code",
   "execution_count": 15,
   "metadata": {},
   "outputs": [
    {
     "name": "stdout",
     "output_type": "stream",
     "text": [
      "2\n"
     ]
    }
   ],
   "source": [
    "print(cities.count(\"Cairo\"))"
   ]
  },
  {
   "cell_type": "markdown",
   "metadata": {},
   "source": [
    "Test if a value exists هل هذه القيمة موجودة؟\n",
    " 1. Using `tuple.count(value)`"
   ]
  },
  {
   "cell_type": "code",
   "execution_count": 16,
   "metadata": {},
   "outputs": [
    {
     "data": {
      "text/plain": [
       "0"
      ]
     },
     "execution_count": 16,
     "metadata": {},
     "output_type": "execute_result"
    }
   ],
   "source": [
    "cities.count(\"Minia\")"
   ]
  },
  {
   "cell_type": "markdown",
   "metadata": {},
   "source": [
    "2. Using `in` operator"
   ]
  },
  {
   "cell_type": "code",
   "execution_count": 14,
   "metadata": {},
   "outputs": [
    {
     "data": {
      "text/plain": [
       "False"
      ]
     },
     "execution_count": 14,
     "metadata": {},
     "output_type": "execute_result"
    }
   ],
   "source": [
    "\"Minia\" in cities"
   ]
  },
  {
   "attachments": {},
   "cell_type": "markdown",
   "metadata": {},
   "source": [
    "Selecting a random `choice` اختيار عنصر عشوائي"
   ]
  },
  {
   "cell_type": "code",
   "execution_count": 6,
   "metadata": {},
   "outputs": [
    {
     "name": "stdout",
     "output_type": "stream",
     "text": [
      "Cairo\n"
     ]
    }
   ],
   "source": [
    "from random import choice\n",
    "print(choice(cities))"
   ]
  },
  {
   "cell_type": "markdown",
   "metadata": {},
   "source": [
    "Create a tuple with single item using an extra comma `,` إنشاء متعددة من عنصر واحد عن طريق فاصلة زيادة"
   ]
  },
  {
   "cell_type": "code",
   "execution_count": 8,
   "metadata": {},
   "outputs": [
    {
     "data": {
      "text/plain": [
       "tuple"
      ]
     },
     "execution_count": 8,
     "metadata": {},
     "output_type": "execute_result"
    }
   ],
   "source": [
    "prices = (10,)\n",
    "type(prices)"
   ]
  },
  {
   "cell_type": "markdown",
   "metadata": {},
   "source": [
    "Unpacking tuples تفكيك المتعددة"
   ]
  },
  {
   "cell_type": "code",
   "execution_count": 9,
   "metadata": {},
   "outputs": [
    {
     "name": "stdout",
     "output_type": "stream",
     "text": [
      "5\n",
      "10\n"
     ]
    }
   ],
   "source": [
    "x,y = (5,10)\n",
    "print(x)\n",
    "print(y)"
   ]
  },
  {
   "cell_type": "markdown",
   "metadata": {},
   "source": [
    "Swapping values تبديل القيم"
   ]
  },
  {
   "cell_type": "code",
   "execution_count": 11,
   "metadata": {},
   "outputs": [
    {
     "name": "stdout",
     "output_type": "stream",
     "text": [
      "10\n",
      "5\n"
     ]
    }
   ],
   "source": [
    "x = 5\n",
    "y = 10\n",
    "x, y = y, x\n",
    "\n",
    "print(x)\n",
    "print(y)"
   ]
  },
  {
   "cell_type": "markdown",
   "metadata": {},
   "source": [
    "Converting a List to a Tuple تحويل القائمة إلى متعددة"
   ]
  },
  {
   "cell_type": "code",
   "execution_count": 17,
   "metadata": {},
   "outputs": [
    {
     "name": "stdout",
     "output_type": "stream",
     "text": [
      "Converted tuple: (1, 2, 3, 4, 5)\n"
     ]
    }
   ],
   "source": [
    "myList = [1, 2, 3, 4, 5]\n",
    "myTuple = tuple(myList)\n",
    "\n",
    "print(\"Converted tuple:\", myTuple)"
   ]
  },
  {
   "attachments": {},
   "cell_type": "markdown",
   "metadata": {},
   "source": [
    "## Set المجموعة\n",
    "* Unordered مجموعة غير مرتبة من العناصر\n",
    "* Unique لا تقبل التكرار\n",
    "* Define sets with {} نعرفها باستخدام الأقواس المعقوفة\n",
    "* `fruits` تعريف قائمة الفواكه"
   ]
  },
  {
   "cell_type": "code",
   "execution_count": 23,
   "metadata": {},
   "outputs": [],
   "source": [
    "fruits = {\"Guava\",\"Apple\",\"Orange\"}"
   ]
  },
  {
   "attachments": {},
   "cell_type": "markdown",
   "metadata": {},
   "source": [
    "`add` a value to a set إضافة قيمة جديدة للمجموعة"
   ]
  },
  {
   "cell_type": "code",
   "execution_count": 24,
   "metadata": {},
   "outputs": [
    {
     "name": "stdout",
     "output_type": "stream",
     "text": [
      "{'Pineapple', 'Guava', 'Apple', 'Orange'}\n"
     ]
    }
   ],
   "source": [
    "fruits.add(\"Pineapple\")\n",
    "print(fruits)"
   ]
  },
  {
   "attachments": {},
   "cell_type": "markdown",
   "metadata": {},
   "source": [
    "Addidng an existing item to the set إضافة قيمة موجودة بالفعل"
   ]
  },
  {
   "cell_type": "code",
   "execution_count": 25,
   "metadata": {},
   "outputs": [
    {
     "name": "stdout",
     "output_type": "stream",
     "text": [
      "{'Pineapple', 'Guava', 'Apple', 'Orange'}\n"
     ]
    }
   ],
   "source": [
    "fruits.add(\"Apple\")\n",
    "print(fruits)"
   ]
  },
  {
   "attachments": {},
   "cell_type": "markdown",
   "metadata": {},
   "source": [
    "Removing a value from a set إزالة قيمة من المجموعة\n",
    "* `remove`: KeyError if not found\n",
    "* `discard`: No error if not found\n",
    "\n",
    "إزالة قيمة موجودة"
   ]
  },
  {
   "cell_type": "code",
   "execution_count": 26,
   "metadata": {},
   "outputs": [
    {
     "name": "stdout",
     "output_type": "stream",
     "text": [
      "{'Pineapple', 'Guava', 'Orange'}\n"
     ]
    }
   ],
   "source": [
    "fruits.remove(\"Apple\")\n",
    "print(fruits)"
   ]
  },
  {
   "attachments": {},
   "cell_type": "markdown",
   "metadata": {},
   "source": [
    "Lemon إزالة قيمة غير موجودة"
   ]
  },
  {
   "cell_type": "code",
   "execution_count": 27,
   "metadata": {},
   "outputs": [
    {
     "ename": "KeyError",
     "evalue": "'Lemon'",
     "output_type": "error",
     "traceback": [
      "\u001b[1;31m---------------------------------------------------------------------------\u001b[0m",
      "\u001b[1;31mKeyError\u001b[0m                                  Traceback (most recent call last)",
      "Cell \u001b[1;32mIn[27], line 1\u001b[0m\n\u001b[1;32m----> 1\u001b[0m \u001b[43mfruits\u001b[49m\u001b[38;5;241;43m.\u001b[39;49m\u001b[43mremove\u001b[49m\u001b[43m(\u001b[49m\u001b[38;5;124;43m\"\u001b[39;49m\u001b[38;5;124;43mLemon\u001b[39;49m\u001b[38;5;124;43m\"\u001b[39;49m\u001b[43m)\u001b[49m\n",
      "\u001b[1;31mKeyError\u001b[0m: 'Lemon'"
     ]
    }
   ],
   "source": [
    "fruits.remove(\"Lemon\")"
   ]
  },
  {
   "cell_type": "code",
   "execution_count": 28,
   "metadata": {},
   "outputs": [
    {
     "name": "stdout",
     "output_type": "stream",
     "text": [
      "{'Pineapple', 'Guava', 'Orange'}\n"
     ]
    }
   ],
   "source": [
    "fruits.discard(\"Lemon\")\n",
    "print(fruits)"
   ]
  },
  {
   "attachments": {},
   "cell_type": "markdown",
   "metadata": {},
   "source": [
    "Remove a random element: pop إزالة قيمة عشوائية"
   ]
  },
  {
   "cell_type": "code",
   "execution_count": 29,
   "metadata": {},
   "outputs": [
    {
     "name": "stdout",
     "output_type": "stream",
     "text": [
      "Pineapple\n",
      "{'Guava', 'Orange'}\n"
     ]
    }
   ],
   "source": [
    "removed = fruits.pop()\n",
    "print(removed)\n",
    "print(fruits)"
   ]
  },
  {
   "attachments": {},
   "cell_type": "markdown",
   "metadata": {},
   "source": [
    "Constant set: frozenset مجموعة ثابتة (مجمدة)"
   ]
  },
  {
   "cell_type": "code",
   "execution_count": 30,
   "metadata": {},
   "outputs": [
    {
     "data": {
      "text/plain": [
       "frozenset"
      ]
     },
     "execution_count": 30,
     "metadata": {},
     "output_type": "execute_result"
    }
   ],
   "source": [
    "frozen_fruits = frozenset({\"Banana\",\"Apple\"})\n",
    "sex = frozenset({\"Male\",\"Female\"})\n",
    "type(frozen_fruits)"
   ]
  },
  {
   "attachments": {},
   "cell_type": "markdown",
   "metadata": {},
   "source": [
    "## Set Operations العمليات على المجموعات"
   ]
  },
  {
   "cell_type": "code",
   "execution_count": 31,
   "metadata": {},
   "outputs": [
    {
     "name": "stdout",
     "output_type": "stream",
     "text": [
      "Fruits: {'Guava', 'Apple', 'Orange'}\n",
      "Vegetables: {'Carrot', 'Cucomber'}\n"
     ]
    }
   ],
   "source": [
    "fruits = {\"Guava\",\"Apple\",\"Orange\"}\n",
    "print(f\"Fruits: {fruits}\")\n",
    "vegetables = {\"Carrot\",\"Cucomber\"}\n",
    "print(f\"Vegetables: {vegetables}\")"
   ]
  },
  {
   "attachments": {},
   "cell_type": "markdown",
   "metadata": {},
   "source": [
    "### Intersection التقاطع\n",
    "`intersection` (`&`) and `isdisjoint`"
   ]
  },
  {
   "cell_type": "code",
   "execution_count": 25,
   "metadata": {},
   "outputs": [
    {
     "name": "stdout",
     "output_type": "stream",
     "text": [
      "Intersection: set()\n",
      "Fruits and vegetables are dijoint? True\n",
      "Intersection with &: {'Carrot'}\n",
      "Fruits and vegetables are dijoint? False\n"
     ]
    }
   ],
   "source": [
    "print(f\"Intersection: {fruits.intersection(vegetables)}\")\n",
    "print(f\"Fruits and vegetables are dijoint? {fruits.isdisjoint(vegetables)}\")\n",
    "\n",
    "fruits.add(\"Carrot\")\n",
    "print(f\"Intersection with &: {fruits & vegetables}\")\n",
    "print(f\"Fruits and vegetables are dijoint? {fruits.isdisjoint(vegetables)}\")"
   ]
  },
  {
   "attachments": {},
   "cell_type": "markdown",
   "metadata": {},
   "source": [
    "### Union الاتحاد\n",
    "`union` (`|`)"
   ]
  },
  {
   "cell_type": "code",
   "execution_count": 26,
   "metadata": {},
   "outputs": [
    {
     "name": "stdout",
     "output_type": "stream",
     "text": [
      "Union: {'Orange', 'Carrot', 'Apple', 'Guava', 'Cucomber'}\n",
      "Union: {'Orange', 'Carrot', 'Apple', 'Guava', 'Cucomber'}\n"
     ]
    }
   ],
   "source": [
    "print(f\"Union: {fruits.union(vegetables)}\")\n",
    "print(f\"Union: {fruits | vegetables}\")"
   ]
  },
  {
   "attachments": {},
   "cell_type": "markdown",
   "metadata": {},
   "source": [
    "### Difference الفرق\n",
    "`difference` (`-`)"
   ]
  },
  {
   "cell_type": "code",
   "execution_count": 27,
   "metadata": {},
   "outputs": [
    {
     "name": "stdout",
     "output_type": "stream",
     "text": [
      "Difference: {'Orange', 'Guava', 'Apple'}\n",
      "Difference: {'Orange', 'Guava', 'Apple'}\n",
      "Difference: {'Cucomber'}\n"
     ]
    }
   ],
   "source": [
    "print(f\"Difference: {fruits.difference(vegetables)}\")\n",
    "print(f\"Difference: {fruits - vegetables}\")\n",
    "print(f\"Difference: {vegetables - fruits}\")"
   ]
  },
  {
   "attachments": {},
   "cell_type": "markdown",
   "metadata": {},
   "source": [
    "Is subset? هل هي مجموعة جزئية من مجموعة أخرى؟"
   ]
  },
  {
   "cell_type": "code",
   "execution_count": 20,
   "metadata": {},
   "outputs": [
    {
     "name": "stdout",
     "output_type": "stream",
     "text": [
      "False\n",
      "False\n",
      "True\n"
     ]
    }
   ],
   "source": [
    "print(fruits.issubset(vegetables))\n",
    "print(vegetables.issubset(fruits))\n",
    "print({\"Apple\",\"Orange\"}.issubset(fruits))"
   ]
  },
  {
   "attachments": {},
   "cell_type": "markdown",
   "metadata": {},
   "source": [
    "Is superset? هل هي مجموعة كلية لمجموعة أخرى؟"
   ]
  },
  {
   "cell_type": "code",
   "execution_count": 32,
   "metadata": {},
   "outputs": [],
   "source": [
    "basket = {\"Apple\",\"Orange\"}"
   ]
  },
  {
   "cell_type": "code",
   "execution_count": 29,
   "metadata": {},
   "outputs": [
    {
     "name": "stdout",
     "output_type": "stream",
     "text": [
      "True\n",
      "True\n"
     ]
    }
   ],
   "source": [
    "print( basket.issubset(fruits))\n",
    "print( fruits.issuperset( basket ))"
   ]
  },
  {
   "attachments": {},
   "cell_type": "markdown",
   "metadata": {},
   "source": [
    "### Set comparison مقارنة المجموعات"
   ]
  },
  {
   "cell_type": "code",
   "execution_count": 33,
   "metadata": {},
   "outputs": [
    {
     "data": {
      "text/plain": [
       "True"
      ]
     },
     "execution_count": 33,
     "metadata": {},
     "output_type": "execute_result"
    }
   ],
   "source": [
    "basket <= fruits"
   ]
  },
  {
   "attachments": {},
   "cell_type": "markdown",
   "metadata": {},
   "source": [
    "Creating an empty `set` إنشاء مجموعة خالية ثم إضافة عناصر"
   ]
  },
  {
   "cell_type": "code",
   "execution_count": 30,
   "metadata": {},
   "outputs": [
    {
     "name": "stdout",
     "output_type": "stream",
     "text": [
      "{'Salah Salem Secondary School', 'Al Shams', 'Helwan Secondary School', 'Al-Wafaa Al-Azhary Institute'}\n"
     ]
    }
   ],
   "source": [
    "schools = set()\n",
    "schools.add(\"Al-Wafaa Al-Azhary Institute\")\n",
    "schools.add(\"Al Shams\")\n",
    "schools.add(\"Helwan Secondary School\")\n",
    "schools.add(\"Salah Salem Secondary School\")\n",
    "print(schools)"
   ]
  },
  {
   "attachments": {},
   "cell_type": "markdown",
   "metadata": {},
   "source": [
    "طباعة عناصر المجموعة"
   ]
  },
  {
   "cell_type": "code",
   "execution_count": 31,
   "metadata": {},
   "outputs": [
    {
     "name": "stdout",
     "output_type": "stream",
     "text": [
      "Salah Salem Secondary School\n",
      "Al Shams\n",
      "Helwan Secondary School\n",
      "Al-Wafaa Al-Azhary Institute\n"
     ]
    }
   ],
   "source": [
    "for school in schools:\n",
    "    print(school)"
   ]
  },
  {
   "attachments": {},
   "cell_type": "markdown",
   "metadata": {},
   "source": [
    "هل هذا العنصر موجود في المجموعة؟"
   ]
  },
  {
   "cell_type": "code",
   "execution_count": 34,
   "metadata": {},
   "outputs": [
    {
     "name": "stdout",
     "output_type": "stream",
     "text": [
      "True\n"
     ]
    }
   ],
   "source": [
    "selection = \"Al Shams\"\n",
    "print(selection in schools)"
   ]
  },
  {
   "attachments": {},
   "cell_type": "markdown",
   "metadata": {},
   "source": [
    "هل هذه المجموعة ضمن هذه المجموعة؟"
   ]
  },
  {
   "cell_type": "code",
   "execution_count": 36,
   "metadata": {},
   "outputs": [
    {
     "name": "stdout",
     "output_type": "stream",
     "text": [
      "True\n"
     ]
    }
   ],
   "source": [
    "selection = {\"Al Shams\",\"Al-Wafaa Al-Azhary Institute\"}\n",
    "print(selection <= schools)"
   ]
  },
  {
   "attachments": {},
   "cell_type": "markdown",
   "metadata": {},
   "source": [
    "Creating a `sorted` list from a set إنشاء قائمة مرتبة من مجموعة"
   ]
  },
  {
   "cell_type": "code",
   "execution_count": 38,
   "metadata": {},
   "outputs": [
    {
     "name": "stdout",
     "output_type": "stream",
     "text": [
      "<class 'list'>\n",
      "['Apple', 'Carrot', 'Guava', 'Orange']\n"
     ]
    }
   ],
   "source": [
    "sorted_fruits = sorted(fruits)\n",
    "print(type(sorted_fruits))\n",
    "print(sorted_fruits)"
   ]
  }
 ],
 "metadata": {
  "kernelspec": {
   "display_name": "Python 3",
   "language": "python",
   "name": "python3"
  },
  "language_info": {
   "codemirror_mode": {
    "name": "ipython",
    "version": 3
   },
   "file_extension": ".py",
   "mimetype": "text/x-python",
   "name": "python",
   "nbconvert_exporter": "python",
   "pygments_lexer": "ipython3",
   "version": "3.13.5"
  },
  "orig_nbformat": 4,
  "vscode": {
   "interpreter": {
    "hash": "5238573367df39f7286bb46f9ff5f08f63a01a80960060ce41e3c79b190280fa"
   }
  }
 },
 "nbformat": 4,
 "nbformat_minor": 2
}
