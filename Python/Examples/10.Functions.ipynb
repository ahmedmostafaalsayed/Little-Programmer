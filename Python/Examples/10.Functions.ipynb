{
 "cells": [
  {
   "attachments": {},
   "cell_type": "markdown",
   "metadata": {},
   "source": [
    "# Lesson 10: Functions الدوال\n",
    "لكتابة كود مرة واحدة وإعادة استخدامه مرات كثيرة.\n",
    "\n",
    "Only runs when it is called يعمل فقط عندما يتم تشغيله.\n",
    "\n",
    "Advantages مميزاتها\n",
    "1. Clear كود نظيف\n",
    "1. Reusability كود مقروء\n",
    "1. Maintenainability سهل الصيانة والتعديل\n",
    "\n",
    "## Functions with no arguments بدون مدخلات\n",
    "* Printig a message before and after printing numbers 1 to 10 اطبع رسالة في بداية ونهاية العمل\n",
    "* ```from datetime import datetime```\n",
    "* Use f-string or `\"format\".format(string)`\n",
    "* Use `%Y-%m-%d` for date formatting صياغة التاريخ"
   ]
  },
  {
   "cell_type": "code",
   "execution_count": 7,
   "metadata": {},
   "outputs": [
    {
     "name": "stdout",
     "output_type": "stream",
     "text": [
      "2025-07-24\n",
      "1\n",
      "2\n",
      "3\n",
      "4\n",
      "5\n",
      "6\n",
      "7\n",
      "8\n",
      "9\n",
      "10\n",
      "2025-07-24 17:44:53.670109\n"
     ]
    }
   ],
   "source": [
    "from datetime import datetime\n",
    "\n",
    "print(\"{:%Y-%m-%d}\".format(datetime.today()))\n",
    "\n",
    "for number in range(1,11):\n",
    "\tprint(number)\n",
    "\n",
    "print(datetime.today())"
   ]
  },
  {
   "cell_type": "code",
   "execution_count": 8,
   "metadata": {},
   "outputs": [
    {
     "name": "stdout",
     "output_type": "stream",
     "text": [
      "2025-07-24\n",
      "1\n",
      "2\n",
      "3\n",
      "4\n",
      "5\n",
      "6\n",
      "7\n",
      "8\n",
      "9\n",
      "10\n",
      "2025-07-24\n"
     ]
    }
   ],
   "source": [
    "from datetime import datetime\n",
    "\n",
    "def print_message():\n",
    "\tprint(\"{:%Y-%m-%d}\".format(datetime.today()))\n",
    "\n",
    "print_message()\n",
    "for number in range(1,11):\n",
    "\tprint(number)\n",
    "\n",
    "print_message()\n"
   ]
  },
  {
   "attachments": {},
   "cell_type": "markdown",
   "metadata": {},
   "source": [
    "## Functions with parameters المدخلات\n",
    "A function with one input/argument/parameter دالة بمدخل واحد\n",
    "\n",
    "Print multiplication table of a number طباعة جدول ضرب رقم بشكل جيد\n",
    "```\n",
    " 5 *  1 = 5\n",
    " 5 *  2 = 10\n",
    " 5 *  3 = 15\n",
    " ```"
   ]
  },
  {
   "cell_type": "code",
   "execution_count": 15,
   "metadata": {},
   "outputs": [
    {
     "name": "stdout",
     "output_type": "stream",
     "text": [
      "10 *  1 = 10\n",
      "10 *  2 = 20\n",
      "10 *  3 = 30\n",
      "10 *  4 = 40\n",
      "10 *  5 = 50\n",
      "10 *  6 = 60\n",
      "10 *  7 = 70\n",
      "10 *  8 = 80\n",
      "10 *  9 = 90\n",
      "10 * 10 = 100\n"
     ]
    }
   ],
   "source": [
    "def pintMultiplicationTable(number):\n",
    "\tfor i in range(1,11):\n",
    "\t\tprint(f\"{number} * {i:2} = {number * i}\")\n",
    "\n",
    "pintMultiplicationTable(10)"
   ]
  },
  {
   "attachments": {},
   "cell_type": "markdown",
   "metadata": {},
   "source": [
    "A function to print a constant message with date دالة لطباعة رسالة ثابتة مع التاريخ\n",
    "> 2025-01-04: Begining"
   ]
  },
  {
   "cell_type": "code",
   "execution_count": 12,
   "metadata": {},
   "outputs": [
    {
     "name": "stdout",
     "output_type": "stream",
     "text": [
      "2025-07-24 - Beginning..\n",
      "1\n",
      "2\n",
      "3\n",
      "4\n",
      "5\n",
      "6\n",
      "7\n",
      "8\n",
      "9\n",
      "10\n",
      "2025-07-24 - End..\n"
     ]
    }
   ],
   "source": [
    "from datetime import datetime\n",
    "\n",
    "def print_message(message):\n",
    "#\tprint(\"{:%Y-%m-%d} - {}\".format(datetime.today(),message))\n",
    "\tprint(f\"{datetime.today():%Y-%m-%d} - {message}\")\n",
    "\n",
    "print_message(\"Beginning..\")\n",
    "for number in range(1,11):\n",
    "\tprint(number)\n",
    "\n",
    "print_message(\"End..\")\n"
   ]
  },
  {
   "attachments": {},
   "cell_type": "markdown",
   "metadata": {},
   "source": [
    "## Returning a value from a function إرجاع قيمة من الدالة\n",
    "* Get initials of full name حساب أوائل الاسم\n",
    "* Function annotations لتحديد نوع البيانات الذي تستقبله وترجعه دالة: `GetInitials(name:str) -> str`"
   ]
  },
  {
   "cell_type": "code",
   "execution_count": 25,
   "metadata": {},
   "outputs": [
    {
     "name": "stdout",
     "output_type": "stream",
     "text": [
      "MSA\n"
     ]
    }
   ],
   "source": [
    "def get_initials(name):\n",
    "\twords = name.split()\n",
    "\tinitials = []\n",
    "\tfor word in words:\n",
    "\t\tinitials.append(word[0].upper())\n",
    "\n",
    "\treturn \"\".join(initials)\n",
    "\n",
    "result = get_initials( \"mona samir ali\" )\n",
    "print(result)"
   ]
  },
  {
   "cell_type": "code",
   "execution_count": 24,
   "metadata": {},
   "outputs": [
    {
     "data": {
      "text/plain": [
       "'MSA'"
      ]
     },
     "execution_count": 24,
     "metadata": {},
     "output_type": "execute_result"
    }
   ],
   "source": [
    "result"
   ]
  },
  {
   "cell_type": "markdown",
   "metadata": {},
   "source": [
    "## The `pass` statement\n",
    "* Function body cannot be empty. جسم الدالة لا يمكن أن يكون خالياً.\n",
    "* قد أحتاجها مؤقتاً لحجز مكان الكود"
   ]
  },
  {
   "cell_type": "code",
   "execution_count": 27,
   "metadata": {},
   "outputs": [],
   "source": [
    "def root(number,power):\n",
    "\tpass\n",
    "\n",
    "root(8,3)\n"
   ]
  },
  {
   "attachments": {},
   "cell_type": "markdown",
   "metadata": {},
   "source": [
    "## Optional parameters المدخلات الاختيارية\n",
    "Default value for an input القيمة الافتراضية لأحد المدخلات\n",
    "\n",
    "The power function دالة الأس"
   ]
  },
  {
   "cell_type": "code",
   "execution_count": 34,
   "metadata": {},
   "outputs": [
    {
     "name": "stdout",
     "output_type": "stream",
     "text": [
      "5\n",
      "9\n"
     ]
    }
   ],
   "source": [
    "import math\n",
    "\n",
    "def root(number,power = 2):\n",
    "\treturn round( math.pow(number,1/power) )\n",
    "\n",
    "# root(16,2)\n",
    "print(root(125,3))\n",
    "print(root(81))"
   ]
  },
  {
   "cell_type": "markdown",
   "metadata": {},
   "source": [
    "Get initials of full name حساب أوائل الاسم\n",
    "\n",
    "`get_initials(name, upper=False)`"
   ]
  },
  {
   "cell_type": "code",
   "execution_count": 46,
   "metadata": {},
   "outputs": [
    {
     "name": "stdout",
     "output_type": "stream",
     "text": [
      "AMA\n"
     ]
    }
   ],
   "source": [
    "def get_initials(name, upper=True):\n",
    "\twords = name.split()\n",
    "\tinitials = []\n",
    "\tfor word in words:\n",
    "\t\tif upper:\n",
    "\t\t\tinitials.append(word[0].upper())\n",
    "\t\telse:\n",
    "\t\t\tinitials.append(word[0])\n",
    "\n",
    "\treturn \"\".join(initials)\n",
    "\n",
    "result = get_initials(\"Ahmd mostafa alsayed\")\n",
    "print(result)"
   ]
  },
  {
   "cell_type": "markdown",
   "metadata": {},
   "source": [
    "## Annotations التعليقات التوضيحية"
   ]
  },
  {
   "cell_type": "code",
   "execution_count": 48,
   "metadata": {},
   "outputs": [
    {
     "name": "stdout",
     "output_type": "stream",
     "text": [
      "AMA\n"
     ]
    }
   ],
   "source": [
    "def get_initials(name:str, upper:bool=True) -> str:\n",
    "\twords = name.split()\n",
    "\tinitials = []\n",
    "\tfor word in words:\n",
    "\t\tif upper:\n",
    "\t\t\tinitials.append(word[0].upper())\n",
    "\t\telse:\n",
    "\t\t\tinitials.append(word[0])\n",
    "\n",
    "\treturn \"\".join(initials)\n",
    "\n",
    "result = get_initials(\"Ahmd mostafa alsayed\")\n",
    "print(result)"
   ]
  },
  {
   "attachments": {},
   "cell_type": "markdown",
   "metadata": {},
   "source": [
    "Keyword argument إرسال المدخلات بالاسم وليس بالترتيب"
   ]
  },
  {
   "cell_type": "code",
   "execution_count": 52,
   "metadata": {},
   "outputs": [
    {
     "name": "stdout",
     "output_type": "stream",
     "text": [
      "HsmO\n"
     ]
    }
   ],
   "source": [
    "def get_initials(name:str, upper:bool=True) -> str:\n",
    "\twords = name.split()\n",
    "\tinitials = []\n",
    "\tfor word in words:\n",
    "\t\tif upper:\n",
    "\t\t\tinitials.append(word[0].upper())\n",
    "\t\telse:\n",
    "\t\t\tinitials.append(word[0])\n",
    "\n",
    "\treturn \"\".join(initials)\n",
    "\n",
    "result = get_initials(upper=False,name=\"Hoda samir mahmoud Osama\")\n",
    "print(result)"
   ]
  },
  {
   "attachments": {},
   "cell_type": "markdown",
   "metadata": {},
   "source": [
    "## Recursion العودية\n",
    "A function can call itself الدالة يمكن أن تستدعي نفسها\n",
    "\n",
    "Factorial المضروب\n",
    "\n",
    "`n! = 1 * 2 * 3 * ... * n`\n",
    "\n",
    "Use loops to calculate factorial حساب المضروب بطريقة التكرار التقليدية"
   ]
  },
  {
   "cell_type": "code",
   "execution_count": 55,
   "metadata": {},
   "outputs": [
    {
     "name": "stdout",
     "output_type": "stream",
     "text": [
      "24\n"
     ]
    }
   ],
   "source": [
    "def factorial(number:int):\n",
    "\tresult = 1\n",
    "\tfor i in range(1,number + 1):\n",
    "\t\tresult = result * i\n",
    "\treturn result\n",
    "\n",
    "print(factorial(4))\n"
   ]
  },
  {
   "attachments": {},
   "cell_type": "markdown",
   "metadata": {},
   "source": [
    "Use recursion to calculate factorial استخدام الدالة لنفسها لحساب المضروب"
   ]
  },
  {
   "cell_type": "code",
   "execution_count": 63,
   "metadata": {},
   "outputs": [
    {
     "name": "stdout",
     "output_type": "stream",
     "text": [
      "3628800\n"
     ]
    }
   ],
   "source": [
    "def factorial(number:int):\n",
    "\tif number <= 1:\n",
    "\t\treturn 1\n",
    "\telse:\n",
    "\t\treturn number * factorial(number - 1)\n",
    "\n",
    "print(factorial(10))"
   ]
  }
 ],
 "metadata": {
  "kernelspec": {
   "display_name": "Python 3",
   "language": "python",
   "name": "python3"
  },
  "language_info": {
   "codemirror_mode": {
    "name": "ipython",
    "version": 3
   },
   "file_extension": ".py",
   "mimetype": "text/x-python",
   "name": "python",
   "nbconvert_exporter": "python",
   "pygments_lexer": "ipython3",
   "version": "3.13.5"
  },
  "orig_nbformat": 4,
  "vscode": {
   "interpreter": {
    "hash": "5238573367df39f7286bb46f9ff5f08f63a01a80960060ce41e3c79b190280fa"
   }
  }
 },
 "nbformat": 4,
 "nbformat_minor": 2
}
