{
 "cells": [
  {
   "attachments": {},
   "cell_type": "markdown",
   "metadata": {},
   "source": [
    "# Lesson 7: Functions\n",
    "Advantages مميزاتها\n",
    "1. Clear كود نظيف\n",
    "1. Reusability كود مقروء\n",
    "1. Maintenainability سهل الصيانة والتعديل\n",
    "\n",
    "## Functions with no arguments\n",
    "Printig a message before and after printing numbers 1 to 10 اطبع رسالة في بداية ونهاية العمل"
   ]
  },
  {
   "cell_type": "code",
   "execution_count": 2,
   "metadata": {},
   "outputs": [
    {
     "name": "stdout",
     "output_type": "stream",
     "text": [
      "Hello\n",
      "1\n",
      "2\n",
      "3\n",
      "4\n",
      "5\n",
      "6\n",
      "7\n",
      "8\n",
      "9\n",
      "Hello\n"
     ]
    }
   ],
   "source": [
    "print(\"Hello\")\n",
    "for i in range(1,10):\n",
    "    print(i)\n",
    "print(\"Hello\")"
   ]
  },
  {
   "attachments": {},
   "cell_type": "markdown",
   "metadata": {},
   "source": [
    "A function to print a constant message with date دالة لطباعة رسالة ثابتة مع التاريخ"
   ]
  },
  {
   "cell_type": "code",
   "execution_count": 6,
   "metadata": {},
   "outputs": [
    {
     "name": "stdout",
     "output_type": "stream",
     "text": [
      "09 February 2023\tHello\n",
      "1\n",
      "2\n",
      "3\n",
      "4\n",
      "5\n",
      "6\n",
      "7\n",
      "8\n",
      "9\n",
      "10\n",
      "09 February 2023\tHello\n"
     ]
    }
   ],
   "source": [
    "from datetime import datetime\n",
    "\n",
    "def print_message():\n",
    "\tprint(f\"{datetime.today():%d %B %Y}\\tHello\")\n",
    "\n",
    "print_message()\n",
    "for i in range(1,11):\n",
    "    print(i)\n",
    "print_message()"
   ]
  },
  {
   "attachments": {},
   "cell_type": "markdown",
   "metadata": {},
   "source": [
    "## Functions with parameters المدخلات"
   ]
  },
  {
   "attachments": {},
   "cell_type": "markdown",
   "metadata": {},
   "source": [
    "A function with 1 input/argument/parameter دالة بمدخل واحد"
   ]
  },
  {
   "cell_type": "code",
   "execution_count": 7,
   "metadata": {},
   "outputs": [
    {
     "name": "stdout",
     "output_type": "stream",
     "text": [
      "09 February 2023\tBeginning\n",
      "1\n",
      "2\n",
      "3\n",
      "4\n",
      "5\n",
      "09 February 2023\tEnd\n"
     ]
    }
   ],
   "source": [
    "from datetime import datetime\n",
    "\n",
    "def print_message(message):\n",
    "\tprint(f\"{datetime.today():%d %B %Y}\\t{message}\")\n",
    "\n",
    "print_message(\"Beginning\")\n",
    "for i in range(1,6):\n",
    "    print(i)\n",
    "print_message(\"End\")"
   ]
  },
  {
   "attachments": {},
   "cell_type": "markdown",
   "metadata": {},
   "source": [
    "## Returning a value from a function إرجاع قيمة من الدالة\n",
    "Get initials of full name حساب أوائل الاسم"
   ]
  },
  {
   "cell_type": "code",
   "execution_count": 4,
   "metadata": {},
   "outputs": [
    {
     "ename": "TypeError",
     "evalue": "get_initials() got an unexpected keyword argument 'upper_case'",
     "output_type": "error",
     "traceback": [
      "\u001b[1;31m---------------------------------------------------------------------------\u001b[0m",
      "\u001b[1;31mTypeError\u001b[0m                                 Traceback (most recent call last)",
      "Cell \u001b[1;32mIn[4], line 12\u001b[0m\n\u001b[0;32m      9\u001b[0m \t\u001b[39mreturn\u001b[39;00m \u001b[39m\"\u001b[39m\u001b[39m\"\u001b[39m\u001b[39m.\u001b[39mjoin(initials)\n\u001b[0;32m     11\u001b[0m \u001b[39m# Call the function\u001b[39;00m\n\u001b[1;32m---> 12\u001b[0m initials \u001b[39m=\u001b[39m get_initials(upper_case\u001b[39m=\u001b[39;49m\u001b[39mTrue\u001b[39;49;00m,name\u001b[39m=\u001b[39;49m\u001b[39m\"\u001b[39;49m\u001b[39momar ahmed mostafa\u001b[39;49m\u001b[39m\"\u001b[39;49m)\n\u001b[0;32m     13\u001b[0m \u001b[39mprint\u001b[39m(initials)\n",
      "\u001b[1;31mTypeError\u001b[0m: get_initials() got an unexpected keyword argument 'upper_case'"
     ]
    }
   ],
   "source": [
    "name = \"ahmed mostafa al sayed\"\n",
    "\n",
    "def get_initials(name):\n",
    "\twords = str(name).split()\n",
    "\tinitials = []\n",
    "\tfor i in words:\n",
    "\t\tinitials.append(i[0])\n",
    "\t\n",
    "\treturn \"\".join(initials)\n",
    "\n",
    "# Call the function\n",
    "initials = get_initials(upper_case=True,name=\"omar ahmed mostafa\")\n",
    "print(initials)"
   ]
  },
  {
   "attachments": {},
   "cell_type": "markdown",
   "metadata": {},
   "source": [
    "## Optional inputs المدخلات الاختيارية"
   ]
  },
  {
   "cell_type": "code",
   "execution_count": 3,
   "metadata": {},
   "outputs": [
    {
     "name": "stdout",
     "output_type": "stream",
     "text": [
      "OAM\n"
     ]
    }
   ],
   "source": [
    "name = \"ahmed mostafa al sayed\"\n",
    "\n",
    "def get_initials(name, upper_case=False):\n",
    "\twords = str(name).split()\n",
    "\tinitials = []\n",
    "\tfor i in words:\n",
    "\t\tinitials.append(i[0])\n",
    "\t\n",
    "\tresult = \"\".join(initials)\n",
    "\n",
    "\tif upper_case:\n",
    "\t\tresult = result.upper()\n",
    "\n",
    "\treturn result\n",
    "\n",
    "# Call the function\n",
    "initials = get_initials(upper_case=True,name=\"omar ahmed mostafa\")\n",
    "print(initials)"
   ]
  },
  {
   "attachments": {},
   "cell_type": "markdown",
   "metadata": {},
   "source": [
    "## Scope مجال المتغيرات"
   ]
  },
  {
   "cell_type": "code",
   "execution_count": null,
   "metadata": {},
   "outputs": [],
   "source": []
  },
  {
   "attachments": {},
   "cell_type": "markdown",
   "metadata": {},
   "source": [
    "Changing a list تعديل قائمة"
   ]
  },
  {
   "cell_type": "code",
   "execution_count": 15,
   "metadata": {},
   "outputs": [
    {
     "name": "stdout",
     "output_type": "stream",
     "text": [
      "Outside: [1, 2, 3, 4, 5]\n",
      "Outside: [0, 2, 3, 4, 5]\n"
     ]
    }
   ],
   "source": [
    "def change_list(my_list):\n",
    "\tmy_list[0] = 0\n",
    "\n",
    "global_list = [1,2,3,4,5]\n",
    "print(f\"Outside: {global_list}\")\n",
    "change_list(global_list)\n",
    "print(f\"Outside: {global_list}\")"
   ]
  },
  {
   "cell_type": "code",
   "execution_count": 16,
   "metadata": {},
   "outputs": [
    {
     "name": "stdout",
     "output_type": "stream",
     "text": [
      "Outside z: 5\n",
      "Inside function: 0\n",
      "Outside z: 5\n"
     ]
    }
   ],
   "source": [
    "def change(x):\n",
    "    x = 0\n",
    "    print(f\"Inside function: {x}\")\n",
    "\n",
    "z = 5\n",
    "print(f\"Outside z: {z}\")\n",
    "change(z)\n",
    "print(f\"Outside z: {z}\")"
   ]
  },
  {
   "attachments": {},
   "cell_type": "markdown",
   "metadata": {},
   "source": [
    "## Recursion العودية\n",
    "Factorial المضروب\n",
    "\n",
    "n! = 1 * 2 * 3 * ... * n\n",
    "\n",
    "Use loops to calculate factorial حساب المضروب بطريقة التكرار التقليدية"
   ]
  },
  {
   "cell_type": "code",
   "execution_count": 17,
   "metadata": {},
   "outputs": [
    {
     "name": "stdout",
     "output_type": "stream",
     "text": [
      "24\n"
     ]
    }
   ],
   "source": [
    "def factorial(x):\n",
    "\tresult = 1\n",
    "\tfor i in range(1,x+1):\n",
    "\t\tresult *= i\n",
    "\n",
    "\treturn result\n",
    "\tprint(1)\n",
    "\n",
    "print(factorial(4))"
   ]
  },
  {
   "attachments": {},
   "cell_type": "markdown",
   "metadata": {},
   "source": [
    "Use recursion to calculate factorial استخدام الدالة لنفسها لحساب المضروب"
   ]
  },
  {
   "cell_type": "code",
   "execution_count": null,
   "metadata": {},
   "outputs": [],
   "source": [
    "def factorial(x):\n",
    "\tif x == 1:\n",
    "\t\treturn 1\n",
    "\telse:\n",
    "\t\treturn x * factorial(x-1)\n",
    "\n",
    "# Test the function\n",
    "print(factorial(4))"
   ]
  }
 ],
 "metadata": {
  "kernelspec": {
   "display_name": "Python 3",
   "language": "python",
   "name": "python3"
  },
  "language_info": {
   "codemirror_mode": {
    "name": "ipython",
    "version": 3
   },
   "file_extension": ".py",
   "mimetype": "text/x-python",
   "name": "python",
   "nbconvert_exporter": "python",
   "pygments_lexer": "ipython3",
   "version": "3.11.1"
  },
  "orig_nbformat": 4,
  "vscode": {
   "interpreter": {
    "hash": "5238573367df39f7286bb46f9ff5f08f63a01a80960060ce41e3c79b190280fa"
   }
  }
 },
 "nbformat": 4,
 "nbformat_minor": 2
}
