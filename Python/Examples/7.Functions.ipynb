{
 "cells": [
  {
   "attachments": {},
   "cell_type": "markdown",
   "metadata": {},
   "source": [
    "# Lesson 7: Functions\n",
    "Advantages مميزاتها\n",
    "1. Clear كود نظيف\n",
    "1. Reusability كود مقروء\n",
    "1. Maintenainability سهل الصيانة والتعديل\n",
    "\n",
    "## Functions with no arguments\n",
    "Printig a beginning and end message when printing numbers 1 to 10 اطبع رسالة في بداية ونهاية العمل"
   ]
  },
  {
   "cell_type": "code",
   "execution_count": 1,
   "metadata": {},
   "outputs": [
    {
     "name": "stdout",
     "output_type": "stream",
     "text": [
      "Hello\n",
      "1\n",
      "2\n",
      "3\n",
      "4\n",
      "5\n",
      "6\n",
      "7\n",
      "8\n",
      "9\n",
      "10\n",
      "Hello\n"
     ]
    }
   ],
   "source": [
    "print(\"Hello\")\n",
    "for i in range(1,11):\n",
    "    print(i)\n",
    "print(\"Hello\")"
   ]
  },
  {
   "attachments": {},
   "cell_type": "markdown",
   "metadata": {},
   "source": [
    "A function to print a constant message with date "
   ]
  },
  {
   "cell_type": "code",
   "execution_count": 6,
   "metadata": {},
   "outputs": [
    {
     "name": "stdout",
     "output_type": "stream",
     "text": [
      "09 February 2023\tHello\n",
      "1\n",
      "2\n",
      "3\n",
      "4\n",
      "5\n",
      "6\n",
      "7\n",
      "8\n",
      "9\n",
      "10\n",
      "09 February 2023\tHello\n"
     ]
    }
   ],
   "source": [
    "from datetime import datetime\n",
    "\n",
    "def print_message():\n",
    "\tprint(f\"{datetime.today():%d %B %Y}\\tHello\")\n",
    "\n",
    "print_message()\n",
    "for i in range(1,11):\n",
    "    print(i)\n",
    "print_message()"
   ]
  },
  {
   "attachments": {},
   "cell_type": "markdown",
   "metadata": {},
   "source": [
    "## Functions with parameters المدخلات"
   ]
  },
  {
   "attachments": {},
   "cell_type": "markdown",
   "metadata": {},
   "source": [
    "A function with 1 input/argument/parameter"
   ]
  },
  {
   "cell_type": "code",
   "execution_count": 7,
   "metadata": {},
   "outputs": [
    {
     "name": "stdout",
     "output_type": "stream",
     "text": [
      "09 February 2023\tBeginning\n",
      "1\n",
      "2\n",
      "3\n",
      "4\n",
      "5\n",
      "09 February 2023\tEnd\n"
     ]
    }
   ],
   "source": [
    "from datetime import datetime\n",
    "\n",
    "def print_message(message):\n",
    "\tprint(f\"{datetime.today():%d %B %Y}\\t{message}\")\n",
    "\n",
    "print_message(\"Beginning\")\n",
    "for i in range(1,6):\n",
    "    print(i)\n",
    "print_message(\"End\")"
   ]
  },
  {
   "cell_type": "code",
   "execution_count": null,
   "metadata": {},
   "outputs": [],
   "source": []
  },
  {
   "attachments": {},
   "cell_type": "markdown",
   "metadata": {},
   "source": [
    "## Optional inputs المدخلات الاختيارية"
   ]
  },
  {
   "cell_type": "code",
   "execution_count": 14,
   "metadata": {},
   "outputs": [
    {
     "name": "stdout",
     "output_type": "stream",
     "text": [
      "OAM\n"
     ]
    }
   ],
   "source": [
    "name = \"ahmed mostafa al sayed\"\n",
    "\n",
    "def get_initials(name, upper_case=False):\n",
    "\twords = str(name).split()\n",
    "\tinitials = []\n",
    "\tfor i in words:\n",
    "\t\tinitials.append(i[0])\n",
    "\t\n",
    "\tresult = \"\".join(initials)\n",
    "\n",
    "\tif upper_case:\n",
    "\t\tresult = result.upper()\n",
    "\n",
    "\treturn result\n",
    "\n",
    "# Call the function\n",
    "initials = get_initials(upper_case=True,name=\"omar ahmed mostafa\")\n",
    "print(initials)"
   ]
  },
  {
   "attachments": {},
   "cell_type": "markdown",
   "metadata": {},
   "source": [
    "## Scope مجال المتغيرات"
   ]
  },
  {
   "cell_type": "code",
   "execution_count": null,
   "metadata": {},
   "outputs": [],
   "source": []
  },
  {
   "attachments": {},
   "cell_type": "markdown",
   "metadata": {},
   "source": [
    "Changing a list تعديل قائمة"
   ]
  },
  {
   "cell_type": "code",
   "execution_count": 15,
   "metadata": {},
   "outputs": [
    {
     "name": "stdout",
     "output_type": "stream",
     "text": [
      "Outside: [1, 2, 3, 4, 5]\n",
      "Outside: [0, 2, 3, 4, 5]\n"
     ]
    }
   ],
   "source": [
    "def change_list(my_list):\n",
    "\tmy_list[0] = 0\n",
    "\n",
    "global_list = [1,2,3,4,5]\n",
    "print(f\"Outside: {global_list}\")\n",
    "change_list(global_list)\n",
    "print(f\"Outside: {global_list}\")"
   ]
  },
  {
   "cell_type": "code",
   "execution_count": 16,
   "metadata": {},
   "outputs": [
    {
     "name": "stdout",
     "output_type": "stream",
     "text": [
      "Outside z: 5\n",
      "Inside function: 0\n",
      "Outside z: 5\n"
     ]
    }
   ],
   "source": [
    "def change(x):\n",
    "    x = 0\n",
    "    print(f\"Inside function: {x}\")\n",
    "\n",
    "z = 5\n",
    "print(f\"Outside z: {z}\")\n",
    "change(z)\n",
    "print(f\"Outside z: {z}\")"
   ]
  },
  {
   "attachments": {},
   "cell_type": "markdown",
   "metadata": {},
   "source": [
    "## Recursion العودية\n",
    "Factorial المضروب\n",
    "\n",
    "n! = 1 * 2 * 3 * ... * n\n",
    "\n",
    "Use loops to calculate factorial حساب المضروب بطريقة التكرار التقليدية"
   ]
  },
  {
   "cell_type": "code",
   "execution_count": 17,
   "metadata": {},
   "outputs": [
    {
     "name": "stdout",
     "output_type": "stream",
     "text": [
      "24\n"
     ]
    }
   ],
   "source": [
    "def factorial(x):\n",
    "\tresult = 1\n",
    "\tfor i in range(1,x+1):\n",
    "\t\tresult *= i\n",
    "\n",
    "\treturn result\n",
    "\tprint(1)\n",
    "\n",
    "print(factorial(4))"
   ]
  },
  {
   "attachments": {},
   "cell_type": "markdown",
   "metadata": {},
   "source": [
    "Use recursion to calculate factorial استخدام الدالة لنفسها لحساب المضروب"
   ]
  },
  {
   "cell_type": "code",
   "execution_count": null,
   "metadata": {},
   "outputs": [],
   "source": [
    "def factorial(x):\n",
    "\tif x == 1:\n",
    "\t\treturn 1\n",
    "\telse:\n",
    "\t\treturn x * factorial(x-1)\n",
    "\n",
    "# Test the function\n",
    "print(factorial(4))"
   ]
  }
 ],
 "metadata": {
  "kernelspec": {
   "display_name": "Python 3",
   "language": "python",
   "name": "python3"
  },
  "language_info": {
   "codemirror_mode": {
    "name": "ipython",
    "version": 3
   },
   "file_extension": ".py",
   "mimetype": "text/x-python",
   "name": "python",
   "nbconvert_exporter": "python",
   "pygments_lexer": "ipython3",
   "version": "3.11.1 (tags/v3.11.1:a7a450f, Dec  6 2022, 19:58:39) [MSC v.1934 64 bit (AMD64)]"
  },
  "orig_nbformat": 4,
  "vscode": {
   "interpreter": {
    "hash": "8a5edab282632443219e051e4ade2d1d5bbc671c781051bf1437897cbdfea0f1"
   }
  }
 },
 "nbformat": 4,
 "nbformat_minor": 2
}
