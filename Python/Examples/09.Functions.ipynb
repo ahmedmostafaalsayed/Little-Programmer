{
 "cells": [
  {
   "attachments": {},
   "cell_type": "markdown",
   "metadata": {},
   "source": [
    "# Lesson 8: Functions الدوال\n",
    "لكتابة كود مرة واحدة وإعادة استخدامه مرات كثيرة.\n",
    "\n",
    "Only runs when it is called يعمل فقط عندما يتم تشغيله.\n",
    "\n",
    "Advantages مميزاتها\n",
    "1. Clear كود نظيف\n",
    "1. Reusability كود مقروء\n",
    "1. Maintenainability سهل الصيانة والتعديل\n",
    "\n",
    "## Functions with no arguments بدون مدخلات\n",
    "* Printig a message before and after printing numbers 1 to 10 اطبع رسالة في بداية ونهاية العمل\n",
    "* ```from datetime import datetime```\n",
    "* Use f-string or `\"format\".format(string)`\n",
    "* Use `%Y-%m-%d` for date formatting صياغة التاريخ"
   ]
  },
  {
   "cell_type": "code",
   "execution_count": 5,
   "metadata": {},
   "outputs": [
    {
     "name": "stdout",
     "output_type": "stream",
     "text": [
      "2025-02-22\n",
      "0\n",
      "1\n",
      "2\n",
      "3\n",
      "4\n",
      "5\n",
      "6\n",
      "7\n",
      "8\n",
      "9\n",
      "2025-02-22\n"
     ]
    }
   ],
   "source": [
    "from datetime import datetime\n",
    "\n",
    "def print_message():\n",
    "\t# Using f-string\n",
    "\t#print(f\"{datetime.today():%Y-%m-%d}\")\n",
    "\n",
    "\t# Using str.format()\n",
    "\tprint(\"{0:%Y}-{0:%m}-{0:%d}\".format(datetime.today()))\n",
    "\n",
    "print_message()\n",
    "for i in range(10):\n",
    "\tprint(i)\n",
    "print_message()"
   ]
  },
  {
   "attachments": {},
   "cell_type": "markdown",
   "metadata": {},
   "source": [
    "## Functions with parameters المدخلات\n",
    "A function with one input/argument/parameter دالة بمدخل واحد\n",
    "\n",
    "Print multiplication table of a number طباعة جدول ضرب رقم بشكل جيد\n",
    "```\n",
    " 5 *  1 = 5\n",
    " 5 *  2 = 10\n",
    " 5 *  3 = 15\n",
    " ```"
   ]
  },
  {
   "cell_type": "code",
   "execution_count": 2,
   "metadata": {},
   "outputs": [
    {
     "name": "stdout",
     "output_type": "stream",
     "text": [
      " 5 *  1 = 5\n",
      " 5 *  2 = 10\n",
      " 5 *  3 = 15\n",
      " 5 *  4 = 20\n",
      " 5 *  5 = 25\n",
      " 5 *  6 = 30\n",
      " 5 *  7 = 35\n",
      " 5 *  8 = 40\n",
      " 5 *  9 = 45\n",
      " 5 * 10 = 50\n"
     ]
    }
   ],
   "source": [
    "def MultiplicationTable(number):\n",
    "\tfor i in range(1,10+1):\n",
    "\t\tprint(f\"{number:2} * {i:2} = {number*i}\")\n",
    "\n",
    "# Call the function استخدم الدالة\n",
    "MultiplicationTable(5)"
   ]
  },
  {
   "attachments": {},
   "cell_type": "markdown",
   "metadata": {},
   "source": [
    "A function to print a constant message with date دالة لطباعة رسالة ثابتة مع التاريخ\n",
    "> 2025-01-04: Begining"
   ]
  },
  {
   "cell_type": "code",
   "execution_count": 6,
   "metadata": {},
   "outputs": [
    {
     "name": "stdout",
     "output_type": "stream",
     "text": [
      "2025-01-04: Begining\n",
      "0\n",
      "1\n",
      "2\n",
      "3\n",
      "4\n",
      "5\n",
      "6\n",
      "7\n",
      "8\n",
      "9\n",
      "2025-01-04: End\n"
     ]
    }
   ],
   "source": [
    "from datetime import datetime\n",
    "\n",
    "def print_message(message):\n",
    "\tprint(f\"{datetime.today():%Y-%m-%d}: {message}\")\n",
    "\n",
    "print_message(\"Begining\")\n",
    "for i in range(10):\n",
    "\tprint(i)\n",
    "print_message(\"End\")"
   ]
  },
  {
   "attachments": {},
   "cell_type": "markdown",
   "metadata": {},
   "source": [
    "## Returning a value from a function إرجاع قيمة من الدالة\n",
    "* Get initials of full name حساب أوائل الاسم\n",
    "* Function annotations لتحديد نوع البيانات الذي تستقبله وترجعه دالة: `GetInitials(name:str) -> str`"
   ]
  },
  {
   "cell_type": "code",
   "execution_count": 13,
   "metadata": {},
   "outputs": [
    {
     "name": "stdout",
     "output_type": "stream",
     "text": [
      "SAG\n"
     ]
    }
   ],
   "source": [
    "def GetInitials(name:str) -> str:\n",
    "\tnames = name.split()\n",
    "\tinitials = []\n",
    "\tfor name in names:\n",
    "\t\tinitials.append(name[0])\n",
    "\t\n",
    "\treturn \"\".join(initials).upper()\n",
    "\n",
    "initials = GetInitials(\"Sohaila Alaa Gamal\")\n",
    "print(initials)"
   ]
  },
  {
   "cell_type": "markdown",
   "metadata": {},
   "source": [
    "## The `pass` statement\n",
    "* Function body cannot be empty. جسم الدالة لا يمكن أن يكون خالياً.\n",
    "* قد أحتاجها مؤقتاً لحجز مكان الكود"
   ]
  },
  {
   "cell_type": "code",
   "execution_count": null,
   "metadata": {},
   "outputs": [],
   "source": [
    "def root(base,power):\n",
    "\tpass"
   ]
  },
  {
   "attachments": {},
   "cell_type": "markdown",
   "metadata": {},
   "source": [
    "## Optional parameters المدخلات الاختيارية\n",
    "Default value for an input القيمة الافتراضية لأحد المدخلات\n",
    "\n",
    "The power function دالة الأس"
   ]
  },
  {
   "cell_type": "code",
   "execution_count": 12,
   "metadata": {},
   "outputs": [
    {
     "name": "stdout",
     "output_type": "stream",
     "text": [
      "19683.0\n"
     ]
    }
   ],
   "source": [
    "import math\n",
    "\n",
    "def root(base,power: int = 2):\n",
    "\treturn math.pow( base, power )\n",
    "\n",
    "print(root(27,3))"
   ]
  },
  {
   "cell_type": "markdown",
   "metadata": {},
   "source": [
    "Get initials of full name حساب أوائل الاسم\n",
    "\n",
    "`get_initials(name, upper=False)`"
   ]
  },
  {
   "cell_type": "code",
   "execution_count": 15,
   "metadata": {},
   "outputs": [
    {
     "name": "stdout",
     "output_type": "stream",
     "text": [
      "sAs\n"
     ]
    }
   ],
   "source": [
    "def get_initials(name, upper=False):\n",
    "\twords = str(name).split()\n",
    "\tinitials = []\n",
    "\tfor i in words:\n",
    "\t\tinitials.append(i[0])\n",
    "\t\n",
    "\tresult = \"\".join(initials)\n",
    "\n",
    "\tif upper:\n",
    "\t\tresult = result.upper()\n",
    "\n",
    "\treturn result\n",
    "\n",
    "# Call the function\n",
    "initials = get_initials(\"seif-eldin Amr sayed\")\n",
    "print(initials)\n",
    "\n",
    "\"seif-eldin Amr sayed\""
   ]
  },
  {
   "attachments": {},
   "cell_type": "markdown",
   "metadata": {},
   "source": [
    "Keyword argument إرسال المدخلات بالاسم وليس بالترتيب"
   ]
  },
  {
   "cell_type": "code",
   "execution_count": null,
   "metadata": {},
   "outputs": [],
   "source": [
    "initials = get_initials(upper=True,name=\"seif-eldin Amr sayed\")\n",
    "print(initials)"
   ]
  },
  {
   "attachments": {},
   "cell_type": "markdown",
   "metadata": {},
   "source": [
    "## Scope مجال المتغيرات"
   ]
  },
  {
   "cell_type": "code",
   "execution_count": 16,
   "metadata": {},
   "outputs": [
    {
     "name": "stdout",
     "output_type": "stream",
     "text": [
      "5\n"
     ]
    }
   ],
   "source": [
    "def change(x):\n",
    "\tx = 30\n",
    "\n",
    "x = 5\n",
    "change(x)\n",
    "print(x)"
   ]
  },
  {
   "attachments": {},
   "cell_type": "markdown",
   "metadata": {},
   "source": [
    "A function can change a list الدالة يمكنها تعديل قائمة"
   ]
  },
  {
   "cell_type": "code",
   "execution_count": 17,
   "metadata": {},
   "outputs": [
    {
     "name": "stdout",
     "output_type": "stream",
     "text": [
      "[1, 2, 3, 4, 5, 6, 7, 8]\n"
     ]
    }
   ],
   "source": [
    "def change(items):\n",
    "\titems.sort()\n",
    "\n",
    "students = [2,4,6,8,1,3,5,7]\n",
    "change(students)\n",
    "print(students)"
   ]
  },
  {
   "attachments": {},
   "cell_type": "markdown",
   "metadata": {},
   "source": [
    "## Recursion العودية\n",
    "A function can call itself الدالة يمكن أن تستدعي نفسها\n",
    "\n",
    "Factorial المضروب\n",
    "\n",
    "`n! = 1 * 2 * 3 * ... * n`\n",
    "\n",
    "Use loops to calculate factorial حساب المضروب بطريقة التكرار التقليدية"
   ]
  },
  {
   "cell_type": "code",
   "execution_count": 18,
   "metadata": {},
   "outputs": [
    {
     "name": "stdout",
     "output_type": "stream",
     "text": [
      "24\n"
     ]
    }
   ],
   "source": [
    "def factorial(x):\n",
    "\tresult = 1\n",
    "\tfor i in range(1,x+1):\n",
    "\t\tresult *= i\n",
    "\n",
    "\treturn result\n",
    "\tprint(1)\n",
    "\n",
    "print(factorial(4))"
   ]
  },
  {
   "attachments": {},
   "cell_type": "markdown",
   "metadata": {},
   "source": [
    "Use recursion to calculate factorial استخدام الدالة لنفسها لحساب المضروب"
   ]
  },
  {
   "cell_type": "code",
   "execution_count": 19,
   "metadata": {},
   "outputs": [
    {
     "name": "stdout",
     "output_type": "stream",
     "text": [
      "24\n"
     ]
    }
   ],
   "source": [
    "def factorial(x):\n",
    "\tif x == 1:\n",
    "\t\treturn 1\n",
    "\telse:\n",
    "\t\treturn x * factorial(x-1)\n",
    "\n",
    "# Test the function\n",
    "print(factorial(4))"
   ]
  }
 ],
 "metadata": {
  "kernelspec": {
   "display_name": "Python 3",
   "language": "python",
   "name": "python3"
  },
  "language_info": {
   "codemirror_mode": {
    "name": "ipython",
    "version": 3
   },
   "file_extension": ".py",
   "mimetype": "text/x-python",
   "name": "python",
   "nbconvert_exporter": "python",
   "pygments_lexer": "ipython3",
   "version": "3.13.2"
  },
  "orig_nbformat": 4,
  "vscode": {
   "interpreter": {
    "hash": "5238573367df39f7286bb46f9ff5f08f63a01a80960060ce41e3c79b190280fa"
   }
  }
 },
 "nbformat": 4,
 "nbformat_minor": 2
}
