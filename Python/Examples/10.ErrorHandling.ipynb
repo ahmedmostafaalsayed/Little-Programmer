{
 "cells": [
  {
   "attachments": {},
   "cell_type": "markdown",
   "metadata": {},
   "source": [
    "# Lesson 9: Error Handling التعامل مع الأخطاء\n",
    "* TypeError\n",
    "* `try`... `except`\n",
    "* `except` في حالة حدوث خطأ\n",
    "* `else` في حالة عدم حدوث مشكلة\n",
    "* `finally` دائماً\n",
    "* Built-in Errors أشهر الأخطاء\n",
    "* `raise` إنشاء خطأ\n",
    "\n",
    "## References\n",
    "* [Built-in Exceptions](https://docs.python.org/3/library/exceptions.html)\n",
    "\n",
    "## TypeError\n",
    "* دالة لحساب مساحة الدائرة\n",
    "* `math.pow` / `**`"
   ]
  },
  {
   "cell_type": "code",
   "execution_count": 16,
   "metadata": {},
   "outputs": [
    {
     "ename": "TypeError",
     "evalue": "unsupported operand type(s) for ** or pow(): 'str' and 'int'",
     "output_type": "error",
     "traceback": [
      "\u001b[1;31m---------------------------------------------------------------------------\u001b[0m",
      "\u001b[1;31mTypeError\u001b[0m                                 Traceback (most recent call last)",
      "Cell \u001b[1;32mIn[16], line 7\u001b[0m\n\u001b[0;32m      4\u001b[0m \t\u001b[39mreturn\u001b[39;00m pi \u001b[39m*\u001b[39m radius \u001b[39m*\u001b[39m\u001b[39m*\u001b[39m \u001b[39m2\u001b[39m\n\u001b[0;32m      6\u001b[0m radius \u001b[39m=\u001b[39m \u001b[39minput\u001b[39m(\u001b[39m\"\u001b[39m\u001b[39mEnter radius: \u001b[39m\u001b[39m\"\u001b[39m)\n\u001b[1;32m----> 7\u001b[0m area \u001b[39m=\u001b[39m circleArea(radius)\n\u001b[0;32m      8\u001b[0m \u001b[39mprint\u001b[39m(area)\n",
      "Cell \u001b[1;32mIn[16], line 4\u001b[0m, in \u001b[0;36mcircleArea\u001b[1;34m(radius)\u001b[0m\n\u001b[0;32m      3\u001b[0m \u001b[39mdef\u001b[39;00m \u001b[39mcircleArea\u001b[39m(radius):\n\u001b[1;32m----> 4\u001b[0m \t\u001b[39mreturn\u001b[39;00m pi \u001b[39m*\u001b[39m radius \u001b[39m*\u001b[39;49m\u001b[39m*\u001b[39;49m \u001b[39m2\u001b[39;49m\n",
      "\u001b[1;31mTypeError\u001b[0m: unsupported operand type(s) for ** or pow(): 'str' and 'int'"
     ]
    }
   ],
   "source": [
    "from math import pi\n",
    "\n",
    "def circleArea(radius):\n",
    "\treturn pi * radius ** 2\n",
    "\n",
    "radius = input(\"Enter radius: \")\n",
    "area = circleArea(radius)\n",
    "print(area)"
   ]
  },
  {
   "attachments": {},
   "cell_type": "markdown",
   "metadata": {},
   "source": [
    "## try ... except"
   ]
  },
  {
   "cell_type": "code",
   "execution_count": null,
   "metadata": {},
   "outputs": [
    {
     "name": "stdout",
     "output_type": "stream",
     "text": [
      "There is an error.\n"
     ]
    }
   ],
   "source": [
    "from math import pi\n",
    "\n",
    "def circleArea(radius):\n",
    "\treturn pi * radius ** 2\n",
    "\n",
    "radius = input(\"Enter radius: \")\n",
    "try:\n",
    "\tarea = circleArea(radius)\n",
    "except:\n",
    "\tprint(\"There is an error.\")"
   ]
  },
  {
   "attachments": {},
   "cell_type": "markdown",
   "metadata": {},
   "source": [
    "`else` في حالة عدم حدوث مشكلة"
   ]
  },
  {
   "cell_type": "code",
   "execution_count": 17,
   "metadata": {},
   "outputs": [
    {
     "name": "stdout",
     "output_type": "stream",
     "text": [
      "Area: 314.1592653589793\n"
     ]
    }
   ],
   "source": [
    "from math import pi\n",
    "\n",
    "def circleArea(radius):\n",
    "\treturn pi * radius ** 2\n",
    "\n",
    "radius = input(\"Enter radius: \")\n",
    "try:\n",
    "\tradius = int(radius)\n",
    "\tarea = circleArea(radius)\n",
    "except:\n",
    "\tprint(\"There is an error.\")\n",
    "else:\n",
    "\tprint(f\"Area: {area}\")"
   ]
  },
  {
   "attachments": {},
   "cell_type": "markdown",
   "metadata": {},
   "source": [
    "# ask_for_int()\n",
    "استمر في سؤال المستخدم حتى يكتب رقماً\n",
    "* while True"
   ]
  },
  {
   "cell_type": "code",
   "execution_count": 15,
   "metadata": {},
   "outputs": [
    {
     "name": "stdout",
     "output_type": "stream",
     "text": [
      "Thank you\n",
      "I always run.\n",
      "5\n"
     ]
    }
   ],
   "source": [
    "def ask_for_int():\n",
    "\twhile True:\n",
    "\t\ttry:\n",
    "\t\t\tnumber = input(\"Enter a number: \")\n",
    "\t\t\tnumber = int(number)\n",
    "\t\texcept:\n",
    "\t\t\tprint(f\"This is not a number.\")\n",
    "\t\t\tcontinue\n",
    "\t\telse:\n",
    "\t\t\tprint(\"Thank you\")\n",
    "\t\t\treturn number\n",
    "\t\tfinally:\n",
    "\t\t\tprint(\"I always run.\")\n",
    "\n",
    "x = ask_for_int()\n",
    "print(x)"
   ]
  },
  {
   "attachments": {},
   "cell_type": "markdown",
   "metadata": {},
   "source": [
    "## Built-in Errors\n",
    "أشهر الأخطاء:\n",
    "* `IndexError`: Index out of range.\n",
    "* `KeyError`: key is not found in dictionary keys\n",
    "* `OSError`: \"file not found\" or \"disk full\"\n",
    "* `TypeError`: خطأ بسبب نوع البيانات\n",
    "* `ValueError`: قيمة غير مناسبة\n",
    "* `ZeroDivisionError` القسمة على صفر"
   ]
  },
  {
   "cell_type": "code",
   "execution_count": 18,
   "metadata": {},
   "outputs": [
    {
     "name": "stdout",
     "output_type": "stream",
     "text": [
      "Cannot divide by zero.\n"
     ]
    }
   ],
   "source": [
    "x = 1\n",
    "y = 0\n",
    "\n",
    "try:\n",
    "\tprint(x/y)\n",
    "except OSError as error:\n",
    "\tprint(error)\n",
    "except ZeroDivisionError:\n",
    "\tprint(\"Cannot divide by zero.\")"
   ]
  },
  {
   "attachments": {},
   "cell_type": "markdown",
   "metadata": {},
   "source": [
    "## `raise` لإنشاء خطأ"
   ]
  },
  {
   "cell_type": "code",
   "execution_count": 13,
   "metadata": {},
   "outputs": [
    {
     "ename": "ValueError",
     "evalue": "Invalid username",
     "output_type": "error",
     "traceback": [
      "\u001b[1;31m---------------------------------------------------------------------------\u001b[0m",
      "\u001b[1;31mValueError\u001b[0m                                Traceback (most recent call last)",
      "Cell \u001b[1;32mIn[13], line 3\u001b[0m\n\u001b[0;32m      1\u001b[0m name \u001b[39m=\u001b[39m \u001b[39minput\u001b[39m(\u001b[39m\"\u001b[39m\u001b[39mEnter your name: \u001b[39m\u001b[39m\"\u001b[39m)\n\u001b[0;32m      2\u001b[0m \u001b[39mif\u001b[39;00m name \u001b[39m!=\u001b[39m \u001b[39m\"\u001b[39m\u001b[39mahmed\u001b[39m\u001b[39m\"\u001b[39m:\n\u001b[1;32m----> 3\u001b[0m     \u001b[39mraise\u001b[39;00m \u001b[39mValueError\u001b[39;00m(\u001b[39m\"\u001b[39m\u001b[39mInvalid username\u001b[39m\u001b[39m\"\u001b[39m)\n",
      "\u001b[1;31mValueError\u001b[0m: Invalid username"
     ]
    }
   ],
   "source": [
    "name = input(\"Enter your name: \")\n",
    "if name != \"ahmed\":\n",
    "    raise ValueError(\"Invalid username\")"
   ]
  }
 ],
 "metadata": {
  "kernelspec": {
   "display_name": "Python 3",
   "language": "python",
   "name": "python3"
  },
  "language_info": {
   "codemirror_mode": {
    "name": "ipython",
    "version": 3
   },
   "file_extension": ".py",
   "mimetype": "text/x-python",
   "name": "python",
   "nbconvert_exporter": "python",
   "pygments_lexer": "ipython3",
   "version": "3.11.3"
  },
  "orig_nbformat": 4,
  "vscode": {
   "interpreter": {
    "hash": "5238573367df39f7286bb46f9ff5f08f63a01a80960060ce41e3c79b190280fa"
   }
  }
 },
 "nbformat": 4,
 "nbformat_minor": 2
}
