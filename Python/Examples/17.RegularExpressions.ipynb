{
 "cells": [
  {
   "attachments": {},
   "cell_type": "markdown",
   "metadata": {},
   "source": [
    "# Lesson 17: Regular Expressions\n",
    "Regular expressions (regex) allow us to find general pattern in text data. Like:\n",
    "* email: `user@site.com`\n",
    "* phone number: `+20 1012345678`\n",
    "* URL: `www.site.com`"
   ]
  },
  {
   "attachments": {},
   "cell_type": "markdown",
   "metadata": {},
   "source": [
    "Find phone numbers: `(555) 555-5555`\n",
    "\n",
    "Pattern:\n",
    "* `(\\d\\d\\d) \\d\\d\\d-\\d\\d\\d\\d`\n",
    "* Using quantifiers: `(\\d{3}) \\d{3}-\\d{4}`"
   ]
  },
  {
   "cell_type": "code",
   "execution_count": 1,
   "metadata": {},
   "outputs": [],
   "source": [
    "text = \"The agent's phone number is 123 555-4567\""
   ]
  },
  {
   "cell_type": "markdown",
   "metadata": {},
   "source": [
    "### Imports\n",
    "`re` module"
   ]
  },
  {
   "cell_type": "code",
   "execution_count": 5,
   "metadata": {},
   "outputs": [],
   "source": [
    "import re"
   ]
  },
  {
   "cell_type": "markdown",
   "metadata": {},
   "source": [
    "Simple search for text"
   ]
  },
  {
   "cell_type": "code",
   "execution_count": 3,
   "metadata": {},
   "outputs": [
    {
     "data": {
      "text/plain": [
       "True"
      ]
     },
     "execution_count": 3,
     "metadata": {},
     "output_type": "execute_result"
    }
   ],
   "source": [
    "\"phone\" in text"
   ]
  },
  {
   "cell_type": "markdown",
   "metadata": {},
   "source": [
    "## Using regular expressions for searching"
   ]
  },
  {
   "cell_type": "code",
   "execution_count": 6,
   "metadata": {},
   "outputs": [
    {
     "data": {
      "text/plain": [
       "<re.Match object; span=(12, 17), match='phone'>"
      ]
     },
     "execution_count": 6,
     "metadata": {},
     "output_type": "execute_result"
    }
   ],
   "source": [
    "pattern = \"phone\"\n",
    "re.search(pattern,text)"
   ]
  },
  {
   "cell_type": "markdown",
   "metadata": {},
   "source": [
    "See the result span:"
   ]
  },
  {
   "cell_type": "code",
   "execution_count": 7,
   "metadata": {},
   "outputs": [
    {
     "data": {
      "text/plain": [
       "'phone'"
      ]
     },
     "execution_count": 7,
     "metadata": {},
     "output_type": "execute_result"
    }
   ],
   "source": [
    "text[12:17]"
   ]
  },
  {
   "cell_type": "markdown",
   "metadata": {},
   "source": [
    "See for non-existing pattern (result is None):"
   ]
  },
  {
   "cell_type": "code",
   "execution_count": 8,
   "metadata": {},
   "outputs": [],
   "source": [
    "pattern = \"not existing\"\n",
    "re.search(pattern, text)"
   ]
  },
  {
   "cell_type": "markdown",
   "metadata": {},
   "source": [
    "Search with multiple results البحث عن نمط موجود أكثر من مرة:"
   ]
  },
  {
   "cell_type": "code",
   "execution_count": 10,
   "metadata": {},
   "outputs": [
    {
     "data": {
      "text/plain": [
       "<re.Match object; span=(3, 8), match='phone'>"
      ]
     },
     "execution_count": 10,
     "metadata": {},
     "output_type": "execute_result"
    }
   ],
   "source": [
    "text = \"My phone once, my phone again\"\n",
    "pattern = \"phone\"\n",
    "re.search(pattern,text)"
   ]
  },
  {
   "cell_type": "markdown",
   "metadata": {},
   "source": [
    "Get all results and print number of matches:"
   ]
  },
  {
   "cell_type": "code",
   "execution_count": 15,
   "metadata": {},
   "outputs": [
    {
     "name": "stdout",
     "output_type": "stream",
     "text": [
      "2 matches: ['phone', 'phone']\n"
     ]
    }
   ],
   "source": [
    "result = re.findall(pattern,text)\n",
    "print(f\"{len(result)} matches: {result}\")"
   ]
  },
  {
   "cell_type": "markdown",
   "metadata": {},
   "source": [
    "Iterate over all results to find more info:"
   ]
  },
  {
   "cell_type": "code",
   "execution_count": 14,
   "metadata": {},
   "outputs": [
    {
     "name": "stdout",
     "output_type": "stream",
     "text": [
      "phone (3, 8)\n",
      "phone (18, 23)\n"
     ]
    }
   ],
   "source": [
    "for match in re.finditer(pattern,text):\n",
    "\tprint(match.group(), match.span())"
   ]
  },
  {
   "cell_type": "markdown",
   "metadata": {},
   "source": [
    "## Regex Special Sequences\n",
    "\n",
    "| Sequence | Description | Example Pattern | Example Match |\n",
    "| - | - | - | - |\n",
    "| `\\d` | Digit | `file_\\d\\d` | file_25 |\n",
    "| `\\D` | Non-digit | `\\D\\D\\D` | Abc |\n",
    "| `\\s` | Whitespace | `a\\sb\\sc` | a b c |\n",
    "| `\\S` | Non-whitespace | `\\S\\S\\S\\S` | Yoyo |\n",
    "| `\\w` | Alphanumeric (letter, number or underscore) | `\\w-\\w\\w\\w` | A-b_1 |\n",
    "| `\\W` | Non-alphanumeric | `\\W\\W\\W\\W\\W` | *-+=) |\n",
    "\n",
    "* Raw string: `r`\n",
    "\n",
    "References:\n",
    "* [Regex Special Sequences](https://docs.python.org/3/library/re.html#re-special-sequences)\n",
    "* [Python RegEx Special Sequences](https://www.w3schools.com/python/gloss_python_regex_sequences.asp)\n",
    "* [Python Regex Special Sequences and Character classes](https://pynative.com/python-regex-special-sequences-and-character-classes)\n",
    "\n",
    "Search for any phone number (11 digits):"
   ]
  },
  {
   "cell_type": "code",
   "execution_count": 17,
   "metadata": {},
   "outputs": [
    {
     "name": "stdout",
     "output_type": "stream",
     "text": [
      "<re.Match object; span=(19, 30), match='01234567891'>\n"
     ]
    }
   ],
   "source": [
    "text = \"My phone number is 01234567891\"\n",
    "result = re.search(r\"\\d\\d\\d\\d\\d\\d\\d\\d\\d\\d\\d\",text)\n",
    "print(result)"
   ]
  },
  {
   "cell_type": "markdown",
   "metadata": {},
   "source": [
    "## Quantifiers\n",
    "| Quantifier | Description | Example Pattern | Example Match |\n",
    "| - | - | - | - |\n",
    "| `+` | One or more times | `\\d+ years` | 125 years |\n",
    "| `*` | Zero or more times | `X*L` | L |\n"
   ]
  },
  {
   "cell_type": "code",
   "execution_count": null,
   "metadata": {},
   "outputs": [],
   "source": []
  }
 ],
 "metadata": {
  "kernelspec": {
   "display_name": "Python 3",
   "language": "python",
   "name": "python3"
  },
  "language_info": {
   "codemirror_mode": {
    "name": "ipython",
    "version": 3
   },
   "file_extension": ".py",
   "mimetype": "text/x-python",
   "name": "python",
   "nbconvert_exporter": "python",
   "pygments_lexer": "ipython3",
   "version": "3.13.7"
  },
  "orig_nbformat": 4,
  "vscode": {
   "interpreter": {
    "hash": "5238573367df39f7286bb46f9ff5f08f63a01a80960060ce41e3c79b190280fa"
   }
  }
 },
 "nbformat": 4,
 "nbformat_minor": 2
}
