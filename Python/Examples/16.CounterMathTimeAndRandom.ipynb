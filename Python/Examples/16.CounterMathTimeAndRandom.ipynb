{
 "cells": [
  {
   "cell_type": "markdown",
   "metadata": {},
   "source": [
    "# Lesson 16: Counter, Math, Time, and Random Numbers\n",
    "العداد، والرياضيات، والوقت والتاريخ، والأرقام العشوائية\n",
    "\n",
    "## Counter العداد\n",
    "Use `collections.Counter` to count number of times values of a collection repeat استخدم العداد لحساب عدد مرات وجود كل عنصر"
   ]
  },
  {
   "cell_type": "code",
   "execution_count": 40,
   "metadata": {},
   "outputs": [],
   "source": [
    "from collections import Counter\n",
    "items = [0,0,0,1,1,1,1,2,2,3,3,3,3,3,3]"
   ]
  },
  {
   "cell_type": "markdown",
   "metadata": {},
   "source": [
    "Count occurrences of each value:"
   ]
  },
  {
   "cell_type": "code",
   "execution_count": 41,
   "metadata": {},
   "outputs": [
    {
     "data": {
      "text/plain": [
       "Counter({3: 6, 1: 4, 0: 3, 2: 2})"
      ]
     },
     "execution_count": 41,
     "metadata": {},
     "output_type": "execute_result"
    }
   ],
   "source": [
    "Counter(items)"
   ]
  },
  {
   "cell_type": "markdown",
   "metadata": {},
   "source": [
    "Count frequency of string characters:"
   ]
  },
  {
   "cell_type": "code",
   "execution_count": 32,
   "metadata": {},
   "outputs": [],
   "source": [
    "text = \"\"\"Video provides a powerful way to help you prove your point. When you click Online Video, you can paste in the embed code for the video you want to add. You can also type a keyword to search online for the video that best fits your document.\n",
    "To make your document look professionally produced, Word provides header, footer, cover page, and text box designs that complement each other. For example, you can add a matching cover page, header, and sidebar. Click Insert and then choose the elements you want from the different galleries.\n",
    "Themes and styles also help keep your document coordinated. When you click Design and choose a new Theme, the pictures, charts, and SmartArt graphics change to match your new theme. When you apply styles, your headings change to match the new theme.\n",
    "Save time in Word with new buttons that show up where you need them. To change the way a picture fits in your document, click it and a button for layout options appears next to it. When you work on a table, click where you want to add a row or a column, and then click the plus sign.\n",
    "Reading is easier, too, in the new Reading view. You can collapse parts of the document and focus on the text you want. If you need to stop reading before you reach the end, Word remembers where you left off - even on another device.\"\"\"\n",
    "text = text.lower()\n",
    "\n",
    "counter = Counter(text)"
   ]
  },
  {
   "cell_type": "markdown",
   "metadata": {},
   "source": [
    "Ignore punctuation إزالة علامات الترقيم إن وجدت في العداد\n",
    "\n",
    "`\" \", \",\", \".\",\"-\",\"\\n\"`"
   ]
  },
  {
   "cell_type": "code",
   "execution_count": 38,
   "metadata": {},
   "outputs": [],
   "source": [
    "punctuation = [\" \", \",\", \".\",\"-\",\"\\n\"]"
   ]
  },
  {
   "cell_type": "markdown",
   "metadata": {},
   "source": [
    "Print frequencies of characters"
   ]
  },
  {
   "cell_type": "code",
   "execution_count": 39,
   "metadata": {},
   "outputs": [
    {
     "name": "stdout",
     "output_type": "stream",
     "text": [
      "v: *************\n",
      "i: ************************************************\n",
      "d: **************************************************\n",
      "e: *****************************************************************************************************************************************\n",
      "o: ******************************************************************************************************\n",
      "p: *****************************\n",
      "r: *********************************************************\n",
      "s: ********************************************\n",
      "a: **************************************************************************\n",
      "w: ****************************\n",
      "f: *******************\n",
      "u: ****************************************\n",
      "l: *******************************\n",
      "y: *********************************\n",
      "t: *****************************************************************************************\n",
      "h: ****************************************************\n",
      "n: ************************************************************************\n",
      "c: **********************************************\n",
      "k: ***********\n",
      "m: *************************\n",
      "b: *********\n",
      "g: ***************\n",
      "x: *****\n"
     ]
    }
   ],
   "source": [
    "for char in punctuation:\n",
    "\tif char in counter:\n",
    "\t\tcounter.pop(char)\n",
    "\n",
    "for char in counter:\n",
    "\tprint(f\"{char}: {'*' * counter[char]}\")"
   ]
  },
  {
   "cell_type": "markdown",
   "metadata": {},
   "source": [
    "Print the most common"
   ]
  },
  {
   "cell_type": "code",
   "execution_count": 34,
   "metadata": {},
   "outputs": [
    {
     "name": "stdout",
     "output_type": "stream",
     "text": [
      "Most common characters are: [('e', 137), ('o', 102), ('t', 89), ('a', 74), ('n', 72)]\n"
     ]
    }
   ],
   "source": [
    "print(f\"Most common characters are: {counter.most_common(5)}\")"
   ]
  },
  {
   "cell_type": "markdown",
   "metadata": {},
   "source": [
    "Print the least common"
   ]
  },
  {
   "cell_type": "code",
   "execution_count": 36,
   "metadata": {},
   "outputs": [
    {
     "name": "stdout",
     "output_type": "stream",
     "text": [
      "Least common characters are: [('x', 5), ('b', 9), ('k', 11), ('v', 13), ('g', 15)]\n"
     ]
    }
   ],
   "source": [
    "print(f\"Least common characters are: {counter.most_common()[:-6:-1]}\")"
   ]
  },
  {
   "cell_type": "markdown",
   "metadata": {},
   "source": [
    "## Date and Time\n",
    "Import the `datetime` module"
   ]
  },
  {
   "cell_type": "code",
   "execution_count": 2,
   "metadata": {},
   "outputs": [],
   "source": [
    "import datetime"
   ]
  },
  {
   "cell_type": "markdown",
   "metadata": {},
   "source": [
    "### Time\n",
    "`datetime.time(hour,minute,second)`"
   ]
  },
  {
   "cell_type": "code",
   "execution_count": 12,
   "metadata": {},
   "outputs": [
    {
     "name": "stdout",
     "output_type": "stream",
     "text": [
      "02:20:00\n",
      "2\n",
      "20\n",
      "0\n"
     ]
    }
   ],
   "source": [
    "mytime = datetime.time(2,20)\n",
    "print(mytime)\n",
    "print(mytime.hour)\n",
    "print(mytime.minute)\n",
    "print(mytime.second)"
   ]
  },
  {
   "cell_type": "markdown",
   "metadata": {},
   "source": [
    "## Date\n",
    "`datetime.date(year, month, day)`"
   ]
  },
  {
   "cell_type": "code",
   "execution_count": 3,
   "metadata": {},
   "outputs": [
    {
     "name": "stdout",
     "output_type": "stream",
     "text": [
      "2025-09-02\n"
     ]
    }
   ],
   "source": [
    "today = datetime.date.today()\n",
    "print(today)"
   ]
  },
  {
   "cell_type": "markdown",
   "metadata": {},
   "source": [
    "## Datetime"
   ]
  },
  {
   "cell_type": "code",
   "execution_count": 5,
   "metadata": {},
   "outputs": [
    {
     "name": "stdout",
     "output_type": "stream",
     "text": [
      "2025-09-02 20:55:24.772357\n"
     ]
    }
   ],
   "source": [
    "now = datetime.datetime.now()\n",
    "print(now)"
   ]
  },
  {
   "cell_type": "markdown",
   "metadata": {},
   "source": [
    "Replace"
   ]
  },
  {
   "cell_type": "code",
   "execution_count": 7,
   "metadata": {},
   "outputs": [
    {
     "name": "stdout",
     "output_type": "stream",
     "text": [
      "2020-09-02 20:55:24.772357\n"
     ]
    }
   ],
   "source": [
    "print(now.replace(year=2020))"
   ]
  },
  {
   "cell_type": "markdown",
   "metadata": {},
   "source": [
    "Arithmetic on dates"
   ]
  },
  {
   "cell_type": "code",
   "execution_count": 11,
   "metadata": {},
   "outputs": [
    {
     "name": "stdout",
     "output_type": "stream",
     "text": [
      "1826 days, 0:00:00\n"
     ]
    }
   ],
   "source": [
    "date1 = datetime.date(year=2030,month=9,day=2)\n",
    "result = date1 - datetime.date.today()\n",
    "print( result )"
   ]
  },
  {
   "cell_type": "markdown",
   "metadata": {},
   "source": [
    "# Math\n",
    "## Ceil السقف\n",
    "كم سيارة مطلوبة لنقل هذه الكمية من البضاعة؟"
   ]
  },
  {
   "cell_type": "code",
   "execution_count": 1,
   "metadata": {},
   "outputs": [],
   "source": [
    "import math"
   ]
  },
  {
   "cell_type": "code",
   "execution_count": null,
   "metadata": {},
   "outputs": [
    {
     "name": "stdout",
     "output_type": "stream",
     "text": [
      "We need 11 cars.\n"
     ]
    }
   ],
   "source": [
    "totalWeight = 160\n",
    "carWeight = 15\n",
    "\n",
    "cars = math.ceil(totalWeight/carWeight)\n",
    "print(f\"We need {cars} cars.\")"
   ]
  },
  {
   "attachments": {},
   "cell_type": "markdown",
   "metadata": {},
   "source": [
    "## Floor الأرضية\n",
    "كم شحنة يمكن تحميلها في الطائرة؟\n",
    "* cargoWeight وزن الشحنة (17 كجم)\n",
    "* totalCapacity السعة الإجمالية (80 طن)"
   ]
  },
  {
   "cell_type": "code",
   "execution_count": 2,
   "metadata": {},
   "outputs": [
    {
     "name": "stdout",
     "output_type": "stream",
     "text": [
      "4705\n"
     ]
    }
   ],
   "source": [
    "totalCpacity = 80\n",
    "cargoWeight = 17\n",
    "quantity = math.floor(totalCpacity * 1000/cargoWeight)\n",
    "print(quantity)"
   ]
  },
  {
   "cell_type": "markdown",
   "metadata": {},
   "source": [
    "## Power operator `**` الأس"
   ]
  },
  {
   "cell_type": "code",
   "execution_count": 4,
   "metadata": {},
   "outputs": [
    {
     "name": "stdout",
     "output_type": "stream",
     "text": [
      "125\n"
     ]
    }
   ],
   "source": [
    "base = 5\n",
    "power = 3\n",
    "print(base ** power)"
   ]
  },
  {
   "cell_type": "markdown",
   "metadata": {},
   "source": [
    "## Rounding التقريب\n",
    "* Power operator: `**`\n",
    "\n",
    "حساب مساحة الدائرة\n",
    "\n",
    "$المساحة = ط * نق^2$"
   ]
  },
  {
   "cell_type": "code",
   "execution_count": 3,
   "metadata": {},
   "outputs": [
    {
     "name": "stdout",
     "output_type": "stream",
     "text": [
      "Exact area: 153.93804002589985\n",
      "Rounded area: 154\n"
     ]
    }
   ],
   "source": [
    "radius = 7\n",
    "area = math.pi * radius ** 2\n",
    "print(f\"Exact area: {area}\")\n",
    "\n",
    "area = round(area)\n",
    "print(f\"Rounded area: {area}\")"
   ]
  },
  {
   "cell_type": "markdown",
   "metadata": {},
   "source": [
    "## Random number generation إنتاج أرقام عشوائية"
   ]
  },
  {
   "cell_type": "code",
   "execution_count": 3,
   "metadata": {},
   "outputs": [],
   "source": [
    "import random"
   ]
  },
  {
   "cell_type": "markdown",
   "metadata": {},
   "source": [
    "إنتاج رقم عشري عشوائي بين 0 و 1"
   ]
  },
  {
   "cell_type": "code",
   "execution_count": 22,
   "metadata": {},
   "outputs": [
    {
     "data": {
      "text/plain": [
       "0.6759126843841314"
      ]
     },
     "execution_count": 22,
     "metadata": {},
     "output_type": "execute_result"
    }
   ],
   "source": [
    "random.random()"
   ]
  },
  {
   "cell_type": "markdown",
   "metadata": {},
   "source": [
    "Random integer between x and y رقم صحيح عشوائي بين رقمين\n",
    "\n",
    "`random.randint(1,100)`"
   ]
  },
  {
   "cell_type": "code",
   "execution_count": 9,
   "metadata": {},
   "outputs": [
    {
     "name": "stdout",
     "output_type": "stream",
     "text": [
      "93\n"
     ]
    }
   ],
   "source": [
    "print(random.randint(1,100))"
   ]
  },
  {
   "cell_type": "markdown",
   "metadata": {},
   "source": [
    "## Shuffle a list خلط عناصر قائمة"
   ]
  },
  {
   "cell_type": "code",
   "execution_count": 23,
   "metadata": {},
   "outputs": [
    {
     "name": "stdout",
     "output_type": "stream",
     "text": [
      "[18, 17, 9, 15, 14, 3, 1, 2, 20, 19, 10, 8, 7, 5, 11, 16, 13, 6, 4, 12]\n"
     ]
    }
   ],
   "source": [
    "my_list = list(range(1,21))\n",
    "random.shuffle(my_list)\n",
    "print(my_list)"
   ]
  },
  {
   "cell_type": "markdown",
   "metadata": {},
   "source": [
    "## أسماء أيام الأسبوع\n",
    "* `calendar.day_name`\n",
    "* مطلوب تحويلها إلى قائمة"
   ]
  },
  {
   "cell_type": "code",
   "execution_count": 1,
   "metadata": {},
   "outputs": [],
   "source": [
    "from calendar import day_name\n",
    "day_name = list(day_name)"
   ]
  },
  {
   "cell_type": "markdown",
   "metadata": {},
   "source": [
    "## اختيار عنصر عشوائي من قائمة "
   ]
  },
  {
   "cell_type": "code",
   "execution_count": 7,
   "metadata": {},
   "outputs": [
    {
     "name": "stdout",
     "output_type": "stream",
     "text": [
      "Sunday\n"
     ]
    }
   ],
   "source": [
    "print(random.choice(day_name))"
   ]
  },
  {
   "cell_type": "markdown",
   "metadata": {},
   "source": [
    "## اختيار عناصر عشوائية من قائمة مع إمكانية التكرار"
   ]
  },
  {
   "cell_type": "code",
   "execution_count": 19,
   "metadata": {},
   "outputs": [
    {
     "data": {
      "text/plain": [
       "['Wednesday', 'Friday', 'Tuesday', 'Thursday', 'Tuesday']"
      ]
     },
     "execution_count": 19,
     "metadata": {},
     "output_type": "execute_result"
    }
   ],
   "source": [
    "random.choices(day_name,k=5)"
   ]
  },
  {
   "cell_type": "markdown",
   "metadata": {},
   "source": [
    "## Take a random sample from an iterable\n",
    "أخذ عينة عشوائية بدون تكرار\n",
    "\n",
    "Example: Sample 3 week days"
   ]
  },
  {
   "cell_type": "code",
   "execution_count": 22,
   "metadata": {},
   "outputs": [
    {
     "data": {
      "text/plain": [
       "['Tuesday', 'Saturday']"
      ]
     },
     "execution_count": 22,
     "metadata": {},
     "output_type": "execute_result"
    }
   ],
   "source": [
    "random.sample(day_name,k=2)"
   ]
  }
 ],
 "metadata": {
  "kernelspec": {
   "display_name": "Python 3",
   "language": "python",
   "name": "python3"
  },
  "language_info": {
   "codemirror_mode": {
    "name": "ipython",
    "version": 3
   },
   "file_extension": ".py",
   "mimetype": "text/x-python",
   "name": "python",
   "nbconvert_exporter": "python",
   "pygments_lexer": "ipython3",
   "version": "3.13.7"
  },
  "orig_nbformat": 4,
  "vscode": {
   "interpreter": {
    "hash": "5238573367df39f7286bb46f9ff5f08f63a01a80960060ce41e3c79b190280fa"
   }
  }
 },
 "nbformat": 4,
 "nbformat_minor": 2
}
