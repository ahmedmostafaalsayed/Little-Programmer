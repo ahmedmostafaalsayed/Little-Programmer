{
 "cells": [
  {
   "attachments": {},
   "cell_type": "markdown",
   "metadata": {},
   "source": [
    "# Lesson 5: Loops\n",
    "* While بينما / طالما\n",
    "* Infinite loops هام: لا بد أن يتوقف الشرط النهائي في وقت ما وإلا ندخل في لفة لا نهائية\n",
    "* Print numbers from 1 to 10 طباعة الأرقام\n",
    "* Increment += / decrement -="
   ]
  },
  {
   "cell_type": "code",
   "execution_count": 1,
   "metadata": {},
   "outputs": [
    {
     "name": "stdout",
     "output_type": "stream",
     "text": [
      "1\n",
      "2\n",
      "3\n",
      "4\n",
      "5\n",
      "6\n",
      "7\n",
      "8\n",
      "9\n",
      "10\n",
      "While ended.\n"
     ]
    }
   ],
   "source": [
    "number = 1\n",
    "\n",
    "while number <= 10:\n",
    "\tprint(number)\n",
    "\tnumber += 1\n",
    "\n",
    "print(\"While ended.\")"
   ]
  },
  {
   "attachments": {},
   "cell_type": "markdown",
   "metadata": {},
   "source": [
    "Print odd numbers between 1 and 10 طباعة الأرقام الفردية"
   ]
  },
  {
   "cell_type": "code",
   "execution_count": 2,
   "metadata": {},
   "outputs": [
    {
     "name": "stdout",
     "output_type": "stream",
     "text": [
      "1\n",
      "3\n",
      "5\n",
      "7\n",
      "9\n",
      "While ended.\n"
     ]
    }
   ],
   "source": [
    "number = 1\n",
    "\n",
    "while number <= 10:\n",
    "\tprint(number)\n",
    "\tnumber += 2\n",
    "\n",
    "print(\"While ended.\")"
   ]
  },
  {
   "attachments": {},
   "cell_type": "markdown",
   "metadata": {},
   "source": [
    "Print even numbers between 1 and 10 طباعة الأرقام الزوجية"
   ]
  },
  {
   "cell_type": "code",
   "execution_count": 3,
   "metadata": {},
   "outputs": [
    {
     "name": "stdout",
     "output_type": "stream",
     "text": [
      "2\n",
      "4\n",
      "6\n",
      "8\n",
      "10\n",
      "While ended.\n"
     ]
    }
   ],
   "source": [
    "number = 2\n",
    "\n",
    "while number <= 10:\n",
    "\tprint(number)\n",
    "\tnumber += 2\n",
    "\n",
    "print(\"While ended.\")"
   ]
  },
  {
   "attachments": {},
   "cell_type": "markdown",
   "metadata": {},
   "source": [
    "Print multiples of 3 - اطبع مضاعفات 3 "
   ]
  },
  {
   "cell_type": "code",
   "execution_count": 4,
   "metadata": {},
   "outputs": [
    {
     "name": "stdout",
     "output_type": "stream",
     "text": [
      "3\n",
      "6\n",
      "9\n",
      "12\n",
      "15\n",
      "18\n",
      "21\n",
      "24\n",
      "27\n",
      "30\n",
      "While ended.\n"
     ]
    }
   ],
   "source": [
    "number = 3\n",
    "\n",
    "while number <= 30:\n",
    "\tprint(number)\n",
    "\tnumber += 3\n",
    "\n",
    "print(\"While ended.\")"
   ]
  },
  {
   "attachments": {},
   "cell_type": "markdown",
   "metadata": {},
   "source": [
    "## Break\n",
    "* while True: Infinite loops التكرار اللا نهائي\n",
    "* `break` تستخدم لإيقاف التكرار\n",
    "* مثال: إيقاف قراءة الطلبات إذا كتب المستخدم حرف Q\n",
    "* Start with empty list of `orders`\n",
    "* `join` اطبع عناصر القائمة النهائية في سطر واحد"
   ]
  },
  {
   "cell_type": "code",
   "execution_count": null,
   "metadata": {},
   "outputs": [],
   "source": [
    "orders = []\t\t\t\t\t\t# قائمة فارغة في البداية\n",
    "\n",
    "while True:\t\t\t\t\t\t# Forever تكرار للأبد\n",
    "\tnew_order = input(\"Enter new order (enter Q to quit): \").lower()\n",
    "\tif new_order == \"q\":\t\t# Quit حرف الخروج من إعادة السؤال\n",
    "\t\tbreak\t\t\t\t\t# الخروج من الحلقة التكرارية\n",
    "\torders.append(new_order)\t# أضف العنصر الجديد للقائمة\n",
    "\n",
    "print(\", \".join(orders))\t\t# اعرض عناصر القائمة وبينهم فاصلة"
   ]
  },
  {
   "cell_type": "markdown",
   "metadata": {},
   "source": [
    "## Exercises\n",
    "Write a program to display the number names of the digits of a number entered by user.\n",
    "\n",
    "For example if the number is **231** then output should be **Two Three One**\n",
    "\n",
    "اكتب الناتج في سطر واحد"
   ]
  },
  {
   "cell_type": "code",
   "execution_count": 6,
   "metadata": {},
   "outputs": [
    {
     "name": "stdout",
     "output_type": "stream",
     "text": [
      "one two three four five six seven eight nine\n"
     ]
    }
   ],
   "source": [
    "from num2words import num2words\n",
    "\n",
    "number = input(\"Enter a number\")\n",
    "length = len(number)\n",
    "result = []\n",
    "\n",
    "i = 0\n",
    "while i < length:\n",
    "\tresult.append(num2words(number[i]))\n",
    "\ti += 1\n",
    "\n",
    "print(\" \".join(result))"
   ]
  }
 ],
 "metadata": {
  "kernelspec": {
   "display_name": "Python 3",
   "language": "python",
   "name": "python3"
  },
  "language_info": {
   "codemirror_mode": {
    "name": "ipython",
    "version": 3
   },
   "file_extension": ".py",
   "mimetype": "text/x-python",
   "name": "python",
   "nbconvert_exporter": "python",
   "pygments_lexer": "ipython3",
   "version": "3.13.1"
  },
  "orig_nbformat": 4,
  "vscode": {
   "interpreter": {
    "hash": "5238573367df39f7286bb46f9ff5f08f63a01a80960060ce41e3c79b190280fa"
   }
  }
 },
 "nbformat": 4,
 "nbformat_minor": 2
}
