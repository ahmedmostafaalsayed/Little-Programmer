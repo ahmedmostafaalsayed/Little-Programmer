{
 "cells": [
  {
   "attachments": {},
   "cell_type": "markdown",
   "metadata": {},
   "source": [
    "# Lesson 6: for loops\n",
    "## Looping over a list الدوران على قائمة"
   ]
  },
  {
   "cell_type": "code",
   "execution_count": 26,
   "metadata": {},
   "outputs": [
    {
     "name": "stdout",
     "output_type": "stream",
     "text": [
      "Coffee\n",
      "Juice\n",
      "Milk\n",
      "Soda\n",
      "Tea\n",
      "Water\n"
     ]
    }
   ],
   "source": [
    "drinks = [\"Coffee\", \"Juice\", \"Milk\", \"Soda\", \"Tea\", \"Water\"]\n",
    "\n",
    "for drink in drinks:\n",
    "\tprint(drink)"
   ]
  },
  {
   "attachments": {},
   "cell_type": "markdown",
   "metadata": {},
   "source": [
    "## Looping over letters of a string الدوران على حروف كلام"
   ]
  },
  {
   "cell_type": "code",
   "execution_count": 7,
   "metadata": {},
   "outputs": [
    {
     "name": "stdout",
     "output_type": "stream",
     "text": [
      "d\n",
      "r\n",
      "i\n",
      "n\n",
      "k\n",
      "s\n"
     ]
    }
   ],
   "source": [
    "for c in \"drinks\":\n",
    "\tprint( c )"
   ]
  },
  {
   "attachments": {},
   "cell_type": "markdown",
   "metadata": {},
   "source": [
    "## Looping over range of numbers الدوران على أرقام\n",
    "Up to N لحد"
   ]
  },
  {
   "cell_type": "code",
   "execution_count": 14,
   "metadata": {},
   "outputs": [
    {
     "name": "stdout",
     "output_type": "stream",
     "text": [
      "0\n",
      "1\n",
      "2\n",
      "3\n",
      "4\n",
      "5\n",
      "6\n",
      "7\n",
      "8\n",
      "9\n"
     ]
    }
   ],
   "source": [
    "for i in range(10):\n",
    "    print(i)"
   ]
  },
  {
   "attachments": {},
   "cell_type": "markdown",
   "metadata": {},
   "source": [
    "From start to end من رقم إلى رقم"
   ]
  },
  {
   "cell_type": "code",
   "execution_count": 15,
   "metadata": {},
   "outputs": [
    {
     "name": "stdout",
     "output_type": "stream",
     "text": [
      "10\n",
      "11\n",
      "12\n",
      "13\n",
      "14\n",
      "15\n",
      "16\n",
      "17\n",
      "18\n",
      "19\n"
     ]
    }
   ],
   "source": [
    "for i in range(5,10):\n",
    "    print(i)"
   ]
  },
  {
   "attachments": {},
   "cell_type": "markdown",
   "metadata": {},
   "source": [
    "Multiples of `n` up to `max` مضاعفات رقم"
   ]
  },
  {
   "cell_type": "code",
   "execution_count": 20,
   "metadata": {},
   "outputs": [
    {
     "name": "stdout",
     "output_type": "stream",
     "text": [
      "5\n",
      "10\n",
      "15\n",
      "20\n",
      "25\n",
      "30\n"
     ]
    }
   ],
   "source": [
    "n = 5\n",
    "for i in range(5,31,5):\n",
    "    print(i)"
   ]
  },
  {
   "attachments": {},
   "cell_type": "markdown",
   "metadata": {},
   "source": [
    "Count descending العد تنازلياً"
   ]
  },
  {
   "cell_type": "code",
   "execution_count": 13,
   "metadata": {},
   "outputs": [
    {
     "name": "stdout",
     "output_type": "stream",
     "text": [
      "10\n",
      "9\n",
      "8\n",
      "7\n",
      "6\n",
      "5\n",
      "4\n",
      "3\n",
      "2\n",
      "1\n"
     ]
    }
   ],
   "source": [
    "for i in range(10,0,-1):\n",
    "\tprint(i)"
   ]
  },
  {
   "attachments": {},
   "cell_type": "markdown",
   "metadata": {},
   "source": [
    "## The `break` statement\n",
    "Guessing a number 10 times تخمين رقم 10 مرات"
   ]
  },
  {
   "cell_type": "code",
   "execution_count": 10,
   "metadata": {},
   "outputs": [
    {
     "data": {
      "text/plain": [
       "5"
      ]
     },
     "execution_count": 10,
     "metadata": {},
     "output_type": "execute_result"
    }
   ],
   "source": [
    "from random import randint\n",
    "i = 10\n",
    "for i in range(i,1,-1):\n",
    "\tprint(f\"{i} trials remaining.\")\n",
    "\tuser_guess = int(input(\"Guess a number: \"))\n",
    "\tif user_guess == randint(1, 10):\n",
    "\t\tprint(\"You win\")\n",
    "\t\tbreak\n",
    "\n",
    "print(f\"Your score is {i}\")"
   ]
  },
  {
   "attachments": {},
   "cell_type": "markdown",
   "metadata": {},
   "source": [
    "## `continue`"
   ]
  },
  {
   "cell_type": "code",
   "execution_count": 23,
   "metadata": {},
   "outputs": [
    {
     "name": "stdout",
     "output_type": "stream",
     "text": [
      "coffee\n",
      "juice\n",
      "milk\n",
      "soda\n"
     ]
    }
   ],
   "source": [
    "drinks = [\"coffee\", \"juice\", \"water\", \"milk\", \"soda\", \"tea\"]\n",
    "free_drinks = [\"tea\", \"water\"]\n",
    "\n",
    "for drink in drinks:\n",
    "\tif drink in free_drinks:\n",
    "\t\tcontinue\n",
    "\t\n",
    "\tprint(drink)"
   ]
  },
  {
   "attachments": {},
   "cell_type": "markdown",
   "metadata": {},
   "source": [
    "## The `pass` statement لا شيء"
   ]
  },
  {
   "cell_type": "code",
   "execution_count": 25,
   "metadata": {},
   "outputs": [
    {
     "name": "stdout",
     "output_type": "stream",
     "text": [
      "For loop completed.\n"
     ]
    }
   ],
   "source": [
    "for drink in drinks:\n",
    "    pass\n",
    "\n",
    "print(\"For loop completed.\")"
   ]
  },
  {
   "attachments": {},
   "cell_type": "markdown",
   "metadata": {},
   "source": [
    "## Nested `for` loops التداخل\n",
    "`sleep` for seconds (`time` module)"
   ]
  },
  {
   "cell_type": "code",
   "execution_count": 29,
   "metadata": {},
   "outputs": [
    {
     "name": "stdout",
     "output_type": "stream",
     "text": [
      "coffee...\n",
      "juice...\n",
      "milk...\n",
      "soda...\n",
      "tea...\n",
      "water...\n"
     ]
    }
   ],
   "source": [
    "from time import sleep\n",
    "\n",
    "drinks = [\"coffee\", \"juice\", \"milk\", \"soda\", \"tea\", \"water\"]\n",
    "\n",
    "for drink in drinks:\n",
    "\tprint(drink, end=\"\")\n",
    "\tfor i in range(3):\n",
    "\t\tsleep(0.5)\n",
    "\t\tprint(\".\", end=\"\")\n",
    "\telse:\n",
    "\t\tsleep(0.5)\n",
    "\t\tprint()"
   ]
  }
 ],
 "metadata": {
  "kernelspec": {
   "display_name": "Python 3",
   "language": "python",
   "name": "python3"
  },
  "language_info": {
   "codemirror_mode": {
    "name": "ipython",
    "version": 3
   },
   "file_extension": ".py",
   "mimetype": "text/x-python",
   "name": "python",
   "nbconvert_exporter": "python",
   "pygments_lexer": "ipython3",
   "version": "3.11.3"
  },
  "orig_nbformat": 4,
  "vscode": {
   "interpreter": {
    "hash": "5238573367df39f7286bb46f9ff5f08f63a01a80960060ce41e3c79b190280fa"
   }
  }
 },
 "nbformat": 4,
 "nbformat_minor": 2
}
