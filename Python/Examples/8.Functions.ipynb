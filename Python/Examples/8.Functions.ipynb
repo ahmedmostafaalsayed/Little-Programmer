{
 "cells": [
  {
   "attachments": {},
   "cell_type": "markdown",
   "metadata": {},
   "source": [
    "# Lesson 8: Functions الدوال\n",
    "Advantages مميزاتها\n",
    "1. Clear كود نظيف\n",
    "1. Reusability كود مقروء\n",
    "1. Maintenainability سهل الصيانة والتعديل\n",
    "\n",
    "## Functions with no arguments\n",
    "Printig a message before and after printing numbers 1 to 10 اطبع رسالة في بداية ونهاية العمل"
   ]
  },
  {
   "cell_type": "code",
   "execution_count": 1,
   "metadata": {},
   "outputs": [
    {
     "name": "stdout",
     "output_type": "stream",
     "text": [
      "Hello\n",
      "1\n",
      "2\n",
      "3\n",
      "4\n",
      "5\n",
      "6\n",
      "7\n",
      "8\n",
      "9\n",
      "Hello\n"
     ]
    }
   ],
   "source": [
    "print(\"Hello\")\n",
    "for i in range(1,10):\n",
    "    print(i)\n",
    "print(\"Hello\")"
   ]
  },
  {
   "attachments": {},
   "cell_type": "markdown",
   "metadata": {},
   "source": [
    "A function to print a constant message with date دالة لطباعة رسالة ثابتة مع التاريخ"
   ]
  },
  {
   "cell_type": "code",
   "execution_count": 2,
   "metadata": {},
   "outputs": [
    {
     "name": "stdout",
     "output_type": "stream",
     "text": [
      "17 June 2023\tHello\n",
      "1\n",
      "2\n",
      "3\n",
      "4\n",
      "5\n",
      "6\n",
      "7\n",
      "8\n",
      "9\n",
      "10\n",
      "17 June 2023\tHello\n"
     ]
    }
   ],
   "source": [
    "from datetime import datetime\n",
    "\n",
    "def print_message():\n",
    "\tprint(f\"{datetime.today():%d %B %Y}\\tHello\")\n",
    "\n",
    "print_message()\n",
    "for i in range(1,11):\n",
    "    print(i)\n",
    "print_message()"
   ]
  },
  {
   "attachments": {},
   "cell_type": "markdown",
   "metadata": {},
   "source": [
    "## Functions with parameters المدخلات"
   ]
  },
  {
   "attachments": {},
   "cell_type": "markdown",
   "metadata": {},
   "source": [
    "A function with 1 input/argument/parameter دالة بمدخل واحد"
   ]
  },
  {
   "cell_type": "code",
   "execution_count": 7,
   "metadata": {},
   "outputs": [
    {
     "name": "stdout",
     "output_type": "stream",
     "text": [
      "09 February 2023\tBeginning\n",
      "1\n",
      "2\n",
      "3\n",
      "4\n",
      "5\n",
      "09 February 2023\tEnd\n"
     ]
    }
   ],
   "source": [
    "from datetime import datetime\n",
    "\n",
    "def print_message(message):\n",
    "\tprint(f\"{datetime.today():%d %B %Y}\\t{message}\")\n",
    "\n",
    "print_message(\"Beginning\")\n",
    "for i in range(1,6):\n",
    "    print(i)\n",
    "print_message(\"End\")"
   ]
  },
  {
   "attachments": {},
   "cell_type": "markdown",
   "metadata": {},
   "source": [
    "## Returning a value from a function إرجاع قيمة من الدالة\n",
    "Get initials of full name حساب أوائل الاسم"
   ]
  },
  {
   "cell_type": "code",
   "execution_count": 3,
   "metadata": {},
   "outputs": [
    {
     "name": "stdout",
     "output_type": "stream",
     "text": [
      "oam\n"
     ]
    }
   ],
   "source": [
    "name = \"ahmed mostafa al sayed\"\n",
    "\n",
    "def get_initials(name):\n",
    "\twords = str(name).split()\n",
    "\tinitials = []\n",
    "\tfor i in words:\n",
    "\t\tinitials.append(i[0])\n",
    "\t\n",
    "\treturn \"\".join(initials)\n",
    "\n",
    "# Call the function\n",
    "initials = get_initials(name=\"omar ahmed mostafa\")\n",
    "print(initials)"
   ]
  },
  {
   "attachments": {},
   "cell_type": "markdown",
   "metadata": {},
   "source": [
    "## Optional parameters المدخلات الاختيارية\n",
    "Default value for an input"
   ]
  },
  {
   "cell_type": "code",
   "execution_count": 14,
   "metadata": {},
   "outputs": [
    {
     "name": "stdout",
     "output_type": "stream",
     "text": [
      "sAs\n"
     ]
    }
   ],
   "source": [
    "name = \"ahmed mostafa al sayed\"\n",
    "\n",
    "def get_initials(name, upper=False):\n",
    "\twords = str(name).split()\n",
    "\tinitials = []\n",
    "\tfor i in words:\n",
    "\t\tinitials.append(i[0])\n",
    "\t\n",
    "\tresult = \"\".join(initials)\n",
    "\n",
    "\tif upper:\n",
    "\t\tresult = result.upper()\n",
    "\n",
    "\treturn result\n",
    "\n",
    "# Call the function\n",
    "initials = get_initials(\"seif-eldin Amr sayed\")\n",
    "print(initials)"
   ]
  },
  {
   "attachments": {},
   "cell_type": "markdown",
   "metadata": {},
   "source": [
    "Keyword argument إرسال المدخلات بالاسم وليس بالترتيب"
   ]
  },
  {
   "cell_type": "code",
   "execution_count": 16,
   "metadata": {},
   "outputs": [
    {
     "name": "stdout",
     "output_type": "stream",
     "text": [
      "SAS\n"
     ]
    }
   ],
   "source": [
    "initials = get_initials(upper=True,name=\"seif-eldin Amr sayed\")\n",
    "print(initials)"
   ]
  },
  {
   "attachments": {},
   "cell_type": "markdown",
   "metadata": {},
   "source": [
    "Calculate maximum of two numbers حساب القيمة الأكبر من رقمين"
   ]
  },
  {
   "cell_type": "code",
   "execution_count": 4,
   "metadata": {},
   "outputs": [
    {
     "name": "stdout",
     "output_type": "stream",
     "text": [
      "30.1\n"
     ]
    }
   ],
   "source": [
    "def maximum(x,y):\n",
    "\tif y > x:\n",
    "\t\treturn y\n",
    "\telif x == y:\n",
    "\t\treturn \"same\"\n",
    "\telse:\n",
    "\t\treturn x\n",
    "\n",
    "print(maximum(30,30.1))"
   ]
  },
  {
   "attachments": {},
   "cell_type": "markdown",
   "metadata": {},
   "source": [
    "Calculate minimum of two numbers حساب القيمة الأصغر بين رقمين"
   ]
  },
  {
   "cell_type": "code",
   "execution_count": 5,
   "metadata": {},
   "outputs": [
    {
     "name": "stdout",
     "output_type": "stream",
     "text": [
      "6\n"
     ]
    }
   ],
   "source": [
    "def minimum(x,y):\n",
    "\tif x > y:\n",
    "\t\treturn y\n",
    "\telse:\n",
    "\t\treturn x\n",
    "\n",
    "print(minimum(30,6))"
   ]
  },
  {
   "attachments": {},
   "cell_type": "markdown",
   "metadata": {},
   "source": [
    "Calculate average of numbers حساب متوسط أرقام"
   ]
  },
  {
   "cell_type": "code",
   "execution_count": null,
   "metadata": {},
   "outputs": [],
   "source": [
    "def average(x,y):\n",
    "\treturn (x+y)/2\n",
    "\n",
    "print(average(5,6))"
   ]
  },
  {
   "attachments": {},
   "cell_type": "markdown",
   "metadata": {},
   "source": [
    "Calculate maximum of three numbers حساب القيمة الأكبر بين ثلاثة أرقام"
   ]
  },
  {
   "cell_type": "code",
   "execution_count": 8,
   "metadata": {},
   "outputs": [
    {
     "name": "stdout",
     "output_type": "stream",
     "text": [
      "10\n"
     ]
    }
   ],
   "source": [
    "def maximum(x,y,z = None):\n",
    "\tif z == None:\n",
    "\t\tif x > y:\n",
    "\t\t\treturn x\n",
    "\t\telse:\n",
    "\t\t\treturn y\n",
    "\telse:\n",
    "\t\treturn maximum(maximum(x,y),z)\n",
    "\n",
    "print(maximum(2, 5, 10))"
   ]
  },
  {
   "attachments": {},
   "cell_type": "markdown",
   "metadata": {},
   "source": [
    "## Scope مجال المتغيرات"
   ]
  },
  {
   "cell_type": "code",
   "execution_count": 17,
   "metadata": {},
   "outputs": [
    {
     "name": "stdout",
     "output_type": "stream",
     "text": [
      "5\n"
     ]
    }
   ],
   "source": [
    "def change(x):\n",
    "\tx = 30\n",
    "\n",
    "x = 5\n",
    "change(x)\n",
    "print(x)"
   ]
  },
  {
   "attachments": {},
   "cell_type": "markdown",
   "metadata": {},
   "source": [
    "Changing a list تعديل قائمة"
   ]
  },
  {
   "cell_type": "code",
   "execution_count": 20,
   "metadata": {},
   "outputs": [
    {
     "name": "stdout",
     "output_type": "stream",
     "text": [
      "[1, 2, 3, 4, 5, 6, 7, 8]\n"
     ]
    }
   ],
   "source": [
    "def change(items):\n",
    "\titems.sort()\n",
    "\n",
    "students = [2,4,6,8,1,3,5,7]\n",
    "change(students)\n",
    "print(students)"
   ]
  },
  {
   "attachments": {},
   "cell_type": "markdown",
   "metadata": {},
   "source": [
    "## Recursion العودية\n",
    "A function can call itself الدالة يمكن أن تستدعي نفسها\n",
    "\n",
    "Factorial المضروب\n",
    "\n",
    "`n! = 1 * 2 * 3 * ... * n`\n",
    "\n",
    "Use loops to calculate factorial حساب المضروب بطريقة التكرار التقليدية"
   ]
  },
  {
   "cell_type": "code",
   "execution_count": 17,
   "metadata": {},
   "outputs": [
    {
     "name": "stdout",
     "output_type": "stream",
     "text": [
      "24\n"
     ]
    }
   ],
   "source": [
    "def factorial(x):\n",
    "\tresult = 1\n",
    "\tfor i in range(1,x+1):\n",
    "\t\tresult *= i\n",
    "\n",
    "\treturn result\n",
    "\tprint(1)\n",
    "\n",
    "print(factorial(4))"
   ]
  },
  {
   "attachments": {},
   "cell_type": "markdown",
   "metadata": {},
   "source": [
    "Use recursion to calculate factorial استخدام الدالة لنفسها لحساب المضروب"
   ]
  },
  {
   "cell_type": "code",
   "execution_count": 8,
   "metadata": {},
   "outputs": [
    {
     "name": "stdout",
     "output_type": "stream",
     "text": [
      "24\n"
     ]
    }
   ],
   "source": [
    "def factorial(x):\n",
    "\tif x == 1:\n",
    "\t\treturn 1\n",
    "\telse:\n",
    "\t\treturn x * factorial(x-1)\n",
    "\n",
    "# Test the function\n",
    "print(factorial(4))"
   ]
  }
 ],
 "metadata": {
  "kernelspec": {
   "display_name": "Python 3",
   "language": "python",
   "name": "python3"
  },
  "language_info": {
   "codemirror_mode": {
    "name": "ipython",
    "version": 3
   },
   "file_extension": ".py",
   "mimetype": "text/x-python",
   "name": "python",
   "nbconvert_exporter": "python",
   "pygments_lexer": "ipython3",
   "version": "3.11.3"
  },
  "orig_nbformat": 4,
  "vscode": {
   "interpreter": {
    "hash": "5238573367df39f7286bb46f9ff5f08f63a01a80960060ce41e3c79b190280fa"
   }
  }
 },
 "nbformat": 4,
 "nbformat_minor": 2
}
