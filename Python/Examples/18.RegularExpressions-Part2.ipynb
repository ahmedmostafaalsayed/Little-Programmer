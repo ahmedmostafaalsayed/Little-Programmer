{
 "cells": [
  {
   "attachments": {},
   "cell_type": "markdown",
   "metadata": {},
   "source": [
    "# Lesson 18: Regular Expressions - Part 2\n",
    "![Regular Expressions](https://files.realpython.com/media/Regular-Expressions-Regexes-in-Python-Part-1_Watermarked.0423050c5371.jpg)\n",
    "\n",
    "Regular expressions (regex) allow us to find general pattern in text data. Like:\n",
    "* email: `user@site.com`\n",
    "* phone number: `+20 1012345678`\n",
    "* URL: `www.site.com`"
   ]
  },
  {
   "cell_type": "markdown",
   "metadata": {},
   "source": [
    "### Imports\n",
    "`re` module"
   ]
  },
  {
   "cell_type": "code",
   "execution_count": 1,
   "metadata": {},
   "outputs": [],
   "source": [
    "import re"
   ]
  },
  {
   "cell_type": "markdown",
   "metadata": {},
   "source": [
    "## Regex Special Sequences\n",
    "\n",
    "| Sequence | Description | Example Pattern | Example Match |\n",
    "| - | - | - | - |\n",
    "| `\\d` | Digit | `file_\\d\\d` | file_25 |\n",
    "| `\\D` | Non-digit | `\\D\\D\\D` | Abc |\n",
    "| `\\s` | Whitespace | `a\\sb\\sc` | a b c |\n",
    "| `\\S` | Non-whitespace | `\\S\\S\\S\\S` | Yoyo |\n",
    "| `\\w` | Alphanumeric (letter, number or underscore) | `\\w-\\w\\w\\w` | A-b_1 |\n",
    "| `\\W` | Non-alphanumeric | `\\W\\W\\W\\W\\W` | *-+=) |\n",
    "\n",
    "* Raw string: `r`\n",
    "\n",
    "References:\n",
    "* [Regex Special Sequences](https://docs.python.org/3/library/re.html#re-special-sequences)\n",
    "* [Python RegEx Special Sequences](https://www.w3schools.com/python/gloss_python_regex_sequences.asp)\n",
    "* [Python Regex Special Sequences and Character classes](https://pynative.com/python-regex-special-sequences-and-character-classes)"
   ]
  },
  {
   "cell_type": "markdown",
   "metadata": {},
   "source": [
    "## Quantifiers\n",
    "لتحديد عدد مرات تكرار نمط معين.\n",
    "\n",
    "| Quantifier | Description | Example Pattern | Example Match |\n",
    "| - | - | - | - |\n",
    "| `+` | One or more times | `\\d+ years` | 3 years<br/>12 years<br/>151 years<br/> |\n",
    "| `*` | Zero or more times | `X*L` | L<br/>XL<br/>XXL |\n",
    "| `?` | Zero or one time | `plurals?` | plural<br/>plurals |\n",
    "| `{n}` | Exactly `n` time | `\\w{3}` | ABC |\n",
    "| `{min,max}` | `min` to `max` times | `\\w{2,3}` | USA |\n",
    "| `{min,}` | `min` or more times | `\\w{3,}` | Ali |\n",
    "| `{,max}` | Up to `max` times | `\\w{,8}` | Password |\n",
    "| `[]` | Set of characters | `[aeiou]\\w+` | Umbrella |\n"
   ]
  },
  {
   "cell_type": "markdown",
   "metadata": {},
   "source": [
    "## [Special Characters](https://docs.python.org/3/library/re.html#regular-expression-syntax)\n",
    "| Special Character | Meaning |\n",
    "| - | - |\n",
    "| `.` | Wildcard character, matches any character except a newline |\n",
    "| `^` (Caret.) | Matches the start of the string, and in MULTILINE mode also matches immediately after each newline. |\n",
    "| `$` | Matches at the end of a line, which is defined as either the end of the string, or any location followed by a newline character. |\n"
   ]
  },
  {
   "cell_type": "markdown",
   "metadata": {},
   "source": [
    "## [Flags](https://docs.python.org/3/library/re.html#flags)\n",
    "| Flag | Meaning |\n",
    "| - | - |\n",
    "| `re.I`<br/>`re.IGNORECASE` | Case-insensitive matching |\n",
    "| `re.M`<br/>`re.MULTILINE` | Makes `^` matche at the beginning of the string and at the beginning of each line; and the pattern character `$` matches at the end of the string and at the end of each line. |"
   ]
  },
  {
   "cell_type": "code",
   "execution_count": 6,
   "metadata": {},
   "outputs": [],
   "source": [
    "text = \"11 is a number, 22 is another number. Total is 33\""
   ]
  },
  {
   "cell_type": "markdown",
   "metadata": {},
   "source": [
    "## Examples\n",
    "Find any number in the text:"
   ]
  },
  {
   "cell_type": "code",
   "execution_count": 7,
   "metadata": {},
   "outputs": [
    {
     "data": {
      "text/plain": [
       "['11', '22', '33']"
      ]
     },
     "execution_count": 7,
     "metadata": {},
     "output_type": "execute_result"
    }
   ],
   "source": [
    "re.findall(r\"\\d+\",text)"
   ]
  },
  {
   "cell_type": "markdown",
   "metadata": {},
   "source": [
    "Find any number at the beginning of text:"
   ]
  },
  {
   "cell_type": "code",
   "execution_count": 8,
   "metadata": {},
   "outputs": [
    {
     "data": {
      "text/plain": [
       "['11']"
      ]
     },
     "execution_count": 8,
     "metadata": {},
     "output_type": "execute_result"
    }
   ],
   "source": [
    "re.findall(r\"^\\d+\",text)"
   ]
  },
  {
   "cell_type": "markdown",
   "metadata": {},
   "source": [
    "Find any number at the end of text:"
   ]
  },
  {
   "cell_type": "code",
   "execution_count": 9,
   "metadata": {},
   "outputs": [
    {
     "data": {
      "text/plain": [
       "['33']"
      ]
     },
     "execution_count": 9,
     "metadata": {},
     "output_type": "execute_result"
    }
   ],
   "source": [
    "re.findall(r\"\\d+$\",text)"
   ]
  },
  {
   "cell_type": "markdown",
   "metadata": {},
   "source": [
    "## Exclusion\n",
    "Exclude digits in the following text:\n",
    "> There are 3 numbers 34 inside 5 this sentence"
   ]
  },
  {
   "cell_type": "code",
   "execution_count": null,
   "metadata": {},
   "outputs": [
    {
     "data": {
      "text/plain": [
       "['There are ', ' numbers ', ' inside ', ' this sentence']"
      ]
     },
     "execution_count": 14,
     "metadata": {},
     "output_type": "execute_result"
    }
   ],
   "source": [
    "text = \"There are 3 numbers 34 inside 5 this sentence\"\n",
    "re.findall(r\"[^\\d]+\",text)"
   ]
  },
  {
   "cell_type": "markdown",
   "metadata": {},
   "source": [
    "Exclude punctuation from the following text text:\n",
    "> This is a string! But it has punctuation. How can we remove it?"
   ]
  },
  {
   "cell_type": "code",
   "execution_count": 18,
   "metadata": {},
   "outputs": [
    {
     "data": {
      "text/plain": [
       "'This is a string But it has punctuation How can we remove it'"
      ]
     },
     "execution_count": 18,
     "metadata": {},
     "output_type": "execute_result"
    }
   ],
   "source": [
    "text = \"This is a string! But it has punctuation. How can we remove it?\"\n",
    "\" \".join( re.findall(r\"[^.!?,; ]+\",text) )"
   ]
  },
  {
   "cell_type": "markdown",
   "metadata": {},
   "source": [
    "Find the hyphen-words in this text. But you do not know how long-ish they are:\n",
    "> Find the hyphen-words in this text. But you do not know how long-ish they are:"
   ]
  },
  {
   "cell_type": "code",
   "execution_count": 20,
   "metadata": {},
   "outputs": [
    {
     "data": {
      "text/plain": [
       "['hyphen-words', 'long-ish']"
      ]
     },
     "execution_count": 20,
     "metadata": {},
     "output_type": "execute_result"
    }
   ],
   "source": [
    "text = \"Find the hyphen-words in this text. But you do not know how long-ish they are:\"\n",
    "re.findall(r\"\\w+-\\w+\",text)"
   ]
  },
  {
   "cell_type": "markdown",
   "metadata": {},
   "source": [
    "## Using `()` for grouping\n",
    "Find same word in different patterns"
   ]
  },
  {
   "cell_type": "code",
   "execution_count": 21,
   "metadata": {},
   "outputs": [
    {
     "data": {
      "text/plain": [
       "['fish', 'nap', 'erpillar']"
      ]
     },
     "execution_count": 21,
     "metadata": {},
     "output_type": "execute_result"
    }
   ],
   "source": [
    "text = \"Would you like some catfish? Do you want to take a catnap? Did you see this caterpillar?\"\n",
    "re.findall(r\"cat(fish|nap|erpillar)\",text)"
   ]
  },
  {
   "cell_type": "markdown",
   "metadata": {},
   "source": [
    "## Using named groups"
   ]
  },
  {
   "cell_type": "code",
   "execution_count": null,
   "metadata": {},
   "outputs": [],
   "source": []
  },
  {
   "cell_type": "markdown",
   "metadata": {},
   "source": [
    "## Replacing text"
   ]
  },
  {
   "cell_type": "markdown",
   "metadata": {},
   "source": []
  }
 ],
 "metadata": {
  "kernelspec": {
   "display_name": "Python 3",
   "language": "python",
   "name": "python3"
  },
  "language_info": {
   "codemirror_mode": {
    "name": "ipython",
    "version": 3
   },
   "file_extension": ".py",
   "mimetype": "text/x-python",
   "name": "python",
   "nbconvert_exporter": "python",
   "pygments_lexer": "ipython3",
   "version": "3.13.7"
  },
  "orig_nbformat": 4,
  "vscode": {
   "interpreter": {
    "hash": "5238573367df39f7286bb46f9ff5f08f63a01a80960060ce41e3c79b190280fa"
   }
  }
 },
 "nbformat": 4,
 "nbformat_minor": 2
}
