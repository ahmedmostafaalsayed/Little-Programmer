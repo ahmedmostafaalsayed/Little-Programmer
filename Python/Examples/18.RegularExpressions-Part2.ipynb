{
 "cells": [
  {
   "attachments": {},
   "cell_type": "markdown",
   "metadata": {},
   "source": [
    "# Lesson 18: Regular Expressions - Part 2\n",
    "![Regular Expressions](https://files.realpython.com/media/Regular-Expressions-Regexes-in-Python-Part-1_Watermarked.0423050c5371.jpg)\n",
    "\n",
    "Regular expressions (regex) allow us to find general patterns in text data. Like:\n",
    "* email: `user@site.com`\n",
    "* phone number: `+20 1012345678`\n",
    "* URL: `www.site.com`\n",
    "\n",
    "Regular expressions are used for:\n",
    "* **Data Mining**: Quickly extract emails, phone numbers, URLs, etc. from large text blocks.\n",
    "* **Validation**: Validate user inputs like email addresses, passwords, dates, etc.\n",
    "* **Text Processing**: Replace or reformat strings to match required formats (e.g., date reformatting)."
   ]
  },
  {
   "cell_type": "markdown",
   "metadata": {},
   "source": [
    "### Imports\n",
    "`re` module"
   ]
  },
  {
   "cell_type": "code",
   "execution_count": 2,
   "metadata": {},
   "outputs": [],
   "source": [
    "import re"
   ]
  },
  {
   "cell_type": "markdown",
   "metadata": {},
   "source": [
    "## Regex Special Sequences\n",
    "\n",
    "| Sequence | Description | Example Pattern | Example Match |\n",
    "| - | - | - | - |\n",
    "| `\\b` | Word boundary | `r'\\bat\\b'` |  Matches: 'at', 'at.', '(at)', and 'as at ay'<br/>Does not match: 'attempt' or 'atlas' |\n",
    "| `\\d` | Digit | `file_\\d\\d` | file_25 |\n",
    "| `\\D` | Non-digit | `\\D\\D\\D` | Abc |\n",
    "| `\\s` | Whitespace | `a\\sb\\sc` | a b c |\n",
    "| `\\S` | Non-whitespace | `\\S\\S\\S\\S` | Yoyo |\n",
    "| `\\w` | Alphanumeric (letter, number or underscore) | `\\w-\\w\\w\\w` | A-b_1 |\n",
    "| `\\W` | Non-alphanumeric | `\\W\\W\\W\\W\\W` | *-+=) |\n",
    "\n",
    "* Raw string: `r`\n",
    "\n",
    "References:\n",
    "* [Regex Special Sequences](https://docs.python.org/3/library/re.html#re-special-sequences)\n",
    "* [Python RegEx Special Sequences](https://www.w3schools.com/python/gloss_python_regex_sequences.asp)\n",
    "* [Python Regex Special Sequences and Character classes](https://pynative.com/python-regex-special-sequences-and-character-classes)"
   ]
  },
  {
   "cell_type": "markdown",
   "metadata": {},
   "source": [
    "## Quantifiers (Metacharacters)\n",
    "لتحديد عدد مرات تكرار نمط معين.\n",
    "\n",
    "| Quantifier | Description | Example Pattern | Example Match |\n",
    "| - | - | - | - |\n",
    "| `+` | One or more times | `\\d+ years` | 3 years<br/>12 years<br/>151 years<br/> |\n",
    "| `*` | Zero or more times | `X*L` | L<br/>XL<br/>XXL |\n",
    "| `?` | Zero or one time | `plurals?` | plural<br/>plurals |\n",
    "| `{n}` | Exactly `n` time | `\\w{3}` | ABC |\n",
    "| `{min,max}` | `min` to `max` times | `\\w{2,3}` | USA |\n",
    "| `{min,}` | `min` or more times | `\\w{3,}` | Ali |\n",
    "| `{,max}` | Up to `max` times | `\\w{,8}` | Password |\n",
    "| `[]` | Set of characters | `[aeiou]\\w+` | Umbrella |\n",
    "\n",
    "References:\n",
    "* [Python RegEx](https://www.w3schools.com/python/python_regex.asp)"
   ]
  },
  {
   "cell_type": "markdown",
   "metadata": {},
   "source": [
    "## [Special Characters](https://docs.python.org/3/library/re.html#regular-expression-syntax)\n",
    "| Special Character | Meaning |\n",
    "| - | - |\n",
    "| `.` | Wildcard character, matches any character except a newline |\n",
    "| `^` (Caret.) | Matches the start of the string, and in MULTILINE mode also matches immediately after each newline. |\n",
    "| `$` | Matches at the end of a line, which is defined as either the end of the string, or any location followed by a newline character. |\n"
   ]
  },
  {
   "cell_type": "markdown",
   "metadata": {},
   "source": [
    "## [Flags](https://docs.python.org/3/library/re.html#flags)\n",
    "| Flag | Meaning |\n",
    "| - | - |\n",
    "| `re.I`<br/>`re.IGNORECASE` | Case-insensitive matching |\n",
    "| `re.M`<br/>`re.MULTILINE` | Makes `^` matche at the beginning of the string and at the beginning of each line; and the pattern character `$` matches at the end of the string and at the end of each line. |"
   ]
  },
  {
   "cell_type": "code",
   "execution_count": 2,
   "metadata": {},
   "outputs": [],
   "source": [
    "text = \"11 is a number, 22 is another number. Total is 33\""
   ]
  },
  {
   "cell_type": "markdown",
   "metadata": {},
   "source": [
    "## Examples\n",
    "Find any number in the text:"
   ]
  },
  {
   "cell_type": "code",
   "execution_count": 3,
   "metadata": {},
   "outputs": [
    {
     "data": {
      "text/plain": [
       "['11', '22', '33']"
      ]
     },
     "execution_count": 3,
     "metadata": {},
     "output_type": "execute_result"
    }
   ],
   "source": [
    "re.findall(r\"\\d+\",text)"
   ]
  },
  {
   "cell_type": "markdown",
   "metadata": {},
   "source": [
    "Find any number at the beginning of text:"
   ]
  },
  {
   "cell_type": "code",
   "execution_count": 8,
   "metadata": {},
   "outputs": [
    {
     "data": {
      "text/plain": [
       "['11']"
      ]
     },
     "execution_count": 8,
     "metadata": {},
     "output_type": "execute_result"
    }
   ],
   "source": [
    "re.findall(r\"^\\d+\",text)"
   ]
  },
  {
   "cell_type": "markdown",
   "metadata": {},
   "source": [
    "Find any number at the end of text:"
   ]
  },
  {
   "cell_type": "code",
   "execution_count": 9,
   "metadata": {},
   "outputs": [
    {
     "data": {
      "text/plain": [
       "['33']"
      ]
     },
     "execution_count": 9,
     "metadata": {},
     "output_type": "execute_result"
    }
   ],
   "source": [
    "re.findall(r\"\\d+$\",text)"
   ]
  },
  {
   "cell_type": "markdown",
   "metadata": {},
   "source": [
    "## Sets\n",
    "| Set | Description |\n",
    "| - | - |\n",
    "| `[aeiou]` | Any vowel character |\n",
    "| `[0-5][0-9]` | Any two-digit number from `00` to `59` |\n",
    "\n",
    "Example: Extract hour, minutes and seconds"
   ]
  },
  {
   "cell_type": "code",
   "execution_count": 3,
   "metadata": {},
   "outputs": [
    {
     "data": {
      "text/plain": [
       "['08:12:00']"
      ]
     },
     "execution_count": 3,
     "metadata": {},
     "output_type": "execute_result"
    }
   ],
   "source": [
    "text = \"2 days ago, it was 08:12:00\"\n",
    "re.findall(r\"[0-5][0-9]:[0-5][0-9]:[0-5][0-9]\",text)"
   ]
  },
  {
   "cell_type": "markdown",
   "metadata": {},
   "source": [
    "Find all words that start with a vowel charatcer (`aeiou`):"
   ]
  },
  {
   "cell_type": "code",
   "execution_count": 4,
   "metadata": {},
   "outputs": [],
   "source": [
    "text = \"\"\"Video provides a powerful way to help you prove your point. When you click Online Video, you can paste in the embed code for the video you want to add. You can also type a keyword to search online for the video that best fits your document.\n",
    "To make your document look professionally produced, Word provides header, footer, cover page, and text box designs that complement each other. For example, you can add a matching cover page, header, and sidebar. Click Insert and then choose the elements you want from the different galleries.\n",
    "Themes and styles also help keep your document coordinated. When you click Design and choose a new Theme, the pictures, charts, and SmartArt graphics change to match your new theme. When you apply styles, your headings change to match the new theme.\n",
    "Save time in Word with new buttons that show up where you need them. To change the way a picture fits in your document, click it and a button for layout options appears next to it. When you work on a table, click where you want to add a row or a column, and then click the plus sign.\n",
    "Reading is easier, too, in the new Reading view. You can collapse parts of the document and focus on the text you want. If you need to stop reading before you reach the end, Word remembers where you left off - even on another device.\"\"\""
   ]
  },
  {
   "cell_type": "code",
   "execution_count": 14,
   "metadata": {},
   "outputs": [
    {
     "data": {
      "text/plain": [
       "['in',\n",
       " 'embed',\n",
       " 'add',\n",
       " 'also',\n",
       " 'online',\n",
       " 'and',\n",
       " 'each',\n",
       " 'other',\n",
       " 'example',\n",
       " 'add',\n",
       " 'and',\n",
       " 'and',\n",
       " 'elements',\n",
       " 'and',\n",
       " 'also',\n",
       " 'and',\n",
       " 'and',\n",
       " 'apply',\n",
       " 'in',\n",
       " 'up',\n",
       " 'in',\n",
       " 'it',\n",
       " 'and',\n",
       " 'options',\n",
       " 'appears',\n",
       " 'it',\n",
       " 'on',\n",
       " 'add',\n",
       " 'or',\n",
       " 'and',\n",
       " 'is',\n",
       " 'easier',\n",
       " 'in',\n",
       " 'of',\n",
       " 'and',\n",
       " 'on',\n",
       " 'end',\n",
       " 'off',\n",
       " 'even',\n",
       " 'on',\n",
       " 'another']"
      ]
     },
     "execution_count": 14,
     "metadata": {},
     "output_type": "execute_result"
    }
   ],
   "source": [
    "re.findall(r\"\\b[aeiou]\\w+\",text)"
   ]
  },
  {
   "cell_type": "markdown",
   "metadata": {},
   "source": [
    "Find all hexadecimal numbers:"
   ]
  },
  {
   "cell_type": "code",
   "execution_count": 4,
   "metadata": {},
   "outputs": [],
   "source": [
    "text = \"\"\"While debugging the firmware, Ahmed noticed that the memory dump contained\n",
    "suspicious values like DEADBEEF and CAFEBABE, which are often used as placeholders\n",
    "or markers in low-level programming.\n",
    "The configuration file also referenced color codes such as #FF5733 for alert states\n",
    "and #00FF00 for success. During the checksum validation, he compared the expected\n",
    "hash a3f9c1d2e4b6 with the actual output b7e2a9c4d1f0, revealing a subtle mismatch\n",
    "caused by a corrupted byte at address 7F3A. These hexadecimal clues helped him trace\n",
    "the issue back to a faulty module in the bootloader sequence.\"\"\""
   ]
  },
  {
   "cell_type": "code",
   "execution_count": 5,
   "metadata": {},
   "outputs": [
    {
     "data": {
      "text/plain": [
       "['DEADBEEF',\n",
       " 'CAFEBABE',\n",
       " 'FF5733',\n",
       " '00FF00',\n",
       " 'a3f9c1d2e4b6',\n",
       " 'b7e2a9c4d1f0',\n",
       " 'a',\n",
       " 'a',\n",
       " '7F3A',\n",
       " 'a']"
      ]
     },
     "execution_count": 5,
     "metadata": {},
     "output_type": "execute_result"
    }
   ],
   "source": [
    "re.findall(r\"\\b[0-9a-fA-F]+\\b\",text)"
   ]
  },
  {
   "cell_type": "markdown",
   "metadata": {},
   "source": [
    "Find all words that do NOT start with a vowel charatcer (`aeiou`):"
   ]
  },
  {
   "cell_type": "code",
   "execution_count": 6,
   "metadata": {},
   "outputs": [],
   "source": [
    "text = \"\"\"Video provides a powerful way to help you prove your point. When you click Online Video, you can paste in the embed code for the video you want to add. You can also type a keyword to search online for the video that best fits your document.\n",
    "To make your document look professionally produced, Word provides header, footer, cover page, and text box designs that complement each other. For example, you can add a matching cover page, header, and sidebar. Click Insert and then choose the elements you want from the different galleries.\n",
    "Themes and styles also help keep your document coordinated. When you click Design and choose a new Theme, the pictures, charts, and SmartArt graphics change to match your new theme. When you apply styles, your headings change to match the new theme.\n",
    "Save time in Word with new buttons that show up where you need them. To change the way a picture fits in your document, click it and a button for layout options appears next to it. When you work on a table, click where you want to add a row or a column, and then click the plus sign.\n",
    "Reading is easier, too, in the new Reading view. You can collapse parts of the document and focus on the text you want. If you need to stop reading before you reach the end, Word remembers where you left off - even on another device.\"\"\""
   ]
  },
  {
   "cell_type": "code",
   "execution_count": 7,
   "metadata": {},
   "outputs": [
    {
     "data": {
      "text/plain": [
       "['Video',\n",
       " 'provides',\n",
       " 'powerful',\n",
       " 'way',\n",
       " 'to',\n",
       " 'help',\n",
       " 'you',\n",
       " 'prove',\n",
       " 'your',\n",
       " 'point',\n",
       " 'When',\n",
       " 'you',\n",
       " 'click',\n",
       " 'Online',\n",
       " 'Video',\n",
       " 'you',\n",
       " 'can',\n",
       " 'paste',\n",
       " 'the',\n",
       " 'code',\n",
       " 'for',\n",
       " 'the',\n",
       " 'video',\n",
       " 'you',\n",
       " 'want',\n",
       " 'to',\n",
       " 'You',\n",
       " 'can',\n",
       " 'type',\n",
       " 'keyword',\n",
       " 'to',\n",
       " 'search',\n",
       " 'for',\n",
       " 'the',\n",
       " 'video',\n",
       " 'that',\n",
       " 'best',\n",
       " 'fits',\n",
       " 'your',\n",
       " 'document',\n",
       " 'To',\n",
       " 'make',\n",
       " 'your',\n",
       " 'document',\n",
       " 'look',\n",
       " 'professionally',\n",
       " 'produced',\n",
       " 'Word',\n",
       " 'provides',\n",
       " 'header',\n",
       " 'footer',\n",
       " 'cover',\n",
       " 'page',\n",
       " 'text',\n",
       " 'box',\n",
       " 'designs',\n",
       " 'that',\n",
       " 'complement',\n",
       " 'For',\n",
       " 'you',\n",
       " 'can',\n",
       " 'matching',\n",
       " 'cover',\n",
       " 'page',\n",
       " 'header',\n",
       " 'sidebar',\n",
       " 'Click',\n",
       " 'Insert',\n",
       " 'then',\n",
       " 'choose',\n",
       " 'the',\n",
       " 'you',\n",
       " 'want',\n",
       " 'from',\n",
       " 'the',\n",
       " 'different',\n",
       " 'galleries',\n",
       " 'Themes',\n",
       " 'styles',\n",
       " 'help',\n",
       " 'keep',\n",
       " 'your',\n",
       " 'document',\n",
       " 'coordinated',\n",
       " 'When',\n",
       " 'you',\n",
       " 'click',\n",
       " 'Design',\n",
       " 'choose',\n",
       " 'new',\n",
       " 'Theme',\n",
       " 'the',\n",
       " 'pictures',\n",
       " 'charts',\n",
       " 'SmartArt',\n",
       " 'graphics',\n",
       " 'change',\n",
       " 'to',\n",
       " 'match',\n",
       " 'your',\n",
       " 'new',\n",
       " 'theme',\n",
       " 'When',\n",
       " 'you',\n",
       " 'styles',\n",
       " 'your',\n",
       " 'headings',\n",
       " 'change',\n",
       " 'to',\n",
       " 'match',\n",
       " 'the',\n",
       " 'new',\n",
       " 'theme',\n",
       " 'Save',\n",
       " 'time',\n",
       " 'Word',\n",
       " 'with',\n",
       " 'new',\n",
       " 'buttons',\n",
       " 'that',\n",
       " 'show',\n",
       " 'where',\n",
       " 'you',\n",
       " 'need',\n",
       " 'them',\n",
       " 'To',\n",
       " 'change',\n",
       " 'the',\n",
       " 'way',\n",
       " 'picture',\n",
       " 'fits',\n",
       " 'your',\n",
       " 'document',\n",
       " 'click',\n",
       " 'button',\n",
       " 'for',\n",
       " 'layout',\n",
       " 'next',\n",
       " 'to',\n",
       " 'When',\n",
       " 'you',\n",
       " 'work',\n",
       " 'table',\n",
       " 'click',\n",
       " 'where',\n",
       " 'you',\n",
       " 'want',\n",
       " 'to',\n",
       " 'row',\n",
       " 'column',\n",
       " 'then',\n",
       " 'click',\n",
       " 'the',\n",
       " 'plus',\n",
       " 'sign',\n",
       " 'Reading',\n",
       " 'too',\n",
       " 'the',\n",
       " 'new',\n",
       " 'Reading',\n",
       " 'view',\n",
       " 'You',\n",
       " 'can',\n",
       " 'collapse',\n",
       " 'parts',\n",
       " 'the',\n",
       " 'document',\n",
       " 'focus',\n",
       " 'the',\n",
       " 'text',\n",
       " 'you',\n",
       " 'want',\n",
       " 'If',\n",
       " 'you',\n",
       " 'need',\n",
       " 'to',\n",
       " 'stop',\n",
       " 'reading',\n",
       " 'before',\n",
       " 'you',\n",
       " 'reach',\n",
       " 'the',\n",
       " 'Word',\n",
       " 'remembers',\n",
       " 'where',\n",
       " 'you',\n",
       " 'left',\n",
       " 'device']"
      ]
     },
     "execution_count": 7,
     "metadata": {},
     "output_type": "execute_result"
    }
   ],
   "source": [
    "re.findall(r\"\\b[^aeiou\\s]\\w+\",text)"
   ]
  },
  {
   "cell_type": "markdown",
   "metadata": {},
   "source": [
    "## `re.split()`\n",
    "Returns a list where the string has been split at each matchز\n",
    "\n",
    "Example: Split by all punctuation marks."
   ]
  },
  {
   "cell_type": "code",
   "execution_count": 5,
   "metadata": {},
   "outputs": [
    {
     "data": {
      "text/plain": [
       "['Video provides a powerful way to help you prove your point',\n",
       " ' When you click Online Video',\n",
       " ' you can paste in the embed code for the video you want to add',\n",
       " ' You can also type a keyword to search online for the video that best fits your document',\n",
       " '\\nTo make your document look professionally produced',\n",
       " ' Word provides header',\n",
       " ' footer',\n",
       " ' cover page',\n",
       " ' and text box designs that complement each other',\n",
       " ' For example',\n",
       " ' you can add a matching cover page',\n",
       " ' header',\n",
       " ' and sidebar',\n",
       " ' Click Insert and then choose the elements you want from the different galleries',\n",
       " '\\nThemes and styles also help keep your document coordinated',\n",
       " ' When you click Design and choose a new Theme',\n",
       " ' the pictures',\n",
       " ' charts',\n",
       " ' and SmartArt graphics change to match your new theme',\n",
       " ' When you apply styles',\n",
       " ' your headings change to match the new theme',\n",
       " '\\nSave time in Word with new buttons that show up where you need them',\n",
       " ' To change the way a picture fits in your document',\n",
       " ' click it and a button for layout options appears next to it',\n",
       " ' When you work on a table',\n",
       " ' click where you want to add a row or a column',\n",
       " ' and then click the plus sign',\n",
       " '\\nReading is easier',\n",
       " ' too',\n",
       " ' in the new Reading view',\n",
       " ' You can collapse parts of the document and focus on the text you want',\n",
       " ' If you need to stop reading before you reach the end',\n",
       " ' Word remembers where you left off - even on another device',\n",
       " '']"
      ]
     },
     "execution_count": 5,
     "metadata": {},
     "output_type": "execute_result"
    }
   ],
   "source": [
    "text = \"\"\"Video provides a powerful way to help you prove your point. When you click Online Video, you can paste in the embed code for the video you want to add. You can also type a keyword to search online for the video that best fits your document.\n",
    "To make your document look professionally produced, Word provides header, footer, cover page, and text box designs that complement each other. For example, you can add a matching cover page, header, and sidebar. Click Insert and then choose the elements you want from the different galleries.\n",
    "Themes and styles also help keep your document coordinated. When you click Design and choose a new Theme, the pictures, charts, and SmartArt graphics change to match your new theme. When you apply styles, your headings change to match the new theme.\n",
    "Save time in Word with new buttons that show up where you need them. To change the way a picture fits in your document, click it and a button for layout options appears next to it. When you work on a table, click where you want to add a row or a column, and then click the plus sign.\n",
    "Reading is easier, too, in the new Reading view. You can collapse parts of the document and focus on the text you want. If you need to stop reading before you reach the end, Word remembers where you left off - even on another device.\"\"\"\n",
    "re.split(r\"[.,;:?!]\",text)"
   ]
  },
  {
   "cell_type": "markdown",
   "metadata": {},
   "source": [
    "Normal string splitting:"
   ]
  },
  {
   "cell_type": "code",
   "execution_count": 8,
   "metadata": {},
   "outputs": [
    {
     "data": {
      "text/plain": [
       "['Video provides a powerful way to help you prove your point',\n",
       " ' When you click Online Video, you can paste in the embed code for the video you want to add',\n",
       " ' You can also type a keyword to search online for the video that best fits your document',\n",
       " '\\nTo make your document look professionally produced, Word provides header, footer, cover page, and text box designs that complement each other',\n",
       " ' For example, you can add a matching cover page, header, and sidebar',\n",
       " ' Click Insert and then choose the elements you want from the different galleries',\n",
       " '\\nThemes and styles also help keep your document coordinated',\n",
       " ' When you click Design and choose a new Theme, the pictures, charts, and SmartArt graphics change to match your new theme',\n",
       " ' When you apply styles, your headings change to match the new theme',\n",
       " '\\nSave time in Word with new buttons that show up where you need them',\n",
       " ' To change the way a picture fits in your document, click it and a button for layout options appears next to it',\n",
       " ' When you work on a table, click where you want to add a row or a column, and then click the plus sign',\n",
       " '\\nReading is easier, too, in the new Reading view',\n",
       " ' You can collapse parts of the document and focus on the text you want',\n",
       " ' If you need to stop reading before you reach the end, Word remembers where you left off - even on another device',\n",
       " '']"
      ]
     },
     "execution_count": 8,
     "metadata": {},
     "output_type": "execute_result"
    }
   ],
   "source": [
    "text.split(\".\")"
   ]
  },
  {
   "cell_type": "markdown",
   "metadata": {},
   "source": [
    "Regular expressions splitting:\n",
    "\n",
    "Example: Remove all punctuation marks"
   ]
  },
  {
   "cell_type": "code",
   "execution_count": 9,
   "metadata": {},
   "outputs": [
    {
     "data": {
      "text/plain": [
       "['Video provides a powerful way to help you prove your point',\n",
       " ' When you click Online Video',\n",
       " ' you can paste in the embed code for the video you want to add',\n",
       " ' You can also type a keyword to search online for the video that best fits your document',\n",
       " '\\nTo make your document look professionally produced',\n",
       " ' Word provides header',\n",
       " ' footer',\n",
       " ' cover page',\n",
       " ' and text box designs that complement each other',\n",
       " ' For example',\n",
       " ' you can add a matching cover page',\n",
       " ' header',\n",
       " ' and sidebar',\n",
       " ' Click Insert and then choose the elements you want from the different galleries',\n",
       " '\\nThemes and styles also help keep your document coordinated',\n",
       " ' When you click Design and choose a new Theme',\n",
       " ' the pictures',\n",
       " ' charts',\n",
       " ' and SmartArt graphics change to match your new theme',\n",
       " ' When you apply styles',\n",
       " ' your headings change to match the new theme',\n",
       " '\\nSave time in Word with new buttons that show up where you need them',\n",
       " ' To change the way a picture fits in your document',\n",
       " ' click it and a button for layout options appears next to it',\n",
       " ' When you work on a table',\n",
       " ' click where you want to add a row or a column',\n",
       " ' and then click the plus sign',\n",
       " '\\nReading is easier',\n",
       " ' too',\n",
       " ' in the new Reading view',\n",
       " ' You can collapse parts of the document and focus on the text you want',\n",
       " ' If you need to stop reading before you reach the end',\n",
       " ' Word remembers where you left off - even on another device',\n",
       " '']"
      ]
     },
     "execution_count": 9,
     "metadata": {},
     "output_type": "execute_result"
    }
   ],
   "source": [
    "re.split(r\"[.,;:?!]\",text)"
   ]
  },
  {
   "cell_type": "markdown",
   "metadata": {},
   "source": [
    "## Exclusion\n",
    "Exclude digits in the following text:\n",
    "> There are 3 numbers 34 inside 5 this sentence"
   ]
  },
  {
   "cell_type": "code",
   "execution_count": null,
   "metadata": {},
   "outputs": [
    {
     "data": {
      "text/plain": [
       "['There are ', ' numbers ', ' inside ', ' this sentence']"
      ]
     },
     "execution_count": 14,
     "metadata": {},
     "output_type": "execute_result"
    }
   ],
   "source": [
    "text = \"There are 3 numbers 34 inside 5 this sentence\"\n",
    "re.findall(r\"[^\\d]+\",text)"
   ]
  },
  {
   "cell_type": "markdown",
   "metadata": {},
   "source": [
    "Exclude punctuation from the following text text:\n",
    "> This is a string! But it has punctuation. How can we remove it?"
   ]
  },
  {
   "cell_type": "code",
   "execution_count": 18,
   "metadata": {},
   "outputs": [
    {
     "data": {
      "text/plain": [
       "'This is a string But it has punctuation How can we remove it'"
      ]
     },
     "execution_count": 18,
     "metadata": {},
     "output_type": "execute_result"
    }
   ],
   "source": [
    "text = \"This is a string! But it has punctuation. How can we remove it?\"\n",
    "\" \".join( re.findall(r\"[^.!?,; ]+\",text) )"
   ]
  },
  {
   "cell_type": "markdown",
   "metadata": {},
   "source": [
    "Find the hyphen-words in this text. But you do not know how long-ish they are:\n",
    "> Find the hyphen-words in this text. But you do not know how long-ish they are:"
   ]
  },
  {
   "cell_type": "code",
   "execution_count": 20,
   "metadata": {},
   "outputs": [
    {
     "data": {
      "text/plain": [
       "['hyphen-words', 'long-ish']"
      ]
     },
     "execution_count": 20,
     "metadata": {},
     "output_type": "execute_result"
    }
   ],
   "source": [
    "text = \"Find the hyphen-words in this text. But you do not know how long-ish they are:\"\n",
    "re.findall(r\"\\w+-\\w+\",text)"
   ]
  },
  {
   "cell_type": "markdown",
   "metadata": {},
   "source": [
    "Example: Find all hashtags in a tweet (case-insensitive)"
   ]
  },
  {
   "cell_type": "code",
   "execution_count": 11,
   "metadata": {},
   "outputs": [],
   "source": [
    "text = \"\"\"Just wrapped up an epic coding session! # this is not a hashtag.\n",
    "Learned so much about regex, file handling, and Git workflows.\n",
    "Feeling unstoppable! #CodingLife #python-rocks #GitGud #100_days_of_coding\n",
    "#regexMaster #dev_diaries #TechTalk #100DaysOfCode #AIandMe\n",
    "#debuggingChronicles #CodeNewbie #camelCaseIsCool #letsBuild #OpenSourceVibes\"\"\""
   ]
  },
  {
   "cell_type": "code",
   "execution_count": 12,
   "metadata": {},
   "outputs": [
    {
     "data": {
      "text/plain": [
       "['#CodingLife',\n",
       " '#python',\n",
       " '#GitGud',\n",
       " '#100_days_of_coding',\n",
       " '#regexMaster',\n",
       " '#dev_diaries',\n",
       " '#TechTalk',\n",
       " '#100DaysOfCode',\n",
       " '#AIandMe',\n",
       " '#debuggingChronicles',\n",
       " '#CodeNewbie',\n",
       " '#camelCaseIsCool',\n",
       " '#letsBuild',\n",
       " '#OpenSourceVibes']"
      ]
     },
     "execution_count": 12,
     "metadata": {},
     "output_type": "execute_result"
    }
   ],
   "source": [
    "re.findall(r\"#\\w+\",text)"
   ]
  },
  {
   "cell_type": "markdown",
   "metadata": {},
   "source": [
    "Find all CAPS words in text:"
   ]
  },
  {
   "cell_type": "code",
   "execution_count": 13,
   "metadata": {},
   "outputs": [],
   "source": [
    "text = \"\"\"The sun had barely risen when the team gathered at the base camp,\n",
    "their breath visible in the crisp morning air.\n",
    "Everyone was READY, determined to conquer the summit before noon.\n",
    "The leader shouted, \"GEAR UP!\" and within minutes, backpacks were strapped,\n",
    "boots tightened, and spirits HIGH. As they ascended, the wind grew stronger,\n",
    "whispering secrets of the mountain's ancient past.\n",
    "PLEASE DON'T do this.\n",
    "\"KEEP MOVING!\" echoed through the valley, a mantra that pushed them forward.\n",
    "By midday, they reached the peak, faces flushed with triumph,\n",
    "shouting \"WE MADE IT!\" into the vast, echoing silence.\"\"\""
   ]
  },
  {
   "cell_type": "code",
   "execution_count": 14,
   "metadata": {},
   "outputs": [
    {
     "data": {
      "text/plain": [
       "['READY',\n",
       " 'GEAR',\n",
       " 'UP',\n",
       " 'HIGH',\n",
       " 'PLEASE',\n",
       " 'DON',\n",
       " 'T',\n",
       " 'KEEP',\n",
       " 'MOVING',\n",
       " 'WE',\n",
       " 'MADE',\n",
       " 'IT']"
      ]
     },
     "execution_count": 14,
     "metadata": {},
     "output_type": "execute_result"
    }
   ],
   "source": [
    "re.findall(r\"\\b[A-Z]+\\b\",text)"
   ]
  },
  {
   "cell_type": "markdown",
   "metadata": {},
   "source": [
    "## Using `()` for grouping\n",
    "Find same word in different patterns"
   ]
  },
  {
   "cell_type": "code",
   "execution_count": 15,
   "metadata": {},
   "outputs": [
    {
     "data": {
      "text/plain": [
       "['fish', 'nap', 'erpillar']"
      ]
     },
     "execution_count": 15,
     "metadata": {},
     "output_type": "execute_result"
    }
   ],
   "source": [
    "text = \"\"\"Would you like some catfish?\n",
    "Do you want to take a catnap?\n",
    "Did you see this caterpillar?\"\"\"\n",
    "re.findall(r\"cat(fish|nap|erpillar)\",text)"
   ]
  },
  {
   "cell_type": "markdown",
   "metadata": {},
   "source": [
    "Find all lines that start with `The`, `That`, or `This` and end with `Spain` or `Spanish`:\n",
    "> The rain in Spain.<br/>\n",
    "> This man is Spanish.<br/>\n",
    "> Because is was born in Spain.<br/>\n",
    "> But this is not any Spanish thing."
   ]
  },
  {
   "cell_type": "code",
   "execution_count": 10,
   "metadata": {},
   "outputs": [
    {
     "name": "stdout",
     "output_type": "stream",
     "text": [
      "The rain in Spain.\n",
      "This man is Spanish.\n"
     ]
    }
   ],
   "source": [
    "text = \"\"\"The rain in Spain.\n",
    "This man is Spanish.\n",
    "Because is was born in Spain\n",
    "But this is not any Spanish thing.\"\"\"\n",
    "\n",
    "for match in re.finditer(r\"^(The|That|This).*(Spain|Spanish)\\.?$\", text,re.MULTILINE):\n",
    "\tprint(match.group())"
   ]
  },
  {
   "cell_type": "markdown",
   "metadata": {},
   "source": [
    "Find full phrases in ALL CAPS:"
   ]
  },
  {
   "cell_type": "code",
   "execution_count": 16,
   "metadata": {},
   "outputs": [],
   "source": [
    "text = \"\"\"The sun had barely risen when the team gathered at the base camp,\n",
    "their breath visible in the crisp morning air.\n",
    "Everyone was READY, determined to conquer the summit before noon.\n",
    "The leader shouted, \"GEAR UP!\" and within minutes, backpacks were strapped,\n",
    "boots tightened, and spirits HIGH. As they ascended, the wind grew stronger,\n",
    "whispering secrets of the mountain's ancient past.\n",
    "PLEASE DON'T do this.\n",
    "\"KEEP MOVING!\" echoed through the valley, a mantra that pushed them forward.\n",
    "By midday, they reached the peak, faces flushed with triumph,\n",
    "shouting \"WE MADE IT!\" into the vast, echoing silence.\"\"\""
   ]
  },
  {
   "cell_type": "code",
   "execution_count": 17,
   "metadata": {},
   "outputs": [
    {
     "data": {
      "text/plain": [
       "['READY', 'GEAR UP', 'HIGH', \"PLEASE DON'T\", 'KEEP MOVING', 'WE MADE IT']"
      ]
     },
     "execution_count": 17,
     "metadata": {},
     "output_type": "execute_result"
    }
   ],
   "source": [
    "re.findall(r\"\\b[A-Z]+[\\sA-Z']*[A-Z]+\\b\",text)"
   ]
  },
  {
   "cell_type": "markdown",
   "metadata": {},
   "source": [
    "## Using named groups\n",
    "`(?P<name>...)`\n",
    "\n",
    "Example: Extract year, month, and day"
   ]
  },
  {
   "cell_type": "code",
   "execution_count": 18,
   "metadata": {},
   "outputs": [],
   "source": [
    "text = \"\"\"Birth date is 2005-09-05. Today's date is 2025-09-25.\"\"\""
   ]
  },
  {
   "cell_type": "code",
   "execution_count": 19,
   "metadata": {},
   "outputs": [
    {
     "name": "stdout",
     "output_type": "stream",
     "text": [
      "2005 09 05\n",
      "2025 09 25\n"
     ]
    }
   ],
   "source": [
    "pattern = r\"(?P<year>\\d{4})-(?P<month>\\d{2})-(?P<day>\\d{2})\"\n",
    "\n",
    "for match in re.finditer(pattern, text):\n",
    "\tprint(match.group(\"year\"), match.group(\"month\"), match.group(\"day\"))"
   ]
  },
  {
   "cell_type": "markdown",
   "metadata": {},
   "source": [
    "## Replacing text\n",
    "Use `re.sub(pattern, repl, string)`\n",
    "\n",
    "Remove all vowels from text:"
   ]
  },
  {
   "cell_type": "code",
   "execution_count": 20,
   "metadata": {},
   "outputs": [],
   "source": [
    "text = \"\"\"Video provides a powerful way to help you prove your point. When you click Online Video, you can paste in the embed code for the video you want to add. You can also type a keyword to search online for the video that best fits your document.\n",
    "To make your document look professionally produced, Word provides header, footer, cover page, and text box designs that complement each other. For example, you can add a matching cover page, header, and sidebar. Click Insert and then choose the elements you want from the different galleries.\n",
    "Themes and styles also help keep your document coordinated. When you click Design and choose a new Theme, the pictures, charts, and SmartArt graphics change to match your new theme. When you apply styles, your headings change to match the new theme.\n",
    "Save time in Word with new buttons that show up where you need them. To change the way a picture fits in your document, click it and a button for layout options appears next to it. When you work on a table, click where you want to add a row or a column, and then click the plus sign.\n",
    "Reading is easier, too, in the new Reading view. You can collapse parts of the document and focus on the text you want. If you need to stop reading before you reach the end, Word remembers where you left off - even on another device.\"\"\""
   ]
  },
  {
   "cell_type": "code",
   "execution_count": 21,
   "metadata": {},
   "outputs": [
    {
     "data": {
      "text/plain": [
       "'Video provides  powerful way to help you prove your point. When you click  Video, you can paste  the  code for the video you want to . You can  type  keyword to search  for the video that best fits your document.\\nTo make your document look professionally produced, Word provides header, footer, cover page,  text box designs that complement  . For , you can   matching cover page, header,  sidebar. Click   then choose the  you want from the different galleries.\\nThemes  styles  help keep your document coordinated. When you click Design  choose  new Theme, the pictures, charts,  SmartArt graphics change to match your new theme. When you  styles, your headings change to match the new theme.\\nSave time  Word with new buttons that show  where you need them. To change the way  picture fits  your document, click    button for layout   next to . When you work   table, click where you want to   row   column,  then click the plus sign.\\nReading  , too,  the new Reading view. You can collapse parts  the document  focus  the text you want.  you need to stop reading before you reach the , Word remembers where you left  -    device.'"
      ]
     },
     "execution_count": 21,
     "metadata": {},
     "output_type": "execute_result"
    }
   ],
   "source": [
    "re.sub(r\"\\b[aeiou]\\w*\\b\",\"\",text,flags=re.IGNORECASE)"
   ]
  },
  {
   "cell_type": "markdown",
   "metadata": {},
   "source": [
    "## Extracting URLs\n",
    "\n",
    "References:\n",
    "* [15 Examples for Text Processing using Regex - Example 1: Extracting URLs](https://medium.com/@monicanogueras/15-examples-for-advanced-text-processing-using-regex-48223adc720d)"
   ]
  },
  {
   "cell_type": "markdown",
   "metadata": {},
   "source": []
  },
  {
   "cell_type": "markdown",
   "metadata": {},
   "source": [
    "## Regular Expressions Testing Tools\n",
    "* [Regular Expressions 101](https://regex101.com)\n",
    "* [pythex](https://pythex.org)\n",
    "\n",
    "## Regular Expressions Examples\n",
    "* [Community Pattern Library](https://regex101.com/library) - Regular Expressions 101"
   ]
  }
 ],
 "metadata": {
  "kernelspec": {
   "display_name": "Python 3",
   "language": "python",
   "name": "python3"
  },
  "language_info": {
   "codemirror_mode": {
    "name": "ipython",
    "version": 3
   },
   "file_extension": ".py",
   "mimetype": "text/x-python",
   "name": "python",
   "nbconvert_exporter": "python",
   "pygments_lexer": "ipython3",
   "version": "3.13.7"
  },
  "orig_nbformat": 4,
  "vscode": {
   "interpreter": {
    "hash": "5238573367df39f7286bb46f9ff5f08f63a01a80960060ce41e3c79b190280fa"
   }
  }
 },
 "nbformat": 4,
 "nbformat_minor": 2
}
