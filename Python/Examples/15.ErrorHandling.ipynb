{
 "cells": [
  {
   "attachments": {},
   "cell_type": "markdown",
   "metadata": {},
   "source": [
    "# Lesson 15: Error Handling التعامل مع الأخطاء\n",
    "الهدف: أن نسمع للبرنامج في الاستمرار في العمل والإبلاغ عن المشكلة التي حدثت.\n",
    "\n",
    "## References\n",
    "* [Errors and Exceptions](https://docs.python.org/3/tutorial/errors.html)\n",
    "* [The try statement](https://docs.python.org/3/reference/compound_stmts.html#the-try-statement)\n",
    "* [Built-in Exceptions](https://docs.python.org/3/library/exceptions.html)\n",
    "* [Python Errors](https://youtu.be/jevAO7QlkQQ) - Codezilla\n",
    "* [Python Try Except](https://www.w3schools.com/python/python_try_except.asp)\n",
    "* [Debug code with Visual Studio Code](https://code.visualstudio.com/docs/debugtest/debugging)\n",
    "\n",
    "## TypeError\n",
    "* قم بتعريف دالة لحساب مساحة الدائرة\n",
    "* `math.pow` / `**`"
   ]
  },
  {
   "cell_type": "code",
   "execution_count": 16,
   "metadata": {},
   "outputs": [
    {
     "ename": "TypeError",
     "evalue": "unsupported operand type(s) for ** or pow(): 'str' and 'int'",
     "output_type": "error",
     "traceback": [
      "\u001b[1;31m---------------------------------------------------------------------------\u001b[0m",
      "\u001b[1;31mTypeError\u001b[0m                                 Traceback (most recent call last)",
      "Cell \u001b[1;32mIn[16], line 7\u001b[0m\n\u001b[0;32m      4\u001b[0m \t\u001b[39mreturn\u001b[39;00m pi \u001b[39m*\u001b[39m radius \u001b[39m*\u001b[39m\u001b[39m*\u001b[39m \u001b[39m2\u001b[39m\n\u001b[0;32m      6\u001b[0m radius \u001b[39m=\u001b[39m \u001b[39minput\u001b[39m(\u001b[39m\"\u001b[39m\u001b[39mEnter radius: \u001b[39m\u001b[39m\"\u001b[39m)\n\u001b[1;32m----> 7\u001b[0m area \u001b[39m=\u001b[39m circleArea(radius)\n\u001b[0;32m      8\u001b[0m \u001b[39mprint\u001b[39m(area)\n",
      "Cell \u001b[1;32mIn[16], line 4\u001b[0m, in \u001b[0;36mcircleArea\u001b[1;34m(radius)\u001b[0m\n\u001b[0;32m      3\u001b[0m \u001b[39mdef\u001b[39;00m \u001b[39mcircleArea\u001b[39m(radius):\n\u001b[1;32m----> 4\u001b[0m \t\u001b[39mreturn\u001b[39;00m pi \u001b[39m*\u001b[39m radius \u001b[39m*\u001b[39;49m\u001b[39m*\u001b[39;49m \u001b[39m2\u001b[39;49m\n",
      "\u001b[1;31mTypeError\u001b[0m: unsupported operand type(s) for ** or pow(): 'str' and 'int'"
     ]
    }
   ],
   "source": [
    "from math import pi\n",
    "\n",
    "def circleArea(radius):\n",
    "\treturn pi * radius ** 2\n",
    "\n",
    "radius = input(\"Enter radius: \")\n",
    "area = circleArea(radius)\n",
    "print(area)"
   ]
  },
  {
   "attachments": {},
   "cell_type": "markdown",
   "metadata": {},
   "source": [
    "## try ... except"
   ]
  },
  {
   "cell_type": "code",
   "execution_count": 8,
   "metadata": {},
   "outputs": [
    {
     "name": "stdout",
     "output_type": "stream",
     "text": [
      "There is an error.\n",
      "Area: 153.9\n"
     ]
    }
   ],
   "source": [
    "from math import pi\n",
    "\n",
    "def circleArea(radius:float) -> float:\n",
    "\treturn pi * radius ** 2\n",
    "\n",
    "radius = input(\"Enter radius: \")\n",
    "try:\n",
    "\tradius = float(radius)\n",
    "\tarea = circleArea(radius)\n",
    "except:\n",
    "\tprint(\"There is an error.\")\n",
    "\n",
    "print(f\"Area: {area:.1f}\")"
   ]
  },
  {
   "attachments": {},
   "cell_type": "markdown",
   "metadata": {},
   "source": [
    "`else` في حالة عدم حدوث مشكلة"
   ]
  },
  {
   "cell_type": "code",
   "execution_count": 7,
   "metadata": {},
   "outputs": [
    {
     "name": "stdout",
     "output_type": "stream",
     "text": [
      "There is an error.\n"
     ]
    }
   ],
   "source": [
    "from math import pi\n",
    "\n",
    "def circleArea(radius):\n",
    "\treturn pi * radius ** 2\n",
    "\n",
    "radius = input(\"Enter radius: \")\n",
    "try:\n",
    "\tradius = int(radius)\n",
    "\tarea = circleArea(radius)\n",
    "except:\n",
    "\tprint(\"There is an error.\")\n",
    "else:\n",
    "\tprint(f\"Area: {area:.1f}\")"
   ]
  },
  {
   "attachments": {},
   "cell_type": "markdown",
   "metadata": {},
   "source": [
    "## Error handling keywords\n",
    "| Block | Meaning |\n",
    "| - | - |\n",
    "| `try` | To be attempted (may lead to an error) |\n",
    "| `except` | Will execute in case there is an error in the `try` block |\n",
    "| `else` | Executed if:<br/>- the control flow leaves the `try` block<br/>- no exception was raised, and<br/>- no `return`, `continue`, or `break` statement was executed |\n",
    "| `finally` | A final block to be executed regardless of an error |\n",
    "\n",
    "## ask_for_int()\n",
    "استمر في سؤال المستخدم حتى يكتب رقماً\n",
    "* `while True`"
   ]
  },
  {
   "cell_type": "code",
   "execution_count": 11,
   "metadata": {},
   "outputs": [
    {
     "name": "stdout",
     "output_type": "stream",
     "text": [
      "This is not a number.\n",
      "This is not a number.\n",
      "This is not a number.\n",
      "Thank you\n",
      "4\n"
     ]
    }
   ],
   "source": [
    "def ask_for_int() -> int:\n",
    "\twhile True:\n",
    "\t\ttry:\n",
    "\t\t\tnumber = input(\"Enter a number: \")\n",
    "\t\t\tnumber = int(number)\n",
    "\t\texcept:\n",
    "\t\t\tprint(f\"This is not a number.\")\n",
    "\t\telse:\n",
    "\t\t\tprint(\"Thank you\")\n",
    "\t\t\treturn number\n",
    "\n",
    "x = ask_for_int()\n",
    "print(x)"
   ]
  },
  {
   "attachments": {},
   "cell_type": "markdown",
   "metadata": {},
   "source": [
    "## Built-in Errors\n",
    "أشهر الأخطاء:\n",
    "* `IndexError`: Index out of range حاولت استخدام مكان غير موجود\n",
    "* `KeyError`: key is not found in dictionary keys حاولت استخدام مفتاح غير موجود\n",
    "* `OSError`: \"file not found\" or \"disk full\" ملف غير موجود أو لا توجد مساحة كافية\n",
    "* `TypeError`: A function/operation are applied on an incorrect type خطأ بسبب نوع البيانات\n",
    "* `ValueError`: قيمة غير مناسبة\n",
    "* `ZeroDivisionError` القسمة على صفر\n",
    "\n",
    "Reference:\n",
    "* [Built-in Exceptions](https://docs.python.org/3/library/exceptions.html)"
   ]
  },
  {
   "cell_type": "code",
   "execution_count": 27,
   "metadata": {},
   "outputs": [
    {
     "name": "stdout",
     "output_type": "stream",
     "text": [
      "Cannot divide by zero.\n"
     ]
    }
   ],
   "source": [
    "x = 1\n",
    "y = 0\n",
    "\n",
    "try:\n",
    "\tprint(x/y)\n",
    "except OSError as error:\n",
    "\tprint(error)\n",
    "except ZeroDivisionError:\n",
    "\tprint(\"Cannot divide by zero.\")"
   ]
  },
  {
   "cell_type": "markdown",
   "metadata": {},
   "source": [
    "Open a file for reading then write to it"
   ]
  },
  {
   "cell_type": "code",
   "execution_count": 13,
   "metadata": {},
   "outputs": [
    {
     "name": "stdout",
     "output_type": "stream",
     "text": [
      "Error using the file.\n",
      "Finished\n"
     ]
    }
   ],
   "source": [
    "try:\n",
    "\twith open(\"Students.txt\") as file:\n",
    "\t\tfile.write(\"Hello\")\n",
    "except OSError:\n",
    "\tprint(\"Error using the file.\")\n",
    "\n",
    "print(\"Finished\")"
   ]
  },
  {
   "cell_type": "markdown",
   "metadata": {},
   "source": [
    "Read error details"
   ]
  },
  {
   "cell_type": "code",
   "execution_count": 28,
   "metadata": {},
   "outputs": [
    {
     "name": "stdout",
     "output_type": "stream",
     "text": [
      "not writable. File is opened in r mode.\n",
      "I always run.\n"
     ]
    }
   ],
   "source": [
    "try:\n",
    "\twith open(\"Students.txt\") as file:\n",
    "\t\tfile.write(\"Hello\")\n",
    "except OSError as error:\n",
    "\tprint(f\"{error}. File is opened in {file.mode} mode.\")\n",
    "finally:\n",
    "\tprint(\"I always run.\")"
   ]
  },
  {
   "cell_type": "markdown",
   "metadata": {},
   "source": [
    "Handle multiple errors"
   ]
  },
  {
   "cell_type": "code",
   "execution_count": 29,
   "metadata": {},
   "outputs": [
    {
     "name": "stdout",
     "output_type": "stream",
     "text": [
      "not writable. File is opened in r mode.\n",
      "I always run.\n"
     ]
    }
   ],
   "source": [
    "try:\n",
    "\twith open(\"Students.txt\") as file:\n",
    "\t\tfile.write(\"Hello\")\n",
    "except OSError as error:\n",
    "\tprint(f\"{error}. File is opened in {file.mode} mode.\")\n",
    "except error:\n",
    "\tprint(error)\n",
    "finally:\n",
    "\tprint(\"I always run.\")"
   ]
  },
  {
   "attachments": {},
   "cell_type": "markdown",
   "metadata": {},
   "source": [
    "## `raise` لإنشاء خطأ\n",
    "عندما أريد أن أعلم الكود الخارجي أنه حصل مشكلة عندي."
   ]
  },
  {
   "cell_type": "code",
   "execution_count": null,
   "metadata": {},
   "outputs": [
    {
     "ename": "ValueError",
     "evalue": "Invalid username",
     "output_type": "error",
     "traceback": [
      "\u001b[1;31m---------------------------------------------------------------------------\u001b[0m",
      "\u001b[1;31mValueError\u001b[0m                                Traceback (most recent call last)",
      "Cell \u001b[1;32mIn[13], line 3\u001b[0m\n\u001b[0;32m      1\u001b[0m name \u001b[39m=\u001b[39m \u001b[39minput\u001b[39m(\u001b[39m\"\u001b[39m\u001b[39mEnter your name: \u001b[39m\u001b[39m\"\u001b[39m)\n\u001b[0;32m      2\u001b[0m \u001b[39mif\u001b[39;00m name \u001b[39m!=\u001b[39m \u001b[39m\"\u001b[39m\u001b[39mahmed\u001b[39m\u001b[39m\"\u001b[39m:\n\u001b[1;32m----> 3\u001b[0m     \u001b[39mraise\u001b[39;00m \u001b[39mValueError\u001b[39;00m(\u001b[39m\"\u001b[39m\u001b[39mInvalid username\u001b[39m\u001b[39m\"\u001b[39m)\n",
      "\u001b[1;31mValueError\u001b[0m: Invalid username"
     ]
    }
   ],
   "source": [
    "def ValidateUserName(username):\n",
    "\tif username != \"ahmed\":\n",
    "\t\traise ValueError(f\"Wrong username: {username}\")\n",
    "\t\n",
    "username = input(\"Enter your username: \")\n",
    "try:\n",
    "\tValidateUserName(username)\n",
    "except Exception as error:\n",
    "\tprint(error)\n"
   ]
  }
 ],
 "metadata": {
  "kernelspec": {
   "display_name": "Python 3",
   "language": "python",
   "name": "python3"
  },
  "language_info": {
   "codemirror_mode": {
    "name": "ipython",
    "version": 3
   },
   "file_extension": ".py",
   "mimetype": "text/x-python",
   "name": "python",
   "nbconvert_exporter": "python",
   "pygments_lexer": "ipython3",
   "version": "3.13.7"
  },
  "orig_nbformat": 4,
  "vscode": {
   "interpreter": {
    "hash": "5238573367df39f7286bb46f9ff5f08f63a01a80960060ce41e3c79b190280fa"
   }
  }
 },
 "nbformat": 4,
 "nbformat_minor": 2
}
