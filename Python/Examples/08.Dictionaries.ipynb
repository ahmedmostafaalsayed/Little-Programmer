{
 "cells": [
  {
   "attachments": {},
   "cell_type": "markdown",
   "metadata": {},
   "source": [
    "# Lesson 8. Dictionaries\n",
    "* **Dictionary**: Ordered map of keys and values مجموعة مرتبة من أزواج من المفاتيح والقيم\n",
    "* لا تكرار، الوصول للقيمة بالمفتاح، وليس بترتيبها\n",
    "* Creating a dictionary إنشاء قاموس"
   ]
  },
  {
   "cell_type": "code",
   "execution_count": 28,
   "metadata": {},
   "outputs": [],
   "source": [
    "prices = {\"Orange\":10, \"Apple\":15, \"Banana\":20}"
   ]
  },
  {
   "cell_type": "markdown",
   "metadata": {},
   "source": [
    "## Accessing dictionary items الوصول إلى عناصر قاموس\n",
    "* A dictionary is ordered القاموس يحتفظ بالترتيب\n",
    "* Looping over keys اللف على المفاتيح"
   ]
  },
  {
   "cell_type": "code",
   "execution_count": 20,
   "metadata": {},
   "outputs": [
    {
     "name": "stdout",
     "output_type": "stream",
     "text": [
      "Orange\n",
      "Apple\n",
      "Banana\n"
     ]
    }
   ],
   "source": [
    "for product in prices:\n",
    "\tprint(product)"
   ]
  },
  {
   "cell_type": "markdown",
   "metadata": {},
   "source": [
    "Accessing a value using a key الوصول إلى قيمة عن طريق مفتاحها"
   ]
  },
  {
   "cell_type": "code",
   "execution_count": null,
   "metadata": {},
   "outputs": [],
   "source": [
    "print(prices[\"Banana\"])"
   ]
  },
  {
   "attachments": {},
   "cell_type": "markdown",
   "metadata": {},
   "source": [
    "`KeyError`: Accessing a dictionary value using non-existing key استخدام مفتاح غير موجود"
   ]
  },
  {
   "cell_type": "code",
   "execution_count": 2,
   "metadata": {},
   "outputs": [
    {
     "ename": "KeyError",
     "evalue": "'Carrot'",
     "output_type": "error",
     "traceback": [
      "\u001b[1;31m---------------------------------------------------------------------------\u001b[0m",
      "\u001b[1;31mKeyError\u001b[0m                                  Traceback (most recent call last)",
      "Cell \u001b[1;32mIn[2], line 1\u001b[0m\n\u001b[1;32m----> 1\u001b[0m \u001b[38;5;28mprint\u001b[39m(\u001b[43mprices\u001b[49m\u001b[43m[\u001b[49m\u001b[38;5;124;43m\"\u001b[39;49m\u001b[38;5;124;43mCarrot\u001b[39;49m\u001b[38;5;124;43m\"\u001b[39;49m\u001b[43m]\u001b[49m)\n",
      "\u001b[1;31mKeyError\u001b[0m: 'Carrot'"
     ]
    }
   ],
   "source": [
    "print(prices[\"Carrot\"])"
   ]
  },
  {
   "attachments": {},
   "cell_type": "markdown",
   "metadata": {},
   "source": [
    "`get` accessing a non-existing key without an error استخراج قيمة غير موجودة بدون مشاكل"
   ]
  },
  {
   "cell_type": "code",
   "execution_count": 7,
   "metadata": {},
   "outputs": [
    {
     "name": "stdout",
     "output_type": "stream",
     "text": [
      "None\n"
     ]
    }
   ],
   "source": [
    "print(prices.get(\"Water\"))"
   ]
  },
  {
   "cell_type": "markdown",
   "metadata": {},
   "source": [
    "`get` accessing a non-existing key and providing a backup value استخراج القيمة المقابلة لمفتاح أو قيمة بديلة"
   ]
  },
  {
   "cell_type": "code",
   "execution_count": 3,
   "metadata": {},
   "outputs": [
    {
     "name": "stdout",
     "output_type": "stream",
     "text": [
      "0\n"
     ]
    }
   ],
   "source": [
    "print( prices.get(\"Water\",0) )"
   ]
  },
  {
   "cell_type": "markdown",
   "metadata": {},
   "source": [
    "## Writing in a dictionar الكتابة في القاموس\n",
    "* Assigning a value to a key كتابة قيمة عند مفتاح\n",
    "* Duplicates are not allowed ممنوع التكرار"
   ]
  },
  {
   "cell_type": "code",
   "execution_count": 29,
   "metadata": {},
   "outputs": [],
   "source": [
    "prices[\"Apple\"] = 50"
   ]
  },
  {
   "attachments": {},
   "cell_type": "markdown",
   "metadata": {},
   "source": [
    "* Adding a new item إضافة عنصر جديد\n",
    "* Length of a dictionary عدد عناصر القاموس"
   ]
  },
  {
   "cell_type": "code",
   "execution_count": 30,
   "metadata": {},
   "outputs": [
    {
     "name": "stdout",
     "output_type": "stream",
     "text": [
      "I have 4 products: Orange, Apple, Banana, Carrot\n"
     ]
    },
    {
     "data": {
      "text/plain": [
       "{'Orange': 10, 'Apple': 50, 'Banana': 20, 'Carrot': 12}"
      ]
     },
     "execution_count": 30,
     "metadata": {},
     "output_type": "execute_result"
    }
   ],
   "source": [
    "prices[\"Carrot\"] = 12\n",
    "print(f\"I have {len(prices)} products: {', '.join(list(prices.keys()))}\")\n",
    "prices"
   ]
  },
  {
   "cell_type": "markdown",
   "metadata": {},
   "source": [
    "## Creating an empty dictionary إنشاء قاموس جديد فاضي"
   ]
  },
  {
   "cell_type": "code",
   "execution_count": 10,
   "metadata": {},
   "outputs": [
    {
     "data": {
      "text/plain": [
       "0"
      ]
     },
     "execution_count": 10,
     "metadata": {},
     "output_type": "execute_result"
    }
   ],
   "source": [
    "emptyDict = {}\n",
    "len(emptyDict)"
   ]
  },
  {
   "attachments": {},
   "cell_type": "markdown",
   "metadata": {},
   "source": [
    "## Looping over dictionary items اللف على عناصر القاموس"
   ]
  },
  {
   "cell_type": "code",
   "execution_count": 21,
   "metadata": {},
   "outputs": [
    {
     "name": "stdout",
     "output_type": "stream",
     "text": [
      "Orange    10 EGP\n",
      "Apple     15 EGP\n",
      "Banana    20 EGP\n"
     ]
    }
   ],
   "source": [
    "for item in prices:\n",
    "\tprint(f\"{item:10}{prices[item]} EGP\")"
   ]
  },
  {
   "cell_type": "markdown",
   "metadata": {},
   "source": [
    "## Data types of dictionary values أنواع بيانات القيم\n",
    "* Dictionary values can be of any data types قيم القاموس قد تكون من أي نوع بيانات\n",
    "* `type(object).__name__` اسم نوع البيانات\n",
    "* Using dictionaries to store object `properties` استخدام القاموس لتخزين خصائص كائن"
   ]
  },
  {
   "cell_type": "code",
   "execution_count": 25,
   "metadata": {},
   "outputs": [
    {
     "name": "stdout",
     "output_type": "stream",
     "text": [
      "brand is of type str\n",
      "electric is of type bool\n",
      "year is of type int\n",
      "colors is of type list\n"
     ]
    }
   ],
   "source": [
    "properties = {\n",
    "\t\"brand\": \"Ford\",\n",
    "\t\"electric\": False,\n",
    "\t\"year\": 1964,\n",
    "\t\"colors\": [\"red\", \"white\", \"blue\"]\n",
    "}\n",
    "\n",
    "for key in properties:\n",
    "\tprint(f\"{key} is of type {type(properties[key]).__name__}\")"
   ]
  },
  {
   "cell_type": "markdown",
   "metadata": {},
   "source": [
    "## Updating a dictionary with another one تحديث قاموس من قاموس آخر\n",
    "* `update` the dictionary `properties` from the dictionary `more_properties`"
   ]
  },
  {
   "cell_type": "code",
   "execution_count": 26,
   "metadata": {},
   "outputs": [
    {
     "name": "stdout",
     "output_type": "stream",
     "text": [
      "{'brand': 'Ford', 'electric': True, 'year': 1964, 'colors': ['red', 'white', 'blue'], 'price': '1000', 'weight': 500}\n"
     ]
    }
   ],
   "source": [
    "more_properties = {\n",
    "\t\"price\": \"1000\",\n",
    "\t\"electric\": True,\n",
    "\t\"weight\": 500\n",
    "}\n",
    "\n",
    "properties.update(more_properties)\n",
    "print(properties)"
   ]
  },
  {
   "cell_type": "markdown",
   "metadata": {},
   "source": [
    "## Checking if a key exists in a dictionary اختبار ما إذا كان مفتاح ما موجود في القاموس"
   ]
  },
  {
   "cell_type": "code",
   "execution_count": 17,
   "metadata": {},
   "outputs": [
    {
     "name": "stdout",
     "output_type": "stream",
     "text": [
      "Sorry, we don't have Lemon. We have Apple, Banana, Orange.\n"
     ]
    }
   ],
   "source": [
    "selection = input(\"Enter a fruit name: \")\n",
    "if selection in prices:\n",
    "\tprint(f\"You have {selection}\")\n",
    "else:\n",
    "\tprint(f\"Sorry, we don't have {selection}. We have {', '.join(list(prices.keys()))}.\")"
   ]
  },
  {
   "cell_type": "markdown",
   "metadata": {},
   "source": [
    "Get dictionary keys as a list الحصول على مفاتيح القاموس"
   ]
  },
  {
   "cell_type": "code",
   "execution_count": 11,
   "metadata": {},
   "outputs": [
    {
     "name": "stdout",
     "output_type": "stream",
     "text": [
      "['Apple', 'Banana', 'Orange']\n"
     ]
    }
   ],
   "source": [
    "print(list(prices.keys()))"
   ]
  },
  {
   "cell_type": "markdown",
   "metadata": {},
   "source": [
    "Get dictionary values الحصول على القيم الموجودة في القاموس"
   ]
  },
  {
   "cell_type": "code",
   "execution_count": 14,
   "metadata": {},
   "outputs": [
    {
     "name": "stdout",
     "output_type": "stream",
     "text": [
      "dict_values([15, 20, 10])\n",
      "20\n"
     ]
    }
   ],
   "source": [
    "print(prices.values())\n",
    "print(max(prices.values()))"
   ]
  },
  {
   "cell_type": "markdown",
   "metadata": {},
   "source": [
    "Looping over values اللف على القيم الموجودة"
   ]
  },
  {
   "cell_type": "code",
   "execution_count": 20,
   "metadata": {},
   "outputs": [
    {
     "name": "stdout",
     "output_type": "stream",
     "text": [
      "50\n",
      "20\n",
      "10\n",
      "50\n"
     ]
    }
   ],
   "source": [
    "for price in prices.values():\n",
    "\tprint(price)"
   ]
  },
  {
   "attachments": {},
   "cell_type": "markdown",
   "metadata": {},
   "source": [
    "## Delete a dictionary item حذف عنصر من القاموس\n",
    "* `del(key)` or `pop(key)`"
   ]
  },
  {
   "cell_type": "code",
   "execution_count": 31,
   "metadata": {},
   "outputs": [
    {
     "name": "stdout",
     "output_type": "stream",
     "text": [
      "{'Orange': 10, 'Banana': 20, 'Carrot': 12}\n"
     ]
    }
   ],
   "source": [
    "del(prices[\"Apple\"])\n",
    "print(prices)"
   ]
  },
  {
   "cell_type": "markdown",
   "metadata": {},
   "source": [
    "* `popitem()` removes the last inserted item إزالة آخر عنصر تمت إضافته"
   ]
  },
  {
   "cell_type": "code",
   "execution_count": 32,
   "metadata": {},
   "outputs": [
    {
     "name": "stdout",
     "output_type": "stream",
     "text": [
      "{'Orange': 10, 'Banana': 20}\n"
     ]
    }
   ],
   "source": [
    "prices.popitem()\n",
    "print(prices)"
   ]
  },
  {
   "cell_type": "markdown",
   "metadata": {},
   "source": [
    "## Deleting all items of a dictionary مسح عناصر قاموس\n",
    "* `clear` items of a dictionary"
   ]
  },
  {
   "cell_type": "code",
   "execution_count": 27,
   "metadata": {},
   "outputs": [
    {
     "name": "stdout",
     "output_type": "stream",
     "text": [
      "{}\n"
     ]
    }
   ],
   "source": [
    "prices.clear()\n",
    "print(prices)"
   ]
  }
 ],
 "metadata": {
  "kernelspec": {
   "display_name": "Python 3",
   "language": "python",
   "name": "python3"
  },
  "language_info": {
   "codemirror_mode": {
    "name": "ipython",
    "version": 3
   },
   "file_extension": ".py",
   "mimetype": "text/x-python",
   "name": "python",
   "nbconvert_exporter": "python",
   "pygments_lexer": "ipython3",
   "version": "3.13.1"
  },
  "orig_nbformat": 4,
  "vscode": {
   "interpreter": {
    "hash": "5238573367df39f7286bb46f9ff5f08f63a01a80960060ce41e3c79b190280fa"
   }
  }
 },
 "nbformat": 4,
 "nbformat_minor": 2
}
