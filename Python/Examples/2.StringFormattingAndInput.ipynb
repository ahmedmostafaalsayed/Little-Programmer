{
 "cells": [
  {
   "attachments": {},
   "cell_type": "markdown",
   "metadata": {},
   "source": [
    "# Lesson 2: String formatting and input\n",
    "## String literals\n",
    "### Quotation marks علامات التنصيص"
   ]
  },
  {
   "cell_type": "code",
   "execution_count": 6,
   "metadata": {},
   "outputs": [],
   "source": [
    "name = \"your name with double quotes\"\n",
    "name = 'your name with single quotes'"
   ]
  },
  {
   "attachments": {},
   "cell_type": "markdown",
   "metadata": {},
   "source": [
    "### Multiline text\n",
    "* Newline character \\n\n",
    "* Triple quotation marks \"\"\""
   ]
  },
  {
   "cell_type": "code",
   "execution_count": 7,
   "metadata": {},
   "outputs": [
    {
     "name": "stdout",
     "output_type": "stream",
     "text": [
      "Line one\n",
      "Line two\n",
      "Third three\n"
     ]
    }
   ],
   "source": [
    "print(\"Line one\\nLine two\\nThird three\")"
   ]
  },
  {
   "cell_type": "code",
   "execution_count": 8,
   "metadata": {},
   "outputs": [
    {
     "name": "stdout",
     "output_type": "stream",
     "text": [
      "Line one\n",
      "Line two\n",
      "Line three\n"
     ]
    }
   ],
   "source": [
    "print(\"\"\"Line one\n",
    "Line two\n",
    "Line three\"\"\")"
   ]
  },
  {
   "attachments": {},
   "cell_type": "markdown",
   "metadata": {},
   "source": [
    "## Concatenation operator + معامل اللصق"
   ]
  },
  {
   "cell_type": "code",
   "execution_count": 2,
   "metadata": {},
   "outputs": [
    {
     "name": "stdout",
     "output_type": "stream",
     "text": [
      "Hello, ahmed mostafa\n"
     ]
    }
   ],
   "source": [
    "name = input(\"What is your name? \")\n",
    "\n",
    "print( \"Hello, \"+ name )"
   ]
  },
  {
   "attachments": {},
   "cell_type": "markdown",
   "metadata": {},
   "source": [
    "## Splitting strings"
   ]
  },
  {
   "cell_type": "code",
   "execution_count": null,
   "metadata": {},
   "outputs": [],
   "source": [
    "prices = \"\"\"Milk 24\n",
    "Cheese 50\n",
    "Pepsi 8\"\"\""
   ]
  },
  {
   "attachments": {},
   "cell_type": "markdown",
   "metadata": {},
   "source": [
    "## String manipulation\n",
    "* Capital/lower case\n",
    "* Title case"
   ]
  },
  {
   "attachments": {},
   "cell_type": "markdown",
   "metadata": {},
   "source": [
    "## Old style %\n",
    "* input تقرأ من المستخدم\n",
    "* int تحول من كلام إلى رقم صحيح"
   ]
  },
  {
   "cell_type": "code",
   "execution_count": 3,
   "metadata": {},
   "outputs": [
    {
     "name": "stdout",
     "output_type": "stream",
     "text": [
      "Hello ahmed mostafa\n",
      "Hello ahmed mostafa, you are 30 years old.\n"
     ]
    }
   ],
   "source": [
    "age = int( input(\"How old are you? \") )\n",
    "\n",
    "print( \"Hello %s\" % name)\t\t\t\t\t\t\t\t# 1 variable\n",
    "print( \"Hello %s, you are %d years old.\" % (name,age))\t# 2 variables"
   ]
  },
  {
   "attachments": {},
   "cell_type": "markdown",
   "metadata": {},
   "source": [
    "## Format function\n",
    "{} curly braces الأقواس المعقوفة"
   ]
  },
  {
   "cell_type": "code",
   "execution_count": 4,
   "metadata": {},
   "outputs": [
    {
     "name": "stdout",
     "output_type": "stream",
     "text": [
      "Hello ahmed mostafa, you are 30 years old. How are you?\n",
      "Hello ahmed mostafa, you are 30 years old. How are you, ahmed mostafa?\n"
     ]
    }
   ],
   "source": [
    "print( \"Hello {}, you are {} years old. How are you?\".format(name, age) )\n",
    "print( \"Hello {0}, you are {1} years old. How are you, {0}?\".format(name, age) )"
   ]
  },
  {
   "attachments": {},
   "cell_type": "markdown",
   "metadata": {},
   "source": [
    "## Formatted strings / f-strings"
   ]
  },
  {
   "cell_type": "code",
   "execution_count": 5,
   "metadata": {},
   "outputs": [
    {
     "name": "stdout",
     "output_type": "stream",
     "text": [
      "Hello AHMED MOSTAFA, you are 30 years old.\n",
      "ahmed mostafa\n"
     ]
    }
   ],
   "source": [
    "print(f\"Hello {name.upper()}, you are {age} years old.\")\n",
    "print(name)"
   ]
  },
  {
   "attachments": {},
   "cell_type": "markdown",
   "metadata": {},
   "source": [
    "## Reading numbers قراءة الأرقام"
   ]
  },
  {
   "cell_type": "code",
   "execution_count": 10,
   "metadata": {},
   "outputs": [
    {
     "name": "stdout",
     "output_type": "stream",
     "text": [
      "30.0\n"
     ]
    }
   ],
   "source": [
    "age = input(\"How old are you? \")"
   ]
  },
  {
   "attachments": {},
   "cell_type": "markdown",
   "metadata": {},
   "source": [
    "## num2words تحويل الأرقام إلى صيغة نصية\n",
    "أول مرة فقط لا بد من تثبيتها"
   ]
  },
  {
   "cell_type": "code",
   "execution_count": 1,
   "metadata": {},
   "outputs": [
    {
     "name": "stdout",
     "output_type": "stream",
     "text": [
      "Defaulting to user installation because normal site-packages is not writeable\n",
      "Requirement already satisfied: num2words in c:\\users\\ahmedabdel-baky\\appdata\\roaming\\python\\python311\\site-packages (0.5.12)\n",
      "Requirement already satisfied: docopt>=0.6.2 in c:\\users\\ahmedabdel-baky\\appdata\\roaming\\python\\python311\\site-packages (from num2words) (0.6.2)\n",
      "Note: you may need to restart the kernel to use updated packages.\n"
     ]
    }
   ],
   "source": [
    "%pip install num2words --upgrade"
   ]
  },
  {
   "cell_type": "code",
   "execution_count": 6,
   "metadata": {},
   "outputs": [
    {
     "name": "stdout",
     "output_type": "stream",
     "text": [
      "You are twenty-three years old.\n"
     ]
    }
   ],
   "source": [
    "from num2words import num2words\n",
    "\n",
    "age = int( input(\"How old are you? \") )\n",
    "print(f\"You are {num2words(age)} years old.\")"
   ]
  },
  {
   "attachments": {},
   "cell_type": "markdown",
   "metadata": {},
   "source": [
    "## References المراجع\n",
    "* [Output Formatting](https://docs.python.org/3/tutorial/inputoutput.html) - Python.org\n",
    "* [Use strings in Python](https://docs.microsoft.com/en-us/learn/modules/python-strings/7-knowledge-check) - Microsoft Learn\n",
    "* [Spyder IDE](https://www.spyder-ide.org)\n",
    "* [num2words](https://pypi.org/project/num2words) - PyPi.org"
   ]
  }
 ],
 "metadata": {
  "kernelspec": {
   "display_name": "Python 3",
   "language": "python",
   "name": "python3"
  },
  "language_info": {
   "codemirror_mode": {
    "name": "ipython",
    "version": 3
   },
   "file_extension": ".py",
   "mimetype": "text/x-python",
   "name": "python",
   "nbconvert_exporter": "python",
   "pygments_lexer": "ipython3",
   "version": "3.11.3"
  },
  "orig_nbformat": 4,
  "vscode": {
   "interpreter": {
    "hash": "5238573367df39f7286bb46f9ff5f08f63a01a80960060ce41e3c79b190280fa"
   }
  }
 },
 "nbformat": 4,
 "nbformat_minor": 2
}
