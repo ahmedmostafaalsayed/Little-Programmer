{
 "cells": [
  {
   "attachments": {},
   "cell_type": "markdown",
   "metadata": {},
   "source": [
    "# Lesson 3: Conditionals\n",
    "* if\n",
    "* Comparison Operators: ==, !=, >, <, >=, <=\n",
    "* Boolean expressions: True / False\n",
    "* Indentation\n",
    "* False: \"\", 0, None\n",
    "* Python is case-sensitive\n",
    "* if..: elif:.. else\n",
    "* Python is case-sensitive\n",
    "* Scores: Excellent, Very good, Good, Failed.\n",
    "* Positive or negative?\n",
    "* Cheap or expensive?\n",
    "* Integer division // and modulus %\n",
    "* Logical Operators: and, or, not\n",
    "* Line continuation: \\\n",
    "* in(value1, value2, value3)\n",
    "* Nested if\n",
    "* Boolean literals: True, False\n",
    "* quit()"
   ]
  },
  {
   "attachments": {},
   "cell_type": "markdown",
   "metadata": {},
   "source": [
    "## If example & indentation"
   ]
  },
  {
   "attachments": {},
   "cell_type": "markdown",
   "metadata": {},
   "source": [
    "If passed (50 or above) print \"passed\", or print \"failed\" otherwise"
   ]
  },
  {
   "cell_type": "code",
   "execution_count": 20,
   "metadata": {},
   "outputs": [
    {
     "name": "stdout",
     "output_type": "stream",
     "text": [
      "Failed\n",
      "End\n"
     ]
    }
   ],
   "source": [
    "score = 40\n",
    "if score >= 50:\n",
    "\tprint(\"Passed\")\n",
    "else:\n",
    "\tprint(\"Failed\")\n",
    "\n",
    "print(\"End\")"
   ]
  },
  {
   "attachments": {},
   "cell_type": "markdown",
   "metadata": {},
   "source": [
    "Cheap or expensive?"
   ]
  },
  {
   "cell_type": "code",
   "execution_count": 25,
   "metadata": {},
   "outputs": [
    {
     "name": "stdout",
     "output_type": "stream",
     "text": [
      "I can buy 2 of this, and the remainder is 5.\n"
     ]
    }
   ],
   "source": [
    "price = 10\n",
    "pocket = 25\n",
    "\n",
    "if price > pocket:\n",
    "    print(\"This is expensive\")\n",
    "else:\n",
    "    q = pocket // price\t\t\t# Integer division\n",
    "    remainder = pocket % price\t# Remainder (modulus)\n",
    "    print(f\"I can buy {q} of this, and the remainder is {remainder}.\")"
   ]
  },
  {
   "attachments": {},
   "cell_type": "markdown",
   "metadata": {},
   "source": [
    "Positive or negative?"
   ]
  },
  {
   "cell_type": "code",
   "execution_count": 29,
   "metadata": {},
   "outputs": [
    {
     "name": "stdout",
     "output_type": "stream",
     "text": [
      "Zero\n"
     ]
    }
   ],
   "source": [
    "num = int( input(\"Please enter a number: \") )\n",
    "\n",
    "if num > 0:\n",
    "\tprint(\"Positive\")\n",
    "elif num == 0:\n",
    "\tprint(\"Zero\")\n",
    "else:\n",
    "\tprint(\"Negative\")"
   ]
  },
  {
   "attachments": {},
   "cell_type": "markdown",
   "metadata": {},
   "source": [
    "What is my level? Excellent, Very good, Good, Failed"
   ]
  },
  {
   "cell_type": "code",
   "execution_count": 32,
   "metadata": {},
   "outputs": [
    {
     "name": "stdout",
     "output_type": "stream",
     "text": [
      "Good\n"
     ]
    }
   ],
   "source": [
    "score = int( input(\"Enter your score: \") )\n",
    "\n",
    "if score >= 90:\n",
    "\tprint(\"Excellent\")\n",
    "elif score >= 75:\n",
    "\tprint(\"Very good\")\n",
    "elif score >= 50:\n",
    "\tprint( \"Good\" )\n",
    "else:\n",
    "\tprint(\"Failed\")"
   ]
  },
  {
   "attachments": {},
   "cell_type": "markdown",
   "metadata": {},
   "source": [
    "How many I can buy? and what is the remainder?"
   ]
  },
  {
   "attachments": {},
   "cell_type": "markdown",
   "metadata": {},
   "source": [
    "Are you my friend Omar? (strip & lower)"
   ]
  },
  {
   "cell_type": "code",
   "execution_count": 39,
   "metadata": {},
   "outputs": [
    {
     "name": "stdout",
     "output_type": "stream",
     "text": [
      "You are not my friend Omar\n"
     ]
    }
   ],
   "source": [
    "name = \" OMAR   Ahmed\"\n",
    "name = name.lower()\n",
    "name = name.strip()\n",
    "\n",
    "if name == \"omar\":\n",
    "    print(\"You are my friend Omar\")\n",
    "else:\n",
    "    print(\"You are not my friend Omar\")"
   ]
  },
  {
   "attachments": {},
   "cell_type": "markdown",
   "metadata": {},
   "source": [
    "Correct username & password?"
   ]
  },
  {
   "cell_type": "code",
   "execution_count": 44,
   "metadata": {},
   "outputs": [
    {
     "name": "stdout",
     "output_type": "stream",
     "text": [
      "Password cannot be empty.\n"
     ]
    }
   ],
   "source": [
    "username = input(\"Enter username: \")\n",
    "password = input(\"Enter password: \")\n",
    "\n",
    "correct_username = \"ahmed\"\n",
    "correct_password = \"123\"\n",
    "\n",
    "if username == correct_username \\\n",
    "\tand password == correct_password:\n",
    "    print(\"Correct username and password\")\n",
    "else:\n",
    "    print(\"Username or password is incorrect. Please try again.\")"
   ]
  },
  {
   "attachments": {},
   "cell_type": "markdown",
   "metadata": {},
   "source": [
    "False: 0, \"\", None\n",
    "True: otherwise"
   ]
  },
  {
   "attachments": {},
   "cell_type": "markdown",
   "metadata": {},
   "source": [
    "Where is your city? known country (Egypt or Saudi Arabia)? nested if"
   ]
  },
  {
   "cell_type": "code",
   "execution_count": 54,
   "metadata": {},
   "outputs": [
    {
     "name": "stdout",
     "output_type": "stream",
     "text": [
      "I know your country.\n",
      "I know Riyadh\n"
     ]
    }
   ],
   "source": [
    "country = input(\"What is your country? \")\n",
    "country = country.lower().strip()\n",
    "\n",
    "#if country == \"egypt\" or country == \"saudi arabia\" or country == \"sudan\":\n",
    "if country in (\"egypt\",\"saudi arabia\", \"sudan\"):\n",
    "\tprint(\"I know your country.\")\n",
    "    \n",
    "\tcity = input(\"What is your city? \")\n",
    "    \n",
    "\t# Nested if\n",
    "\tif city in (\"Cairo\",\"Riyadh\",\"Al Khartoum\"):\n",
    "\t\tprint(f\"I know {city}\")\n",
    "else:\n",
    "\tprint(f\"I don't know {country}.\")\n",
    "\t"
   ]
  },
  {
   "cell_type": "code",
   "execution_count": null,
   "metadata": {},
   "outputs": [],
   "source": []
  }
 ],
 "metadata": {
  "kernelspec": {
   "display_name": "Python 3",
   "language": "python",
   "name": "python3"
  },
  "language_info": {
   "codemirror_mode": {
    "name": "ipython",
    "version": 3
   },
   "file_extension": ".py",
   "mimetype": "text/x-python",
   "name": "python",
   "nbconvert_exporter": "python",
   "pygments_lexer": "ipython3",
   "version": "3.11.1"
  },
  "orig_nbformat": 4,
  "vscode": {
   "interpreter": {
    "hash": "5238573367df39f7286bb46f9ff5f08f63a01a80960060ce41e3c79b190280fa"
   }
  }
 },
 "nbformat": 4,
 "nbformat_minor": 2
}
