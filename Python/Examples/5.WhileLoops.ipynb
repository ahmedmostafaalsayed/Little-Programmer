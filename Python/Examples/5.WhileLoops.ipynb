{
 "cells": [
  {
   "attachments": {},
   "cell_type": "markdown",
   "metadata": {},
   "source": [
    "# Lesson 5: Loops\n",
    "* Copying a list\n",
    "* `while` loop\n",
    "* `break`\n",
    "\n",
    "## Copying a list نسخ قائمة\n",
    "### 1. Shallow copy of a list الإشارة إلى نفس القائمة بمتغير جديد"
   ]
  },
  {
   "cell_type": "code",
   "execution_count": 2,
   "metadata": {},
   "outputs": [],
   "source": [
    "names = [\"Ahmed\",\"Ali\",\"Mohamed\",\"Omar\",\"Osama\"]\n",
    "names2 = names"
   ]
  },
  {
   "attachments": {},
   "cell_type": "markdown",
   "metadata": {},
   "source": [
    "### Testing لكي نتأكد\n",
    "Compare the two lists. Are they at the same address?\n",
    "هل القائمتين في نفس المكان في الذاكرة؟"
   ]
  },
  {
   "cell_type": "code",
   "execution_count": 3,
   "metadata": {},
   "outputs": [
    {
     "name": "stdout",
     "output_type": "stream",
     "text": [
      "1456996345984\n",
      "1456996345984\n"
     ]
    }
   ],
   "source": [
    "print(id(names))\n",
    "print(id(names2))"
   ]
  },
  {
   "attachments": {},
   "cell_type": "markdown",
   "metadata": {},
   "source": [
    "تعديل القائمة الأولى يؤثر في القائمة الثانية"
   ]
  },
  {
   "cell_type": "code",
   "execution_count": 4,
   "metadata": {},
   "outputs": [
    {
     "name": "stdout",
     "output_type": "stream",
     "text": [
      "Mahmoud\n"
     ]
    }
   ],
   "source": [
    "names[1] = \"Mahmoud\"\n",
    "print(names2[1])"
   ]
  },
  {
   "attachments": {},
   "cell_type": "markdown",
   "metadata": {},
   "source": [
    "## 2. Deep copy of a list نسخ عناصر قائمة\n",
    "### A. `copy()` function"
   ]
  },
  {
   "cell_type": "code",
   "execution_count": 5,
   "metadata": {},
   "outputs": [
    {
     "name": "stdout",
     "output_type": "stream",
     "text": [
      "Ahmed\n"
     ]
    }
   ],
   "source": [
    "other_names = names.copy()\n",
    "names[0] = \"Abdalla\"\n",
    "print(other_names[0])"
   ]
  },
  {
   "attachments": {},
   "cell_type": "markdown",
   "metadata": {},
   "source": [
    "### B. Slicing أخذ شريحة كاملة منها"
   ]
  },
  {
   "cell_type": "code",
   "execution_count": 6,
   "metadata": {},
   "outputs": [
    {
     "name": "stdout",
     "output_type": "stream",
     "text": [
      "False\n",
      "1456996345984 1456996341504\n"
     ]
    }
   ],
   "source": [
    "new_names = names[:]\n",
    "print(new_names is names)\n",
    "print(id(names),id(new_names))"
   ]
  },
  {
   "attachments": {},
   "cell_type": "markdown",
   "metadata": {},
   "source": [
    "## Comparing variables مقارنة المتغيرات\n",
    "`is` لمعرفة إذا كان الاسمان لنفس المتغير في الذاكرة"
   ]
  },
  {
   "cell_type": "code",
   "execution_count": 5,
   "metadata": {},
   "outputs": [
    {
     "name": "stdout",
     "output_type": "stream",
     "text": [
      "True\n",
      "False\n"
     ]
    }
   ],
   "source": [
    "print(names2 is names)\n",
    "print(other_names is names)"
   ]
  },
  {
   "attachments": {},
   "cell_type": "markdown",
   "metadata": {},
   "source": [
    "## Joining list items with a string\n",
    "ربط عناصر قائمة باستخدام كلمة بينها"
   ]
  },
  {
   "cell_type": "code",
   "execution_count": 7,
   "metadata": {},
   "outputs": [
    {
     "name": "stdout",
     "output_type": "stream",
     "text": [
      "['Milk', 'Coffee', 'Juice', 'Tea', 'Water']\n",
      "Milk, Coffee, Juice, Tea, Water\n"
     ]
    }
   ],
   "source": [
    "drinks = [\"Milk\", \"Coffee\", \"Juice\", \"Tea\",\"Water\"]\n",
    "print(drinks)\n",
    "print( \", \".join(drinks) )"
   ]
  },
  {
   "attachments": {},
   "cell_type": "markdown",
   "metadata": {},
   "source": [
    "## Loops الحلقات التكرارية\n",
    "## While loops طالما\n",
    "* Print numbers from 1 to 10 طباعة الأرقام"
   ]
  },
  {
   "cell_type": "code",
   "execution_count": 8,
   "metadata": {},
   "outputs": [
    {
     "name": "stdout",
     "output_type": "stream",
     "text": [
      "1\n",
      "2\n",
      "3\n",
      "4\n",
      "5\n",
      "6\n",
      "7\n",
      "8\n",
      "9\n",
      "10\n"
     ]
    }
   ],
   "source": [
    "i = 1\n",
    "while i <= 10:\n",
    "\tprint(i)\n",
    "\ti = i + 1"
   ]
  },
  {
   "attachments": {},
   "cell_type": "markdown",
   "metadata": {},
   "source": [
    "Print odd numbers between 1 and 10 طباعة الأرقام الفردية"
   ]
  },
  {
   "cell_type": "code",
   "execution_count": 9,
   "metadata": {},
   "outputs": [
    {
     "name": "stdout",
     "output_type": "stream",
     "text": [
      "1\n",
      "3\n",
      "5\n",
      "7\n",
      "9\n"
     ]
    }
   ],
   "source": [
    "i = 1\n",
    "while i <= 10:\n",
    "\tprint(i)\n",
    "\ti = i + 2"
   ]
  },
  {
   "attachments": {},
   "cell_type": "markdown",
   "metadata": {},
   "source": [
    "Print even numbers between 1 and 10 طباعة الأرقام الزوجية"
   ]
  },
  {
   "cell_type": "code",
   "execution_count": 10,
   "metadata": {},
   "outputs": [
    {
     "name": "stdout",
     "output_type": "stream",
     "text": [
      "2\n",
      "4\n",
      "6\n",
      "8\n",
      "10\n"
     ]
    }
   ],
   "source": [
    "i = 2\n",
    "while i <= 10:\n",
    "\tprint(i)\n",
    "\ti = i + 2"
   ]
  },
  {
   "attachments": {},
   "cell_type": "markdown",
   "metadata": {},
   "source": [
    "Print multiples of 3 - اطبع مضاعفات 3 "
   ]
  },
  {
   "cell_type": "code",
   "execution_count": 11,
   "metadata": {},
   "outputs": [
    {
     "name": "stdout",
     "output_type": "stream",
     "text": [
      "3\n",
      "6\n",
      "9\n",
      "12\n",
      "15\n",
      "18\n",
      "21\n",
      "24\n",
      "27\n",
      "30\n"
     ]
    }
   ],
   "source": [
    "i = 3\n",
    "while i <= 30:\n",
    "\tprint(i)\n",
    "\ti = i + 3"
   ]
  },
  {
   "attachments": {},
   "cell_type": "markdown",
   "metadata": {},
   "source": [
    "## Break\n",
    "* `break` تستخدم لإيقاف التكرار\n",
    "* Infinite loops التكرار اللا نهائي"
   ]
  },
  {
   "cell_type": "code",
   "execution_count": 13,
   "metadata": {},
   "outputs": [
    {
     "name": "stdout",
     "output_type": "stream",
     "text": [
      "tea, coffee, water, milk, juice\n"
     ]
    }
   ],
   "source": [
    "orders = []\t\t\t\t\t\t# قائمة فارغة في البداية\n",
    "\n",
    "while True:\t\t\t\t\t\t# Forever تكرار للأبد\n",
    "\tnew_order = input(\"Enter new order (enter Q to quit): \")\n",
    "\tif new_order == \"Q\":\t\t# Quit حرف الخروج من إعادة السؤال\n",
    "\t\tbreak\t\t\t\t\t# الخروج من الحلقة التكرارية\n",
    "\torders.append(new_order)\t# أضف العنصر الجديد للقائمة\n",
    "\n",
    "print(\", \".join(orders))\t\t# اعرض عناصر القائمة وبينهم فاصلة"
   ]
  }
 ],
 "metadata": {
  "kernelspec": {
   "display_name": "Python 3",
   "language": "python",
   "name": "python3"
  },
  "language_info": {
   "codemirror_mode": {
    "name": "ipython",
    "version": 3
   },
   "file_extension": ".py",
   "mimetype": "text/x-python",
   "name": "python",
   "nbconvert_exporter": "python",
   "pygments_lexer": "ipython3",
   "version": "3.11.3"
  },
  "orig_nbformat": 4,
  "vscode": {
   "interpreter": {
    "hash": "5238573367df39f7286bb46f9ff5f08f63a01a80960060ce41e3c79b190280fa"
   }
  }
 },
 "nbformat": 4,
 "nbformat_minor": 2
}
