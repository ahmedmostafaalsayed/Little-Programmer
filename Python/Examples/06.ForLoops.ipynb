{
 "cells": [
  {
   "attachments": {},
   "cell_type": "markdown",
   "metadata": {},
   "source": [
    "# Lesson 6: for loops\n",
    "## Looping over a list الدوران على قائمة"
   ]
  },
  {
   "cell_type": "code",
   "execution_count": 10,
   "metadata": {},
   "outputs": [],
   "source": [
    "drinks = [\"Coffee\", \"Juice\", \"Milk\", \"Soda\", \"Tea\", \"Water\"]"
   ]
  },
  {
   "cell_type": "code",
   "execution_count": 11,
   "metadata": {},
   "outputs": [
    {
     "name": "stdout",
     "output_type": "stream",
     "text": [
      "Coffee\n",
      "Juice\n",
      "Milk\n",
      "Soda\n",
      "Tea\n",
      "Water\n"
     ]
    }
   ],
   "source": [
    "for drink in drinks:\n",
    "\tprint(drink)"
   ]
  },
  {
   "attachments": {},
   "cell_type": "markdown",
   "metadata": {},
   "source": [
    "## Looping over letters of a string الدوران على حروف كلام"
   ]
  },
  {
   "cell_type": "code",
   "execution_count": 20,
   "metadata": {},
   "outputs": [
    {
     "name": "stdout",
     "output_type": "stream",
     "text": [
      "A\n",
      "h\n",
      "m\n",
      "e\n",
      "d\n",
      " \n",
      "M\n",
      "o\n",
      "s\n",
      "t\n",
      "a\n",
      "f\n",
      "a\n"
     ]
    }
   ],
   "source": [
    "name = \"Ahmed Mostafa\"\n",
    "for c in name:\n",
    "\tprint( c )"
   ]
  },
  {
   "attachments": {},
   "cell_type": "markdown",
   "metadata": {},
   "source": [
    "## Looping over range of numbers الدوران على أرقام\n",
    "Up to N لحد"
   ]
  },
  {
   "cell_type": "code",
   "execution_count": 21,
   "metadata": {},
   "outputs": [
    {
     "name": "stdout",
     "output_type": "stream",
     "text": [
      "0\n",
      "1\n",
      "2\n",
      "3\n",
      "4\n",
      "5\n",
      "6\n",
      "7\n",
      "8\n",
      "9\n"
     ]
    }
   ],
   "source": [
    "for number in range(10):\n",
    "    print(number)"
   ]
  },
  {
   "attachments": {},
   "cell_type": "markdown",
   "metadata": {},
   "source": [
    "From start to end من رقم إلى رقم"
   ]
  },
  {
   "cell_type": "code",
   "execution_count": 22,
   "metadata": {},
   "outputs": [
    {
     "name": "stdout",
     "output_type": "stream",
     "text": [
      "5\n",
      "6\n",
      "7\n",
      "8\n",
      "9\n"
     ]
    }
   ],
   "source": [
    "for number in range(5,10):\n",
    "    print(number)"
   ]
  },
  {
   "attachments": {},
   "cell_type": "markdown",
   "metadata": {},
   "source": [
    "Multiples of `n` up to `max` مضاعفات رقم"
   ]
  },
  {
   "cell_type": "code",
   "execution_count": 23,
   "metadata": {},
   "outputs": [
    {
     "name": "stdout",
     "output_type": "stream",
     "text": [
      "5\n",
      "10\n",
      "15\n",
      "20\n",
      "25\n",
      "30\n",
      "35\n",
      "40\n",
      "45\n",
      "50\n"
     ]
    }
   ],
   "source": [
    "for number in range(5,51,5):\n",
    "    print(number)"
   ]
  },
  {
   "attachments": {},
   "cell_type": "markdown",
   "metadata": {},
   "source": [
    "Count descending العد تنازلياً"
   ]
  },
  {
   "cell_type": "code",
   "execution_count": 25,
   "metadata": {},
   "outputs": [
    {
     "name": "stdout",
     "output_type": "stream",
     "text": [
      "10\n",
      "9\n",
      "8\n",
      "7\n",
      "6\n",
      "5\n",
      "4\n",
      "3\n",
      "2\n",
      "1\n"
     ]
    }
   ],
   "source": [
    "for number in range(10,0,-1):\n",
    "\tprint(number)"
   ]
  },
  {
   "attachments": {},
   "cell_type": "markdown",
   "metadata": {},
   "source": [
    "## The `break` statement\n",
    "* Guessing a number 10 times تخمين رقم 10 مرات\n",
    "* Using `random.randint`"
   ]
  },
  {
   "cell_type": "code",
   "execution_count": 30,
   "metadata": {},
   "outputs": [
    {
     "name": "stdout",
     "output_type": "stream",
     "text": [
      "Sorry. The correct number was 2.\n",
      "Sorry. The correct number was 3.\n",
      "Sorry. The correct number was 10.\n",
      "Sorry. The correct number was 9.\n",
      "Sorry. The correct number was 2.\n",
      "Correct guess! You win\n"
     ]
    }
   ],
   "source": [
    "from random import randint\n",
    "\n",
    "for i in range(10):\n",
    "\tmy_number = randint(1, 10)\n",
    "\tuser_guess = int( input(\"Guess a number: \") )\n",
    "\n",
    "\tif user_guess == my_number:\n",
    "\t\tprint( \"Correct guess! You win\" )\n",
    "\t\tbreak\n",
    "\telse:\n",
    "\t\tprint( f\"Sorry. The correct number was {my_number}.\" )"
   ]
  },
  {
   "attachments": {},
   "cell_type": "markdown",
   "metadata": {},
   "source": [
    "## `continue` to skip an iteration\n",
    "* كتابة أسعار المشاريب غير المجانية"
   ]
  },
  {
   "cell_type": "code",
   "execution_count": 31,
   "metadata": {},
   "outputs": [],
   "source": [
    "drinks = [\"coffee\", \"juice\", \"water\", \"milk\", \"soda\", \"tea\"]\n",
    "prices = [25,\t\t10,\t\t3,\t\t\t32,\t\t12,\t\t5]\n",
    "free_drinks = [\"tea\", \"water\"]"
   ]
  },
  {
   "cell_type": "code",
   "execution_count": 32,
   "metadata": {},
   "outputs": [
    {
     "name": "stdout",
     "output_type": "stream",
     "text": [
      "Coffee  : 25\n",
      "Juice   : 10\n",
      "Milk    : 32\n",
      "Soda    : 12\n"
     ]
    }
   ],
   "source": [
    "for i in range( len(drinks) ):\n",
    "\tif drinks[i] in free_drinks:\n",
    "\t\tcontinue\n",
    "\telse:\n",
    "\t\tprint( f\"{drinks[i].title():8}:{prices[i]:3}\" )"
   ]
  },
  {
   "attachments": {},
   "cell_type": "markdown",
   "metadata": {},
   "source": [
    "## The `pass` statement لا شيء"
   ]
  },
  {
   "cell_type": "code",
   "execution_count": 33,
   "metadata": {},
   "outputs": [
    {
     "name": "stdout",
     "output_type": "stream",
     "text": [
      "For loop completed.\n"
     ]
    }
   ],
   "source": [
    "for drink in drinks:\n",
    "\tpass\n",
    "\n",
    "print(\"For loop completed.\")"
   ]
  },
  {
   "attachments": {},
   "cell_type": "markdown",
   "metadata": {},
   "source": [
    "### انتظار بعض الوقت بين كل حرف والذي بعده\n",
    "* `sleep` for seconds (`time` module)\n",
    "* `print(\".\", end=\"\")`"
   ]
  },
  {
   "cell_type": "code",
   "execution_count": 36,
   "metadata": {},
   "outputs": [
    {
     "name": "stdout",
     "output_type": "stream",
     "text": [
      "coffee...\n",
      "juice...\n",
      "milk...\n",
      "soda...\n",
      "tea...\n",
      "water...\n"
     ]
    }
   ],
   "source": [
    "from time import sleep\n",
    "\n",
    "drinks = [\"coffee\", \"juice\", \"milk\", \"soda\", \"tea\", \"water\"]\n",
    "\n",
    "for drink in drinks:\n",
    "\tprint(drink, end=\"\")\n",
    "\tfor i in range(3):\n",
    "\t\tsleep(0.5)\n",
    "\t\tprint(\".\", end=\"\")\n",
    "\tprint()"
   ]
  },
  {
   "cell_type": "markdown",
   "metadata": {},
   "source": [
    "## Nested `for` loops التداخل\n",
    "* كتابة كل كلمة من الاسم في سطر منفصل بطريقة مقطعة\n",
    "تقطيع الاسم بالمسافة إلى كلمات باستخدام\n",
    "\n",
    "```str.split()```\n",
    "* لكل كلمة في الاسم سطر"
   ]
  },
  {
   "cell_type": "code",
   "execution_count": 37,
   "metadata": {},
   "outputs": [
    {
     "name": "stdout",
     "output_type": "stream",
     "text": [
      "['Ali', 'Omar', 'Mahmoud', 'Mostafa']\n"
     ]
    }
   ],
   "source": [
    "full_name = \"Ali Omar Mahmoud Mostafa\"\n",
    "names = full_name.split()\n",
    "print(names)"
   ]
  },
  {
   "cell_type": "markdown",
   "metadata": {},
   "source": [
    "اطبع حروف كل اسم وبينها مسافة"
   ]
  },
  {
   "cell_type": "code",
   "execution_count": 38,
   "metadata": {},
   "outputs": [
    {
     "name": "stdout",
     "output_type": "stream",
     "text": [
      "A l i \n",
      "O m a r \n",
      "M a h m o u d \n",
      "M o s t a f a \n"
     ]
    }
   ],
   "source": [
    "for name in names:\n",
    "\tfor c in name:\n",
    "\t\tprint(c + \" \", end=\"\")\n",
    "\t\n",
    "\t# انزل سطر جديد بعد كتابة حروف الاسم\n",
    "\tprint()"
   ]
  },
  {
   "cell_type": "markdown",
   "metadata": {},
   "source": [
    "## `else` in for loops\n",
    "* After the for loop if it is not stopped by `break`\n",
    "* يتم تنفيذها إذا انتهت اللفة بدون break\n",
    "* Printig prime numbers طباعة الأعداد الأولية بين رقمين"
   ]
  },
  {
   "cell_type": "code",
   "execution_count": 8,
   "metadata": {},
   "outputs": [],
   "source": [
    "start = 1\n",
    "end = 30"
   ]
  },
  {
   "cell_type": "code",
   "execution_count": 39,
   "metadata": {},
   "outputs": [
    {
     "name": "stdout",
     "output_type": "stream",
     "text": [
      "2\n",
      "3\n",
      "5\n",
      "7\n",
      "11\n",
      "13\n",
      "17\n",
      "19\n",
      "23\n",
      "29\n"
     ]
    }
   ],
   "source": [
    "for number in range(start,end+1):\n",
    "\tif number > 1:\n",
    "\t\tfor i in range(2,number):\n",
    "\t\t\t# إذا قبل القسمة بدون باقي إذاً هو عدد غير أولي\n",
    "\t\t\tif (number % i) == 0:\n",
    "\t\t\t\tbreak\n",
    "\t\telse:\n",
    "\t\t\tprint(number)"
   ]
  }
 ],
 "metadata": {
  "kernelspec": {
   "display_name": "Python 3",
   "language": "python",
   "name": "python3"
  },
  "language_info": {
   "codemirror_mode": {
    "name": "ipython",
    "version": 3
   },
   "file_extension": ".py",
   "mimetype": "text/x-python",
   "name": "python",
   "nbconvert_exporter": "python",
   "pygments_lexer": "ipython3",
   "version": "3.13.1"
  },
  "orig_nbformat": 4,
  "vscode": {
   "interpreter": {
    "hash": "5238573367df39f7286bb46f9ff5f08f63a01a80960060ce41e3c79b190280fa"
   }
  }
 },
 "nbformat": 4,
 "nbformat_minor": 2
}
