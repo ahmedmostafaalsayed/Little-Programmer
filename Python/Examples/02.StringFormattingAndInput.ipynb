{
 "cells": [
  {
   "attachments": {},
   "cell_type": "markdown",
   "metadata": {},
   "source": [
    "# Lesson 2: String formatting and input\n",
    "## String literals القيم النصية\n",
    "### Quotation marks علامات التنصيص\n",
    "Single and double quotation marks علامات التنصيص المفردة والمزدوجة"
   ]
  },
  {
   "cell_type": "code",
   "execution_count": 2,
   "metadata": {},
   "outputs": [
    {
     "name": "stdout",
     "output_type": "stream",
     "text": [
      "Ahmed\n"
     ]
    }
   ],
   "source": [
    "name = 'Ahmed'\n",
    "name = \"Ahmed\"\n",
    "\n",
    "print(name)"
   ]
  },
  {
   "attachments": {},
   "cell_type": "markdown",
   "metadata": {},
   "source": [
    "### Multiline text عرض نص على أكثر من سطر\n",
    "* Newline character \\n"
   ]
  },
  {
   "cell_type": "code",
   "execution_count": 5,
   "metadata": {},
   "outputs": [
    {
     "name": "stdout",
     "output_type": "stream",
     "text": [
      "I'm Ahmed.\n",
      "I'm 20 years old.\n"
     ]
    }
   ],
   "source": [
    "sentence = \"\"\"I'm Ahmed.\\nI'm 20 years old.\"\"\"\n",
    "\n",
    "print(sentence)"
   ]
  },
  {
   "cell_type": "markdown",
   "metadata": {},
   "source": [
    "* Triple quotation marks \"\"\"\n",
    "لكتابة نص في الكود على أكثر من سطر"
   ]
  },
  {
   "cell_type": "code",
   "execution_count": 1,
   "metadata": {},
   "outputs": [
    {
     "name": "stdout",
     "output_type": "stream",
     "text": [
      "Ahmed Mostafa.\n",
      "\n",
      "I am 20 years old.\n"
     ]
    }
   ],
   "source": [
    "name = \"\"\"Ahmed Mostafa.\n",
    "\n",
    "I am 20 years old.\"\"\"\n",
    "print(name)"
   ]
  },
  {
   "attachments": {},
   "cell_type": "markdown",
   "metadata": {},
   "source": [
    "## Splitting strings\n",
    "تقسيم الكلام بحرف معين أو بالمسافة"
   ]
  },
  {
   "cell_type": "code",
   "execution_count": 18,
   "metadata": {},
   "outputs": [
    {
     "name": "stdout",
     "output_type": "stream",
     "text": [
      "['Ahmed', 'Mostafa', 'AlSayed']\n"
     ]
    }
   ],
   "source": [
    "name = \"Ahmed Mostafa AlSayed\"\n",
    "print( name.split() )"
   ]
  },
  {
   "attachments": {},
   "cell_type": "markdown",
   "metadata": {},
   "source": [
    "## String manipulation\n",
    "* String is immutable غير قابلة للتغيير\n",
    "* Use the assignment operator to replace it يمكن استخدام معامل التخصيص لاستبدال القيمة\n",
    "* Capital/lower case تكبير أو تصغير كل الحروف\n",
    "* Title case تكبير الحرف الأول من كل كلمة"
   ]
  },
  {
   "cell_type": "code",
   "execution_count": 3,
   "metadata": {},
   "outputs": [],
   "source": [
    "name = \"Ahmed MOSTAFA ALSAYED\""
   ]
  },
  {
   "cell_type": "code",
   "execution_count": 4,
   "metadata": {},
   "outputs": [
    {
     "name": "stdout",
     "output_type": "stream",
     "text": [
      "ahmed mostafa alsayed\n"
     ]
    }
   ],
   "source": [
    "name = name.lower()\n",
    "print(name)"
   ]
  },
  {
   "cell_type": "markdown",
   "metadata": {},
   "source": [
    "Python is case-sensitive يفرق فيها الحروف الكبيرة والصغيرة"
   ]
  },
  {
   "cell_type": "code",
   "execution_count": 5,
   "metadata": {},
   "outputs": [
    {
     "name": "stdout",
     "output_type": "stream",
     "text": [
      "Ahmed Mostafa Alsayed\n"
     ]
    }
   ],
   "source": [
    "print(name.title())"
   ]
  },
  {
   "cell_type": "markdown",
   "metadata": {},
   "source": [
    "* input تقرأ من المستخدم\n",
    "* int تحول من كلام إلى رقم صحيح"
   ]
  },
  {
   "cell_type": "code",
   "execution_count": 8,
   "metadata": {},
   "outputs": [],
   "source": [
    "name = input(\"Enter your name: \")\n",
    "age = int( input(\"What is your age?\") )"
   ]
  },
  {
   "attachments": {},
   "cell_type": "markdown",
   "metadata": {},
   "source": [
    "## String formatting\n",
    "### 1. Concatenation operator + معامل اللصق"
   ]
  },
  {
   "cell_type": "code",
   "execution_count": 11,
   "metadata": {},
   "outputs": [
    {
     "name": "stdout",
     "output_type": "stream",
     "text": [
      "Ahmed Mostafa\n"
     ]
    }
   ],
   "source": [
    "first_name = \"Ahmed\"\n",
    "last_name = \"Mostafa\"\n",
    "\n",
    "sentence = first_name + \" \" + last_name\n",
    "print( sentence )"
   ]
  },
  {
   "attachments": {},
   "cell_type": "markdown",
   "metadata": {},
   "source": [
    "### 2. Old style %"
   ]
  },
  {
   "cell_type": "code",
   "execution_count": 12,
   "metadata": {},
   "outputs": [
    {
     "name": "stdout",
     "output_type": "stream",
     "text": [
      "Hello, Ahmed. You are 20 years old\n"
     ]
    }
   ],
   "source": [
    "sentence = \"Hello, %s. You are %d years old\" % (name,age)\n",
    "print(sentence)"
   ]
  },
  {
   "attachments": {},
   "cell_type": "markdown",
   "metadata": {},
   "source": [
    "### 3. Format function\n",
    "{} curly braces الأقواس المعقوفة"
   ]
  },
  {
   "cell_type": "code",
   "execution_count": 13,
   "metadata": {},
   "outputs": [
    {
     "name": "stdout",
     "output_type": "stream",
     "text": [
      "Hello, Ahmed. You are 20 years old.\n",
      "I want to be your friend, Ahmed.\n"
     ]
    }
   ],
   "source": [
    "sentence = \"\"\"Hello, {0}. You are {1} years old.\n",
    "I want to be your friend, {0}.\"\"\".format(name,age)\n",
    "print(sentence)"
   ]
  },
  {
   "attachments": {},
   "cell_type": "markdown",
   "metadata": {},
   "source": [
    "### 3. Formatted strings / f-strings"
   ]
  },
  {
   "cell_type": "code",
   "execution_count": 14,
   "metadata": {},
   "outputs": [
    {
     "name": "stdout",
     "output_type": "stream",
     "text": [
      "Hello, Ahmed. Please pay 3.1\n"
     ]
    }
   ],
   "source": [
    "price = 22 / 7\n",
    "sentence = f\"Hello, {name}. Please pay {price:.1f}\"\n",
    "print(sentence)"
   ]
  },
  {
   "attachments": {},
   "cell_type": "markdown",
   "metadata": {},
   "source": [
    "## Reading numbers قراءة الأرقام"
   ]
  },
  {
   "cell_type": "code",
   "execution_count": 15,
   "metadata": {},
   "outputs": [
    {
     "name": "stdout",
     "output_type": "stream",
     "text": [
      "30\n"
     ]
    }
   ],
   "source": [
    "price = 10\n",
    "amount = int( input(\"Please enter the amount: \") )\n",
    "price = amount * price\n",
    "print(price)"
   ]
  },
  {
   "attachments": {},
   "cell_type": "markdown",
   "metadata": {},
   "source": [
    "## num2words تحويل الأرقام إلى صيغة نصية\n",
    "أول مرة فقط لا بد من تثبيتها"
   ]
  },
  {
   "cell_type": "code",
   "execution_count": 19,
   "metadata": {},
   "outputs": [
    {
     "name": "stdout",
     "output_type": "stream",
     "text": [
      "one thousand, four hundred and eighty-six\n"
     ]
    }
   ],
   "source": [
    "from num2words import num2words\n",
    "print( num2words( 1486 ) )"
   ]
  },
  {
   "cell_type": "markdown",
   "metadata": {},
   "source": [
    "Convert int to str تحويل الرقم الصحيح إلى كلام"
   ]
  },
  {
   "cell_type": "code",
   "execution_count": 20,
   "metadata": {},
   "outputs": [
    {
     "name": "stdout",
     "output_type": "stream",
     "text": [
      "You should pay 1486\n"
     ]
    }
   ],
   "source": [
    "price = 1486\n",
    "sentence = \"You should pay \" + str( price )\n",
    "print(sentence)"
   ]
  },
  {
   "cell_type": "markdown",
   "metadata": {},
   "source": [
    "* Integer division القسمة الصحيحة\n",
    "* Remainder باقي القسمة\n",
    "* Powerالأس"
   ]
  },
  {
   "cell_type": "code",
   "execution_count": 21,
   "metadata": {},
   "outputs": [
    {
     "name": "stdout",
     "output_type": "stream",
     "text": [
      "2.3\n",
      "2\n",
      "3\n",
      "8\n"
     ]
    }
   ],
   "source": [
    "price = 10\n",
    "pocket = 23\n",
    "print(pocket / price)\n",
    "print( pocket // price )\n",
    "print( pocket % price )\n",
    "print( 2 ** 3)"
   ]
  },
  {
   "attachments": {},
   "cell_type": "markdown",
   "metadata": {},
   "source": [
    "## References المراجع\n",
    "* [Output Formatting](https://docs.python.org/3/tutorial/inputoutput.html) - Python.org\n",
    "* [num2words](https://pypi.org/project/num2words) - PyPi.org"
   ]
  }
 ],
 "metadata": {
  "kernelspec": {
   "display_name": "Python 3",
   "language": "python",
   "name": "python3"
  },
  "language_info": {
   "codemirror_mode": {
    "name": "ipython",
    "version": 3
   },
   "file_extension": ".py",
   "mimetype": "text/x-python",
   "name": "python",
   "nbconvert_exporter": "python",
   "pygments_lexer": "ipython3",
   "version": "3.13.1"
  },
  "orig_nbformat": 4,
  "vscode": {
   "interpreter": {
    "hash": "5238573367df39f7286bb46f9ff5f08f63a01a80960060ce41e3c79b190280fa"
   }
  }
 },
 "nbformat": 4,
 "nbformat_minor": 2
}
