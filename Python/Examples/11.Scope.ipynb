{
 "cells": [
  {
   "attachments": {},
   "cell_type": "markdown",
   "metadata": {},
   "source": [
    "# Lesson 11: Scope نطاق المتغيرات والدوال\n",
    "\n",
    "![Scope in python](https://www.askpython.com/wp-content/uploads/2019/08/python-variable-scope-resolution-legb.png.webp)\n",
    "\n",
    "## References\n",
    "* [Understanding Python Scope](https://realpython.com/videos/understanding-scope-closure)\n",
    "* [Python Namespace and Variable Scope Resolution (LEGB)](https://www.askpython.com/python/python-namespace-variable-scope-resolution-legb)\n",
    "* [59. Nested Statements and Scope](https://ibm-learning.udemy.com/course/complete-python-bootcamp/learn/lecture/9442716)\n",
    "\n",
    "## Quizzes\n",
    "* [Exercise: Python Scope](https://www.w3schools.com/python/exercise.asp?x=xrcise_scope1)\n",
    "* [Python Variables and Data Types Quiz](https://pynative.com/python-variables-and-data-types-quiz)\n",
    "\n",
    "## Local scope\n",
    "خاص بالدالة"
   ]
  },
  {
   "cell_type": "code",
   "execution_count": 1,
   "metadata": {},
   "outputs": [
    {
     "name": "stdout",
     "output_type": "stream",
     "text": [
      "I am in the outer function\n"
     ]
    }
   ],
   "source": [
    "def outer_function():\n",
    "\tmax = \"I am in the outer function\"\n",
    "\tprint(max)\n",
    "\n",
    "outer_function()"
   ]
  },
  {
   "attachments": {},
   "cell_type": "markdown",
   "metadata": {},
   "source": [
    "## Inner function\n",
    "A function that is defined inside another function \n",
    "دالة تم تعريفها داخل دالة أخرى"
   ]
  },
  {
   "cell_type": "code",
   "execution_count": 2,
   "metadata": {},
   "outputs": [
    {
     "name": "stdout",
     "output_type": "stream",
     "text": [
      "I am in the inner function\n"
     ]
    }
   ],
   "source": [
    "def outer_function():\n",
    "\tmax = \"I am in the outer function\"\n",
    "\n",
    "\tdef inner_function():\n",
    "\t\tmax = \"I am in the inner function\"\n",
    "\t\tprint(max)\n",
    "\n",
    "\tinner_function()\n",
    "\n",
    "outer_function()"
   ]
  },
  {
   "attachments": {},
   "cell_type": "markdown",
   "metadata": {},
   "source": [
    "## Enclosing scope النطاق الحاوي\n",
    "* If local failed to find the name, Python looks at the enclosing scope"
   ]
  },
  {
   "cell_type": "code",
   "execution_count": 3,
   "metadata": {},
   "outputs": [
    {
     "name": "stdout",
     "output_type": "stream",
     "text": [
      "I am in the outer function\n"
     ]
    }
   ],
   "source": [
    "def outer_function():\n",
    "\tmax = \"I am in the outer function\"\n",
    "\n",
    "\tdef inner_function():\n",
    "\t\t# max = \"I am in the inner function\"\n",
    "\t\tprint(max)\n",
    "\n",
    "\tinner_function()\n",
    "\n",
    "outer_function()"
   ]
  },
  {
   "attachments": {},
   "cell_type": "markdown",
   "metadata": {},
   "source": [
    "## Global scope"
   ]
  },
  {
   "cell_type": "code",
   "execution_count": null,
   "metadata": {},
   "outputs": [
    {
     "name": "stdout",
     "output_type": "stream",
     "text": [
      "I am in the global scope\n"
     ]
    }
   ],
   "source": [
    "max = \"I am in the global scope\"\n",
    "\n",
    "def outer_function():\n",
    "#\tmax = \"I am in the outer function\"\n",
    "\n",
    "\tdef inner_function():\n",
    "#\t\tmax = \"I am in the inner function\"\n",
    "\t\tprint(max)\n",
    "\n",
    "\tinner_function()\n",
    "\n",
    "outer_function()"
   ]
  },
  {
   "attachments": {},
   "cell_type": "markdown",
   "metadata": {},
   "source": [
    "## Built-in scope\n",
    "الذي تم تعريفه في بايثون"
   ]
  },
  {
   "cell_type": "code",
   "execution_count": 4,
   "metadata": {},
   "outputs": [
    {
     "name": "stdout",
     "output_type": "stream",
     "text": [
      "<built-in function max>\n"
     ]
    }
   ],
   "source": [
    "#max = \"I am in the global scope\"\n",
    "\n",
    "def outer_function():\n",
    "#\tmax = \"I am in the outer function\"\n",
    "\n",
    "\tdef inner_function():\n",
    "#\t\tmax = \"I am in the inner function\"\n",
    "\t\tprint(max)\n",
    "\n",
    "\tinner_function()\n",
    "\n",
    "outer_function()"
   ]
  },
  {
   "attachments": {},
   "cell_type": "markdown",
   "metadata": {},
   "source": [
    "## LEGB\n",
    "* Local\n",
    "* Enclosing\n",
    "* Global\n",
    "* Built-in\n",
    "\n",
    "If not found yet, `NameError` إذا لم يوجد الاسم بعد كل هذه المراحل من البحث."
   ]
  },
  {
   "cell_type": "code",
   "execution_count": 5,
   "metadata": {},
   "outputs": [
    {
     "ename": "NameError",
     "evalue": "name 'max_nonexisting' is not defined",
     "output_type": "error",
     "traceback": [
      "\u001b[31m---------------------------------------------------------------------------\u001b[39m",
      "\u001b[31mNameError\u001b[39m                                 Traceback (most recent call last)",
      "\u001b[36mCell\u001b[39m\u001b[36m \u001b[39m\u001b[32mIn[5]\u001b[39m\u001b[32m, line 12\u001b[39m\n\u001b[32m      8\u001b[39m \t\t\u001b[38;5;28mprint\u001b[39m(max_nonexisting)\n\u001b[32m     10\u001b[39m \tinner_function()\n\u001b[32m---> \u001b[39m\u001b[32m12\u001b[39m \u001b[43mouter_function\u001b[49m\u001b[43m(\u001b[49m\u001b[43m)\u001b[49m\n",
      "\u001b[36mCell\u001b[39m\u001b[36m \u001b[39m\u001b[32mIn[5]\u001b[39m\u001b[32m, line 10\u001b[39m, in \u001b[36mouter_function\u001b[39m\u001b[34m()\u001b[39m\n\u001b[32m      6\u001b[39m \u001b[38;5;28;01mdef\u001b[39;00m\u001b[38;5;250m \u001b[39m\u001b[34minner_function\u001b[39m():\n\u001b[32m      7\u001b[39m \t\u001b[38;5;66;03m# max = \"I am in the inner function\"\u001b[39;00m\n\u001b[32m      8\u001b[39m \t\u001b[38;5;28mprint\u001b[39m(max_nonexisting)\n\u001b[32m---> \u001b[39m\u001b[32m10\u001b[39m \u001b[43minner_function\u001b[49m\u001b[43m(\u001b[49m\u001b[43m)\u001b[49m\n",
      "\u001b[36mCell\u001b[39m\u001b[36m \u001b[39m\u001b[32mIn[5]\u001b[39m\u001b[32m, line 8\u001b[39m, in \u001b[36mouter_function.<locals>.inner_function\u001b[39m\u001b[34m()\u001b[39m\n\u001b[32m      6\u001b[39m \u001b[38;5;28;01mdef\u001b[39;00m\u001b[38;5;250m \u001b[39m\u001b[34minner_function\u001b[39m():\n\u001b[32m      7\u001b[39m \t\u001b[38;5;66;03m# max = \"I am in the inner function\"\u001b[39;00m\n\u001b[32m----> \u001b[39m\u001b[32m8\u001b[39m \t\u001b[38;5;28mprint\u001b[39m(\u001b[43mmax_nonexisting\u001b[49m)\n",
      "\u001b[31mNameError\u001b[39m: name 'max_nonexisting' is not defined"
     ]
    }
   ],
   "source": [
    "#max = \"I am in the global scope\"\n",
    "\n",
    "def outer_function():\n",
    "#\tmax = \"I am in the outer function\"\n",
    "\n",
    "\tdef inner_function():\n",
    "\t\t# max = \"I am in the inner function\"\n",
    "\t\tprint(max_nonexisting)\n",
    "\n",
    "\tinner_function()\n",
    "\n",
    "outer_function()"
   ]
  }
 ],
 "metadata": {
  "kernelspec": {
   "display_name": "Python 3",
   "language": "python",
   "name": "python3"
  },
  "language_info": {
   "codemirror_mode": {
    "name": "ipython",
    "version": 3
   },
   "file_extension": ".py",
   "mimetype": "text/x-python",
   "name": "python",
   "nbconvert_exporter": "python",
   "pygments_lexer": "ipython3",
   "version": "3.13.5"
  },
  "orig_nbformat": 4,
  "vscode": {
   "interpreter": {
    "hash": "5238573367df39f7286bb46f9ff5f08f63a01a80960060ce41e3c79b190280fa"
   }
  }
 },
 "nbformat": 4,
 "nbformat_minor": 2
}
