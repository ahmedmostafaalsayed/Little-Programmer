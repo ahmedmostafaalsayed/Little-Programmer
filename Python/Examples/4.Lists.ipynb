{
 "cells": [
  {
   "attachments": {},
   "cell_type": "markdown",
   "metadata": {},
   "source": [
    "# Lesson 4: Lists\n",
    "* Creating lists\n",
    "* len\n",
    "* Accessing list items\n",
    "* IndexError\n",
    "* Slicing\n",
    "* append\n",
    "* insert\n",
    "* extend\n",
    "* `+` operator\n",
    "* sort\n",
    "* reverse\n",
    "* remove\n",
    "* pop\n",
    "* `del` keyword\n",
    "* clear\n",
    "* Lists are mutable - same id\n",
    "* index\n",
    "* ValueError\n",
    "* count\n",
    "* Lists of numbers: min and max\n",
    "\n",
    "## Creating lists and accessing list items"
   ]
  },
  {
   "cell_type": "code",
   "execution_count": 1,
   "metadata": {},
   "outputs": [
    {
     "name": "stdout",
     "output_type": "stream",
     "text": [
      "['First', 'Second', 'Third', 'Fourth', 'Fifth']\n"
     ]
    }
   ],
   "source": [
    "names = [\"First\",\"Second\",\"Third\",\"Fourth\",\"Fifth\"]\n",
    "print(names)"
   ]
  },
  {
   "attachments": {},
   "cell_type": "markdown",
   "metadata": {},
   "source": [
    "## len"
   ]
  },
  {
   "cell_type": "code",
   "execution_count": 60,
   "metadata": {},
   "outputs": [
    {
     "data": {
      "text/plain": [
       "5"
      ]
     },
     "execution_count": 60,
     "metadata": {},
     "output_type": "execute_result"
    }
   ],
   "source": [
    "len(names)"
   ]
  },
  {
   "attachments": {},
   "cell_type": "markdown",
   "metadata": {},
   "source": [
    "## Accessing list items\n",
    "First element أول عنصر"
   ]
  },
  {
   "cell_type": "code",
   "execution_count": 26,
   "metadata": {},
   "outputs": [
    {
     "name": "stdout",
     "output_type": "stream",
     "text": [
      "First\n"
     ]
    }
   ],
   "source": [
    "print(names[0])"
   ]
  },
  {
   "attachments": {},
   "cell_type": "markdown",
   "metadata": {},
   "source": [
    "Last element العنصر الأخير"
   ]
  },
  {
   "cell_type": "code",
   "execution_count": 61,
   "metadata": {},
   "outputs": [
    {
     "name": "stdout",
     "output_type": "stream",
     "text": [
      "Fifth\n"
     ]
    }
   ],
   "source": [
    "print(names[-1])"
   ]
  },
  {
   "attachments": {},
   "cell_type": "markdown",
   "metadata": {},
   "source": [
    "## IndexError"
   ]
  },
  {
   "cell_type": "code",
   "execution_count": 69,
   "metadata": {},
   "outputs": [
    {
     "ename": "IndexError",
     "evalue": "list index out of range",
     "output_type": "error",
     "traceback": [
      "\u001b[1;31m---------------------------------------------------------------------------\u001b[0m",
      "\u001b[1;31mIndexError\u001b[0m                                Traceback (most recent call last)",
      "Cell \u001b[1;32mIn[69], line 1\u001b[0m\n\u001b[1;32m----> 1\u001b[0m \u001b[39mprint\u001b[39m(names[\u001b[39m10\u001b[39;49m])\n",
      "\u001b[1;31mIndexError\u001b[0m: list index out of range"
     ]
    }
   ],
   "source": [
    "print(names[10])"
   ]
  },
  {
   "attachments": {},
   "cell_type": "markdown",
   "metadata": {},
   "source": [
    "## Slicing"
   ]
  },
  {
   "attachments": {},
   "cell_type": "markdown",
   "metadata": {},
   "source": [
    "From second up to number 5 but not including"
   ]
  },
  {
   "cell_type": "code",
   "execution_count": 64,
   "metadata": {},
   "outputs": [
    {
     "name": "stdout",
     "output_type": "stream",
     "text": [
      "['Second', 'Third', 'Fourth', 'Fifth']\n"
     ]
    }
   ],
   "source": [
    "print(names[1:5])"
   ]
  },
  {
   "attachments": {},
   "cell_type": "markdown",
   "metadata": {},
   "source": [
    "First 3"
   ]
  },
  {
   "cell_type": "code",
   "execution_count": 65,
   "metadata": {},
   "outputs": [
    {
     "name": "stdout",
     "output_type": "stream",
     "text": [
      "['First', 'Second', 'Third']\n"
     ]
    }
   ],
   "source": [
    "print(names[:3])"
   ]
  },
  {
   "attachments": {},
   "cell_type": "markdown",
   "metadata": {},
   "source": [
    "First 10 elements (slicing allows using out-of-range indexes)"
   ]
  },
  {
   "cell_type": "code",
   "execution_count": 2,
   "metadata": {},
   "outputs": [
    {
     "name": "stdout",
     "output_type": "stream",
     "text": [
      "['First', 'Second', 'Third', 'Fourth', 'Fifth']\n"
     ]
    }
   ],
   "source": [
    "print(names[:10])"
   ]
  },
  {
   "attachments": {},
   "cell_type": "markdown",
   "metadata": {},
   "source": [
    "## append"
   ]
  },
  {
   "cell_type": "code",
   "execution_count": 70,
   "metadata": {},
   "outputs": [],
   "source": [
    "names.append(\"Sixth\")"
   ]
  },
  {
   "attachments": {},
   "cell_type": "markdown",
   "metadata": {},
   "source": [
    "## insert"
   ]
  },
  {
   "cell_type": "code",
   "execution_count": 34,
   "metadata": {},
   "outputs": [
    {
     "name": "stdout",
     "output_type": "stream",
     "text": [
      "['First', 'New', 'Second', 'Third', 'Fourth', 'Fifth', 'Sixth']\n"
     ]
    }
   ],
   "source": [
    "names.insert(1,\"New\")\n",
    "print(names)"
   ]
  },
  {
   "attachments": {},
   "cell_type": "markdown",
   "metadata": {},
   "source": [
    "## extend with new list"
   ]
  },
  {
   "cell_type": "code",
   "execution_count": 3,
   "metadata": {},
   "outputs": [
    {
     "name": "stdout",
     "output_type": "stream",
     "text": [
      "['First', 'Second', 'Third', 'Fourth', 'Fifth', 'Tenth', 'Eleventh']\n"
     ]
    }
   ],
   "source": [
    "another_list = [\"Tenth\", \"Eleventh\"]\n",
    "names.extend(another_list)\n",
    "print(names)"
   ]
  },
  {
   "attachments": {},
   "cell_type": "markdown",
   "metadata": {},
   "source": [
    "## Adding lists +"
   ]
  },
  {
   "cell_type": "code",
   "execution_count": 4,
   "metadata": {},
   "outputs": [
    {
     "name": "stdout",
     "output_type": "stream",
     "text": [
      "['First', 'Second', 'Third', 'Fourth', 'Fifth', 'Tenth', 'Eleventh', 'Tenth', 'Eleventh']\n"
     ]
    }
   ],
   "source": [
    "print(names + another_list)"
   ]
  },
  {
   "attachments": {},
   "cell_type": "markdown",
   "metadata": {},
   "source": [
    "## sort & reverse"
   ]
  },
  {
   "cell_type": "code",
   "execution_count": 5,
   "metadata": {},
   "outputs": [],
   "source": [
    "names = ['First', 'Second', 'Third', 'Fourth', 'Fifth', 'Sixth']\n",
    "numbers = [1,3,5,2,4,6]"
   ]
  },
  {
   "attachments": {},
   "cell_type": "markdown",
   "metadata": {},
   "source": [
    "Reverse"
   ]
  },
  {
   "cell_type": "code",
   "execution_count": 80,
   "metadata": {},
   "outputs": [
    {
     "name": "stdout",
     "output_type": "stream",
     "text": [
      "['Sixth', 'Fifth', 'Fourth', 'Third', 'Second', 'First']\n",
      "[6, 4, 2, 5, 3, 1]\n"
     ]
    }
   ],
   "source": [
    "names.reverse()\n",
    "print(names)\n",
    "\n",
    "numbers.reverse()\n",
    "print(numbers)"
   ]
  },
  {
   "attachments": {},
   "cell_type": "markdown",
   "metadata": {},
   "source": [
    "Sort"
   ]
  },
  {
   "cell_type": "code",
   "execution_count": 6,
   "metadata": {},
   "outputs": [
    {
     "name": "stdout",
     "output_type": "stream",
     "text": [
      "['Fifth', 'First', 'Fourth', 'Second', 'Sixth', 'Third']\n",
      "[1, 2, 3, 4, 5, 6]\n"
     ]
    }
   ],
   "source": [
    "# Sort strings\n",
    "names.sort()\n",
    "print(names)\n",
    "\n",
    "# Sort numbers\n",
    "numbers.sort()\n",
    "print(numbers)"
   ]
  },
  {
   "attachments": {},
   "cell_type": "markdown",
   "metadata": {},
   "source": [
    "## Remove values from lists\n",
    "Remove first occurrence of a value"
   ]
  },
  {
   "cell_type": "code",
   "execution_count": 8,
   "metadata": {},
   "outputs": [],
   "source": [
    "names = ['First', 'Second', 'Third', 'Third', 'Fourth', 'Fifth']"
   ]
  },
  {
   "cell_type": "code",
   "execution_count": 9,
   "metadata": {},
   "outputs": [
    {
     "name": "stdout",
     "output_type": "stream",
     "text": [
      "['First', 'Second', 'Third', 'Fourth', 'Fifth']\n"
     ]
    }
   ],
   "source": [
    "names.remove(\"Third\")\n",
    "print(names)"
   ]
  },
  {
   "attachments": {},
   "cell_type": "markdown",
   "metadata": {},
   "source": [
    "Remove item by index: Remove last element إزالة العنصر الأخير"
   ]
  },
  {
   "cell_type": "code",
   "execution_count": 7,
   "metadata": {},
   "outputs": [
    {
     "name": "stdout",
     "output_type": "stream",
     "text": [
      "['First', 'Second', 'Third', 'Fourth', 'Fifth']\n",
      "Fifth\n",
      "['First', 'Second', 'Third', 'Fourth']\n"
     ]
    }
   ],
   "source": [
    "names = ['First', 'Second', 'Third', 'Fourth', 'Fifth']\n",
    "print(names)\n",
    "\n",
    "print(names.pop(-1))\n",
    "print(names)"
   ]
  },
  {
   "attachments": {},
   "cell_type": "markdown",
   "metadata": {},
   "source": [
    "del keyword"
   ]
  },
  {
   "cell_type": "code",
   "execution_count": 3,
   "metadata": {},
   "outputs": [
    {
     "name": "stdout",
     "output_type": "stream",
     "text": [
      "['First', 'Second', 'Third', 'Fourth']\n",
      "['First', 'Second', 'Third']\n"
     ]
    }
   ],
   "source": [
    "print(names)\n",
    "del names[3]\n",
    "print(names)"
   ]
  },
  {
   "attachments": {},
   "cell_type": "markdown",
   "metadata": {},
   "source": [
    "## ValueError\n",
    "Removing non-existing item by value"
   ]
  },
  {
   "cell_type": "code",
   "execution_count": 11,
   "metadata": {},
   "outputs": [
    {
     "ename": "ValueError",
     "evalue": "list.remove(x): x not in list",
     "output_type": "error",
     "traceback": [
      "\u001b[1;31m---------------------------------------------------------------------------\u001b[0m",
      "\u001b[1;31mValueError\u001b[0m                                Traceback (most recent call last)",
      "Cell \u001b[1;32mIn[11], line 1\u001b[0m\n\u001b[1;32m----> 1\u001b[0m names\u001b[39m.\u001b[39;49mremove(\u001b[39m\"\u001b[39;49m\u001b[39mAhmed\u001b[39;49m\u001b[39m\"\u001b[39;49m)\n",
      "\u001b[1;31mValueError\u001b[0m: list.remove(x): x not in list"
     ]
    }
   ],
   "source": [
    "names.remove(\"Ahmed\")"
   ]
  },
  {
   "attachments": {},
   "cell_type": "markdown",
   "metadata": {},
   "source": [
    "Removing non-existing item by index"
   ]
  },
  {
   "cell_type": "code",
   "execution_count": 12,
   "metadata": {},
   "outputs": [
    {
     "ename": "IndexError",
     "evalue": "pop index out of range",
     "output_type": "error",
     "traceback": [
      "\u001b[1;31m---------------------------------------------------------------------------\u001b[0m",
      "\u001b[1;31mIndexError\u001b[0m                                Traceback (most recent call last)",
      "Cell \u001b[1;32mIn[12], line 1\u001b[0m\n\u001b[1;32m----> 1\u001b[0m names\u001b[39m.\u001b[39;49mpop(\u001b[39m10\u001b[39;49m)\n",
      "\u001b[1;31mIndexError\u001b[0m: pop index out of range"
     ]
    }
   ],
   "source": [
    "names.pop(10)"
   ]
  },
  {
   "attachments": {},
   "cell_type": "markdown",
   "metadata": {},
   "source": [
    "## clear\n",
    "Lists are mutable? same id?"
   ]
  },
  {
   "cell_type": "code",
   "execution_count": 8,
   "metadata": {},
   "outputs": [
    {
     "name": "stdout",
     "output_type": "stream",
     "text": [
      "Old id: 2683197258880\n",
      "[] has 0 items.\n",
      "New id: 2683197258880\n"
     ]
    }
   ],
   "source": [
    "print(f\"Old id: {id(names)}\")\n",
    "names.clear()\n",
    "print(f\"{names} has {len(names)} items.\")\n",
    "print(f\"New id: {id(names)}\")"
   ]
  },
  {
   "attachments": {},
   "cell_type": "markdown",
   "metadata": {},
   "source": [
    "## Find a value\n",
    "Is it **in** the list?"
   ]
  },
  {
   "cell_type": "code",
   "execution_count": 2,
   "metadata": {},
   "outputs": [
    {
     "name": "stdout",
     "output_type": "stream",
     "text": [
      "I found it\n"
     ]
    }
   ],
   "source": [
    "names = ['First', 'Second', 'Third', 'Third', 'Fourth', 'Fifth']\n",
    "if \"Fourth\" in names:\n",
    "\tprint(\"I found it\")\n",
    "else:\n",
    "\tprint(\"I cannot find it!\")"
   ]
  },
  {
   "attachments": {},
   "cell_type": "markdown",
   "metadata": {},
   "source": [
    "First location of value with index"
   ]
  },
  {
   "cell_type": "code",
   "execution_count": 2,
   "metadata": {},
   "outputs": [
    {
     "name": "stdout",
     "output_type": "stream",
     "text": [
      "'Mohamed' is number 2 in the list.\n"
     ]
    }
   ],
   "source": [
    "names = [\"Ahmed\",\"Mohamed\",\"Ali\",\"Mohamed\",\"Osama\",\"Anas\"]\n",
    "needed = \"Mohamed\"\n",
    "print(f\"'{needed}' is number {names.index(needed)+1} in the list.\")"
   ]
  },
  {
   "attachments": {},
   "cell_type": "markdown",
   "metadata": {},
   "source": [
    "ValueError if value is not found"
   ]
  },
  {
   "cell_type": "code",
   "execution_count": 4,
   "metadata": {},
   "outputs": [
    {
     "ename": "ValueError",
     "evalue": "'Husam' is not in list",
     "output_type": "error",
     "traceback": [
      "\u001b[1;31m---------------------------------------------------------------------------\u001b[0m",
      "\u001b[1;31mValueError\u001b[0m                                Traceback (most recent call last)",
      "Cell \u001b[1;32mIn[4], line 3\u001b[0m\n\u001b[0;32m      1\u001b[0m names \u001b[39m=\u001b[39m [\u001b[39m\"\u001b[39m\u001b[39mAhmed\u001b[39m\u001b[39m\"\u001b[39m,\u001b[39m\"\u001b[39m\u001b[39mMohamed\u001b[39m\u001b[39m\"\u001b[39m,\u001b[39m\"\u001b[39m\u001b[39mAli\u001b[39m\u001b[39m\"\u001b[39m,\u001b[39m\"\u001b[39m\u001b[39mMohamed\u001b[39m\u001b[39m\"\u001b[39m,\u001b[39m\"\u001b[39m\u001b[39mOsama\u001b[39m\u001b[39m\"\u001b[39m,\u001b[39m\"\u001b[39m\u001b[39mAnas\u001b[39m\u001b[39m\"\u001b[39m]\n\u001b[0;32m      2\u001b[0m needed \u001b[39m=\u001b[39m \u001b[39m\"\u001b[39m\u001b[39mHusam\u001b[39m\u001b[39m\"\u001b[39m\n\u001b[1;32m----> 3\u001b[0m \u001b[39mprint\u001b[39m(\u001b[39mf\u001b[39m\u001b[39m\"\u001b[39m\u001b[39m'\u001b[39m\u001b[39m{\u001b[39;00mneeded\u001b[39m}\u001b[39;00m\u001b[39m'\u001b[39m\u001b[39m is number \u001b[39m\u001b[39m{\u001b[39;00mnames\u001b[39m.\u001b[39;49mindex(needed)\u001b[39m+\u001b[39m\u001b[39m1\u001b[39m\u001b[39m}\u001b[39;00m\u001b[39m in the list.\u001b[39m\u001b[39m\"\u001b[39m)\n",
      "\u001b[1;31mValueError\u001b[0m: 'Husam' is not in list"
     ]
    }
   ],
   "source": [
    "names = [\"Ahmed\",\"Mohamed\",\"Ali\",\"Mohamed\",\"Osama\",\"Anas\"]\n",
    "needed = \"Husam\"\n",
    "print(f\"'{needed}' is number {names.index(needed)+1} in the list.\")"
   ]
  },
  {
   "attachments": {},
   "cell_type": "markdown",
   "metadata": {},
   "source": [
    "How many times needed value is there?"
   ]
  },
  {
   "cell_type": "code",
   "execution_count": 10,
   "metadata": {},
   "outputs": [
    {
     "name": "stdout",
     "output_type": "stream",
     "text": [
      "I can find Lunch 2 times.\n",
      "I can find Snacks 0 times.\n"
     ]
    }
   ],
   "source": [
    "meals = [\"Breakfast\",\"Lunch\",\"Lunch\",\"Dinner\"]\n",
    "required = \"Lunch\"\n",
    "print(f\"I can find {required} {meals.count(required)} times.\")\n",
    "\n",
    "required = \"Snacks\"\n",
    "print(f\"I can find {required} {meals.count(required)} times.\")"
   ]
  },
  {
   "attachments": {},
   "cell_type": "markdown",
   "metadata": {},
   "source": [
    "## Exercise\n",
    "Count the frequency of keywords in a paragraph عدد مرات وجود كلمة في قطعة\n",
    "\n",
    "**Hint**: To generate a random paragraph in Word, type: `=rand()` then press **Enter**."
   ]
  },
  {
   "cell_type": "code",
   "execution_count": 11,
   "metadata": {},
   "outputs": [],
   "source": [
    "text = \"\"\"Video provides a powerful way to help you prove your point. When you click Online Video, you can paste in the embed code for the video you want to add. You can also type a keyword to search online for the video that best fits your document.\n",
    "To make your document look professionally produced, Word provides header, footer, cover page, and text box designs that complement each other. For example, you can add a matching cover page, header, and sidebar. Click Insert and then choose the elements you want from the different galleries.\n",
    "Themes and styles also help keep your document coordinated. When you click Design and choose a new Theme, the pictures, charts, and SmartArt graphics change to match your new theme. When you apply styles, your headings change to match the new theme.\n",
    "Save time in Word with new buttons that show up where you need them. To change the way a picture fits in your document, click it and a button for layout options appears next to it. When you work on a table, click where you want to add a row or a column, and then click the plus sign.\n",
    "Reading is easier, too, in the new Reading view. You can collapse parts of the document and focus on the text you want. If you need to stop reading before you reach the end, Word remembers where you left off - even on another device.\"\"\""
   ]
  },
  {
   "cell_type": "code",
   "execution_count": 13,
   "metadata": {},
   "outputs": [
    {
     "name": "stdout",
     "output_type": "stream",
     "text": [
      "I found 'document' 5 times.\n",
      "I found 'for' 4 times.\n",
      "I found 'the' 20 times.\n",
      "I found 'you' 23 times.\n"
     ]
    }
   ],
   "source": [
    "needed = \"document\"\n",
    "print(f\"I found '{needed}' {text.count(needed)} times.\")\n",
    "\n",
    "needed = \"for\"\n",
    "print(f\"I found '{needed}' {text.count(needed)} times.\")\n",
    "\n",
    "needed = \"the\"\n",
    "print(f\"I found '{needed}' {text.count(needed)} times.\")\n",
    "\n",
    "needed = \"you\"\n",
    "print(f\"I found '{needed}' {text.count(needed)} times.\")"
   ]
  },
  {
   "attachments": {},
   "cell_type": "markdown",
   "metadata": {},
   "source": [
    "## Lists of numbers\n",
    "min and max أكبر وأصغر رقم"
   ]
  },
  {
   "cell_type": "code",
   "execution_count": 15,
   "metadata": {},
   "outputs": [],
   "source": [
    "numbers = [1,3,5,2,4,6]"
   ]
  },
  {
   "cell_type": "code",
   "execution_count": 16,
   "metadata": {},
   "outputs": [
    {
     "name": "stdout",
     "output_type": "stream",
     "text": [
      "Maximum is: 6.\n",
      "Minimum is: 1.\n"
     ]
    }
   ],
   "source": [
    "print(f\"Maximum is: {max(numbers)}.\")\n",
    "print(f\"Minimum is: {min(numbers)}.\")"
   ]
  },
  {
   "attachments": {},
   "cell_type": "markdown",
   "metadata": {},
   "source": [
    "## Exercise\n",
    "Print names before you and names after you."
   ]
  },
  {
   "cell_type": "code",
   "execution_count": 17,
   "metadata": {},
   "outputs": [],
   "source": [
    "names = [\"Ahmed\", \\\n",
    "    \"Mohamed\", \\\n",
    "    \"Ali\", \\\n",
    "    \"Mohamed\", \\\n",
    "    \"Osama\", \\\n",
    "    \"Anas\", \\\n",
    "    \"Mahmoud\"]\n",
    "\n",
    "#username = input(\"Please enter your name: \")\n",
    "username = \"Ahmed\""
   ]
  },
  {
   "cell_type": "code",
   "execution_count": 19,
   "metadata": {},
   "outputs": [
    {
     "name": "stdout",
     "output_type": "stream",
     "text": [
      "Nothing before 'Ahmed'.\n",
      "After 'Ahmed': ['Mohamed', 'Ali', 'Mohamed', 'Osama', 'Anas', 'Mahmoud']\n"
     ]
    }
   ],
   "source": [
    "if username in names:\n",
    "\ti = names.index(username)\n",
    "\n",
    "\t# Before\n",
    "\tif(len(names[:i])>0):\n",
    "\t\tprint(f\"Before '{username}': {names[:i]}\")\n",
    "\telse:\n",
    "\t\tprint(f\"Nothing before '{username}'.\")\n",
    "\t\n",
    "\t# After\n",
    "\tif(len(names[i+1:])>0):\n",
    "\t\tprint(f\"After '{username}': {names[i+1:]}\")\n",
    "\telse:\n",
    "\t\tprint(f\"Nothing after '{username}'.\")\n",
    "\t\n",
    "\t#print(f\"After '{username}': {names[i+1:]}\")\n",
    "else:\n",
    "\tprint(f\"I cannot find '{username}'.\")"
   ]
  }
 ],
 "metadata": {
  "kernelspec": {
   "display_name": "Python 3",
   "language": "python",
   "name": "python3"
  },
  "language_info": {
   "codemirror_mode": {
    "name": "ipython",
    "version": 3
   },
   "file_extension": ".py",
   "mimetype": "text/x-python",
   "name": "python",
   "nbconvert_exporter": "python",
   "pygments_lexer": "ipython3",
   "version": "3.11.1 (tags/v3.11.1:a7a450f, Dec  6 2022, 19:58:39) [MSC v.1934 64 bit (AMD64)]"
  },
  "orig_nbformat": 4,
  "vscode": {
   "interpreter": {
    "hash": "5238573367df39f7286bb46f9ff5f08f63a01a80960060ce41e3c79b190280fa"
   }
  }
 },
 "nbformat": 4,
 "nbformat_minor": 2
}
