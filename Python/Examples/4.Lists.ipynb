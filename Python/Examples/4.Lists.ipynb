{
 "cells": [
  {
   "attachments": {},
   "cell_type": "markdown",
   "metadata": {},
   "source": [
    "# Lesson 4: Lists القوائم\n",
    "* Creating lists\n",
    "* len\n",
    "* Accessing list items\n",
    "* IndexError\n",
    "* Slicing\n",
    "* append\n",
    "* insert\n",
    "* extend\n",
    "* `+` operator\n",
    "* sort\n",
    "* reverse\n",
    "* remove\n",
    "* pop\n",
    "* `del` keyword\n",
    "* clear\n",
    "* Lists are mutable - same id\n",
    "* index\n",
    "* ValueError\n",
    "* count\n",
    "* Lists of numbers: min and max\n",
    "\n",
    "## Creating lists إنشاء القوائم\n",
    "* إنشاء قائمة\n",
    "* طباعة القائمة كلها"
   ]
  },
  {
   "cell_type": "code",
   "execution_count": 6,
   "metadata": {},
   "outputs": [
    {
     "name": "stdout",
     "output_type": "stream",
     "text": [
      "['First', 'Second', 'Third', 'Fourth', 'Fifth']\n"
     ]
    }
   ],
   "source": [
    "names = [\"First\",\"Second\",\"Third\",\"Fourth\",\"Fifth\"]\n",
    "print(names)"
   ]
  },
  {
   "attachments": {},
   "cell_type": "markdown",
   "metadata": {},
   "source": [
    "## len طول القائمة"
   ]
  },
  {
   "cell_type": "code",
   "execution_count": 2,
   "metadata": {},
   "outputs": [
    {
     "data": {
      "text/plain": [
       "5"
      ]
     },
     "execution_count": 2,
     "metadata": {},
     "output_type": "execute_result"
    }
   ],
   "source": [
    "len(names)"
   ]
  },
  {
   "attachments": {},
   "cell_type": "markdown",
   "metadata": {},
   "source": [
    "## Accessing list items الوصول إلى عناصر القائمة\n",
    "First element أول عنصر"
   ]
  },
  {
   "cell_type": "code",
   "execution_count": 7,
   "metadata": {},
   "outputs": [
    {
     "data": {
      "text/plain": [
       "'First'"
      ]
     },
     "execution_count": 7,
     "metadata": {},
     "output_type": "execute_result"
    }
   ],
   "source": [
    "names[0]"
   ]
  },
  {
   "attachments": {},
   "cell_type": "markdown",
   "metadata": {},
   "source": [
    "Last element العنصر الأخير"
   ]
  },
  {
   "cell_type": "code",
   "execution_count": 8,
   "metadata": {},
   "outputs": [
    {
     "data": {
      "text/plain": [
       "'Fifth'"
      ]
     },
     "execution_count": 8,
     "metadata": {},
     "output_type": "execute_result"
    }
   ],
   "source": [
    "names[-1]"
   ]
  },
  {
   "attachments": {},
   "cell_type": "markdown",
   "metadata": {},
   "source": [
    "### IndexError"
   ]
  },
  {
   "cell_type": "code",
   "execution_count": 10,
   "metadata": {},
   "outputs": [
    {
     "ename": "IndexError",
     "evalue": "list index out of range",
     "output_type": "error",
     "traceback": [
      "\u001b[1;31m---------------------------------------------------------------------------\u001b[0m",
      "\u001b[1;31mIndexError\u001b[0m                                Traceback (most recent call last)",
      "Cell \u001b[1;32mIn[10], line 1\u001b[0m\n\u001b[1;32m----> 1\u001b[0m names[\u001b[39m10\u001b[39;49m]\n",
      "\u001b[1;31mIndexError\u001b[0m: list index out of range"
     ]
    }
   ],
   "source": [
    "names[10]"
   ]
  },
  {
   "attachments": {},
   "cell_type": "markdown",
   "metadata": {},
   "source": [
    "## Slicing أخذ شريحة\n",
    "From second up to number 5 but not including من الثاني إلى ما قبل الخامس"
   ]
  },
  {
   "cell_type": "code",
   "execution_count": 11,
   "metadata": {},
   "outputs": [
    {
     "data": {
      "text/plain": [
       "['Second', 'Third', 'Fourth', 'Fifth']"
      ]
     },
     "execution_count": 11,
     "metadata": {},
     "output_type": "execute_result"
    }
   ],
   "source": [
    "names[1:5]"
   ]
  },
  {
   "attachments": {},
   "cell_type": "markdown",
   "metadata": {},
   "source": [
    "First 3 أول"
   ]
  },
  {
   "cell_type": "code",
   "execution_count": 14,
   "metadata": {},
   "outputs": [
    {
     "data": {
      "text/plain": [
       "['First', 'Second', 'Third']"
      ]
     },
     "execution_count": 14,
     "metadata": {},
     "output_type": "execute_result"
    }
   ],
   "source": [
    "names[:3]"
   ]
  },
  {
   "attachments": {},
   "cell_type": "markdown",
   "metadata": {},
   "source": [
    "First 10 elements (slicing allows using out-of-range indexes)"
   ]
  },
  {
   "cell_type": "code",
   "execution_count": 13,
   "metadata": {},
   "outputs": [
    {
     "data": {
      "text/plain": [
       "['First', 'Second', 'Third', 'Fourth', 'Fifth', 'Sixth']"
      ]
     },
     "execution_count": 13,
     "metadata": {},
     "output_type": "execute_result"
    }
   ],
   "source": [
    "names[:10]"
   ]
  },
  {
   "attachments": {},
   "cell_type": "markdown",
   "metadata": {},
   "source": [
    "## Adding items to list إضافة عنصر إلى القائمة\n",
    "### Append at the end of the list الإضافة في آخر القائمة"
   ]
  },
  {
   "cell_type": "code",
   "execution_count": 9,
   "metadata": {},
   "outputs": [
    {
     "data": {
      "text/plain": [
       "['First', 'Second', 'Third', 'Fourth', 'Fifth', 'Sixth']"
      ]
     },
     "execution_count": 9,
     "metadata": {},
     "output_type": "execute_result"
    }
   ],
   "source": [
    "names.append(\"Sixth\")\n",
    "names"
   ]
  },
  {
   "attachments": {},
   "cell_type": "markdown",
   "metadata": {},
   "source": [
    "### Insert إدخال عناصر في وسط القائمة"
   ]
  },
  {
   "cell_type": "code",
   "execution_count": 16,
   "metadata": {},
   "outputs": [
    {
     "name": "stdout",
     "output_type": "stream",
     "text": [
      "['First', 'New', 'New', 'Second', 'Third', 'Fourth', 'Fifth', 'Sixth']\n"
     ]
    }
   ],
   "source": [
    "names.insert(1,\"New\")\n",
    "print(names)"
   ]
  },
  {
   "attachments": {},
   "cell_type": "markdown",
   "metadata": {},
   "source": [
    "### Extend with new list إكمال قائمة بعناصر قائمة أخرى"
   ]
  },
  {
   "cell_type": "code",
   "execution_count": 17,
   "metadata": {},
   "outputs": [
    {
     "data": {
      "text/plain": [
       "['First',\n",
       " 'New',\n",
       " 'New',\n",
       " 'Second',\n",
       " 'Third',\n",
       " 'Fourth',\n",
       " 'Fifth',\n",
       " 'Sixth',\n",
       " 'Tenth',\n",
       " 'Eleventh']"
      ]
     },
     "execution_count": 17,
     "metadata": {},
     "output_type": "execute_result"
    }
   ],
   "source": [
    "another_list = [\"Tenth\", \"Eleventh\"]\n",
    "names.extend(another_list)\n",
    "names"
   ]
  },
  {
   "attachments": {},
   "cell_type": "markdown",
   "metadata": {},
   "source": [
    "### Adding lists + جمع القوائم"
   ]
  },
  {
   "cell_type": "code",
   "execution_count": 19,
   "metadata": {},
   "outputs": [
    {
     "data": {
      "text/plain": [
       "['First',\n",
       " 'New',\n",
       " 'New',\n",
       " 'Second',\n",
       " 'Third',\n",
       " 'Fourth',\n",
       " 'Fifth',\n",
       " 'Sixth',\n",
       " 'Tenth',\n",
       " 'Eleventh',\n",
       " 'Tenth',\n",
       " 'Eleventh']"
      ]
     },
     "execution_count": 19,
     "metadata": {},
     "output_type": "execute_result"
    }
   ],
   "source": [
    "names + another_list"
   ]
  },
  {
   "attachments": {},
   "cell_type": "markdown",
   "metadata": {},
   "source": [
    "## Sorting ترتيب القوائم"
   ]
  },
  {
   "cell_type": "code",
   "execution_count": 23,
   "metadata": {},
   "outputs": [],
   "source": [
    "names = ['A', 'C', 'E', 'B', 'D', 'F']\n",
    "numbers = [1,3,5,2,4,6]"
   ]
  },
  {
   "attachments": {},
   "cell_type": "markdown",
   "metadata": {},
   "source": [
    "`sort` and the `reverse` parameter ترتيب القائمة في مكانها تصاعدياً أو تنازلياً"
   ]
  },
  {
   "cell_type": "code",
   "execution_count": 29,
   "metadata": {},
   "outputs": [
    {
     "name": "stdout",
     "output_type": "stream",
     "text": [
      "['F', 'E', 'D', 'C', 'B', 'A']\n",
      "[1, 2, 3, 4, 5, 6]\n"
     ]
    }
   ],
   "source": [
    "# Sort strings\n",
    "names.sort(reverse=True)\n",
    "print(names)\n",
    "\n",
    "# Sort numbers\n",
    "numbers.sort()\n",
    "print(numbers)"
   ]
  },
  {
   "attachments": {},
   "cell_type": "markdown",
   "metadata": {},
   "source": [
    "`reverse` عكس الترتيب الحالي"
   ]
  },
  {
   "cell_type": "code",
   "execution_count": 30,
   "metadata": {},
   "outputs": [
    {
     "name": "stdout",
     "output_type": "stream",
     "text": [
      "['A', 'B', 'C', 'D', 'E', 'F']\n",
      "[6, 5, 4, 3, 2, 1]\n"
     ]
    }
   ],
   "source": [
    "names.reverse()\n",
    "print(names)\n",
    "\n",
    "numbers.reverse()\n",
    "print(numbers)"
   ]
  },
  {
   "attachments": {},
   "cell_type": "markdown",
   "metadata": {},
   "source": [
    "## Remove values from lists إزالة عناصر من قائمة\n",
    "Remove first occurrence of a value إزالة أول مرة وجد فيها هذا العنصر"
   ]
  },
  {
   "cell_type": "code",
   "execution_count": 3,
   "metadata": {},
   "outputs": [],
   "source": [
    "names = ['First', 'Second', 'Third', 'Third', 'Fourth', 'Fifth']"
   ]
  },
  {
   "cell_type": "code",
   "execution_count": 4,
   "metadata": {},
   "outputs": [
    {
     "data": {
      "text/plain": [
       "['First', 'Second', 'Third', 'Fourth', 'Fifth']"
      ]
     },
     "execution_count": 4,
     "metadata": {},
     "output_type": "execute_result"
    }
   ],
   "source": [
    "names.remove(\"Third\")\n",
    "names"
   ]
  },
  {
   "attachments": {},
   "cell_type": "markdown",
   "metadata": {},
   "source": [
    "Remove item by index: Remove last element إزالة العنصر الأخير"
   ]
  },
  {
   "cell_type": "code",
   "execution_count": 5,
   "metadata": {},
   "outputs": [
    {
     "name": "stdout",
     "output_type": "stream",
     "text": [
      "['First', 'Second', 'Third', 'Fourth', 'Fifth']\n",
      "I removed Fifth\n",
      "['First', 'Second', 'Third', 'Fourth']\n"
     ]
    }
   ],
   "source": [
    "names = ['First', 'Second', 'Third', 'Fourth', 'Fifth']\n",
    "print(names)\n",
    "print(f\"I removed {names.pop(-1)}\")\n",
    "print(names)"
   ]
  },
  {
   "attachments": {},
   "cell_type": "markdown",
   "metadata": {},
   "source": [
    "del keyword"
   ]
  },
  {
   "cell_type": "code",
   "execution_count": 6,
   "metadata": {},
   "outputs": [
    {
     "name": "stdout",
     "output_type": "stream",
     "text": [
      "['First', 'Second', 'Third', 'Fourth']\n",
      "['First', 'Second', 'Third']\n"
     ]
    }
   ],
   "source": [
    "print(names)\n",
    "del names[3]\n",
    "print(names)"
   ]
  },
  {
   "attachments": {},
   "cell_type": "markdown",
   "metadata": {},
   "source": [
    "## ValueError\n",
    "Removing non-existing item by value"
   ]
  },
  {
   "cell_type": "code",
   "execution_count": 7,
   "metadata": {},
   "outputs": [
    {
     "ename": "ValueError",
     "evalue": "list.remove(x): x not in list",
     "output_type": "error",
     "traceback": [
      "\u001b[1;31m---------------------------------------------------------------------------\u001b[0m",
      "\u001b[1;31mValueError\u001b[0m                                Traceback (most recent call last)",
      "Cell \u001b[1;32mIn[7], line 1\u001b[0m\n\u001b[1;32m----> 1\u001b[0m names\u001b[39m.\u001b[39;49mremove(\u001b[39m\"\u001b[39;49m\u001b[39mAhmed\u001b[39;49m\u001b[39m\"\u001b[39;49m)\n",
      "\u001b[1;31mValueError\u001b[0m: list.remove(x): x not in list"
     ]
    }
   ],
   "source": [
    "names.remove(\"Ahmed\")"
   ]
  },
  {
   "attachments": {},
   "cell_type": "markdown",
   "metadata": {},
   "source": [
    "Removing non-existing item by index"
   ]
  },
  {
   "cell_type": "code",
   "execution_count": 8,
   "metadata": {},
   "outputs": [
    {
     "ename": "IndexError",
     "evalue": "pop index out of range",
     "output_type": "error",
     "traceback": [
      "\u001b[1;31m---------------------------------------------------------------------------\u001b[0m",
      "\u001b[1;31mIndexError\u001b[0m                                Traceback (most recent call last)",
      "Cell \u001b[1;32mIn[8], line 1\u001b[0m\n\u001b[1;32m----> 1\u001b[0m names\u001b[39m.\u001b[39;49mpop(\u001b[39m10\u001b[39;49m)\n",
      "\u001b[1;31mIndexError\u001b[0m: pop index out of range"
     ]
    }
   ],
   "source": [
    "names.pop(10)"
   ]
  },
  {
   "attachments": {},
   "cell_type": "markdown",
   "metadata": {},
   "source": [
    "## clear مسح عناصر قائمة\n",
    "Lists are mutable? same id?"
   ]
  },
  {
   "cell_type": "code",
   "execution_count": 9,
   "metadata": {},
   "outputs": [
    {
     "name": "stdout",
     "output_type": "stream",
     "text": [
      "Old id: 2422868069184\n",
      "[] has 0 items.\n",
      "New id: 2422868069184\n"
     ]
    }
   ],
   "source": [
    "print(f\"Old id: {id(names)}\")\n",
    "names.clear()\n",
    "print(f\"{names} has {len(names)} items.\")\n",
    "print(f\"New id: {id(names)}\")"
   ]
  },
  {
   "attachments": {},
   "cell_type": "markdown",
   "metadata": {},
   "source": [
    "## Find a value البحث عن قيمة\n",
    "Is it **in** the list?"
   ]
  },
  {
   "cell_type": "code",
   "execution_count": 10,
   "metadata": {},
   "outputs": [
    {
     "name": "stdout",
     "output_type": "stream",
     "text": [
      "I found it\n"
     ]
    }
   ],
   "source": [
    "names = ['First', 'Second', 'Third', 'Third', 'Fourth', 'Fifth']\n",
    "if \"Fourth\" in names:\n",
    "\tprint(\"I found it\")\n",
    "else:\n",
    "\tprint(\"I cannot find it!\")"
   ]
  },
  {
   "attachments": {},
   "cell_type": "markdown",
   "metadata": {},
   "source": [
    "First location of value with index أول مكان وجد فيه هذا العنصر"
   ]
  },
  {
   "cell_type": "code",
   "execution_count": 11,
   "metadata": {},
   "outputs": [
    {
     "name": "stdout",
     "output_type": "stream",
     "text": [
      "'Mohamed' is number 2 in the list.\n"
     ]
    }
   ],
   "source": [
    "names = [\"Ahmed\",\"Mohamed\",\"Ali\",\"Mohamed\",\"Osama\",\"Anas\"]\n",
    "needed = \"Mohamed\"\n",
    "print(f\"'{needed}' is number {names.index(needed)+1} in the list.\")"
   ]
  },
  {
   "attachments": {},
   "cell_type": "markdown",
   "metadata": {},
   "source": [
    "ValueError if value is not found"
   ]
  },
  {
   "cell_type": "code",
   "execution_count": 12,
   "metadata": {},
   "outputs": [
    {
     "ename": "ValueError",
     "evalue": "'Husam' is not in list",
     "output_type": "error",
     "traceback": [
      "\u001b[1;31m---------------------------------------------------------------------------\u001b[0m",
      "\u001b[1;31mValueError\u001b[0m                                Traceback (most recent call last)",
      "Cell \u001b[1;32mIn[12], line 3\u001b[0m\n\u001b[0;32m      1\u001b[0m names \u001b[39m=\u001b[39m [\u001b[39m\"\u001b[39m\u001b[39mAhmed\u001b[39m\u001b[39m\"\u001b[39m,\u001b[39m\"\u001b[39m\u001b[39mMohamed\u001b[39m\u001b[39m\"\u001b[39m,\u001b[39m\"\u001b[39m\u001b[39mAli\u001b[39m\u001b[39m\"\u001b[39m,\u001b[39m\"\u001b[39m\u001b[39mMohamed\u001b[39m\u001b[39m\"\u001b[39m,\u001b[39m\"\u001b[39m\u001b[39mOsama\u001b[39m\u001b[39m\"\u001b[39m,\u001b[39m\"\u001b[39m\u001b[39mAnas\u001b[39m\u001b[39m\"\u001b[39m]\n\u001b[0;32m      2\u001b[0m needed \u001b[39m=\u001b[39m \u001b[39m\"\u001b[39m\u001b[39mHusam\u001b[39m\u001b[39m\"\u001b[39m\n\u001b[1;32m----> 3\u001b[0m \u001b[39mprint\u001b[39m(\u001b[39mf\u001b[39m\u001b[39m\"\u001b[39m\u001b[39m'\u001b[39m\u001b[39m{\u001b[39;00mneeded\u001b[39m}\u001b[39;00m\u001b[39m'\u001b[39m\u001b[39m is number \u001b[39m\u001b[39m{\u001b[39;00mnames\u001b[39m.\u001b[39;49mindex(needed)\u001b[39m+\u001b[39m\u001b[39m1\u001b[39m\u001b[39m}\u001b[39;00m\u001b[39m in the list.\u001b[39m\u001b[39m\"\u001b[39m)\n",
      "\u001b[1;31mValueError\u001b[0m: 'Husam' is not in list"
     ]
    }
   ],
   "source": [
    "names = [\"Ahmed\",\"Mohamed\",\"Ali\",\"Mohamed\",\"Osama\",\"Anas\"]\n",
    "needed = \"Husam\"\n",
    "print(f\"'{needed}' is number {names.index(needed)+1} in the list.\")"
   ]
  },
  {
   "attachments": {},
   "cell_type": "markdown",
   "metadata": {},
   "source": [
    "How many times needed value is there? وجد كم مرة؟"
   ]
  },
  {
   "cell_type": "code",
   "execution_count": 13,
   "metadata": {},
   "outputs": [
    {
     "name": "stdout",
     "output_type": "stream",
     "text": [
      "I can find Lunch 2 times.\n",
      "I can find Snacks 0 times.\n"
     ]
    }
   ],
   "source": [
    "meals = [\"Breakfast\",\"Lunch\",\"Lunch\",\"Dinner\"]\n",
    "required = \"Lunch\"\n",
    "print(f\"I can find {required} {meals.count(required)} times.\")\n",
    "\n",
    "required = \"Snacks\"\n",
    "print(f\"I can find {required} {meals.count(required)} times.\")"
   ]
  },
  {
   "attachments": {},
   "cell_type": "markdown",
   "metadata": {},
   "source": [
    "## Exercise\n",
    "Count the frequency of keywords in a paragraph عدد مرات وجود كلمة في قطعة\n",
    "\n",
    "**Hint**: To generate a random paragraph in Word, type: `=rand()` then press **Enter**."
   ]
  },
  {
   "cell_type": "code",
   "execution_count": 14,
   "metadata": {},
   "outputs": [],
   "source": [
    "text = \"\"\"Video provides a powerful way to help you prove your point. When you click Online Video, you can paste in the embed code for the video you want to add. You can also type a keyword to search online for the video that best fits your document.\n",
    "To make your document look professionally produced, Word provides header, footer, cover page, and text box designs that complement each other. For example, you can add a matching cover page, header, and sidebar. Click Insert and then choose the elements you want from the different galleries.\n",
    "Themes and styles also help keep your document coordinated. When you click Design and choose a new Theme, the pictures, charts, and SmartArt graphics change to match your new theme. When you apply styles, your headings change to match the new theme.\n",
    "Save time in Word with new buttons that show up where you need them. To change the way a picture fits in your document, click it and a button for layout options appears next to it. When you work on a table, click where you want to add a row or a column, and then click the plus sign.\n",
    "Reading is easier, too, in the new Reading view. You can collapse parts of the document and focus on the text you want. If you need to stop reading before you reach the end, Word remembers where you left off - even on another device.\"\"\""
   ]
  },
  {
   "cell_type": "code",
   "execution_count": 15,
   "metadata": {},
   "outputs": [
    {
     "name": "stdout",
     "output_type": "stream",
     "text": [
      "I found 'document' 5 times.\n",
      "I found 'for' 4 times.\n",
      "I found 'the' 20 times.\n",
      "I found 'you' 23 times.\n"
     ]
    }
   ],
   "source": [
    "needed = \"document\"\n",
    "print(f\"I found '{needed}' {text.count(needed)} times.\")\n",
    "\n",
    "needed = \"for\"\n",
    "print(f\"I found '{needed}' {text.count(needed)} times.\")\n",
    "\n",
    "needed = \"the\"\n",
    "print(f\"I found '{needed}' {text.count(needed)} times.\")\n",
    "\n",
    "needed = \"you\"\n",
    "print(f\"I found '{needed}' {text.count(needed)} times.\")"
   ]
  },
  {
   "attachments": {},
   "cell_type": "markdown",
   "metadata": {},
   "source": [
    "## Lists of numbers\n",
    "min and max أكبر وأصغر رقم"
   ]
  },
  {
   "cell_type": "code",
   "execution_count": 16,
   "metadata": {},
   "outputs": [],
   "source": [
    "numbers = [1,3,5,2,4,6]"
   ]
  },
  {
   "cell_type": "code",
   "execution_count": 17,
   "metadata": {},
   "outputs": [
    {
     "name": "stdout",
     "output_type": "stream",
     "text": [
      "Maximum is: 6.\n",
      "Minimum is: 1.\n"
     ]
    }
   ],
   "source": [
    "print(f\"Maximum is: {max(numbers)}.\")\n",
    "print(f\"Minimum is: {min(numbers)}.\")"
   ]
  },
  {
   "attachments": {},
   "cell_type": "markdown",
   "metadata": {},
   "source": [
    "## Exercise\n",
    "Print names before you and names after you اطبع الأسماء التي قبلك والتي بعدك "
   ]
  },
  {
   "cell_type": "code",
   "execution_count": 19,
   "metadata": {},
   "outputs": [],
   "source": [
    "names = [\"Ahmed\", \\\n",
    "    \"Mohamed\", \\\n",
    "    \"Ali\", \\\n",
    "    \"Mohamed\", \\\n",
    "    \"Osama\", \\\n",
    "    \"Anas\", \\\n",
    "    \"Mahmoud\"]\n",
    "\n",
    "#username = input(\"Please enter your name: \")\n",
    "my_name = \"Ahmed\""
   ]
  },
  {
   "cell_type": "code",
   "execution_count": 20,
   "metadata": {},
   "outputs": [
    {
     "name": "stdout",
     "output_type": "stream",
     "text": [
      "Nothing before 'Ahmed'.\n",
      "After 'Ahmed': ['Mohamed', 'Ali', 'Mohamed', 'Osama', 'Anas', 'Mahmoud']\n"
     ]
    }
   ],
   "source": [
    "if my_name in names:\n",
    "\ti = names.index(my_name)\n",
    "\n",
    "\t# Before\n",
    "\tif(len(names[:i])>0):\n",
    "\t\tprint(f\"Before '{my_name}': {names[:i]}\")\n",
    "\telse:\n",
    "\t\tprint(f\"Nothing before '{my_name}'.\")\n",
    "\t\n",
    "\t# After\n",
    "\tif(len(names[i+1:])>0):\n",
    "\t\tprint(f\"After '{my_name}': {names[i+1:]}\")\n",
    "\telse:\n",
    "\t\tprint(f\"Nothing after '{my_name}'.\")\n",
    "\n",
    "else:\n",
    "\tprint(f\"I cannot find '{my_name}'.\")"
   ]
  }
 ],
 "metadata": {
  "kernelspec": {
   "display_name": "Python 3",
   "language": "python",
   "name": "python3"
  },
  "language_info": {
   "codemirror_mode": {
    "name": "ipython",
    "version": 3
   },
   "file_extension": ".py",
   "mimetype": "text/x-python",
   "name": "python",
   "nbconvert_exporter": "python",
   "pygments_lexer": "ipython3",
   "version": "3.11.3"
  },
  "orig_nbformat": 4,
  "vscode": {
   "interpreter": {
    "hash": "5238573367df39f7286bb46f9ff5f08f63a01a80960060ce41e3c79b190280fa"
   }
  }
 },
 "nbformat": 4,
 "nbformat_minor": 2
}
