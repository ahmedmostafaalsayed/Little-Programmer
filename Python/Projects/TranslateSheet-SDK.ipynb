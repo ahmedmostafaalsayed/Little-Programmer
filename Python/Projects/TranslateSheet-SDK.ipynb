{
 "cells": [
  {
   "attachments": {},
   "cell_type": "markdown",
   "metadata": {},
   "source": [
    "# Translate text from Arabic to English using IBM Language Translator service\n",
    "\n",
    "## References\n",
    "* [Watson Developer Cloud Python SDK](https://github.com/watson-developer-cloud/python-sdk)\n",
    "* [How to read Dictionary from File in Python?](https://www.geeksforgeeks.org/how-to-read-dictionary-from-file-in-python)\n",
    "* [Watson Python SDK samples](https://github.com/watson-developer-cloud/python-sdk)\n",
    "* [Language Translator API Docs - Translate](https://cloud.ibm.com/apidocs/language-translator#translate)\n",
    "\n",
    "## Steps\n",
    "* Create an instance of the [IBM Language Translator](https://cloud.ibm.com/catalog/services/language-translator) service\n",
    "* Get credentials from [IBM Cloud Resources](http://cloud.ibm.com/resources) page of your instance and save them in ```Settings.json```.\n",
    "* Load settings from ```Settings.json```.\n",
    "\n",
    "## Imports"
   ]
  },
  {
   "cell_type": "code",
   "execution_count": 1,
   "metadata": {},
   "outputs": [],
   "source": [
    "# coding=utf-8\n",
    "import json\t\t# For reading settings\n",
    "from ibm_watson import LanguageTranslatorV3\n",
    "from ibm_cloud_sdk_core.authenticators import IAMAuthenticator"
   ]
  },
  {
   "cell_type": "code",
   "execution_count": 3,
   "metadata": {},
   "outputs": [],
   "source": [
    "# Reading data from the file\n",
    "with open('Settings.json') as file:\n",
    "\tdata = file.read()\n",
    "\n",
    "# Reconstruct data as a dictionary\n",
    "settings = json.loads( data )"
   ]
  },
  {
   "cell_type": "code",
   "execution_count": 4,
   "metadata": {},
   "outputs": [],
   "source": [
    "# Text that we want to translate\n",
    "text = \"Good morning\""
   ]
  },
  {
   "cell_type": "code",
   "execution_count": 5,
   "metadata": {},
   "outputs": [],
   "source": [
    "# Initialize connection to the service instance\n",
    "language_translator = LanguageTranslatorV3(\n",
    "    version='2018-05-01',\n",
    "    authenticator=IAMAuthenticator( settings[\"apikey\"] ) )\n",
    "language_translator.set_service_url( settings[\"service_instance_url\"] )"
   ]
  },
  {
   "cell_type": "code",
   "execution_count": 6,
   "metadata": {},
   "outputs": [
    {
     "name": "stdout",
     "output_type": "stream",
     "text": [
      "صباح الخير\n"
     ]
    }
   ],
   "source": [
    "# Translate text\n",
    "try:\n",
    "\tresponse = language_translator.translate(text, model_id='en-ar')\n",
    "\tif( response.status_code ) == 200:\n",
    "\t\ttranslation = response.get_result()[\"translations\"][0][\"translation\"]\n",
    "\t\tprint( translation )\n",
    "\telse:\n",
    "\t\tprint( response.get_result() )\n",
    "finally:\n",
    "\tpass"
   ]
  }
 ],
 "metadata": {
  "kernelspec": {
   "display_name": "Python 3",
   "language": "python",
   "name": "python3"
  },
  "language_info": {
   "codemirror_mode": {
    "name": "ipython",
    "version": 3
   },
   "file_extension": ".py",
   "mimetype": "text/x-python",
   "name": "python",
   "nbconvert_exporter": "python",
   "pygments_lexer": "ipython3",
   "version": "3.11.1"
  },
  "orig_nbformat": 4,
  "vscode": {
   "interpreter": {
    "hash": "5238573367df39f7286bb46f9ff5f08f63a01a80960060ce41e3c79b190280fa"
   }
  }
 },
 "nbformat": 4,
 "nbformat_minor": 2
}
