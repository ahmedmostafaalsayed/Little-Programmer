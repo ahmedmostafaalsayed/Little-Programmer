{
 "cells": [
  {
   "attachments": {},
   "cell_type": "markdown",
   "metadata": {},
   "source": [
    "# Project 1: Tic Tac Toe Game\n",
    "X/O لعبة\n",
    "\n",
    "TODO: Continue from: [66. Simple User Interaction](https://ibm-learning.udemy.com/course/complete-python-bootcamp/learn/lecture/20205176#overview)\n",
    "\n",
    "![Tic Tac Toe](https://d2.alternativeto.net/dist/s/tic-tac-toe-collection_928094_full.jpg?format=jpg&width=300&height=300&mode=crop)"
   ]
  },
  {
   "attachments": {},
   "cell_type": "markdown",
   "metadata": {},
   "source": [
    "## Print the board\n",
    "اكتب دالة تطبع اللوحة الحالية.\n",
    "\n",
    "Write a function that prints the current baord board (as a list). Where each index 1-9 corresponds with a number on a number pad, so you get a 3 by 3 board representation."
   ]
  },
  {
   "cell_type": "code",
   "execution_count": 1,
   "metadata": {},
   "outputs": [],
   "source": [
    "def display_board(board:list):\n",
    "\t\"\"\"\n",
    "\tPrint the current board.\n",
    "\t\"\"\"\n",
    "\t\n",
    "\t# Clear the output of the current celll\n",
    "\tfrom IPython.display import clear_output\n",
    "\tclear_output()\n",
    "\n",
    "\n",
    "\tprint(f\"{' '*3}|{' '*3}|{' '*3}\")\n",
    "\tprint(f\" {board[7]} | {board[8]} | {board[9]}\")\n",
    "\tprint(f\"{' '*3}|{' '*3}|{' '*3}\")\n",
    "\tprint(\"-\" * 11)\n",
    "\tprint(f\"{' '*3}|{' '*3}|{' '*3}\")\n",
    "\tprint(f\" {board[4]} | {board[5]} | {board[6]}\")\n",
    "\tprint(f\"{' '*3}|{' '*3}|{' '*3}\")\n",
    "\tprint(\"-\" * 11)\n",
    "\tprint(f\"{' '*3}|{' '*3}|{' '*3}\")\n",
    "\tprint(f\" {board[1]} | {board[2]} | {board[3]}\")\n",
    "\tprint(f\"{' '*3}|{' '*3}|{' '*3}\")\n"
   ]
  },
  {
   "cell_type": "code",
   "execution_count": 6,
   "metadata": {},
   "outputs": [
    {
     "name": "stdout",
     "output_type": "stream",
     "text": [
      "   |   |   \n",
      " X | O | X\n",
      "   |   |   \n",
      "-----------\n",
      "   |   |   \n",
      " O | X | O\n",
      "   |   |   \n",
      "-----------\n",
      "   |   |   \n",
      " X | O | X\n",
      "   |   |   \n"
     ]
    }
   ],
   "source": [
    "test_board = ['#','X','O','X','O','X','O','X','O','X']\n",
    "display_board(test_board)"
   ]
  },
  {
   "cell_type": "markdown",
   "metadata": {},
   "source": [
    "## Choose player symbol\n",
    "اختر رمز اللاعب\n",
    "\n",
    "Take in a player input and assign their marker as 'X' or 'O'. Think about using while loops to continually ask until you get a correct answer."
   ]
  },
  {
   "cell_type": "code",
   "execution_count": 2,
   "metadata": {},
   "outputs": [],
   "source": [
    "def player_input():\n",
    "\tmarker = \"\"\n",
    "\twhile marker not in [\"X\",\"O\"]:\n",
    "\t\tmarker = input(\"Player 1: Do you want to be X or O? \").upper()\n",
    "\n",
    "\treturn (\"X\",\"O\") if marker == \"X\" else (\"O\",\"X\")"
   ]
  },
  {
   "cell_type": "code",
   "execution_count": 5,
   "metadata": {},
   "outputs": [
    {
     "name": "stdout",
     "output_type": "stream",
     "text": [
      "('X', 'O')\n"
     ]
    }
   ],
   "source": [
    "print(player_input())"
   ]
  },
  {
   "cell_type": "markdown",
   "metadata": {},
   "source": [
    "## Place marker on board\n",
    "وضع علامة على اللوحة\n",
    "\n",
    "Step 3: Take in the board list object, a marker ('X' or 'O'), and a desired position (number 1-9) and assigns it to the board."
   ]
  },
  {
   "cell_type": "code",
   "execution_count": 7,
   "metadata": {},
   "outputs": [],
   "source": [
    "def place_marker(board: list, marker: str, position:int):\n",
    "    board[position] = marker"
   ]
  },
  {
   "cell_type": "code",
   "execution_count": 8,
   "metadata": {},
   "outputs": [
    {
     "name": "stdout",
     "output_type": "stream",
     "text": [
      "   |   |   \n",
      " X | $ | X\n",
      "   |   |   \n",
      "-----------\n",
      "   |   |   \n",
      " O | X | O\n",
      "   |   |   \n",
      "-----------\n",
      "   |   |   \n",
      " X | O | X\n",
      "   |   |   \n"
     ]
    }
   ],
   "source": [
    "place_marker(test_board,'$',8)\n",
    "display_board(test_board)\n"
   ]
  },
  {
   "cell_type": "markdown",
   "metadata": {},
   "source": [
    "## Validate win\n",
    "هل كسب أحد اللاعبين؟\n",
    "\n",
    "Take in a board and check to see if someone has won."
   ]
  },
  {
   "cell_type": "code",
   "execution_count": 24,
   "metadata": {},
   "outputs": [],
   "source": [
    "def win_check(board,mark):\n",
    "\t\"\"\"\n",
    "\tCheck if a player won the game.\n",
    "\t\"\"\"\n",
    "\treturn ((board[7] == board[8] == board[9] == mark) or # across the top\n",
    "\t\t\t(board[4] == board[5] == board[6] == mark) or # across the middle\n",
    "\t\t\t(board[1] == board[2] == board[3] == mark) or # across the bottom\n",
    "\t\t\t(board[7] == board[4] == board[1] == mark) or # down the middle\n",
    "\t\t\t(board[8] == board[5] == board[2] == mark) or # down the middle\n",
    "\t\t\t(board[9] == board[6] == board[3] == mark) or # down the right side\n",
    "\t\t\t(board[7] == board[5] == board[3] == mark) or # diagonal\n",
    "\t\t\t(board[9] == board[5] == board[1] == mark)) # diagonal\n"
   ]
  },
  {
   "cell_type": "code",
   "execution_count": 27,
   "metadata": {},
   "outputs": [
    {
     "name": "stdout",
     "output_type": "stream",
     "text": [
      "   |   |   \n",
      " X | $ | X\n",
      "   |   |   \n",
      "-----------\n",
      "   |   |   \n",
      " O | X | O\n",
      "   |   |   \n",
      "-----------\n",
      "   |   |   \n",
      " X | O | X\n",
      "   |   |   \n",
      "False\n"
     ]
    }
   ],
   "source": [
    "display_board(test_board)\n",
    "print(win_check(test_board,'O'))"
   ]
  },
  {
   "cell_type": "markdown",
   "metadata": {},
   "source": [
    "## Randomly decide a player to go first\n",
    "اختر اللاعب الذي يبدأ أولاً\n",
    "\n",
    "Randomly decide which player goes first. Returns a string of which player went first."
   ]
  },
  {
   "cell_type": "code",
   "execution_count": 13,
   "metadata": {},
   "outputs": [],
   "source": [
    "def choose_first() -> int:\n",
    "\tfrom random import randint\n",
    "\t\n",
    "\treturn f\"Player {randint(1,2)}\"\n"
   ]
  },
  {
   "cell_type": "code",
   "execution_count": 23,
   "metadata": {},
   "outputs": [
    {
     "name": "stdout",
     "output_type": "stream",
     "text": [
      "Player 2\n"
     ]
    }
   ],
   "source": [
    "print(choose_first())"
   ]
  },
  {
   "cell_type": "markdown",
   "metadata": {},
   "source": [
    "## Check if a space is available on the board\n",
    "هل هذا المكان خالي على اللوح؟\n",
    "\n",
    "Return a boolean indicating whether the specified space on the board is freely available"
   ]
  },
  {
   "cell_type": "code",
   "execution_count": 28,
   "metadata": {},
   "outputs": [],
   "source": [
    "def space_check(board, position) -> bool:\n",
    "\treturn board[position] == ' '"
   ]
  },
  {
   "cell_type": "code",
   "execution_count": 30,
   "metadata": {},
   "outputs": [
    {
     "data": {
      "text/plain": [
       "False"
      ]
     },
     "execution_count": 30,
     "metadata": {},
     "output_type": "execute_result"
    }
   ],
   "source": [
    "space_check( ['#','X','O','X','O','X','O','X',' ','X'], 9)"
   ]
  },
  {
   "cell_type": "markdown",
   "metadata": {},
   "source": [
    "## Is the board full?\n",
    "هل اللوح ممتلئ؟\n",
    "\n",
    "Check if the board is full and returns a boolean value. True if full, False otherwise"
   ]
  },
  {
   "cell_type": "code",
   "execution_count": 32,
   "metadata": {},
   "outputs": [],
   "source": [
    "def full_board_check(board: list) -> bool:\n",
    "\tfor i in range(1,10):\n",
    "\t\tif space_check(board, i):\n",
    "\t\t\treturn False\n",
    "\treturn True\n"
   ]
  },
  {
   "cell_type": "code",
   "execution_count": 33,
   "metadata": {},
   "outputs": [
    {
     "name": "stdout",
     "output_type": "stream",
     "text": [
      "True\n"
     ]
    }
   ],
   "source": [
    "print(full_board_check(test_board))"
   ]
  },
  {
   "cell_type": "markdown",
   "metadata": {},
   "source": [
    "## Ask for next move and return it if position is available\n",
    "Ask for a player's next position (as a number 1-9) and then check if its a free position. If it is, then return the position for later use."
   ]
  },
  {
   "cell_type": "code",
   "execution_count": 34,
   "metadata": {},
   "outputs": [],
   "source": [
    "def player_choice(board: list) -> int:\n",
    "\tposition = 0\n",
    "\t\n",
    "\twhile position not in [1,2,3,4,5,6,7,8,9] or not space_check(board, position):\n",
    "\t\tposition = int(input('Choose your next position (1-9): '))\n",
    "\t\t\n",
    "\treturn position\n"
   ]
  },
  {
   "cell_type": "markdown",
   "metadata": {},
   "source": [
    "## Do you want to play again?\n",
    "Ask the player if they want to play again and returns a boolean True if they do want to play again"
   ]
  },
  {
   "cell_type": "code",
   "execution_count": null,
   "metadata": {},
   "outputs": [],
   "source": [
    "def replay():\n",
    "\treturn input(\"Do you want to play again (Yes/No)? \").lower().startswith('y')\n"
   ]
  },
  {
   "cell_type": "markdown",
   "metadata": {},
   "source": [
    "## Run the game!"
   ]
  },
  {
   "cell_type": "code",
   "execution_count": null,
   "metadata": {},
   "outputs": [],
   "source": [
    "print('Welcome to Tic Tac Toe!')\n",
    "\n",
    "while True:\n",
    "\t# Reset the board\n",
    "\ttheBoard = [' '] * 10\n",
    "\tplayer1_marker, player2_marker = player_input()\n",
    "\tturn = choose_first()\n",
    "\tprint(turn + ' will go first.')\n",
    "\t\n",
    "\t# Game is running, not finished\n",
    "\tgame_on = input(\"Are you ready to play (Yes/No)? \").lower().startswith('y')\n",
    "\n",
    "\twhile game_on:\n",
    "\t\tdisplay_board(theBoard)\n",
    "\t\tif turn == 'Player 1':\t# Player1's turn.\n",
    "\t\t\tposition = player_choice(theBoard)\n",
    "\t\t\tplace_marker(theBoard, player1_marker, position)\n",
    "\n",
    "\t\t\tif win_check(theBoard, player1_marker):\n",
    "\t\t\t\tdisplay_board(theBoard)\n",
    "\t\t\t\tprint('Congratulations! You have won the game!')\n",
    "\t\t\t\tgame_on = False\n",
    "\t\t\telse:\n",
    "\t\t\t\tif full_board_check(theBoard):\n",
    "\t\t\t\t\tdisplay_board(theBoard)\n",
    "\t\t\t\t\tprint('The game is full!')\n",
    "\t\t\t\t\tbreak\n",
    "\t\t\t\telse:\n",
    "\t\t\t\t\tturn = 'Player 2'\n",
    "\n",
    "\t\t# Player2's turn.\n",
    "\t\telse:\n",
    "\t\t\tposition = player_choice(theBoard)\n",
    "\t\t\tplace_marker(theBoard, player2_marker, position)\n",
    "\n",
    "\t\t\tif win_check(theBoard, player2_marker):\n",
    "\t\t\t\tdisplay_board(theBoard)\n",
    "\t\t\t\tprint('Player 2 has won!')\n",
    "\t\t\t\tgame_on = False\n",
    "\t\t\telse:\n",
    "\t\t\t\tif full_board_check(theBoard):\n",
    "\t\t\t\t\tdisplay_board(theBoard)\n",
    "\t\t\t\t\tprint('The game is a draw!')\n",
    "\t\t\t\t\tbreak\n",
    "\t\t\t\telse:\n",
    "\t\t\t\t\tturn = 'Player 1'\n",
    "\n",
    "\tif not replay():\n",
    "\t\tbreak\n"
   ]
  }
 ],
 "metadata": {
  "kernelspec": {
   "display_name": "Python 3",
   "language": "python",
   "name": "python3"
  },
  "language_info": {
   "codemirror_mode": {
    "name": "ipython",
    "version": 3
   },
   "file_extension": ".py",
   "mimetype": "text/x-python",
   "name": "python",
   "nbconvert_exporter": "python",
   "pygments_lexer": "ipython3",
   "version": "3.13.5"
  },
  "orig_nbformat": 4,
  "vscode": {
   "interpreter": {
    "hash": "5238573367df39f7286bb46f9ff5f08f63a01a80960060ce41e3c79b190280fa"
   }
  }
 },
 "nbformat": 4,
 "nbformat_minor": 2
}
