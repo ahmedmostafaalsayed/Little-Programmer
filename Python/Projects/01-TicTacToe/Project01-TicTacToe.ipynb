{
 "cells": [
  {
   "attachments": {},
   "cell_type": "markdown",
   "metadata": {},
   "source": [
    "# Project 1: Tic Tac Toe Game\n",
    "X/O لعبة\n",
    "\n",
    "![Tic Tac Toe](https://d2.alternativeto.net/dist/s/tic-tac-toe-collection_928094_full.jpg?format=jpg&width=300&height=300&mode=crop)"
   ]
  },
  {
   "attachments": {},
   "cell_type": "markdown",
   "metadata": {},
   "source": [
    "## Print the board\n",
    "اكتب دالة تطبع اللوحة الحالية.\n",
    "\n",
    "Write a function that prints the current board (as a list). Where each index 0-8 corresponds with a number on a number pad, so you get a 3 by 3 board.\n",
    "\n",
    "### شكل اللوحة\n",
    "\n",
    "`board = [0,1,2,3,4,5,6,7,8]`\n",
    "\n",
    "| 6 | 7 | 8 |\n",
    "| -- | -- | -- |\n",
    "| __3__ | __4__ | __5__ |\n",
    "| __0__ | __1__ | __2__ |"
   ]
  },
  {
   "cell_type": "code",
   "execution_count": 1,
   "metadata": {},
   "outputs": [],
   "source": [
    "def display_board(board:list):\n",
    "\t\"\"\"\n",
    "\tPrints the current board.\n",
    "\t\"\"\"\n",
    "\tfrom IPython.display import clear_output\n",
    "\tclear_output()\n",
    "\n",
    "\tprint(f\"{board[6]} | {board[7]} | {board[8]}\")\n",
    "\tprint(\"-\" * 10)\n",
    "\tprint(f\"{board[3]} | {board[4]} | {board[5]}\")\n",
    "\tprint(\"-\" * 10)\n",
    "\tprint(f\"{board[0]} | {board[1]} | {board[2]}\")"
   ]
  },
  {
   "cell_type": "code",
   "execution_count": null,
   "metadata": {},
   "outputs": [
    {
     "name": "stdout",
     "output_type": "stream",
     "text": [
      "O |   |  \n",
      "----------\n",
      "  | X |  \n",
      "----------\n",
      "  | O |  \n"
     ]
    }
   ],
   "source": [
    "test_board = [' ','O',' ',' ','X',' ','O',' ',' ']\n",
    "display_board(test_board)\n",
    "display_board(test_board)"
   ]
  },
  {
   "cell_type": "markdown",
   "metadata": {},
   "source": [
    "## Check if a position is available on the board\n",
    "هل هذا المكان خالي على اللوح؟\n",
    "\n",
    "Return a boolean indicating whether the specified space on the board is freely available"
   ]
  },
  {
   "cell_type": "code",
   "execution_count": 6,
   "metadata": {},
   "outputs": [],
   "source": [
    "def is_available(board:list, position:int) -> bool:\n",
    "\t\"\"\"\n",
    "\tIs this position on the board available?\n",
    "\t\"\"\"\n",
    "\treturn board[position] == \" \""
   ]
  },
  {
   "cell_type": "code",
   "execution_count": 7,
   "metadata": {},
   "outputs": [
    {
     "data": {
      "text/plain": [
       "False"
      ]
     },
     "execution_count": 7,
     "metadata": {},
     "output_type": "execute_result"
    }
   ],
   "source": [
    "is_available( ['X','O','X','O','X','O','X',' ','X'], 5)"
   ]
  },
  {
   "cell_type": "markdown",
   "metadata": {},
   "source": [
    "## Ask for next move and return it if position is available\n",
    "Ask for a player's next position (as a number 1-9) and then check if its a free position. If it is, then return the position for later use."
   ]
  },
  {
   "cell_type": "code",
   "execution_count": 8,
   "metadata": {},
   "outputs": [],
   "source": [
    "def player_choice(board:list, marker: str) -> int:\n",
    "\t\"\"\"\n",
    "\tAllows the user to choose a new valid position.\n",
    "\t\"\"\"\n",
    "\t# Start with an invalid position\n",
    "\tposition = None\n",
    "\n",
    "\t# طالما أن المكان خاطئ أو أنه غير متاح\n",
    "\twhile position not in range(9) or not is_available(board,position):\n",
    "\t\t# Subtract one from the position entered by the user\n",
    "\t\tposition = int( input(f\"Choose position (1-9) for {marker}: \") ) - 1\n",
    "\t\n",
    "\treturn position"
   ]
  },
  {
   "cell_type": "markdown",
   "metadata": {},
   "source": [
    "## Place marker on board\n",
    "وضع علامة على اللوحة\n",
    "\n",
    "Step 3: Take in the board list object, a marker ('X' or 'O'), and a desired position (number 1-9) and assigns it to the board."
   ]
  },
  {
   "cell_type": "code",
   "execution_count": 9,
   "metadata": {},
   "outputs": [],
   "source": [
    "def place_marker(board: list, marker: str, position:int):\n",
    "\t\"\"\"\n",
    "\tPlace the specified marker at the specified position on the board.\n",
    "\t\"\"\"\n",
    "\tboard[position] = marker\n"
   ]
  },
  {
   "cell_type": "code",
   "execution_count": 10,
   "metadata": {},
   "outputs": [
    {
     "name": "stdout",
     "output_type": "stream",
     "text": [
      "O |   | $\n",
      "----------\n",
      "  | X |  \n",
      "----------\n",
      "  | O |  \n"
     ]
    }
   ],
   "source": [
    "place_marker(test_board,'$',8)\n",
    "display_board(test_board)"
   ]
  },
  {
   "cell_type": "markdown",
   "metadata": {},
   "source": [
    "## Validate win\n",
    "هل كسب أحد اللاعبين؟\n",
    "\n",
    "Take in a board and check to see if someone has won."
   ]
  },
  {
   "cell_type": "code",
   "execution_count": 11,
   "metadata": {},
   "outputs": [],
   "source": [
    "def did_user_win(board:list, marker:str) -> bool:\n",
    "\t\"\"\"\n",
    "\tCheck if the specified player won the game.\n",
    "\t\"\"\"\n",
    "\treturn ((board[6] == board[7] == board[8] == marker) or\t\t# Top row\n",
    "\t\t\t(board[3] == board[4] == board[5] == marker) or\t\t# Middle row\n",
    "\t\t\t(board[0] == board[1] == board[2] == marker) or\t\t# Bottom row\n",
    "\t\n",
    "\t\t\t(board[0] == board[3] == board[6] == marker) or\t\t# Left column\n",
    "\t\t\t(board[1] == board[4] == board[7] == marker) or\t\t# Middle column\n",
    "\t\t\t(board[2] == board[5] == board[8] == marker) or\t\t# Right column\n",
    "\n",
    "\t\t\t(board[2] == board[4] == board[6] == marker) or\t\t# Diagonal \\\n",
    "\t\t\t(board[0] == board[4] == board[8] == marker)) \t\t# Diagonal /\n",
    "\t"
   ]
  },
  {
   "cell_type": "code",
   "execution_count": 12,
   "metadata": {},
   "outputs": [
    {
     "name": "stdout",
     "output_type": "stream",
     "text": [
      "O |   | $\n",
      "----------\n",
      "  | X |  \n",
      "----------\n",
      "  | O |  \n",
      "False\n"
     ]
    }
   ],
   "source": [
    "#test_board = [1,2,3,4,5,6,7,8,9]\n",
    "display_board(test_board)\n",
    "print(did_user_win(test_board,'X'))"
   ]
  },
  {
   "cell_type": "markdown",
   "metadata": {},
   "source": [
    "## Is the board full?\n",
    "هل اللوح ممتلئ؟\n",
    "\n",
    "Check if the board is full and returns a boolean value. True if full, False otherwise"
   ]
  },
  {
   "cell_type": "code",
   "execution_count": 13,
   "metadata": {},
   "outputs": [],
   "source": [
    "def is_board_full(board: list) -> bool:\n",
    "\t\"\"\"\n",
    "\tAre all positions on the board full?\n",
    "\t\"\"\"\n",
    "\tfor position in range(9):\n",
    "\t\tif is_available(board,position):\n",
    "\t\t\treturn False\n",
    "\t\t\n",
    "\treturn True"
   ]
  },
  {
   "cell_type": "code",
   "execution_count": 14,
   "metadata": {},
   "outputs": [
    {
     "name": "stdout",
     "output_type": "stream",
     "text": [
      "False\n"
     ]
    }
   ],
   "source": [
    "print(is_board_full(test_board))"
   ]
  },
  {
   "cell_type": "markdown",
   "metadata": {},
   "source": [
    "## Do you want to play again?\n",
    "Ask the player if they want to play again and returns a boolean True if they do want to play again"
   ]
  },
  {
   "cell_type": "code",
   "execution_count": 3,
   "metadata": {},
   "outputs": [],
   "source": [
    "def replay() -> bool:\n",
    " \treturn input(\"Play again (Yes/No)? \").lower().startswith(\"y\")"
   ]
  },
  {
   "cell_type": "markdown",
   "metadata": {},
   "source": [
    "## Run the game!"
   ]
  },
  {
   "cell_type": "code",
   "execution_count": null,
   "metadata": {},
   "outputs": [
    {
     "name": "stdout",
     "output_type": "stream",
     "text": [
      "X | X | O\n",
      "----------\n",
      "O | O | X\n",
      "----------\n",
      "X | O | X\n",
      "Board is full!\n"
     ]
    }
   ],
   "source": [
    "while True:\n",
    "\t# Reset the board when beginning a new game\n",
    "\t# Places on the board, each with a value of ' ' (space)\n",
    "\tboard = [' '] * 9\n",
    "\t# Markers of each player\n",
    "\tmarkers = {1: \"X\", 2: \"O\"}\n",
    "\t# Number of the current player (1 or 2) رقم اللاعب الحالي\n",
    "\tturn = 1\n",
    "\n",
    "\t# While the game is still going on\n",
    "\twhile True:\n",
    "\t\t# Print the board\n",
    "\t\tdisplay_board(board)\n",
    "\n",
    "\t\t# Ask the current player to choose a position\n",
    "\t\tposition = player_choice(board,markers[turn])\n",
    "\t\tplace_marker(board,markers[turn],position)\n",
    "\t\tdisplay_board(board)\n",
    "\n",
    "\t\t# If this user won the game, break\n",
    "\t\tif did_user_win(board,markers[turn]):\n",
    "\t\t\tprint(f\"Congratulations! {markers[turn]} won the game.\")\n",
    "\t\t\tbreak\n",
    "\t\t\n",
    "\t\t# If the board is full, then the game is over\n",
    "\t\tif is_board_full(board):\n",
    "\t\t\tprint(\"The board is full!\")\n",
    "\t\t\tbreak\n",
    "\t\t\n",
    "\t\t# Switch turn to next player\n",
    "\t\tturn = 2 if turn == 1 else 1\n",
    "\t\n",
    "\t# Ask if the user wants to play again\n",
    "\tif not replay():\n",
    "\t\tbreak"
   ]
  }
 ],
 "metadata": {
  "kernelspec": {
   "display_name": "Python 3",
   "language": "python",
   "name": "python3"
  },
  "language_info": {
   "codemirror_mode": {
    "name": "ipython",
    "version": 3
   },
   "file_extension": ".py",
   "mimetype": "text/x-python",
   "name": "python",
   "nbconvert_exporter": "python",
   "pygments_lexer": "ipython3",
   "version": "3.13.5"
  },
  "orig_nbformat": 4,
  "vscode": {
   "interpreter": {
    "hash": "5238573367df39f7286bb46f9ff5f08f63a01a80960060ce41e3c79b190280fa"
   }
  }
 },
 "nbformat": 4,
 "nbformat_minor": 2
}
