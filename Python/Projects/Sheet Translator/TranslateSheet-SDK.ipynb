{
 "cells": [
  {
   "attachments": {},
   "cell_type": "markdown",
   "metadata": {},
   "source": [
    "# Translate text from Arabic to English using IBM Language Translator service\n",
    "\n",
    "## References\n",
    "* [Watson Developer Cloud Python SDK](https://github.com/watson-developer-cloud/python-sdk)\n",
    "* [How to read Dictionary from File in Python?](https://www.geeksforgeeks.org/how-to-read-dictionary-from-file-in-python)\n",
    "* [Watson Python SDK samples](https://github.com/watson-developer-cloud/python-sdk)\n",
    "* [Language Translator API Docs - Translate](https://cloud.ibm.com/apidocs/language-translator#translate)\n",
    "* [Logging HOWTO](https://docs.python.org/3/howto/logging.html)\n",
    "* [Difference between map, applymap and apply methods in Pandas](https://stackoverflow.com/questions/19798153)\n",
    "\n",
    "## Steps\n",
    "* [Create an IBM Cloud account](ibm.biz/sacloud)\n",
    "* Create an instance of the [IBM Language Translator](https://cloud.ibm.com/catalog/services/language-translator) service\n",
    "* Get credentials from [IBM Cloud Resources](http://cloud.ibm.com/resources) page of your instance and save them in ```Settings.json```.\n",
    "* Load settings from ```Settings.json```.\n",
    "\n",
    "## Installs\n",
    "First time only"
   ]
  },
  {
   "cell_type": "code",
   "execution_count": 43,
   "metadata": {},
   "outputs": [
    {
     "name": "stdout",
     "output_type": "stream",
     "text": [
      "Defaulting to user installation because normal site-packages is not writeable\n",
      "Requirement already satisfied: ibm_cloud_sdk_core in c:\\users\\ahmedabdel-baky\\appdata\\roaming\\python\\python311\\site-packages (3.16.2)\n",
      "Requirement already satisfied: ibm_watson in c:\\users\\ahmedabdel-baky\\appdata\\roaming\\python\\python311\\site-packages (6.1.0)\n",
      "Requirement already satisfied: openpyxl in c:\\users\\ahmedabdel-baky\\appdata\\roaming\\python\\python311\\site-packages (3.1.1)\n",
      "Requirement already satisfied: requests<3.0.0,>=2.26.0 in c:\\users\\ahmedabdel-baky\\appdata\\roaming\\python\\python311\\site-packages (from ibm_cloud_sdk_core) (2.28.2)\n",
      "Requirement already satisfied: urllib3<2.0.0,>=1.26.0 in c:\\users\\ahmedabdel-baky\\appdata\\roaming\\python\\python311\\site-packages (from ibm_cloud_sdk_core) (1.26.14)\n",
      "Requirement already satisfied: python-dateutil<3.0.0,>=2.5.3 in c:\\users\\ahmedabdel-baky\\appdata\\roaming\\python\\python311\\site-packages (from ibm_cloud_sdk_core) (2.8.2)\n",
      "Requirement already satisfied: PyJWT<3.0.0,>=2.4.0 in c:\\users\\ahmedabdel-baky\\appdata\\roaming\\python\\python311\\site-packages (from ibm_cloud_sdk_core) (2.6.0)\n",
      "Requirement already satisfied: websocket-client==1.1.0 in c:\\users\\ahmedabdel-baky\\appdata\\roaming\\python\\python311\\site-packages (from ibm_watson) (1.1.0)\n",
      "Requirement already satisfied: et-xmlfile in c:\\users\\ahmedabdel-baky\\appdata\\roaming\\python\\python311\\site-packages (from openpyxl) (1.1.0)\n",
      "Requirement already satisfied: six>=1.5 in c:\\users\\ahmedabdel-baky\\appdata\\roaming\\python\\python311\\site-packages (from python-dateutil<3.0.0,>=2.5.3->ibm_cloud_sdk_core) (1.16.0)\n",
      "Requirement already satisfied: charset-normalizer<4,>=2 in c:\\users\\ahmedabdel-baky\\appdata\\roaming\\python\\python311\\site-packages (from requests<3.0.0,>=2.26.0->ibm_cloud_sdk_core) (3.0.1)\n",
      "Requirement already satisfied: idna<4,>=2.5 in c:\\users\\ahmedabdel-baky\\appdata\\roaming\\python\\python311\\site-packages (from requests<3.0.0,>=2.26.0->ibm_cloud_sdk_core) (3.4)\n",
      "Requirement already satisfied: certifi>=2017.4.17 in c:\\users\\ahmedabdel-baky\\appdata\\roaming\\python\\python311\\site-packages (from requests<3.0.0,>=2.26.0->ibm_cloud_sdk_core) (2022.12.7)\n",
      "Note: you may need to restart the kernel to use updated packages.\n"
     ]
    }
   ],
   "source": [
    "# coding: utf-8\n",
    "%pip install ibm_cloud_sdk_core ibm_watson openpyxl --upgrade"
   ]
  },
  {
   "attachments": {},
   "cell_type": "markdown",
   "metadata": {},
   "source": [
    "## Imports"
   ]
  },
  {
   "cell_type": "code",
   "execution_count": 30,
   "metadata": {},
   "outputs": [],
   "source": [
    "import json\t\t\t\t\t\t\t\t\t\t\t\t\t\t# For reading settings\n",
    "from ibm_cloud_sdk_core.authenticators import IAMAuthenticator\t# To authenticate to IBM Cloud\n",
    "import logging\n",
    "from ibm_watson import LanguageTranslatorV3\t\t\t\t\t\t# For translating text\n",
    "import pandas as pd\n",
    "from os import path"
   ]
  },
  {
   "attachments": {},
   "cell_type": "markdown",
   "metadata": {},
   "source": [
    "## Set defaults"
   ]
  },
  {
   "cell_type": "code",
   "execution_count": 9,
   "metadata": {},
   "outputs": [],
   "source": [
    "logging.getLogger().setLevel(logging.INFO)"
   ]
  },
  {
   "attachments": {},
   "cell_type": "markdown",
   "metadata": {},
   "source": [
    "## Initialization\n",
    "### Load the Settings file"
   ]
  },
  {
   "cell_type": "code",
   "execution_count": 8,
   "metadata": {},
   "outputs": [],
   "source": [
    "# Read the settings file as a dictionary\n",
    "with open('Settings.json') as file:\n",
    "\tsettings = json.loads( file.read() )"
   ]
  },
  {
   "attachments": {},
   "cell_type": "markdown",
   "metadata": {},
   "source": [
    "### Initialize the dictionary\n",
    "Static dictionary for translated texts.\n",
    "* Read the dictionary file, or\n",
    "* Initalize an empty dictionary"
   ]
  },
  {
   "cell_type": "code",
   "execution_count": 22,
   "metadata": {},
   "outputs": [
    {
     "name": "stderr",
     "output_type": "stream",
     "text": [
      "INFO:root:Loaded dictionary file 'Dictionary.json'.\n"
     ]
    }
   ],
   "source": [
    "try:\n",
    "\twith open(settings[\"dictionary\"], encoding=\"utf-8\") as file:\n",
    "\t\tdictionary = json.loads( file.read() )\n",
    "\tlogging.info(f\"Loaded dictionary file '{settings['dictionary']}'.\")\n",
    "except (FileNotFoundError, ValueError):\n",
    "\tlogging.error(f\"Could not load the dictionary file: '{settings['dictionary']}'.\")\n",
    "\tlogging.info(f\"Starting a new dictionary.\")\n",
    "\t# Initialize an empty dictionary\n",
    "\tdictionary = {}"
   ]
  },
  {
   "attachments": {},
   "cell_type": "markdown",
   "metadata": {},
   "source": [
    "### Connection to the service instance"
   ]
  },
  {
   "cell_type": "code",
   "execution_count": 11,
   "metadata": {},
   "outputs": [],
   "source": [
    "language_translator = LanguageTranslatorV3(\n",
    "    version='2018-05-01',\n",
    "    authenticator=IAMAuthenticator( settings[\"apikey\"] ) )\n",
    "language_translator.set_service_url( settings[\"service_instance_url\"] )"
   ]
  },
  {
   "attachments": {},
   "cell_type": "markdown",
   "metadata": {},
   "source": [
    "## Translation function\n",
    "Should not translate the following:\n",
    "* English-only text\n",
    "* Empty texts"
   ]
  },
  {
   "cell_type": "code",
   "execution_count": 48,
   "metadata": {},
   "outputs": [],
   "source": [
    "# Translates text from Arabic to English\n",
    "def translate_to_English(text):\n",
    "\t# Cast to string and trim\n",
    "\ttext = str(text).strip()\n",
    "\n",
    "\t# Check if it was translated previously\n",
    "\tif text in dictionary:\n",
    "\t\tlogging.debug(f\"'{text}' is already in the dictionary.\")\n",
    "\t\treturn dictionary[text]\n",
    "\t\n",
    "\t# If the text is empty, return the same text and don't store it in the dictionary\n",
    "\tif not text:\n",
    "\t\treturn text\n",
    "\t\n",
    "\t# Don't translate English text or numbers\n",
    "\tif text.isascii():\n",
    "\t\treturn text\n",
    "\t\n",
    "\t#response = language_translator.translate(text, model_id='en-ar')\n",
    "\tresponse = language_translator.translate(text, model_id='ar-en')\n",
    "\n",
    "\t# If request succeeded, print the response, else print the error message\n",
    "\tif( response.status_code ) == 200:\n",
    "\t\tresult = response.get_result()[\"translations\"][0][\"translation\"]\n",
    "\n",
    "\t\tlogging.debug(f\"'{text}' is translated to '{result}'.\")\n",
    "\t\t# Save the result in the dictionary for later use\n",
    "\t\tdictionary[text] = result\n",
    "\telse:\n",
    "\t\tresult = f\"{response.status_code}: {response.get_result()}\"\n",
    "\t\tlogging.error( result )\n",
    "\t\n",
    "\treturn result"
   ]
  },
  {
   "cell_type": "code",
   "execution_count": 23,
   "metadata": {},
   "outputs": [],
   "source": [
    "# Read the Excel file that needs to be translated\n",
    "df = pd.read_excel( settings[\"file\"] )"
   ]
  },
  {
   "cell_type": "code",
   "execution_count": 24,
   "metadata": {},
   "outputs": [],
   "source": [
    "# Columns that should not be translated\n",
    "columns_no_translation = [\n",
    "\t'Timestamp',\n",
    "\t'Email Address',\n",
    "    'الاسم',\n",
    "\t'الإيميل الجامعي',\n",
    "\t'1. مدى رضاك عن المنصة التدريبية',\n",
    "\t'2. سهولة التسجيل في المنصة التدريبية',\n",
    "\t'3. سهولة استخدام الأدوات المتاحة في المنصة التدريبية',\n",
    "\t'4. سهولة التواصل مع الدعم الفني',\n",
    "\t'5. إمكانية التواصل مع المدرب من خلال المنصة',\n",
    "\t'6. مراعاة بيئة التعلم لاحتياجات جميع المتعلمين مع اختلاف قدراتهم واحتياجاتهم واهتماماتهم',\n",
    "\t'7. سهولة التنقل في البيئة التعليمية',\n",
    "\t'وضوح محتوى البرنامج التدريبي',\n",
    "\t'مناسبة المحتوى لمعارف وخبرات المتدرب',\n",
    "\t' تسلسل المادة العلمية',\n",
    "\t'تحقيق البرنامج التدريبي لتوقعاتك     ',\n",
    "\t' وضوح أهداف البرنامج التدريبي',\n",
    "\t'ﻋﺮض اﻟﻤﺤﺘﻮى ﺑﻄﺮق وأﻧﺸﻄﺔ ﺗﻌﻠﻴﻤﻴﺔ ﻣﺘﻨﻮﻋﺔ لضمان تقديمه بطريقة تسهل على المتعلم التعلم بفعالية',\n",
    "\t'تنوع المحتوى الرقمي (نصوص، مواد مسموعة، مواد مرئية)',\n",
    "\t'قدرة المدرب على إيصال وتسهيل المعلومة',\n",
    "\t'مستوى تمكن المدرب من محتوى البرنامج التدريبي',\n",
    "\t'التزام المدرب بزمن التدريب',\n",
    "\t'تقديم التغذية الراجعة من قبل المدرب',\n",
    "\t'وقت التدريب يومياً',\n",
    "\t'مناسبة المدة الزمنية المخصصة  للتدريب مع المحتوى التدريبي',\n",
    "\t'مناسبة تاريخ انطلاق البرنامج']"
   ]
  },
  {
   "attachments": {},
   "cell_type": "markdown",
   "metadata": {},
   "source": [
    "Translate data:"
   ]
  },
  {
   "cell_type": "code",
   "execution_count": 25,
   "metadata": {},
   "outputs": [
    {
     "name": "stderr",
     "output_type": "stream",
     "text": [
      "INFO:root:Translating the column 'الجنس'.\n",
      "INFO:root:Translating the column 'الجامعة'.\n",
      "INFO:root:Translating the column 'تسلسل المادة العلمية'.\n",
      "INFO:root:Translating the column 'تحقيق البرنامج التدريبي لتوقعاتك'.\n",
      "INFO:root:Translating the column 'وضوح أهداف البرنامج التدريبي'.\n",
      "INFO:root:Translating the column 'ما هي أبرز الصعوبات التي واجهتك خلال التدريب على البرنامج بشكل عام من ناحية (المنصة - المحتوى التدريبي - المدرب)؟ '.\n",
      "INFO:root:Translating the column ' هل لدريك مقترحات تطويرية لمكونات البرنامج التدريبي من ناحية (المنصة - المحتوى التدريبي - المدرب)؟ '.\n",
      "INFO:root:Translating the column 'ماهي نقاط القوة في البرنامج؟'.\n",
      "INFO:root:'—-' is translated to '--'.\n",
      "INFO:root:Translating the column 'هل توصي زملاءك بالاشتراك في البرنامج مستقبلًا؟'.\n",
      "INFO:root:Translating the column 'الوقت الأنسب لكم لتدريب مجموعات أخرى [الرغبة الأولى]'.\n",
      "INFO:root:Translating the column 'الوقت الأنسب لكم لتدريب مجموعات أخرى [الرغبة الثانية]'.\n",
      "INFO:root:Translating the column 'الوقت الأنسب لكم لتدريب مجموعات أخرى [الرغبة الثالثة]'.\n",
      "INFO:root:Translating the column 'هل لديكم مقترحات تخص زمن التدريب'.\n",
      "INFO:root:Translating the column 'التاريخ الأنسب لأداء الاختبار'.\n"
     ]
    }
   ],
   "source": [
    "for column in df.columns:\n",
    "\tif column not in columns_no_translation:\n",
    "\t\tlogging.debug(f\"Translating the column '{column}'.\")\n",
    "\t\tdf[column] = df[column].apply(translate_to_English)\n",
    "\n",
    "logging.debug(f\"Dictionary has {len(dictionary)} entries.\")"
   ]
  },
  {
   "attachments": {},
   "cell_type": "markdown",
   "metadata": {},
   "source": [
    "## Translate column names"
   ]
  },
  {
   "cell_type": "code",
   "execution_count": 47,
   "metadata": {},
   "outputs": [
    {
     "name": "stderr",
     "output_type": "stream",
     "text": [
      "INFO:root:'الإيميل الجامعي' is translated to 'The university e-mail.'.\n",
      "INFO:root:'1. مدى رضاك عن المنصة التدريبية' is translated to '1. How satisfied you are the training platform'.\n",
      "INFO:root:'2. سهولة التسجيل في المنصة التدريبية' is translated to '2. Easy to register on the training platform'.\n",
      "INFO:root:'3. سهولة استخدام الأدوات المتاحة في المنصة التدريبية' is translated to '3. Easy use of tools available on the training platform'.\n",
      "INFO:root:'4. سهولة التواصل مع الدعم الفني' is translated to '4. Easy to communicate with technical support'.\n",
      "INFO:root:'5. إمكانية التواصل مع المدرب من خلال المنصة' is translated to '5. The possibility of communicating with the coach through the platform'.\n",
      "INFO:root:'6. مراعاة بيئة التعلم لاحتياجات جميع المتعلمين مع اختلاف قدراتهم واحتياجاتهم واهتماماتهم' is translated to '6. Take into account the learning environment for the needs of all learners with different abilities, needs and interests'.\n",
      "INFO:root:'7. سهولة التنقل في البيئة التعليمية' is translated to '7. Easy mobility in the educational environment'.\n",
      "INFO:root:'وضوح محتوى البرنامج التدريبي' is translated to 'Course Content clarity'.\n",
      "INFO:root:'مناسبة المحتوى لمعارف وخبرات المتدرب' is translated to 'Content event for trainee knowledge and experience'.\n",
      "INFO:root:'تسلسل المادة العلمية' is translated to 'Sequence of scientific material'.\n",
      "INFO:root:'تحقيق البرنامج التدريبي لتوقعاتك' is translated to 'Achieving the course for your expectations'.\n",
      "INFO:root:'وضوح أهداف البرنامج التدريبي' is translated to 'Course Objectives Resolution'.\n",
      "INFO:root:'ﻋﺮض اﻟﻤﺤﺘﻮى ﺑﻄﺮق وأﻧﺸﻄﺔ ﺗﻌﻠﻴﻤﻴﺔ ﻣﺘﻨﻮﻋﺔ لضمان تقديمه بطريقة تسهل على المتعلم التعلم بفعالية' is translated to 'Display content in various educational methods and activities to ensure that it is presented in a way that facilitates learner learning effectively'.\n",
      "INFO:root:'تنوع المحتوى الرقمي (نصوص، مواد مسموعة، مواد مرئية)' is translated to 'Diversity of digital content (texts, audio materials, visual materials)'.\n",
      "INFO:root:'قدرة المدرب على إيصال وتسهيل المعلومة' is translated to 'Coach's ability to communicate and facilitate information'.\n",
      "INFO:root:'مستوى تمكن المدرب من محتوى البرنامج التدريبي' is translated to 'The instructor's level of course content'.\n",
      "INFO:root:'التزام المدرب بزمن التدريب' is translated to 'Coach's commitment to coaching time'.\n",
      "INFO:root:'تقديم التغذية الراجعة من قبل المدرب' is translated to 'Provision of feedback from the instructor'.\n",
      "INFO:root:'ما هي أبرز الصعوبات التي واجهتك خلال التدريب على البرنامج بشكل عام من ناحية (المنصة - المحتوى التدريبي - المدرب)؟' is translated to 'What are the most significant difficulties encountered during training on the programme in general (Platform-Training Content-Coach)?'.\n",
      "INFO:root:'هل لدريك مقترحات تطويرية لمكونات البرنامج التدريبي من ناحية (المنصة - المحتوى التدريبي - المدرب)؟' is translated to 'Do Drake have developmental suggestions for the course components of the platform (Platform-Training Content-Coach)?'.\n",
      "INFO:root:'ماهي نقاط القوة في البرنامج؟' is translated to 'What are the strengths of the program?'.\n",
      "INFO:root:'هل توصي زملاءك بالاشتراك في البرنامج مستقبلًا؟' is translated to 'Would you recommend to your colleagues to participate in the programme in the future?'.\n",
      "INFO:root:'وقت التدريب يومياً' is translated to 'Training time per dayً'.\n",
      "INFO:root:'مناسبة المدة الزمنية المخصصة  للتدريب مع المحتوى التدريبي' is translated to 'Training time for training content'.\n",
      "INFO:root:'مناسبة تاريخ انطلاق البرنامج' is translated to 'Programme launch date event'.\n",
      "INFO:root:'الوقت الأنسب لكم لتدريب مجموعات أخرى [الرغبة الأولى]' is translated to 'The most appropriate time for you to train other groups [first desire]'.\n",
      "INFO:root:'الوقت الأنسب لكم لتدريب مجموعات أخرى [الرغبة الثانية]' is translated to 'The most appropriate time for you to train other groups [Second Desire]'.\n",
      "INFO:root:'الوقت الأنسب لكم لتدريب مجموعات أخرى [الرغبة الثالثة]' is translated to 'The most appropriate time for you to train other groups [3rd desire]'.\n",
      "INFO:root:'هل لديكم مقترحات تخص زمن التدريب' is translated to 'Do you have any suggestions for training time?'.\n",
      "INFO:root:'التاريخ الأنسب لأداء الاختبار' is translated to 'Date best suited to audition'.\n",
      "INFO:root:Index(['Timestamp', 'Email Address', 'الاسم', 'The university e-mail.',\n",
      "       'الجنس', 'الجامعة', '1. How satisfied you are the training platform',\n",
      "       '2. Easy to register on the training platform',\n",
      "       '3. Easy use of tools available on the training platform',\n",
      "       '4. Easy to communicate with technical support',\n",
      "       '5. The possibility of communicating with the coach through the platform',\n",
      "       '6. Take into account the learning environment for the needs of all learners with different abilities, needs and interests',\n",
      "       '7. Easy mobility in the educational environment',\n",
      "       'Course Content clarity',\n",
      "       'Content event for trainee knowledge and experience',\n",
      "       'Sequence of scientific material',\n",
      "       'Achieving the course for your expectations',\n",
      "       'Course Objectives Resolution',\n",
      "       'Display content in various educational methods and activities to ensure that it is presented in a way that facilitates learner learning effectively',\n",
      "       'Diversity of digital content (texts, audio materials, visual materials)',\n",
      "       'Coach's ability to communicate and facilitate information',\n",
      "       'The instructor's level of course content',\n",
      "       'Coach's commitment to coaching time',\n",
      "       'Provision of feedback from the instructor',\n",
      "       'What are the most significant difficulties encountered during training on the programme in general (Platform-Training Content-Coach)?',\n",
      "       'Do Drake have developmental suggestions for the course components of the platform (Platform-Training Content-Coach)?',\n",
      "       'What are the strengths of the program?',\n",
      "       'Would you recommend to your colleagues to participate in the programme in the future?',\n",
      "       'Training time per dayً', 'Training time for training content',\n",
      "       'Programme launch date event',\n",
      "       'The most appropriate time for you to train other groups [first desire]',\n",
      "       'The most appropriate time for you to train other groups [Second Desire]',\n",
      "       'The most appropriate time for you to train other groups [3rd desire]',\n",
      "       'Do you have any suggestions for training time?',\n",
      "       'Date best suited to audition'],\n",
      "      dtype='object')\n"
     ]
    }
   ],
   "source": [
    "# Rename columns of the Excel sheet\n",
    "df.rename(mapper=translate_to_English, axis=\"columns\", inplace=True)\n",
    "logging.info(df.columns)"
   ]
  },
  {
   "attachments": {},
   "cell_type": "markdown",
   "metadata": {},
   "source": [
    "## Save the dictionary"
   ]
  },
  {
   "cell_type": "code",
   "execution_count": 35,
   "metadata": {},
   "outputs": [
    {
     "name": "stderr",
     "output_type": "stream",
     "text": [
      "INFO:root:Dictionary saved to 'Dictionary.json'\n"
     ]
    }
   ],
   "source": [
    "# Write the dictionary file\n",
    "with open(settings[\"dictionary\"], mode=\"w\", encoding=\"utf-8\") as file:\n",
    "\tfile.write( json.dumps(dictionary, ensure_ascii=False, indent=4) )\n",
    "\t\n",
    "\tlogging.info(f\"Dictionary saved to '{settings['dictionary']}'\")"
   ]
  },
  {
   "cell_type": "markdown",
   "metadata": {},
   "source": [
    "## Save the translation"
   ]
  },
  {
   "cell_type": "code",
   "execution_count": 53,
   "metadata": {},
   "outputs": [
    {
     "name": "stderr",
     "output_type": "stream",
     "text": [
      "INFO:root:Translation saved to 'C:\\Translated.xlsx'.\n"
     ]
    }
   ],
   "source": [
    "# Write the translated file in the same directory\n",
    "file = path.join( path.dirname(settings[\"file\"]), \"Translated.xlsx\" )\n",
    "df.to_excel(file, index=False, freeze_panes=(1,6))\n",
    "logging.info(f\"Translation saved to '{file}'.\")"
   ]
  }
 ],
 "metadata": {
  "kernelspec": {
   "display_name": "Python 3",
   "language": "python",
   "name": "python3"
  },
  "language_info": {
   "codemirror_mode": {
    "name": "ipython",
    "version": 3
   },
   "file_extension": ".py",
   "mimetype": "text/x-python",
   "name": "python",
   "nbconvert_exporter": "python",
   "pygments_lexer": "ipython3",
   "version": "3.11.2"
  },
  "orig_nbformat": 4,
  "vscode": {
   "interpreter": {
    "hash": "5238573367df39f7286bb46f9ff5f08f63a01a80960060ce41e3c79b190280fa"
   }
  }
 },
 "nbformat": 4,
 "nbformat_minor": 2
}
