{
 "cells": [
  {
   "attachments": {},
   "cell_type": "markdown",
   "metadata": {},
   "source": [
    "# Tone Analysis\n",
    "\n",
    "## References\n",
    "* [Watson Developer Cloud Python SDK](https://github.com/watson-developer-cloud/python-sdk)\n",
    "* [How to read Dictionary from File in Python?](https://www.geeksforgeeks.org/how-to-read-dictionary-from-file-in-python)\n",
    "* [Watson Python SDK samples](https://github.com/watson-developer-cloud/python-sdk)\n",
    "* [Language Translator API Docs - Translate](https://cloud.ibm.com/apidocs/language-translator#translate)\n",
    "* [Logging HOWTO](https://docs.python.org/3/howto/logging.html)\n",
    "* [Difference between map, applymap and apply methods in Pandas](https://stackoverflow.com/questions/19798153)\n",
    "\n",
    "## Steps\n",
    "* [Create an IBM Cloud account](ibm.biz/sacloud)\n",
    "* Create an instance of the [IBM Language Translator](https://cloud.ibm.com/catalog/services/language-translator) service\n",
    "* Get credentials from [IBM Cloud Resources](http://cloud.ibm.com/resources) page of your instance and save them in ```Settings.json```.\n",
    "* Load settings from ```Settings.json```.\n",
    "\n",
    "## Installs\n",
    "First time only"
   ]
  },
  {
   "cell_type": "code",
   "execution_count": 7,
   "metadata": {},
   "outputs": [
    {
     "name": "stdout",
     "output_type": "stream",
     "text": [
      "Defaulting to user installation because normal site-packages is not writeable\n",
      "Requirement already satisfied: ibm_cloud_sdk_core in c:\\users\\ahmedabdel-baky\\appdata\\roaming\\python\\python311\\site-packages (3.16.2)\n",
      "Requirement already satisfied: ibm_watson in c:\\users\\ahmedabdel-baky\\appdata\\roaming\\python\\python311\\site-packages (7.0.0)\n",
      "Requirement already satisfied: requests<3.0.0,>=2.26.0 in c:\\users\\ahmedabdel-baky\\appdata\\roaming\\python\\python311\\site-packages (from ibm_cloud_sdk_core) (2.28.2)\n",
      "Requirement already satisfied: urllib3<2.0.0,>=1.26.0 in c:\\users\\ahmedabdel-baky\\appdata\\roaming\\python\\python311\\site-packages (from ibm_cloud_sdk_core) (1.26.14)\n",
      "Requirement already satisfied: python-dateutil<3.0.0,>=2.5.3 in c:\\users\\ahmedabdel-baky\\appdata\\roaming\\python\\python311\\site-packages (from ibm_cloud_sdk_core) (2.8.2)\n",
      "Requirement already satisfied: PyJWT<3.0.0,>=2.4.0 in c:\\users\\ahmedabdel-baky\\appdata\\roaming\\python\\python311\\site-packages (from ibm_cloud_sdk_core) (2.6.0)\n",
      "Requirement already satisfied: websocket-client==1.1.0 in c:\\users\\ahmedabdel-baky\\appdata\\roaming\\python\\python311\\site-packages (from ibm_watson) (1.1.0)\n",
      "Requirement already satisfied: six>=1.5 in c:\\users\\ahmedabdel-baky\\appdata\\roaming\\python\\python311\\site-packages (from python-dateutil<3.0.0,>=2.5.3->ibm_cloud_sdk_core) (1.16.0)\n",
      "Requirement already satisfied: charset-normalizer<4,>=2 in c:\\users\\ahmedabdel-baky\\appdata\\roaming\\python\\python311\\site-packages (from requests<3.0.0,>=2.26.0->ibm_cloud_sdk_core) (3.0.1)\n",
      "Requirement already satisfied: idna<4,>=2.5 in c:\\users\\ahmedabdel-baky\\appdata\\roaming\\python\\python311\\site-packages (from requests<3.0.0,>=2.26.0->ibm_cloud_sdk_core) (3.4)\n",
      "Requirement already satisfied: certifi>=2017.4.17 in c:\\users\\ahmedabdel-baky\\appdata\\roaming\\python\\python311\\site-packages (from requests<3.0.0,>=2.26.0->ibm_cloud_sdk_core) (2022.12.7)\n",
      "Note: you may need to restart the kernel to use updated packages.\n"
     ]
    }
   ],
   "source": [
    "# coding: utf-8\n",
    "%pip install ibm_cloud_sdk_core ibm_watson --upgrade"
   ]
  },
  {
   "attachments": {},
   "cell_type": "markdown",
   "metadata": {},
   "source": [
    "## Imports"
   ]
  },
  {
   "cell_type": "code",
   "execution_count": 8,
   "metadata": {},
   "outputs": [],
   "source": [
    "import json\t\t\t\t\t\t\t\t\t\t\t\t\t\t# For reading settings\n",
    "from ibm_cloud_sdk_core.authenticators import IAMAuthenticator\t# To authenticate to IBM Cloud\n",
    "import logging\n",
    "from os import path\n",
    "from ibm_watson import NaturalLanguageUnderstandingV1\n",
    "from ibm_watson.natural_language_understanding_v1 import Features, EntitiesOptions, KeywordsOptions"
   ]
  },
  {
   "attachments": {},
   "cell_type": "markdown",
   "metadata": {},
   "source": [
    "## Set defaults"
   ]
  },
  {
   "cell_type": "code",
   "execution_count": 9,
   "metadata": {},
   "outputs": [],
   "source": [
    "logging.getLogger().setLevel(logging.INFO)"
   ]
  },
  {
   "attachments": {},
   "cell_type": "markdown",
   "metadata": {},
   "source": [
    "## Initialization\n",
    "### Load the Settings file"
   ]
  },
  {
   "cell_type": "code",
   "execution_count": 10,
   "metadata": {},
   "outputs": [],
   "source": [
    "# Read the settings file as a dictionary\n",
    "with open('Settings.json') as file:\n",
    "\tsettings = json.loads( file.read() )"
   ]
  },
  {
   "attachments": {},
   "cell_type": "markdown",
   "metadata": {},
   "source": [
    "### Connection to the service instance"
   ]
  },
  {
   "cell_type": "code",
   "execution_count": 16,
   "metadata": {},
   "outputs": [],
   "source": [
    "natural_language_understanding = NaturalLanguageUnderstandingV1(\n",
    "\tversion='2022-04-07',\n",
    "\tauthenticator=IAMAuthenticator( settings[\"apikey\"] ))\n",
    "\n",
    "natural_language_understanding.set_service_url( settings[\"service_instance_url\"] )\n",
    "\n",
    "response = natural_language_understanding.analyze(\n",
    "\ttext='IBM is an American multinational technology company  headquartered in Armonk, New York, United States, with operations in over 170 countries.',\n",
    "\tfeatures=Features(\n",
    "    entities=EntitiesOptions(emotion=True, limit=2))).get_result()\n",
    "\n",
    "entities = response[\"entities\"]\n",
    "#print(json.dumps(response, indent=4))"
   ]
  },
  {
   "cell_type": "code",
   "execution_count": 18,
   "metadata": {},
   "outputs": [
    {
     "name": "stdout",
     "output_type": "stream",
     "text": [
      "Organization: American multinational technology company  headquartered\n",
      "Location: Armonk, New York\n",
      "Organization: IBM\n",
      "Location: United States\n",
      "Number: 170\n"
     ]
    }
   ],
   "source": [
    "for entity in entities:\n",
    "\tprint(f\"{entity['type']}: {entity['text']}\")"
   ]
  },
  {
   "cell_type": "code",
   "execution_count": null,
   "metadata": {},
   "outputs": [],
   "source": []
  }
 ],
 "metadata": {
  "kernelspec": {
   "display_name": "Python 3",
   "language": "python",
   "name": "python3"
  },
  "language_info": {
   "codemirror_mode": {
    "name": "ipython",
    "version": 3
   },
   "file_extension": ".py",
   "mimetype": "text/x-python",
   "name": "python",
   "nbconvert_exporter": "python",
   "pygments_lexer": "ipython3",
   "version": "3.11.2"
  },
  "orig_nbformat": 4,
  "vscode": {
   "interpreter": {
    "hash": "5238573367df39f7286bb46f9ff5f08f63a01a80960060ce41e3c79b190280fa"
   }
  }
 },
 "nbformat": 4,
 "nbformat_minor": 2
}
