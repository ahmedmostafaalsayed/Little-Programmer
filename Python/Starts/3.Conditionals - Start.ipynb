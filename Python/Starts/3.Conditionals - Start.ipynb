{
 "cells": [
  {
   "attachments": {},
   "cell_type": "markdown",
   "metadata": {},
   "source": [
    "# Lesson 3: Conditionals\n",
    "* if.. else\n",
    "* Comparison operators معاملات المقارنة: <, >, ==, !=, <=, >=\n",
    "* If score>=50 print \"Passed\", otherwise print \"Failed\"\n",
    "* Python is case-sensitive\n",
    "* Cheap or expensive?\n",
    "* How many can I buy?\n",
    "* Integer division // القسمة الصحيحة\n",
    "* Modulus % باقي القسمة\n",
    "* Positive or negative?\n",
    "* elif\n",
    "* Debugging: F10\n",
    "* Scores: Excellent, Very good, Good, Failed.\n",
    "* Debug: Run next line (F10)\n",
    "* Text normalization توحيد الكلام\n",
    "* lower(), strip()\n",
    "* Logical operators: and, or, not\n",
    "* Example: Username & password\n",
    "* Username and password are required اسم المستخدم وكلمة السر مطلوبين\n",
    "* False values: False, \"\", 0, None\n",
    "* What is your contry? and city?\n",
    "* Line continuation \\\n",
    "* in(value1, value2, value3)\n",
    "* Nested if\n",
    "* quit()\n",
    "## If example\n",
    "* Indentation الدخول للداخل\n",
    "* `True` / `False`\n",
    "* If score >= 50 print \"Passed\", otherwise print \"Failed\" نجح أم رسب"
   ]
  },
  {
   "cell_type": "code",
   "execution_count": null,
   "metadata": {},
   "outputs": [],
   "source": []
  },
  {
   "attachments": {},
   "cell_type": "markdown",
   "metadata": {},
   "source": [
    "## Python is case-sensitive الحروف الكبيرة والصغيرة تفرق\n",
    "\n",
    "Do I have in my pocket enough money? هل معي ما يكفي السعر؟"
   ]
  },
  {
   "cell_type": "code",
   "execution_count": null,
   "metadata": {},
   "outputs": [],
   "source": []
  },
  {
   "attachments": {},
   "cell_type": "markdown",
   "metadata": {},
   "source": [
    "How many can I buy? كم واحدة أستطيع أن أشتريها؟\n",
    "* Integer division // القسمة الصحيحة\n",
    "* Modulus % باقي القسمة"
   ]
  },
  {
   "cell_type": "code",
   "execution_count": null,
   "metadata": {},
   "outputs": [],
   "source": []
  },
  {
   "attachments": {},
   "cell_type": "markdown",
   "metadata": {},
   "source": [
    "Positive or negative? موجب أم سالب؟\n",
    "\n",
    "`TypeError: '>' not supported between instances of 'str' and 'int'`"
   ]
  },
  {
   "cell_type": "code",
   "execution_count": null,
   "metadata": {},
   "outputs": [],
   "source": []
  },
  {
   "attachments": {},
   "cell_type": "markdown",
   "metadata": {},
   "source": [
    "Casting string to integer تحويل الكلام إلى رقم"
   ]
  },
  {
   "cell_type": "code",
   "execution_count": null,
   "metadata": {},
   "outputs": [],
   "source": []
  },
  {
   "attachments": {},
   "cell_type": "markdown",
   "metadata": {},
   "source": [
    "## elif\n",
    "* elif لا بد أن يكتب معها شرط\n",
    "* == معامل المقارنة"
   ]
  },
  {
   "cell_type": "code",
   "execution_count": null,
   "metadata": {},
   "outputs": [],
   "source": []
  },
  {
   "attachments": {},
   "cell_type": "markdown",
   "metadata": {},
   "source": [
    "## Debugging\n",
    "* Scores: Excellent, Very good, Good, or Failed\n",
    "* Run next line (F10)"
   ]
  },
  {
   "cell_type": "code",
   "execution_count": null,
   "metadata": {},
   "outputs": [],
   "source": []
  },
  {
   "attachments": {},
   "cell_type": "markdown",
   "metadata": {},
   "source": [
    "## Text normalization توحيد الكلام\n",
    "Are you my friend Omar?"
   ]
  },
  {
   "cell_type": "code",
   "execution_count": null,
   "metadata": {},
   "outputs": [],
   "source": []
  },
  {
   "attachments": {},
   "cell_type": "markdown",
   "metadata": {},
   "source": [
    "تحويل ما يدخله المستخدم إلى حروف كبيرة"
   ]
  },
  {
   "cell_type": "code",
   "execution_count": null,
   "metadata": {},
   "outputs": [],
   "source": []
  },
  {
   "attachments": {},
   "cell_type": "markdown",
   "metadata": {},
   "source": [
    "Stripping strings from leading and trailing spaces إزالة المسافات من أول وآخر الكلام"
   ]
  },
  {
   "cell_type": "code",
   "execution_count": null,
   "metadata": {},
   "outputs": [],
   "source": []
  },
  {
   "attachments": {},
   "cell_type": "markdown",
   "metadata": {},
   "source": [
    "## Logical Operators المعاملات المنطقية\n",
    "* `and`, `or`, `not`\n",
    "* Example: Username & password مثال: طلب اسم المستخدم وكلمة السر\n",
    "* Correct username: `ahmed`\n",
    "* Correct password: `123`"
   ]
  },
  {
   "cell_type": "code",
   "execution_count": 14,
   "metadata": {},
   "outputs": [
    {
     "name": "stdout",
     "output_type": "stream",
     "text": [
      "Correct username and password\n"
     ]
    }
   ],
   "source": []
  },
  {
   "attachments": {},
   "cell_type": "markdown",
   "metadata": {},
   "source": [
    "* Username and password are required اسم المستخدم وكلمة السر مطلوبين\n",
    "* `False` كل هذه القيم تعتبر\n",
    "  * \"\"\n",
    "  * 0\n",
    "  * `None`"
   ]
  },
  {
   "cell_type": "code",
   "execution_count": null,
   "metadata": {},
   "outputs": [],
   "source": []
  },
  {
   "attachments": {},
   "cell_type": "markdown",
   "metadata": {},
   "source": [
    "Are you from Egypt or Saudi Arabia? هل أنت من السعودية أو مصر؟"
   ]
  },
  {
   "cell_type": "code",
   "execution_count": null,
   "metadata": {},
   "outputs": [],
   "source": []
  },
  {
   "attachments": {},
   "cell_type": "markdown",
   "metadata": {},
   "source": [
    "Line continuation `\\` لو السطر طويل"
   ]
  },
  {
   "cell_type": "code",
   "execution_count": null,
   "metadata": {},
   "outputs": [],
   "source": []
  },
  {
   "attachments": {},
   "cell_type": "markdown",
   "metadata": {},
   "source": [
    "## Nested if\n",
    "* `in` (value1, value2, value3) لاختبار ما إذا كانت القيمة واحدة من هذه القيمة"
   ]
  },
  {
   "cell_type": "code",
   "execution_count": null,
   "metadata": {},
   "outputs": [],
   "source": []
  },
  {
   "attachments": {},
   "cell_type": "markdown",
   "metadata": {},
   "source": [
    "`quit()` لإغلاق البرنامج"
   ]
  }
 ],
 "metadata": {
  "kernelspec": {
   "display_name": "Python 3",
   "language": "python",
   "name": "python3"
  },
  "language_info": {
   "codemirror_mode": {
    "name": "ipython",
    "version": 3
   },
   "file_extension": ".py",
   "mimetype": "text/x-python",
   "name": "python",
   "nbconvert_exporter": "python",
   "pygments_lexer": "ipython3",
   "version": "3.11.1"
  },
  "orig_nbformat": 4,
  "vscode": {
   "interpreter": {
    "hash": "5238573367df39f7286bb46f9ff5f08f63a01a80960060ce41e3c79b190280fa"
   }
  }
 },
 "nbformat": 4,
 "nbformat_minor": 2
}
