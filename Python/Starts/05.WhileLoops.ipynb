{
 "cells": [
  {
   "attachments": {},
   "cell_type": "markdown",
   "metadata": {},
   "source": [
    "# Lesson 5: Loops\n",
    "* While بينما / طالما\n",
    "* Infinite loops هام: لا بد أن يتوقف الشرط النهائي في وقت ما وإلا ندخل في لفة لا نهائية\n",
    "* Print numbers from 1 to 10 طباعة الأرقام\n",
    "* Increment += / decrement -="
   ]
  },
  {
   "cell_type": "code",
   "execution_count": null,
   "metadata": {},
   "outputs": [],
   "source": []
  },
  {
   "attachments": {},
   "cell_type": "markdown",
   "metadata": {},
   "source": [
    "Print odd numbers between 1 and 10 طباعة الأرقام الفردية"
   ]
  },
  {
   "cell_type": "code",
   "execution_count": null,
   "metadata": {},
   "outputs": [],
   "source": []
  },
  {
   "attachments": {},
   "cell_type": "markdown",
   "metadata": {},
   "source": [
    "Print even numbers between 1 and 10 طباعة الأرقام الزوجية"
   ]
  },
  {
   "cell_type": "code",
   "execution_count": null,
   "metadata": {},
   "outputs": [],
   "source": []
  },
  {
   "attachments": {},
   "cell_type": "markdown",
   "metadata": {},
   "source": [
    "Print multiples of 3 - اطبع مضاعفات 3 "
   ]
  },
  {
   "cell_type": "code",
   "execution_count": null,
   "metadata": {},
   "outputs": [],
   "source": []
  },
  {
   "attachments": {},
   "cell_type": "markdown",
   "metadata": {},
   "source": [
    "## Break\n",
    "* while True: Infinite loops التكرار اللا نهائي\n",
    "* `break` تستخدم لإيقاف التكرار\n",
    "* مثال: إيقاف قراءة الطلبات إذا كتب المستخدم حرف Q\n",
    "* Start with empty list of `orders`\n",
    "* `join` اطبع عناصر القائمة النهائية في سطر واحد"
   ]
  },
  {
   "cell_type": "code",
   "execution_count": null,
   "metadata": {},
   "outputs": [],
   "source": []
  },
  {
   "cell_type": "markdown",
   "metadata": {},
   "source": [
    "## Exercises\n",
    "Write a program to display the number names of the digits of a number entered by user.\n",
    "\n",
    "For example if the number is **231** then output should be **Two Three One**\n",
    "\n",
    "اكتب الناتج في سطر واحد"
   ]
  },
  {
   "cell_type": "code",
   "execution_count": null,
   "metadata": {},
   "outputs": [],
   "source": []
  }
 ],
 "metadata": {
  "kernelspec": {
   "display_name": "Python 3",
   "language": "python",
   "name": "python3"
  },
  "language_info": {
   "codemirror_mode": {
    "name": "ipython",
    "version": 3
   },
   "file_extension": ".py",
   "mimetype": "text/x-python",
   "name": "python",
   "nbconvert_exporter": "python",
   "pygments_lexer": "ipython3",
   "version": "3.13.1"
  },
  "orig_nbformat": 4,
  "vscode": {
   "interpreter": {
    "hash": "5238573367df39f7286bb46f9ff5f08f63a01a80960060ce41e3c79b190280fa"
   }
  }
 },
 "nbformat": 4,
 "nbformat_minor": 2
}
