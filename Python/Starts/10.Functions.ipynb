{
 "cells": [
  {
   "attachments": {},
   "cell_type": "markdown",
   "metadata": {},
   "source": [
    "# Lesson 10: Functions الدوال\n",
    "لكتابة كود مرة واحدة وإعادة استخدامه مرات كثيرة.\n",
    "\n",
    "Only runs when it is called يعمل فقط عندما يتم تشغيله.\n",
    "\n",
    "Advantages مميزاتها\n",
    "1. Clear كود نظيف\n",
    "1. Reusability كود مقروء\n",
    "1. Maintenainability سهل الصيانة والتعديل\n",
    "\n",
    "## Functions with no arguments بدون مدخلات\n",
    "* Printig a message before and after printing numbers 1 to 10 اطبع رسالة في بداية ونهاية العمل\n",
    "* ```from datetime import datetime```\n",
    "* Use f-string or `\"format\".format(string)`\n",
    "* Use `%Y-%m-%d` for date formatting صياغة التاريخ"
   ]
  },
  {
   "cell_type": "code",
   "execution_count": null,
   "metadata": {},
   "outputs": [],
   "source": []
  },
  {
   "cell_type": "code",
   "execution_count": null,
   "metadata": {},
   "outputs": [],
   "source": []
  },
  {
   "attachments": {},
   "cell_type": "markdown",
   "metadata": {},
   "source": [
    "## Functions with parameters المدخلات\n",
    "A function with one input/argument/parameter دالة بمدخل واحد\n",
    "\n",
    "Print multiplication table of a number طباعة جدول ضرب رقم بشكل جيد\n",
    "```\n",
    " 5 *  1 = 5\n",
    " 5 *  2 = 10\n",
    " 5 *  3 = 15\n",
    " ```"
   ]
  },
  {
   "cell_type": "code",
   "execution_count": null,
   "metadata": {},
   "outputs": [],
   "source": []
  },
  {
   "attachments": {},
   "cell_type": "markdown",
   "metadata": {},
   "source": [
    "A function to print a constant message with date دالة لطباعة رسالة ثابتة مع التاريخ\n",
    "> 2025-01-04: Begining"
   ]
  },
  {
   "cell_type": "code",
   "execution_count": null,
   "metadata": {},
   "outputs": [],
   "source": []
  },
  {
   "attachments": {},
   "cell_type": "markdown",
   "metadata": {},
   "source": [
    "## Returning a value from a function إرجاع قيمة من الدالة\n",
    "* Get initials of full name حساب أوائل الاسم\n",
    "* Function annotations لتحديد نوع البيانات الذي تستقبله وترجعه دالة: `GetInitials(name:str) -> str`"
   ]
  },
  {
   "cell_type": "code",
   "execution_count": null,
   "metadata": {},
   "outputs": [],
   "source": []
  },
  {
   "cell_type": "markdown",
   "metadata": {},
   "source": [
    "## The `pass` statement\n",
    "* Function body cannot be empty. جسم الدالة لا يمكن أن يكون خالياً.\n",
    "* قد أحتاجها مؤقتاً لحجز مكان الكود"
   ]
  },
  {
   "cell_type": "code",
   "execution_count": 27,
   "metadata": {},
   "outputs": [],
   "source": [
    "def root(number,power):\n",
    "\tpass\n",
    "\n",
    "root(8,3)\n"
   ]
  },
  {
   "attachments": {},
   "cell_type": "markdown",
   "metadata": {},
   "source": [
    "## Optional parameters المدخلات الاختيارية\n",
    "* Default value for an input القيمة الافتراضية لأحد المدخلات\n",
    "* The `pow` function دالة الأس"
   ]
  },
  {
   "cell_type": "code",
   "execution_count": null,
   "metadata": {},
   "outputs": [],
   "source": []
  },
  {
   "cell_type": "markdown",
   "metadata": {},
   "source": [
    "Get initials of full name حساب أوائل الاسم\n",
    "\n",
    "`get_initials(name, upper=False)`"
   ]
  },
  {
   "cell_type": "code",
   "execution_count": null,
   "metadata": {},
   "outputs": [],
   "source": []
  },
  {
   "cell_type": "markdown",
   "metadata": {},
   "source": [
    "## Annotations التعليقات التوضيحية"
   ]
  },
  {
   "cell_type": "code",
   "execution_count": null,
   "metadata": {},
   "outputs": [],
   "source": []
  },
  {
   "attachments": {},
   "cell_type": "markdown",
   "metadata": {},
   "source": [
    "Keyword argument إرسال المدخلات بالاسم وليس بالترتيب"
   ]
  },
  {
   "cell_type": "code",
   "execution_count": null,
   "metadata": {},
   "outputs": [],
   "source": []
  },
  {
   "attachments": {},
   "cell_type": "markdown",
   "metadata": {},
   "source": [
    "## Recursion العودية\n",
    "A function can call itself الدالة يمكن أن تستدعي نفسها\n",
    "\n",
    "Factorial المضروب\n",
    "\n",
    "`n! = 1 * 2 * 3 * ... * n`\n",
    "\n",
    "Use loops to calculate factorial حساب المضروب بطريقة التكرار التقليدية"
   ]
  },
  {
   "cell_type": "code",
   "execution_count": null,
   "metadata": {},
   "outputs": [],
   "source": []
  },
  {
   "attachments": {},
   "cell_type": "markdown",
   "metadata": {},
   "source": [
    "Use recursion to calculate factorial استخدام الدالة لنفسها لحساب المضروب"
   ]
  },
  {
   "cell_type": "code",
   "execution_count": null,
   "metadata": {},
   "outputs": [],
   "source": []
  }
 ],
 "metadata": {
  "kernelspec": {
   "display_name": "Python 3",
   "language": "python",
   "name": "python3"
  },
  "language_info": {
   "codemirror_mode": {
    "name": "ipython",
    "version": 3
   },
   "file_extension": ".py",
   "mimetype": "text/x-python",
   "name": "python",
   "nbconvert_exporter": "python",
   "pygments_lexer": "ipython3",
   "version": "3.13.5"
  },
  "orig_nbformat": 4,
  "vscode": {
   "interpreter": {
    "hash": "5238573367df39f7286bb46f9ff5f08f63a01a80960060ce41e3c79b190280fa"
   }
  }
 },
 "nbformat": 4,
 "nbformat_minor": 2
}
