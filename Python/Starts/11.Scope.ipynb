{
 "cells": [
  {
   "attachments": {},
   "cell_type": "markdown",
   "metadata": {},
   "source": [
    "# Lesson 11: Scope نطاق المتغيرات والدوال\n",
    "\n",
    "![Scope in python](https://www.askpython.com/wp-content/uploads/2019/08/python-variable-scope-resolution-legb.png.webp)\n",
    "\n",
    "## References\n",
    "* [Understanding Python Scope](https://realpython.com/videos/understanding-scope-closure)\n",
    "* [Python Namespace and Variable Scope Resolution (LEGB)](https://www.askpython.com/python/python-namespace-variable-scope-resolution-legb)\n",
    "* [59. Nested Statements and Scope](https://ibm-learning.udemy.com/course/complete-python-bootcamp/learn/lecture/9442716)\n",
    "\n",
    "## Quizzes\n",
    "* [Exercise: Python Scope](https://www.w3schools.com/python/exercise.asp?x=xrcise_scope1)\n",
    "* [Python Variables and Data Types Quiz](https://pynative.com/python-variables-and-data-types-quiz)\n",
    "\n",
    "## Local scope\n",
    "خاص بالدالة"
   ]
  },
  {
   "cell_type": "code",
   "execution_count": null,
   "metadata": {},
   "outputs": [],
   "source": [
    "def outer_function():\n",
    "\tmax = \"I am in the outer function\"\n",
    "\tprint(max)\n",
    "\n",
    "outer_function()"
   ]
  },
  {
   "attachments": {},
   "cell_type": "markdown",
   "metadata": {},
   "source": [
    "## Inner function\n",
    "A function that is defined inside another function \n",
    "دالة تم تعريفها داخل دالة أخرى"
   ]
  },
  {
   "cell_type": "code",
   "execution_count": null,
   "metadata": {},
   "outputs": [],
   "source": [
    "def outer_function():\n",
    "\tmax = \"I am in the outer function\"\n",
    "\n",
    "\tdef inner_function():\n",
    "\t\tmax = \"I am in the inner function\"\n",
    "\t\tprint(max)\n",
    "\n",
    "\tinner_function()\n",
    "\n",
    "outer_function()"
   ]
  },
  {
   "attachments": {},
   "cell_type": "markdown",
   "metadata": {},
   "source": [
    "## Enclosing scope النطاق الحاوي\n",
    "* If local failed to find the name, Python looks at the enclosing scope"
   ]
  },
  {
   "cell_type": "code",
   "execution_count": null,
   "metadata": {},
   "outputs": [],
   "source": [
    "def outer_function():\n",
    "\tmax = \"I am in the outer function\"\n",
    "\n",
    "\tdef inner_function():\n",
    "\t\t# max = \"I am in the inner function\"\n",
    "\t\tprint(max)\n",
    "\n",
    "\tinner_function()\n",
    "\n",
    "outer_function()"
   ]
  },
  {
   "attachments": {},
   "cell_type": "markdown",
   "metadata": {},
   "source": [
    "## Global scope"
   ]
  },
  {
   "cell_type": "code",
   "execution_count": null,
   "metadata": {},
   "outputs": [],
   "source": [
    "max = \"I am in the global scope\"\n",
    "\n",
    "def outer_function():\n",
    "#\tmax = \"I am in the outer function\"\n",
    "\n",
    "\tdef inner_function():\n",
    "#\t\tmax = \"I am in the inner function\"\n",
    "\t\tprint(max)\n",
    "\n",
    "\tinner_function()\n",
    "\n",
    "outer_function()"
   ]
  },
  {
   "attachments": {},
   "cell_type": "markdown",
   "metadata": {},
   "source": [
    "## Built-in scope\n",
    "الذي تم تعريفه في بايثون"
   ]
  },
  {
   "cell_type": "code",
   "execution_count": null,
   "metadata": {},
   "outputs": [],
   "source": [
    "#max = \"I am in the global scope\"\n",
    "\n",
    "def outer_function():\n",
    "#\tmax = \"I am in the outer function\"\n",
    "\n",
    "\tdef inner_function():\n",
    "#\t\tmax = \"I am in the inner function\"\n",
    "\t\tprint(max)\n",
    "\n",
    "\tinner_function()\n",
    "\n",
    "outer_function()"
   ]
  },
  {
   "attachments": {},
   "cell_type": "markdown",
   "metadata": {},
   "source": [
    "## LEGB\n",
    "* Local\n",
    "* Enclosing\n",
    "* Global\n",
    "* Built-in\n",
    "\n",
    "If not found yet, `NameError` إذا لم يوجد الاسم بعد كل هذه المراحل من البحث."
   ]
  },
  {
   "cell_type": "code",
   "execution_count": null,
   "metadata": {},
   "outputs": [],
   "source": [
    "#max = \"I am in the global scope\"\n",
    "\n",
    "def outer_function():\n",
    "#\tmax = \"I am in the outer function\"\n",
    "\n",
    "\tdef inner_function():\n",
    "\t\t# max = \"I am in the inner function\"\n",
    "\t\tprint(max_nonexisting)\n",
    "\n",
    "\tinner_function()\n",
    "\n",
    "outer_function()"
   ]
  }
 ],
 "metadata": {
  "kernelspec": {
   "display_name": "Python 3",
   "language": "python",
   "name": "python3"
  },
  "language_info": {
   "codemirror_mode": {
    "name": "ipython",
    "version": 3
   },
   "file_extension": ".py",
   "mimetype": "text/x-python",
   "name": "python",
   "nbconvert_exporter": "python",
   "pygments_lexer": "ipython3",
   "version": "3.13.5"
  },
  "orig_nbformat": 4,
  "vscode": {
   "interpreter": {
    "hash": "5238573367df39f7286bb46f9ff5f08f63a01a80960060ce41e3c79b190280fa"
   }
  }
 },
 "nbformat": 4,
 "nbformat_minor": 2
}
 
